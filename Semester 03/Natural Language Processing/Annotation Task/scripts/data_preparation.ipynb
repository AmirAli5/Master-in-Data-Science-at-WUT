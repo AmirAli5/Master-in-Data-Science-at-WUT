{
 "cells": [
  {
   "cell_type": "markdown",
   "id": "39fb76a6",
   "metadata": {},
   "source": [
    "## Data preparation script"
   ]
  },
  {
   "cell_type": "code",
   "execution_count": 1,
   "id": "fada5cb7",
   "metadata": {},
   "outputs": [],
   "source": [
    "# transforms the file to .txt input into the annotator"
   ]
  },
  {
   "cell_type": "code",
   "execution_count": 2,
   "id": "96d8161c",
   "metadata": {},
   "outputs": [],
   "source": [
    "import pandas as pd"
   ]
  },
  {
   "cell_type": "code",
   "execution_count": 3,
   "id": "36713bb7",
   "metadata": {},
   "outputs": [],
   "source": [
    "# lines to read"
   ]
  },
  {
   "cell_type": "code",
   "execution_count": 4,
   "id": "48bde993",
   "metadata": {},
   "outputs": [],
   "source": [
    "start = 50\n",
    "end = 99"
   ]
  },
  {
   "cell_type": "code",
   "execution_count": 5,
   "id": "4534f4c9",
   "metadata": {},
   "outputs": [],
   "source": [
    "df = pd.read_csv('recipes_review.csv', encoding='iso-8859-1')"
   ]
  },
  {
   "cell_type": "code",
   "execution_count": 6,
   "id": "ad25f08b",
   "metadata": {},
   "outputs": [],
   "source": [
    "name_str = 'reviews_' + str(start) + '_' + str(end) + '.txt'"
   ]
  },
  {
   "cell_type": "code",
   "execution_count": 7,
   "id": "1d41d740",
   "metadata": {},
   "outputs": [
    {
     "data": {
      "text/plain": [
       "'reviews_50_99.txt'"
      ]
     },
     "execution_count": 7,
     "metadata": {},
     "output_type": "execute_result"
    }
   ],
   "source": [
    "name_str"
   ]
  },
  {
   "cell_type": "code",
   "execution_count": 8,
   "id": "74ef0251",
   "metadata": {},
   "outputs": [],
   "source": [
    "with open(name_str, 'w', encoding='utf-8') as f:\n",
    "    for line in df['text'][start:end]:\n",
    "        f.write(line)\n",
    "        f.write('\\n')"
   ]
  }
 ],
 "metadata": {
  "kernelspec": {
   "display_name": "Python 3 (ipykernel)",
   "language": "python",
   "name": "python3"
  },
  "language_info": {
   "codemirror_mode": {
    "name": "ipython",
    "version": 3
   },
   "file_extension": ".py",
   "mimetype": "text/x-python",
   "name": "python",
   "nbconvert_exporter": "python",
   "pygments_lexer": "ipython3",
   "version": "3.8.12"
  }
 },
 "nbformat": 4,
 "nbformat_minor": 5
}

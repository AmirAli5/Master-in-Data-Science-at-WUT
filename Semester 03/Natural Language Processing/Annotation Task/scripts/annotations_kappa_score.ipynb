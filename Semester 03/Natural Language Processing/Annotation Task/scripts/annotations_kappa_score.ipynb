{
 "cells": [
  {
   "cell_type": "markdown",
   "id": "4a5a9bfa",
   "metadata": {},
   "source": [
    "# Cohen-Kappa score calculation"
   ]
  },
  {
   "cell_type": "code",
   "execution_count": 1,
   "id": "92be37c2",
   "metadata": {},
   "outputs": [],
   "source": [
    "from sklearn.metrics import cohen_kappa_score\n",
    "import json"
   ]
  },
  {
   "cell_type": "code",
   "execution_count": 6,
   "id": "c6386243",
   "metadata": {},
   "outputs": [],
   "source": [
    "# open the annotation .json files"
   ]
  },
  {
   "cell_type": "code",
   "execution_count": 2,
   "id": "b9a547ea",
   "metadata": {},
   "outputs": [],
   "source": [
    "with open('annotations_50_99_AP.json', 'r', encoding='iso-8859-1') as f:\n",
    "    json1 = json.load(f)"
   ]
  },
  {
   "cell_type": "code",
   "execution_count": 3,
   "id": "9caac23d",
   "metadata": {},
   "outputs": [],
   "source": [
    "with open('annotations_50_99_AP_DP.json', 'r', encoding='iso-8859-1') as f:\n",
    "    json2 = json.load(f)"
   ]
  },
  {
   "cell_type": "code",
   "execution_count": 4,
   "id": "d1aba558",
   "metadata": {},
   "outputs": [],
   "source": [
    "def kappa_score(json1, json2):\n",
    "    labels1 = []\n",
    "    labels2 = []\n",
    "    for i in range(len(json1['annotations'])):\n",
    "        en1 = json1['annotations'][i][1]['entities']\n",
    "        en2 = json2['annotations'][i][1]['entities']\n",
    "        set_all = set()\n",
    "        set_left = set()\n",
    "        set_right = set()\n",
    "        for j in range(len(en1)):\n",
    "            set_all.add(tuple(en1[j][0:2]))\n",
    "            set_left.add(tuple(en1[j][0:2]))\n",
    "        for k in range(len(en2)):\n",
    "            set_all.add(tuple(en2[k][0:2]))\n",
    "            set_right.add(tuple(en2[k][0:2])) \n",
    "        for elem in set_all:\n",
    "            if (elem in set_left) and (elem in set_right):\n",
    "                labels1.append(0)\n",
    "                labels2.append(0)\n",
    "            elif (elem in set_right):\n",
    "                labels1.append(2)\n",
    "                labels2.append(1)\n",
    "            elif (elem in set_left):\n",
    "                labels1.append(1)\n",
    "                labels2.append(2)\n",
    "        return cohen_kappa_score(labels1, labels2)"
   ]
  },
  {
   "cell_type": "code",
   "execution_count": 5,
   "id": "cddb2131",
   "metadata": {},
   "outputs": [
    {
     "data": {
      "text/plain": [
       "0.4"
      ]
     },
     "execution_count": 5,
     "metadata": {},
     "output_type": "execute_result"
    }
   ],
   "source": [
    "round(kappa_score(json1, json2),4)"
   ]
  }
 ],
 "metadata": {
  "kernelspec": {
   "display_name": "Python 3 (ipykernel)",
   "language": "python",
   "name": "python3"
  },
  "language_info": {
   "codemirror_mode": {
    "name": "ipython",
    "version": 3
   },
   "file_extension": ".py",
   "mimetype": "text/x-python",
   "name": "python",
   "nbconvert_exporter": "python",
   "pygments_lexer": "ipython3",
   "version": "3.8.12"
  }
 },
 "nbformat": 4,
 "nbformat_minor": 5
}

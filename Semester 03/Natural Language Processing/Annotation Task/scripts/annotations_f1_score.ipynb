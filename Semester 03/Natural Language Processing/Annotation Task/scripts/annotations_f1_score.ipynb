{
 "cells": [
  {
   "cell_type": "code",
   "execution_count": 1,
   "id": "f027282f",
   "metadata": {},
   "outputs": [],
   "source": [
    "import numpy as np\n",
    "import json"
   ]
  },
  {
   "cell_type": "code",
   "execution_count": 2,
   "id": "5ac8e4bc",
   "metadata": {},
   "outputs": [],
   "source": [
    "with open(\"annotations_50_99_DP.json\", 'r', encoding='utf-8') as f:\n",
    "    anno1 = json.load(f)"
   ]
  },
  {
   "cell_type": "code",
   "execution_count": 3,
   "id": "9d6159e2",
   "metadata": {},
   "outputs": [],
   "source": [
    "with open(\"annotations_50_99_AP.json\", 'r', encoding='utf-8') as f:\n",
    "    anno2 = json.load(f)"
   ]
  },
  {
   "cell_type": "code",
   "execution_count": 4,
   "id": "0fabc3bb",
   "metadata": {},
   "outputs": [],
   "source": [
    "with open(\"annotations_50_99_AP_DP.json\", 'r', encoding='utf-8') as f:\n",
    "    anno3 = json.load(f)"
   ]
  },
  {
   "cell_type": "code",
   "execution_count": 5,
   "id": "0ef963ae",
   "metadata": {},
   "outputs": [],
   "source": [
    "def confusion_matrix(anno1, anno2):\n",
    "    \"\"\"\n",
    "    compare two sets of annotations and count True Positives, False Positives and False Negatives\n",
    "    \"\"\"\n",
    "    assert(len(anno1['annotations']) == len(anno2['annotations']))\n",
    "    TP = 0\n",
    "    FN = 0\n",
    "    FP = 0\n",
    "    for i in range(len(anno1['annotations'])):\n",
    "        entities1 = anno1['annotations'][i][1]['entities']\n",
    "        entities2 = anno2['annotations'][i][1]['entities']\n",
    "        common_entities_count = 0\n",
    "        for anno in entities1:\n",
    "            if anno in entities2:\n",
    "                common_entities_count+=1\n",
    "        TP += common_entities_count\n",
    "        FN += len(entities1) - common_entities_count\n",
    "        FP += len(entities2) - common_entities_count\n",
    "    return(TP,FP,FN)"
   ]
  },
  {
   "cell_type": "code",
   "execution_count": 6,
   "id": "b513ad11",
   "metadata": {},
   "outputs": [],
   "source": [
    "def f1_score(anno1, anno2):\n",
    "    \"\"\"\n",
    "    calculate f1-score for two sets of annotations\n",
    "    \"\"\"\n",
    "    (TP,FP,FN) = confusion_matrix(anno1, anno2)\n",
    "    return(2*TP/(2*TP+FP+FN))"
   ]
  },
  {
   "cell_type": "code",
   "execution_count": 7,
   "id": "e07ca695",
   "metadata": {},
   "outputs": [
    {
     "data": {
      "text/plain": [
       "0.8048780487804879"
      ]
     },
     "execution_count": 7,
     "metadata": {},
     "output_type": "execute_result"
    }
   ],
   "source": [
    "f1_score(anno1, anno2)"
   ]
  },
  {
   "cell_type": "code",
   "execution_count": 8,
   "id": "e7fabf6c",
   "metadata": {},
   "outputs": [
    {
     "data": {
      "text/plain": [
       "0.8217522658610272"
      ]
     },
     "execution_count": 8,
     "metadata": {},
     "output_type": "execute_result"
    }
   ],
   "source": [
    "f1_score(anno3, anno2)"
   ]
  },
  {
   "cell_type": "code",
   "execution_count": 9,
   "id": "31ff6d9e",
   "metadata": {},
   "outputs": [
    {
     "data": {
      "text/plain": [
       "0.8504983388704319"
      ]
     },
     "execution_count": 9,
     "metadata": {},
     "output_type": "execute_result"
    }
   ],
   "source": [
    "f1_score(anno3, anno1)"
   ]
  },
  {
   "cell_type": "code",
   "execution_count": null,
   "id": "79dbaf68",
   "metadata": {},
   "outputs": [],
   "source": []
  }
 ],
 "metadata": {
  "kernelspec": {
   "display_name": "Python 3 (ipykernel)",
   "language": "python",
   "name": "python3"
  },
  "language_info": {
   "codemirror_mode": {
    "name": "ipython",
    "version": 3
   },
   "file_extension": ".py",
   "mimetype": "text/x-python",
   "name": "python",
   "nbconvert_exporter": "python",
   "pygments_lexer": "ipython3",
   "version": "3.7.1"
  }
 },
 "nbformat": 4,
 "nbformat_minor": 5
}

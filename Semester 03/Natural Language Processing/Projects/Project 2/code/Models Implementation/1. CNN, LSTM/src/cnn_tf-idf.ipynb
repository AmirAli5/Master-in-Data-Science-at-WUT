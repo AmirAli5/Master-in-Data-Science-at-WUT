{
 "cells": [
  {
   "cell_type": "code",
   "execution_count": 1,
   "outputs": [
    {
     "data": {
      "text/plain": "'C:\\\\Users\\\\User\\\\Documents\\\\Studia\\\\NLP\\\\project2\\\\src'"
     },
     "execution_count": 1,
     "metadata": {},
     "output_type": "execute_result"
    }
   ],
   "source": [
    "import os\n",
    "os.getcwd()"
   ],
   "metadata": {
    "collapsed": false
   }
  },
  {
   "cell_type": "code",
   "execution_count": 2,
   "outputs": [],
   "source": [
    "import numpy as np\n",
    "import pandas as pd\n",
    "import matplotlib.pyplot as plt\n",
    "plt.style.use(\"fivethirtyeight\")"
   ],
   "metadata": {
    "collapsed": false
   }
  },
  {
   "cell_type": "code",
   "execution_count": 3,
   "outputs": [],
   "source": [
    "name = 'own_cnn_tfidf'\n",
    "data = '../data/own_mod.parquet'"
   ],
   "metadata": {
    "collapsed": false
   }
  },
  {
   "cell_type": "markdown",
   "source": [
    "## 1: Load data"
   ],
   "metadata": {
    "collapsed": false
   }
  },
  {
   "cell_type": "code",
   "execution_count": 4,
   "outputs": [
    {
     "data": {
      "text/plain": "                                                   text  score\n0     description say maybe cream cheese cream chees...      1\n1     terrible followed recipe exactly tasted fine a...      1\n2     im always amazed people rate recipe state chan...      1\n3     didnt like creamy rich didnt feel good sour cr...      1\n4              even using green chilies much hot u like      1\n...                                                 ...    ...\n1407  good omitted green chilies dont like lot heat ...      5\n1408  cut calorie fat way using nonfat sour cream su...      5\n1409  wonderful recipe used oz light cream cheese in...      5\n1410  good thing would leave salt use lower sodium b...      5\n1411  quick easy make family asks time dont add gree...      5\n\n[1412 rows x 2 columns]",
      "text/html": "<div>\n<style scoped>\n    .dataframe tbody tr th:only-of-type {\n        vertical-align: middle;\n    }\n\n    .dataframe tbody tr th {\n        vertical-align: top;\n    }\n\n    .dataframe thead th {\n        text-align: right;\n    }\n</style>\n<table border=\"1\" class=\"dataframe\">\n  <thead>\n    <tr style=\"text-align: right;\">\n      <th></th>\n      <th>text</th>\n      <th>score</th>\n    </tr>\n  </thead>\n  <tbody>\n    <tr>\n      <th>0</th>\n      <td>description say maybe cream cheese cream chees...</td>\n      <td>1</td>\n    </tr>\n    <tr>\n      <th>1</th>\n      <td>terrible followed recipe exactly tasted fine a...</td>\n      <td>1</td>\n    </tr>\n    <tr>\n      <th>2</th>\n      <td>im always amazed people rate recipe state chan...</td>\n      <td>1</td>\n    </tr>\n    <tr>\n      <th>3</th>\n      <td>didnt like creamy rich didnt feel good sour cr...</td>\n      <td>1</td>\n    </tr>\n    <tr>\n      <th>4</th>\n      <td>even using green chilies much hot u like</td>\n      <td>1</td>\n    </tr>\n    <tr>\n      <th>...</th>\n      <td>...</td>\n      <td>...</td>\n    </tr>\n    <tr>\n      <th>1407</th>\n      <td>good omitted green chilies dont like lot heat ...</td>\n      <td>5</td>\n    </tr>\n    <tr>\n      <th>1408</th>\n      <td>cut calorie fat way using nonfat sour cream su...</td>\n      <td>5</td>\n    </tr>\n    <tr>\n      <th>1409</th>\n      <td>wonderful recipe used oz light cream cheese in...</td>\n      <td>5</td>\n    </tr>\n    <tr>\n      <th>1410</th>\n      <td>good thing would leave salt use lower sodium b...</td>\n      <td>5</td>\n    </tr>\n    <tr>\n      <th>1411</th>\n      <td>quick easy make family asks time dont add gree...</td>\n      <td>5</td>\n    </tr>\n  </tbody>\n</table>\n<p>1412 rows × 2 columns</p>\n</div>"
     },
     "execution_count": 4,
     "metadata": {},
     "output_type": "execute_result"
    }
   ],
   "source": [
    "df = pd.read_parquet(data)\n",
    "df"
   ],
   "metadata": {
    "collapsed": false
   }
  },
  {
   "cell_type": "markdown",
   "source": [
    "### 2.3 Feature Extraction"
   ],
   "metadata": {
    "collapsed": false
   }
  },
  {
   "cell_type": "markdown",
   "source": [
    "#### 2.3.2 TF-IDF"
   ],
   "metadata": {
    "collapsed": false
   }
  },
  {
   "cell_type": "code",
   "execution_count": 5,
   "outputs": [],
   "source": [
    "from sklearn.feature_extraction.text import TfidfVectorizer\n",
    "vectorizer = TfidfVectorizer(max_features= 32*32)\n",
    "\n",
    "X = vectorizer.fit_transform(df.text).toarray()"
   ],
   "metadata": {
    "collapsed": false
   }
  },
  {
   "cell_type": "code",
   "execution_count": 6,
   "outputs": [
    {
     "data": {
      "text/plain": "(1412, 1024)"
     },
     "execution_count": 6,
     "metadata": {},
     "output_type": "execute_result"
    }
   ],
   "source": [
    "X.shape"
   ],
   "metadata": {
    "collapsed": false
   }
  },
  {
   "cell_type": "markdown",
   "source": [
    "## 2.4 Split Dataset"
   ],
   "metadata": {
    "collapsed": false
   }
  },
  {
   "cell_type": "code",
   "execution_count": 7,
   "outputs": [],
   "source": [
    "Y = np.array([[y>1, y>2, y>3, y>4] for y in df.score])"
   ],
   "metadata": {
    "collapsed": false
   }
  },
  {
   "cell_type": "code",
   "execution_count": 8,
   "outputs": [],
   "source": [
    "from sklearn.model_selection import train_test_split\n",
    "\n",
    "X_train, X_test, y_train, y_test = train_test_split(X, Y, test_size=0.2, random_state=0)\n",
    "\n",
    "del X\n",
    "del Y"
   ],
   "metadata": {
    "collapsed": false
   }
  },
  {
   "cell_type": "code",
   "execution_count": 9,
   "outputs": [
    {
     "name": "stdout",
     "output_type": "stream",
     "text": [
      "X_train (1129, 1024)\n",
      "y_train (1129, 4)\n"
     ]
    }
   ],
   "source": [
    "print(\"X_train\", X_train.shape)\n",
    "print(\"y_train\", y_train.shape)"
   ],
   "metadata": {
    "collapsed": false
   }
  },
  {
   "cell_type": "code",
   "execution_count": 10,
   "outputs": [
    {
     "name": "stdout",
     "output_type": "stream",
     "text": [
      "X_test (283, 1024)\n",
      "y_test (283, 4)\n"
     ]
    }
   ],
   "source": [
    "print(\"X_test\", X_test.shape)\n",
    "print(\"y_test\", y_test.shape)"
   ],
   "metadata": {
    "collapsed": false
   }
  },
  {
   "cell_type": "markdown",
   "source": [
    "## 3 Build model"
   ],
   "metadata": {
    "collapsed": false
   }
  },
  {
   "cell_type": "code",
   "execution_count": 11,
   "outputs": [],
   "source": [
    "import tensorflow as tf\n",
    "import tensorflow.keras as keras\n",
    "from tensorflow.keras import layers"
   ],
   "metadata": {
    "collapsed": false
   }
  },
  {
   "cell_type": "code",
   "execution_count": 12,
   "outputs": [],
   "source": [
    "model_input = layers.Input(X_train.shape[1])\n",
    "l = layers.Reshape((32, 32, 1))(model_input)\n",
    "l = layers.Conv2D(32, (3, 3), activation='relu')(l)\n",
    "l = layers.MaxPooling2D((2, 2))(l)\n",
    "l = layers.Conv2D(64, (3, 3), activation='relu')(l)\n",
    "l = layers.MaxPooling2D((2, 2))(l)\n",
    "l = layers.Conv2D(64, (3, 3), activation='relu')(l)\n",
    "l = layers.Flatten()(l)\n",
    "l = layers.Dense(64, activation='relu')(l)\n",
    "model_output = layers.Dense(4, activation='sigmoid')(l)\n",
    "\n",
    "model = keras.Model(model_input, model_output)"
   ],
   "metadata": {
    "collapsed": false
   }
  },
  {
   "cell_type": "code",
   "execution_count": 13,
   "outputs": [
    {
     "name": "stdout",
     "output_type": "stream",
     "text": [
      "Model: \"model\"\n",
      "_________________________________________________________________\n",
      " Layer (type)                Output Shape              Param #   \n",
      "=================================================================\n",
      " input_1 (InputLayer)        [(None, 1024)]            0         \n",
      "                                                                 \n",
      " reshape (Reshape)           (None, 32, 32, 1)         0         \n",
      "                                                                 \n",
      " conv2d (Conv2D)             (None, 30, 30, 32)        320       \n",
      "                                                                 \n",
      " max_pooling2d (MaxPooling2D  (None, 15, 15, 32)       0         \n",
      " )                                                               \n",
      "                                                                 \n",
      " conv2d_1 (Conv2D)           (None, 13, 13, 64)        18496     \n",
      "                                                                 \n",
      " max_pooling2d_1 (MaxPooling  (None, 6, 6, 64)         0         \n",
      " 2D)                                                             \n",
      "                                                                 \n",
      " conv2d_2 (Conv2D)           (None, 4, 4, 64)          36928     \n",
      "                                                                 \n",
      " flatten (Flatten)           (None, 1024)              0         \n",
      "                                                                 \n",
      " dense (Dense)               (None, 64)                65600     \n",
      "                                                                 \n",
      " dense_1 (Dense)             (None, 4)                 260       \n",
      "                                                                 \n",
      "=================================================================\n",
      "Total params: 121,604\n",
      "Trainable params: 121,604\n",
      "Non-trainable params: 0\n",
      "_________________________________________________________________\n"
     ]
    }
   ],
   "source": [
    "model.summary()"
   ],
   "metadata": {
    "collapsed": false
   }
  },
  {
   "cell_type": "code",
   "execution_count": 14,
   "outputs": [],
   "source": [
    "def score_accuracy(y_true, y_pred):\n",
    "    return tf.math.reduce_sum(y_true, axis=1) == tf.math.round(tf.math.reduce_sum(y_pred, axis=1))\n",
    "\n",
    "def score_distance(y_true, y_pred):\n",
    "    return tf.math.abs(tf.math.reduce_sum(y_true, axis=1) - tf.math.round(tf.math.reduce_sum(y_pred, axis=1)))"
   ],
   "metadata": {
    "collapsed": false
   }
  },
  {
   "cell_type": "code",
   "execution_count": 15,
   "outputs": [],
   "source": [
    "model.compile(optimizer = tf.keras.optimizers.Adam(), loss = 'binary_crossentropy', metrics=[score_accuracy, score_distance])"
   ],
   "metadata": {
    "collapsed": false
   }
  },
  {
   "cell_type": "code",
   "execution_count": 16,
   "outputs": [
    {
     "name": "stdout",
     "output_type": "stream",
     "text": [
      "Epoch 1/50\n",
      "36/36 [==============================] - 4s 14ms/step - loss: 0.6085 - score_accuracy: 0.2108 - score_distance: 1.2019 - val_loss: 0.5838 - val_score_accuracy: 0.2191 - val_score_distance: 1.1837\n",
      "Epoch 2/50\n",
      "36/36 [==============================] - 0s 6ms/step - loss: 0.5857 - score_accuracy: 0.2108 - score_distance: 1.2019 - val_loss: 0.5849 - val_score_accuracy: 0.2191 - val_score_distance: 1.1837\n",
      "Epoch 3/50\n",
      "36/36 [==============================] - 0s 7ms/step - loss: 0.5752 - score_accuracy: 0.2117 - score_distance: 1.2002 - val_loss: 0.5719 - val_score_accuracy: 0.2155 - val_score_distance: 1.1837\n",
      "Epoch 4/50\n",
      "36/36 [==============================] - 0s 6ms/step - loss: 0.5423 - score_accuracy: 0.2214 - score_distance: 1.1187 - val_loss: 0.5693 - val_score_accuracy: 0.2473 - val_score_distance: 1.1237\n",
      "Epoch 5/50\n",
      "36/36 [==============================] - 0s 6ms/step - loss: 0.5072 - score_accuracy: 0.2427 - score_distance: 1.0310 - val_loss: 0.5506 - val_score_accuracy: 0.2544 - val_score_distance: 1.1025\n",
      "Epoch 6/50\n",
      "36/36 [==============================] - 0s 6ms/step - loss: 0.4847 - score_accuracy: 0.2569 - score_distance: 0.9911 - val_loss: 0.5533 - val_score_accuracy: 0.2968 - val_score_distance: 1.0283\n",
      "Epoch 7/50\n",
      "36/36 [==============================] - 0s 6ms/step - loss: 0.4482 - score_accuracy: 0.2941 - score_distance: 0.9141 - val_loss: 0.5342 - val_score_accuracy: 0.2898 - val_score_distance: 1.0247\n",
      "Epoch 8/50\n",
      "36/36 [==============================] - 0s 6ms/step - loss: 0.4170 - score_accuracy: 0.3322 - score_distance: 0.8299 - val_loss: 0.5519 - val_score_accuracy: 0.3216 - val_score_distance: 0.9894\n",
      "Epoch 9/50\n",
      "36/36 [==============================] - 0s 6ms/step - loss: 0.3888 - score_accuracy: 0.3596 - score_distance: 0.7848 - val_loss: 0.5380 - val_score_accuracy: 0.3251 - val_score_distance: 0.9753\n",
      "Epoch 10/50\n",
      "36/36 [==============================] - 0s 6ms/step - loss: 0.3665 - score_accuracy: 0.3880 - score_distance: 0.7334 - val_loss: 0.5226 - val_score_accuracy: 0.3145 - val_score_distance: 0.9470\n",
      "Epoch 11/50\n",
      "36/36 [==============================] - 0s 7ms/step - loss: 0.3345 - score_accuracy: 0.4429 - score_distance: 0.6705 - val_loss: 0.5248 - val_score_accuracy: 0.3392 - val_score_distance: 0.9364\n",
      "Epoch 12/50\n",
      "36/36 [==============================] - 0s 7ms/step - loss: 0.3041 - score_accuracy: 0.4907 - score_distance: 0.5837 - val_loss: 0.5299 - val_score_accuracy: 0.3357 - val_score_distance: 0.9081\n",
      "Epoch 13/50\n",
      "36/36 [==============================] - 0s 7ms/step - loss: 0.2774 - score_accuracy: 0.5341 - score_distance: 0.5376 - val_loss: 0.5269 - val_score_accuracy: 0.3357 - val_score_distance: 0.9329\n",
      "Epoch 14/50\n",
      "36/36 [==============================] - 0s 7ms/step - loss: 0.2517 - score_accuracy: 0.5642 - score_distance: 0.5004 - val_loss: 0.5441 - val_score_accuracy: 0.3498 - val_score_distance: 0.9223\n",
      "Epoch 15/50\n",
      "36/36 [==============================] - 0s 7ms/step - loss: 0.2276 - score_accuracy: 0.6147 - score_distance: 0.4287 - val_loss: 0.5774 - val_score_accuracy: 0.3675 - val_score_distance: 0.9081\n",
      "Epoch 16/50\n",
      "36/36 [==============================] - 0s 7ms/step - loss: 0.1994 - score_accuracy: 0.6422 - score_distance: 0.3880 - val_loss: 0.6126 - val_score_accuracy: 0.3392 - val_score_distance: 0.9682\n",
      "Epoch 17/50\n",
      "36/36 [==============================] - 0s 7ms/step - loss: 0.1650 - score_accuracy: 0.7290 - score_distance: 0.2932 - val_loss: 0.6314 - val_score_accuracy: 0.3428 - val_score_distance: 0.9293\n",
      "Epoch 18/50\n",
      "36/36 [==============================] - 0s 7ms/step - loss: 0.1410 - score_accuracy: 0.7724 - score_distance: 0.2453 - val_loss: 0.6616 - val_score_accuracy: 0.3569 - val_score_distance: 0.9187\n",
      "Epoch 19/50\n",
      "36/36 [==============================] - 0s 7ms/step - loss: 0.1178 - score_accuracy: 0.8175 - score_distance: 0.1931 - val_loss: 0.7203 - val_score_accuracy: 0.3498 - val_score_distance: 0.9364\n",
      "Epoch 20/50\n",
      "36/36 [==============================] - 0s 7ms/step - loss: 0.0994 - score_accuracy: 0.8477 - score_distance: 0.1621 - val_loss: 0.7136 - val_score_accuracy: 0.4064 - val_score_distance: 0.8763\n",
      "Epoch 21/50\n",
      "36/36 [==============================] - 0s 7ms/step - loss: 0.0829 - score_accuracy: 0.8866 - score_distance: 0.1196 - val_loss: 0.8214 - val_score_accuracy: 0.3852 - val_score_distance: 0.9081\n",
      "Epoch 22/50\n",
      "36/36 [==============================] - 0s 7ms/step - loss: 0.0648 - score_accuracy: 0.9176 - score_distance: 0.0877 - val_loss: 0.8775 - val_score_accuracy: 0.3746 - val_score_distance: 0.9187\n",
      "Epoch 23/50\n",
      "36/36 [==============================] - 0s 7ms/step - loss: 0.0525 - score_accuracy: 0.9291 - score_distance: 0.0762 - val_loss: 0.9083 - val_score_accuracy: 0.3958 - val_score_distance: 0.9046\n",
      "Epoch 24/50\n",
      "36/36 [==============================] - 0s 8ms/step - loss: 0.0447 - score_accuracy: 0.9531 - score_distance: 0.0523 - val_loss: 1.0071 - val_score_accuracy: 0.3922 - val_score_distance: 0.9187\n",
      "Epoch 25/50\n",
      "36/36 [==============================] - 0s 7ms/step - loss: 0.0372 - score_accuracy: 0.9663 - score_distance: 0.0381 - val_loss: 1.0435 - val_score_accuracy: 0.3993 - val_score_distance: 0.9046\n",
      "Epoch 26/50\n",
      "36/36 [==============================] - 0s 7ms/step - loss: 0.0338 - score_accuracy: 0.9770 - score_distance: 0.0275 - val_loss: 1.0711 - val_score_accuracy: 0.3534 - val_score_distance: 0.9505\n",
      "Epoch 27/50\n",
      "36/36 [==============================] - 0s 7ms/step - loss: 0.0242 - score_accuracy: 0.9849 - score_distance: 0.0177 - val_loss: 1.1363 - val_score_accuracy: 0.3887 - val_score_distance: 0.9329\n",
      "Epoch 28/50\n",
      "36/36 [==============================] - 0s 7ms/step - loss: 0.0180 - score_accuracy: 0.9903 - score_distance: 0.0124 - val_loss: 1.1726 - val_score_accuracy: 0.3993 - val_score_distance: 0.9293\n",
      "Epoch 29/50\n",
      "36/36 [==============================] - 0s 7ms/step - loss: 0.0173 - score_accuracy: 0.9876 - score_distance: 0.0151 - val_loss: 1.1984 - val_score_accuracy: 0.3710 - val_score_distance: 0.9293\n",
      "Epoch 30/50\n",
      "36/36 [==============================] - 0s 7ms/step - loss: 0.0186 - score_accuracy: 0.9894 - score_distance: 0.0133 - val_loss: 1.2503 - val_score_accuracy: 0.3922 - val_score_distance: 0.9258\n",
      "Epoch 31/50\n",
      "36/36 [==============================] - 0s 7ms/step - loss: 0.0330 - score_accuracy: 0.9672 - score_distance: 0.0390 - val_loss: 1.1863 - val_score_accuracy: 0.3993 - val_score_distance: 0.9046\n",
      "Epoch 32/50\n",
      "36/36 [==============================] - 0s 7ms/step - loss: 0.0261 - score_accuracy: 0.9770 - score_distance: 0.0275 - val_loss: 1.2311 - val_score_accuracy: 0.3958 - val_score_distance: 0.9046\n",
      "Epoch 33/50\n",
      "36/36 [==============================] - 0s 7ms/step - loss: 0.0153 - score_accuracy: 0.9903 - score_distance: 0.0124 - val_loss: 1.3366 - val_score_accuracy: 0.3993 - val_score_distance: 0.8905\n",
      "Epoch 34/50\n",
      "36/36 [==============================] - 0s 7ms/step - loss: 0.0141 - score_accuracy: 0.9911 - score_distance: 0.0115 - val_loss: 1.3626 - val_score_accuracy: 0.4099 - val_score_distance: 0.9081\n",
      "Epoch 35/50\n",
      "36/36 [==============================] - 0s 7ms/step - loss: 0.0122 - score_accuracy: 0.9920 - score_distance: 0.0106 - val_loss: 1.3933 - val_score_accuracy: 0.3922 - val_score_distance: 0.9152\n",
      "Epoch 36/50\n",
      "36/36 [==============================] - 0s 7ms/step - loss: 0.0095 - score_accuracy: 0.9929 - score_distance: 0.0115 - val_loss: 1.4031 - val_score_accuracy: 0.3816 - val_score_distance: 0.9152\n",
      "Epoch 37/50\n",
      "36/36 [==============================] - 0s 7ms/step - loss: 0.0102 - score_accuracy: 0.9903 - score_distance: 0.0124 - val_loss: 1.4459 - val_score_accuracy: 0.3958 - val_score_distance: 0.9152\n",
      "Epoch 38/50\n",
      "36/36 [==============================] - 0s 7ms/step - loss: 0.0103 - score_accuracy: 0.9903 - score_distance: 0.0133 - val_loss: 1.4533 - val_score_accuracy: 0.3993 - val_score_distance: 0.9117\n",
      "Epoch 39/50\n",
      "36/36 [==============================] - 0s 7ms/step - loss: 0.0090 - score_accuracy: 0.9929 - score_distance: 0.0115 - val_loss: 1.5000 - val_score_accuracy: 0.3887 - val_score_distance: 0.9187\n",
      "Epoch 40/50\n",
      "36/36 [==============================] - 0s 7ms/step - loss: 0.0093 - score_accuracy: 0.9929 - score_distance: 0.0106 - val_loss: 1.4894 - val_score_accuracy: 0.4064 - val_score_distance: 0.8905\n",
      "Epoch 41/50\n",
      "36/36 [==============================] - 0s 7ms/step - loss: 0.0076 - score_accuracy: 0.9929 - score_distance: 0.0097 - val_loss: 1.5218 - val_score_accuracy: 0.3993 - val_score_distance: 0.9046\n",
      "Epoch 42/50\n",
      "36/36 [==============================] - 0s 7ms/step - loss: 0.0096 - score_accuracy: 0.9911 - score_distance: 0.0142 - val_loss: 1.5447 - val_score_accuracy: 0.4028 - val_score_distance: 0.8975\n",
      "Epoch 43/50\n",
      "36/36 [==============================] - 0s 8ms/step - loss: 0.0094 - score_accuracy: 0.9894 - score_distance: 0.0142 - val_loss: 1.5472 - val_score_accuracy: 0.3993 - val_score_distance: 0.8975\n",
      "Epoch 44/50\n",
      "36/36 [==============================] - 0s 7ms/step - loss: 0.0100 - score_accuracy: 0.9911 - score_distance: 0.0115 - val_loss: 1.5540 - val_score_accuracy: 0.3958 - val_score_distance: 0.9152\n",
      "Epoch 45/50\n",
      "36/36 [==============================] - 0s 7ms/step - loss: 0.0072 - score_accuracy: 0.9929 - score_distance: 0.0106 - val_loss: 1.5756 - val_score_accuracy: 0.3993 - val_score_distance: 0.9152\n",
      "Epoch 46/50\n",
      "36/36 [==============================] - 0s 7ms/step - loss: 0.0075 - score_accuracy: 0.9903 - score_distance: 0.0124 - val_loss: 1.5820 - val_score_accuracy: 0.3922 - val_score_distance: 0.9046\n",
      "Epoch 47/50\n",
      "36/36 [==============================] - 0s 7ms/step - loss: 0.0079 - score_accuracy: 0.9920 - score_distance: 0.0106 - val_loss: 1.5864 - val_score_accuracy: 0.3993 - val_score_distance: 0.9046\n",
      "Epoch 48/50\n",
      "36/36 [==============================] - 0s 7ms/step - loss: 0.0066 - score_accuracy: 0.9929 - score_distance: 0.0097 - val_loss: 1.6111 - val_score_accuracy: 0.4028 - val_score_distance: 0.8975\n",
      "Epoch 49/50\n",
      "36/36 [==============================] - 0s 7ms/step - loss: 0.0075 - score_accuracy: 0.9911 - score_distance: 0.0115 - val_loss: 1.6340 - val_score_accuracy: 0.4028 - val_score_distance: 0.8940\n",
      "Epoch 50/50\n",
      "36/36 [==============================] - 0s 8ms/step - loss: 0.0085 - score_accuracy: 0.9920 - score_distance: 0.0124 - val_loss: 1.6058 - val_score_accuracy: 0.4134 - val_score_distance: 0.8905\n"
     ]
    }
   ],
   "source": [
    "hist = model.fit(\n",
    "    X_train,\n",
    "    y_train,\n",
    "    batch_size=32,\n",
    "    epochs=50,\n",
    "    validation_data = (X_test, y_test)\n",
    ")"
   ],
   "metadata": {
    "collapsed": false
   }
  },
  {
   "cell_type": "code",
   "execution_count": 17,
   "outputs": [
    {
     "name": "stderr",
     "output_type": "stream",
     "text": [
      "WARNING:absl:Found untraced functions such as _jit_compiled_convolution_op, _jit_compiled_convolution_op, _jit_compiled_convolution_op while saving (showing 3 of 3). These functions will not be directly callable after loading.\n"
     ]
    },
    {
     "name": "stdout",
     "output_type": "stream",
     "text": [
      "INFO:tensorflow:Assets written to: ../models/own_cnn_tfidf\\assets\n"
     ]
    },
    {
     "name": "stderr",
     "output_type": "stream",
     "text": [
      "INFO:tensorflow:Assets written to: ../models/own_cnn_tfidf\\assets\n"
     ]
    }
   ],
   "source": [
    "model.save(f'../models/{name}')"
   ],
   "metadata": {
    "collapsed": false
   }
  },
  {
   "cell_type": "code",
   "execution_count": 18,
   "outputs": [
    {
     "data": {
      "text/plain": "        loss  score_accuracy  score_distance  val_loss  val_score_accuracy  \\\n0   0.608492        0.210806        1.201949  0.583770            0.219081   \n1   0.585711        0.210806        1.201949  0.584929            0.219081   \n2   0.575211        0.211692        1.200177  0.571855            0.215548   \n3   0.542271        0.221435        1.118689  0.569329            0.247350   \n4   0.507186        0.242693        1.031001  0.550564            0.254417   \n5   0.484654        0.256864        0.991143  0.553331            0.296820   \n6   0.448161        0.294066        0.914083  0.534196            0.289753   \n7   0.417034        0.332152        0.829938  0.551871            0.321555   \n8   0.388837        0.359610        0.784765  0.537979            0.325088   \n9   0.366524        0.387954        0.733392  0.522624            0.314488   \n10  0.334490        0.442870        0.670505  0.524763            0.339223   \n11  0.304149        0.490700        0.583702  0.529890            0.335689   \n12  0.277408        0.534101        0.537644  0.526904            0.335689   \n13  0.251726        0.564216        0.500443  0.544103            0.349823   \n14  0.227558        0.614703        0.428698  0.577425            0.367491   \n15  0.199417        0.642161        0.387954  0.612570            0.339223   \n16  0.165042        0.728964        0.293180  0.631366            0.342756   \n17  0.141022        0.772365        0.245350  0.661593            0.356890   \n18  0.117758        0.817538        0.193091  0.720308            0.349823   \n19  0.099397        0.847653        0.162090  0.713583            0.406360   \n20  0.082922        0.886625        0.119575  0.821437            0.385159   \n21  0.064817        0.917626        0.087688  0.877492            0.374558   \n22  0.052543        0.929141        0.076174  0.908311            0.395760   \n23  0.044741        0.953056        0.052259  1.007141            0.392226   \n24  0.037230        0.966342        0.038087  1.043549            0.399293   \n25  0.033798        0.976971        0.027458  1.071081            0.353357   \n26  0.024189        0.984942        0.017715  1.136272            0.388693   \n27  0.017984        0.990257        0.012400  1.172626            0.399293   \n28  0.017259        0.987600        0.015058  1.198412            0.371025   \n29  0.018604        0.989371        0.013286  1.250338            0.392226   \n30  0.033009        0.967228        0.038973  1.186279            0.399293   \n31  0.026077        0.976971        0.027458  1.231111            0.395760   \n32  0.015265        0.990257        0.012400  1.336609            0.399293   \n33  0.014133        0.991143        0.011515  1.362550            0.409894   \n34  0.012164        0.992028        0.010629  1.393306            0.392226   \n35  0.009539        0.992914        0.011515  1.403149            0.381625   \n36  0.010170        0.990257        0.012400  1.445939            0.395760   \n37  0.010308        0.990257        0.013286  1.453328            0.399293   \n38  0.008976        0.992914        0.011515  1.499973            0.388693   \n39  0.009274        0.992914        0.010629  1.489362            0.406360   \n40  0.007614        0.992914        0.009743  1.521836            0.399293   \n41  0.009598        0.991143        0.014172  1.544651            0.402827   \n42  0.009420        0.989371        0.014172  1.547244            0.399293   \n43  0.010038        0.991143        0.011515  1.554003            0.395760   \n44  0.007234        0.992914        0.010629  1.575551            0.399293   \n45  0.007501        0.990257        0.012400  1.582019            0.392226   \n46  0.007893        0.992028        0.010629  1.586411            0.399293   \n47  0.006556        0.992914        0.009743  1.611116            0.402827   \n48  0.007510        0.991143        0.011515  1.634005            0.402827   \n49  0.008523        0.992028        0.012400  1.605824            0.413428   \n\n    val_score_distance  \n0             1.183746  \n1             1.183746  \n2             1.183746  \n3             1.123675  \n4             1.102473  \n5             1.028269  \n6             1.024735  \n7             0.989399  \n8             0.975265  \n9             0.946996  \n10            0.936396  \n11            0.908127  \n12            0.932862  \n13            0.922261  \n14            0.908127  \n15            0.968198  \n16            0.929329  \n17            0.918728  \n18            0.936396  \n19            0.876325  \n20            0.908127  \n21            0.918728  \n22            0.904594  \n23            0.918728  \n24            0.904594  \n25            0.950530  \n26            0.932862  \n27            0.929329  \n28            0.929329  \n29            0.925795  \n30            0.904594  \n31            0.904594  \n32            0.890459  \n33            0.908127  \n34            0.915194  \n35            0.915194  \n36            0.915194  \n37            0.911661  \n38            0.918728  \n39            0.890459  \n40            0.904594  \n41            0.897527  \n42            0.897527  \n43            0.915194  \n44            0.915194  \n45            0.904594  \n46            0.904594  \n47            0.897527  \n48            0.893993  \n49            0.890459  ",
      "text/html": "<div>\n<style scoped>\n    .dataframe tbody tr th:only-of-type {\n        vertical-align: middle;\n    }\n\n    .dataframe tbody tr th {\n        vertical-align: top;\n    }\n\n    .dataframe thead th {\n        text-align: right;\n    }\n</style>\n<table border=\"1\" class=\"dataframe\">\n  <thead>\n    <tr style=\"text-align: right;\">\n      <th></th>\n      <th>loss</th>\n      <th>score_accuracy</th>\n      <th>score_distance</th>\n      <th>val_loss</th>\n      <th>val_score_accuracy</th>\n      <th>val_score_distance</th>\n    </tr>\n  </thead>\n  <tbody>\n    <tr>\n      <th>0</th>\n      <td>0.608492</td>\n      <td>0.210806</td>\n      <td>1.201949</td>\n      <td>0.583770</td>\n      <td>0.219081</td>\n      <td>1.183746</td>\n    </tr>\n    <tr>\n      <th>1</th>\n      <td>0.585711</td>\n      <td>0.210806</td>\n      <td>1.201949</td>\n      <td>0.584929</td>\n      <td>0.219081</td>\n      <td>1.183746</td>\n    </tr>\n    <tr>\n      <th>2</th>\n      <td>0.575211</td>\n      <td>0.211692</td>\n      <td>1.200177</td>\n      <td>0.571855</td>\n      <td>0.215548</td>\n      <td>1.183746</td>\n    </tr>\n    <tr>\n      <th>3</th>\n      <td>0.542271</td>\n      <td>0.221435</td>\n      <td>1.118689</td>\n      <td>0.569329</td>\n      <td>0.247350</td>\n      <td>1.123675</td>\n    </tr>\n    <tr>\n      <th>4</th>\n      <td>0.507186</td>\n      <td>0.242693</td>\n      <td>1.031001</td>\n      <td>0.550564</td>\n      <td>0.254417</td>\n      <td>1.102473</td>\n    </tr>\n    <tr>\n      <th>5</th>\n      <td>0.484654</td>\n      <td>0.256864</td>\n      <td>0.991143</td>\n      <td>0.553331</td>\n      <td>0.296820</td>\n      <td>1.028269</td>\n    </tr>\n    <tr>\n      <th>6</th>\n      <td>0.448161</td>\n      <td>0.294066</td>\n      <td>0.914083</td>\n      <td>0.534196</td>\n      <td>0.289753</td>\n      <td>1.024735</td>\n    </tr>\n    <tr>\n      <th>7</th>\n      <td>0.417034</td>\n      <td>0.332152</td>\n      <td>0.829938</td>\n      <td>0.551871</td>\n      <td>0.321555</td>\n      <td>0.989399</td>\n    </tr>\n    <tr>\n      <th>8</th>\n      <td>0.388837</td>\n      <td>0.359610</td>\n      <td>0.784765</td>\n      <td>0.537979</td>\n      <td>0.325088</td>\n      <td>0.975265</td>\n    </tr>\n    <tr>\n      <th>9</th>\n      <td>0.366524</td>\n      <td>0.387954</td>\n      <td>0.733392</td>\n      <td>0.522624</td>\n      <td>0.314488</td>\n      <td>0.946996</td>\n    </tr>\n    <tr>\n      <th>10</th>\n      <td>0.334490</td>\n      <td>0.442870</td>\n      <td>0.670505</td>\n      <td>0.524763</td>\n      <td>0.339223</td>\n      <td>0.936396</td>\n    </tr>\n    <tr>\n      <th>11</th>\n      <td>0.304149</td>\n      <td>0.490700</td>\n      <td>0.583702</td>\n      <td>0.529890</td>\n      <td>0.335689</td>\n      <td>0.908127</td>\n    </tr>\n    <tr>\n      <th>12</th>\n      <td>0.277408</td>\n      <td>0.534101</td>\n      <td>0.537644</td>\n      <td>0.526904</td>\n      <td>0.335689</td>\n      <td>0.932862</td>\n    </tr>\n    <tr>\n      <th>13</th>\n      <td>0.251726</td>\n      <td>0.564216</td>\n      <td>0.500443</td>\n      <td>0.544103</td>\n      <td>0.349823</td>\n      <td>0.922261</td>\n    </tr>\n    <tr>\n      <th>14</th>\n      <td>0.227558</td>\n      <td>0.614703</td>\n      <td>0.428698</td>\n      <td>0.577425</td>\n      <td>0.367491</td>\n      <td>0.908127</td>\n    </tr>\n    <tr>\n      <th>15</th>\n      <td>0.199417</td>\n      <td>0.642161</td>\n      <td>0.387954</td>\n      <td>0.612570</td>\n      <td>0.339223</td>\n      <td>0.968198</td>\n    </tr>\n    <tr>\n      <th>16</th>\n      <td>0.165042</td>\n      <td>0.728964</td>\n      <td>0.293180</td>\n      <td>0.631366</td>\n      <td>0.342756</td>\n      <td>0.929329</td>\n    </tr>\n    <tr>\n      <th>17</th>\n      <td>0.141022</td>\n      <td>0.772365</td>\n      <td>0.245350</td>\n      <td>0.661593</td>\n      <td>0.356890</td>\n      <td>0.918728</td>\n    </tr>\n    <tr>\n      <th>18</th>\n      <td>0.117758</td>\n      <td>0.817538</td>\n      <td>0.193091</td>\n      <td>0.720308</td>\n      <td>0.349823</td>\n      <td>0.936396</td>\n    </tr>\n    <tr>\n      <th>19</th>\n      <td>0.099397</td>\n      <td>0.847653</td>\n      <td>0.162090</td>\n      <td>0.713583</td>\n      <td>0.406360</td>\n      <td>0.876325</td>\n    </tr>\n    <tr>\n      <th>20</th>\n      <td>0.082922</td>\n      <td>0.886625</td>\n      <td>0.119575</td>\n      <td>0.821437</td>\n      <td>0.385159</td>\n      <td>0.908127</td>\n    </tr>\n    <tr>\n      <th>21</th>\n      <td>0.064817</td>\n      <td>0.917626</td>\n      <td>0.087688</td>\n      <td>0.877492</td>\n      <td>0.374558</td>\n      <td>0.918728</td>\n    </tr>\n    <tr>\n      <th>22</th>\n      <td>0.052543</td>\n      <td>0.929141</td>\n      <td>0.076174</td>\n      <td>0.908311</td>\n      <td>0.395760</td>\n      <td>0.904594</td>\n    </tr>\n    <tr>\n      <th>23</th>\n      <td>0.044741</td>\n      <td>0.953056</td>\n      <td>0.052259</td>\n      <td>1.007141</td>\n      <td>0.392226</td>\n      <td>0.918728</td>\n    </tr>\n    <tr>\n      <th>24</th>\n      <td>0.037230</td>\n      <td>0.966342</td>\n      <td>0.038087</td>\n      <td>1.043549</td>\n      <td>0.399293</td>\n      <td>0.904594</td>\n    </tr>\n    <tr>\n      <th>25</th>\n      <td>0.033798</td>\n      <td>0.976971</td>\n      <td>0.027458</td>\n      <td>1.071081</td>\n      <td>0.353357</td>\n      <td>0.950530</td>\n    </tr>\n    <tr>\n      <th>26</th>\n      <td>0.024189</td>\n      <td>0.984942</td>\n      <td>0.017715</td>\n      <td>1.136272</td>\n      <td>0.388693</td>\n      <td>0.932862</td>\n    </tr>\n    <tr>\n      <th>27</th>\n      <td>0.017984</td>\n      <td>0.990257</td>\n      <td>0.012400</td>\n      <td>1.172626</td>\n      <td>0.399293</td>\n      <td>0.929329</td>\n    </tr>\n    <tr>\n      <th>28</th>\n      <td>0.017259</td>\n      <td>0.987600</td>\n      <td>0.015058</td>\n      <td>1.198412</td>\n      <td>0.371025</td>\n      <td>0.929329</td>\n    </tr>\n    <tr>\n      <th>29</th>\n      <td>0.018604</td>\n      <td>0.989371</td>\n      <td>0.013286</td>\n      <td>1.250338</td>\n      <td>0.392226</td>\n      <td>0.925795</td>\n    </tr>\n    <tr>\n      <th>30</th>\n      <td>0.033009</td>\n      <td>0.967228</td>\n      <td>0.038973</td>\n      <td>1.186279</td>\n      <td>0.399293</td>\n      <td>0.904594</td>\n    </tr>\n    <tr>\n      <th>31</th>\n      <td>0.026077</td>\n      <td>0.976971</td>\n      <td>0.027458</td>\n      <td>1.231111</td>\n      <td>0.395760</td>\n      <td>0.904594</td>\n    </tr>\n    <tr>\n      <th>32</th>\n      <td>0.015265</td>\n      <td>0.990257</td>\n      <td>0.012400</td>\n      <td>1.336609</td>\n      <td>0.399293</td>\n      <td>0.890459</td>\n    </tr>\n    <tr>\n      <th>33</th>\n      <td>0.014133</td>\n      <td>0.991143</td>\n      <td>0.011515</td>\n      <td>1.362550</td>\n      <td>0.409894</td>\n      <td>0.908127</td>\n    </tr>\n    <tr>\n      <th>34</th>\n      <td>0.012164</td>\n      <td>0.992028</td>\n      <td>0.010629</td>\n      <td>1.393306</td>\n      <td>0.392226</td>\n      <td>0.915194</td>\n    </tr>\n    <tr>\n      <th>35</th>\n      <td>0.009539</td>\n      <td>0.992914</td>\n      <td>0.011515</td>\n      <td>1.403149</td>\n      <td>0.381625</td>\n      <td>0.915194</td>\n    </tr>\n    <tr>\n      <th>36</th>\n      <td>0.010170</td>\n      <td>0.990257</td>\n      <td>0.012400</td>\n      <td>1.445939</td>\n      <td>0.395760</td>\n      <td>0.915194</td>\n    </tr>\n    <tr>\n      <th>37</th>\n      <td>0.010308</td>\n      <td>0.990257</td>\n      <td>0.013286</td>\n      <td>1.453328</td>\n      <td>0.399293</td>\n      <td>0.911661</td>\n    </tr>\n    <tr>\n      <th>38</th>\n      <td>0.008976</td>\n      <td>0.992914</td>\n      <td>0.011515</td>\n      <td>1.499973</td>\n      <td>0.388693</td>\n      <td>0.918728</td>\n    </tr>\n    <tr>\n      <th>39</th>\n      <td>0.009274</td>\n      <td>0.992914</td>\n      <td>0.010629</td>\n      <td>1.489362</td>\n      <td>0.406360</td>\n      <td>0.890459</td>\n    </tr>\n    <tr>\n      <th>40</th>\n      <td>0.007614</td>\n      <td>0.992914</td>\n      <td>0.009743</td>\n      <td>1.521836</td>\n      <td>0.399293</td>\n      <td>0.904594</td>\n    </tr>\n    <tr>\n      <th>41</th>\n      <td>0.009598</td>\n      <td>0.991143</td>\n      <td>0.014172</td>\n      <td>1.544651</td>\n      <td>0.402827</td>\n      <td>0.897527</td>\n    </tr>\n    <tr>\n      <th>42</th>\n      <td>0.009420</td>\n      <td>0.989371</td>\n      <td>0.014172</td>\n      <td>1.547244</td>\n      <td>0.399293</td>\n      <td>0.897527</td>\n    </tr>\n    <tr>\n      <th>43</th>\n      <td>0.010038</td>\n      <td>0.991143</td>\n      <td>0.011515</td>\n      <td>1.554003</td>\n      <td>0.395760</td>\n      <td>0.915194</td>\n    </tr>\n    <tr>\n      <th>44</th>\n      <td>0.007234</td>\n      <td>0.992914</td>\n      <td>0.010629</td>\n      <td>1.575551</td>\n      <td>0.399293</td>\n      <td>0.915194</td>\n    </tr>\n    <tr>\n      <th>45</th>\n      <td>0.007501</td>\n      <td>0.990257</td>\n      <td>0.012400</td>\n      <td>1.582019</td>\n      <td>0.392226</td>\n      <td>0.904594</td>\n    </tr>\n    <tr>\n      <th>46</th>\n      <td>0.007893</td>\n      <td>0.992028</td>\n      <td>0.010629</td>\n      <td>1.586411</td>\n      <td>0.399293</td>\n      <td>0.904594</td>\n    </tr>\n    <tr>\n      <th>47</th>\n      <td>0.006556</td>\n      <td>0.992914</td>\n      <td>0.009743</td>\n      <td>1.611116</td>\n      <td>0.402827</td>\n      <td>0.897527</td>\n    </tr>\n    <tr>\n      <th>48</th>\n      <td>0.007510</td>\n      <td>0.991143</td>\n      <td>0.011515</td>\n      <td>1.634005</td>\n      <td>0.402827</td>\n      <td>0.893993</td>\n    </tr>\n    <tr>\n      <th>49</th>\n      <td>0.008523</td>\n      <td>0.992028</td>\n      <td>0.012400</td>\n      <td>1.605824</td>\n      <td>0.413428</td>\n      <td>0.890459</td>\n    </tr>\n  </tbody>\n</table>\n</div>"
     },
     "execution_count": 18,
     "metadata": {},
     "output_type": "execute_result"
    }
   ],
   "source": [
    "hist_df = pd.DataFrame(hist.history)\n",
    "hist_df"
   ],
   "metadata": {
    "collapsed": false
   }
  },
  {
   "cell_type": "code",
   "execution_count": 19,
   "outputs": [],
   "source": [
    "hist_df.to_csv(f'../logs/{name}.csv')"
   ],
   "metadata": {
    "collapsed": false
   }
  },
  {
   "cell_type": "code",
   "execution_count": 20,
   "outputs": [
    {
     "data": {
      "text/plain": "<Figure size 640x480 with 1 Axes>",
      "image/png": "[encoded data removed]"
     },
     "metadata": {},
     "output_type": "display_data"
    }
   ],
   "source": [
    "plt.title('CNN on TF-IDF data')\n",
    "\n",
    "plt.plot(hist_df.score_accuracy, label='Training')\n",
    "plt.plot(hist_df.val_score_accuracy, label='Validation')\n",
    "\n",
    "plt.legend()\n",
    "plt.xlabel('epoch')\n",
    "plt.ylabel('accuracy')\n",
    "\n",
    "plt.savefig(f'../figs/{name}.png')\n",
    "plt.show()"
   ],
   "metadata": {
    "collapsed": false
   }
  },
  {
   "cell_type": "code",
   "execution_count": 20,
   "outputs": [],
   "source": [],
   "metadata": {
    "collapsed": false
   }
  }
 ],
 "metadata": {
  "kernelspec": {
   "display_name": "Python 3",
   "language": "python",
   "name": "python3"
  },
  "language_info": {
   "codemirror_mode": {
    "name": "ipython",
    "version": 2
   },
   "file_extension": ".py",
   "mimetype": "text/x-python",
   "name": "python",
   "nbconvert_exporter": "python",
   "pygments_lexer": "ipython2",
   "version": "2.7.6"
  }
 },
 "nbformat": 4,
 "nbformat_minor": 0
}

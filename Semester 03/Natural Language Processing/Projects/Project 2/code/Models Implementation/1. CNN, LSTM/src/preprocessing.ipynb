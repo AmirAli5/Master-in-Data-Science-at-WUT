{
 "cells": [
  {
   "cell_type": "code",
   "execution_count": null,
   "outputs": [],
   "source": [
    "import os\n",
    "os.getcwd()"
   ],
   "metadata": {
    "collapsed": false,
    "pycharm": {
     "is_executing": true
    }
   }
  },
  {
   "cell_type": "code",
   "execution_count": 1,
   "outputs": [],
   "source": [
    "import re\n",
    "import string\n",
    "import pandas as pd\n",
    "import matplotlib.pyplot as plt\n",
    "from tqdm import tqdm\n",
    "\n",
    "plt.style.use(\"fivethirtyeight\")"
   ],
   "metadata": {
    "collapsed": false
   }
  },
  {
   "cell_type": "markdown",
   "source": [
    "## 1: Load data"
   ],
   "metadata": {
    "collapsed": false
   }
  },
  {
   "cell_type": "code",
   "execution_count": 3,
   "outputs": [
    {
     "data": {
      "text/plain": "                                                     text  score\n0       I have bought several of the Vitality canned d...      5\n1       Product arrived labeled as Jumbo Salted Peanut...      1\n2       This is a confection that has been around a fe...      4\n3       If you are looking for the secret ingredient i...      2\n4       Great taffy at a great price.  There was a wid...      5\n...                                                   ...    ...\n568449  Great for sesame chicken..this is a good if no...      5\n568450  I'm disappointed with the flavor. The chocolat...      2\n568451  These stars are small, so you can give 10-15 o...      5\n568452  These are the BEST treats for training and rew...      5\n568453  I am very satisfied ,product is as advertised,...      5\n\n[568454 rows x 2 columns]",
      "text/html": "<div>\n<style scoped>\n    .dataframe tbody tr th:only-of-type {\n        vertical-align: middle;\n    }\n\n    .dataframe tbody tr th {\n        vertical-align: top;\n    }\n\n    .dataframe thead th {\n        text-align: right;\n    }\n</style>\n<table border=\"1\" class=\"dataframe\">\n  <thead>\n    <tr style=\"text-align: right;\">\n      <th></th>\n      <th>text</th>\n      <th>score</th>\n    </tr>\n  </thead>\n  <tbody>\n    <tr>\n      <th>0</th>\n      <td>I have bought several of the Vitality canned d...</td>\n      <td>5</td>\n    </tr>\n    <tr>\n      <th>1</th>\n      <td>Product arrived labeled as Jumbo Salted Peanut...</td>\n      <td>1</td>\n    </tr>\n    <tr>\n      <th>2</th>\n      <td>This is a confection that has been around a fe...</td>\n      <td>4</td>\n    </tr>\n    <tr>\n      <th>3</th>\n      <td>If you are looking for the secret ingredient i...</td>\n      <td>2</td>\n    </tr>\n    <tr>\n      <th>4</th>\n      <td>Great taffy at a great price.  There was a wid...</td>\n      <td>5</td>\n    </tr>\n    <tr>\n      <th>...</th>\n      <td>...</td>\n      <td>...</td>\n    </tr>\n    <tr>\n      <th>568449</th>\n      <td>Great for sesame chicken..this is a good if no...</td>\n      <td>5</td>\n    </tr>\n    <tr>\n      <th>568450</th>\n      <td>I'm disappointed with the flavor. The chocolat...</td>\n      <td>2</td>\n    </tr>\n    <tr>\n      <th>568451</th>\n      <td>These stars are small, so you can give 10-15 o...</td>\n      <td>5</td>\n    </tr>\n    <tr>\n      <th>568452</th>\n      <td>These are the BEST treats for training and rew...</td>\n      <td>5</td>\n    </tr>\n    <tr>\n      <th>568453</th>\n      <td>I am very satisfied ,product is as advertised,...</td>\n      <td>5</td>\n    </tr>\n  </tbody>\n</table>\n<p>568454 rows × 2 columns</p>\n</div>"
     },
     "execution_count": 3,
     "metadata": {},
     "output_type": "execute_result"
    }
   ],
   "source": [
    "df1 = pd.read_csv('../data/Reviews.csv')\n",
    "\n",
    "df = pd.DataFrame({'text': df1.Text, 'score': df1.Score})\n",
    "del df1\n",
    "df"
   ],
   "metadata": {
    "collapsed": false
   }
  },
  {
   "cell_type": "code",
   "execution_count": 2,
   "outputs": [
    {
     "data": {
      "text/plain": "                                                   text  score\n0     The description says &#34;Maybe it&#39;s the c...      1\n1     This was terrible.  I followed the recipe exac...      1\n2     I&#39;m always amazed how people rate a recipe...      1\n3     didn&#39;t like it - too creamy, too rich - i ...      1\n4     Even using only 1 can of green chilies, it was...      1\n...                                                 ...    ...\n1407  SO GOOD! I omitted the green chilies because w...      5\n1408  I cut the calories and fat way down by using n...      5\n1409  Wonderful recipe!!!! I used 8oz light cream ch...      5\n1410  This was so good.  The only thing I would do i...      5\n1411  Quick and easy to make, my family asks for it ...      5\n\n[1412 rows x 2 columns]",
      "text/html": "<div>\n<style scoped>\n    .dataframe tbody tr th:only-of-type {\n        vertical-align: middle;\n    }\n\n    .dataframe tbody tr th {\n        vertical-align: top;\n    }\n\n    .dataframe thead th {\n        text-align: right;\n    }\n</style>\n<table border=\"1\" class=\"dataframe\">\n  <thead>\n    <tr style=\"text-align: right;\">\n      <th></th>\n      <th>text</th>\n      <th>score</th>\n    </tr>\n  </thead>\n  <tbody>\n    <tr>\n      <th>0</th>\n      <td>The description says &amp;#34;Maybe it&amp;#39;s the c...</td>\n      <td>1</td>\n    </tr>\n    <tr>\n      <th>1</th>\n      <td>This was terrible.  I followed the recipe exac...</td>\n      <td>1</td>\n    </tr>\n    <tr>\n      <th>2</th>\n      <td>I&amp;#39;m always amazed how people rate a recipe...</td>\n      <td>1</td>\n    </tr>\n    <tr>\n      <th>3</th>\n      <td>didn&amp;#39;t like it - too creamy, too rich - i ...</td>\n      <td>1</td>\n    </tr>\n    <tr>\n      <th>4</th>\n      <td>Even using only 1 can of green chilies, it was...</td>\n      <td>1</td>\n    </tr>\n    <tr>\n      <th>...</th>\n      <td>...</td>\n      <td>...</td>\n    </tr>\n    <tr>\n      <th>1407</th>\n      <td>SO GOOD! I omitted the green chilies because w...</td>\n      <td>5</td>\n    </tr>\n    <tr>\n      <th>1408</th>\n      <td>I cut the calories and fat way down by using n...</td>\n      <td>5</td>\n    </tr>\n    <tr>\n      <th>1409</th>\n      <td>Wonderful recipe!!!! I used 8oz light cream ch...</td>\n      <td>5</td>\n    </tr>\n    <tr>\n      <th>1410</th>\n      <td>This was so good.  The only thing I would do i...</td>\n      <td>5</td>\n    </tr>\n    <tr>\n      <th>1411</th>\n      <td>Quick and easy to make, my family asks for it ...</td>\n      <td>5</td>\n    </tr>\n  </tbody>\n</table>\n<p>1412 rows × 2 columns</p>\n</div>"
     },
     "execution_count": 2,
     "metadata": {},
     "output_type": "execute_result"
    }
   ],
   "source": [
    "df2 = pd.read_csv('../data/own_dataset.csv')\n",
    "df = pd.DataFrame({'text': df2.text, 'score': df2.stars})\n",
    "\n",
    "del df2\n",
    "df"
   ],
   "metadata": {
    "collapsed": false
   }
  },
  {
   "cell_type": "markdown",
   "source": [
    "## 2: Data Preprocessing"
   ],
   "metadata": {
    "collapsed": false
   }
  },
  {
   "cell_type": "markdown",
   "source": [
    "### 2.1: Text Cleaning"
   ],
   "metadata": {
    "collapsed": false
   }
  },
  {
   "cell_type": "code",
   "execution_count": 3,
   "outputs": [
    {
     "name": "stderr",
     "output_type": "stream",
     "text": [
      "100%|██████████| 1412/1412 [00:00<00:00, 1409078.57it/s]\n",
      "100%|██████████| 1412/1412 [00:00<00:00, 282447.41it/s]\n",
      "100%|██████████| 1412/1412 [00:00<00:00, 156904.42it/s]\n",
      "100%|██████████| 1412/1412 [00:00<00:00, 235350.39it/s]\n"
     ]
    },
    {
     "data": {
      "text/plain": "0       the description says maybe its the cream chees...\n1       this was terrible i followed the recipe exactl...\n2       im always amazed how people rate a recipe  and...\n3       didnt like it too creamy too rich i didnt feel...\n4       even using only  can of green chilies it was m...\n                              ...                        \n1407    so good i omitted the green chilies because we...\n1408    i cut the calories and fat way down by using n...\n1409    wonderful recipe i used oz light cream cheese ...\n1410    this was so good the only thing i would do is ...\n1411    quick and easy to make my family asks for it a...\nName: text, Length: 1412, dtype: object"
     },
     "execution_count": 3,
     "metadata": {},
     "output_type": "execute_result"
    }
   ],
   "source": [
    "# 2.1.1 Lower Case\n",
    "df.text = [t.lower() for t in tqdm(df.text)]\n",
    "\n",
    "# 2.1.2 Remove Punctuation\n",
    "df.text = [t.translate(str.maketrans('','',string.punctuation)) for t in tqdm(df.text)]\n",
    "\n",
    "# 3.1.3: Remove Special Characters\n",
    "df.text = [\" \".join(e for e in t.split() if e.isalnum()) for t in tqdm(df.text)]\n",
    "\n",
    "# 3.1.4: Remove Digits\n",
    "df.text = [re.sub(r'\\d+', '', t) for t in tqdm(df.text)]\n",
    "\n",
    "df.text"
   ],
   "metadata": {
    "collapsed": false
   }
  },
  {
   "cell_type": "markdown",
   "source": [
    "### 3.2 Preprocessing Operations"
   ],
   "metadata": {
    "collapsed": false
   }
  },
  {
   "cell_type": "markdown",
   "source": [
    "#### 3.2.1 Tokenizing"
   ],
   "metadata": {
    "collapsed": false
   }
  },
  {
   "cell_type": "code",
   "execution_count": 4,
   "outputs": [
    {
     "name": "stderr",
     "output_type": "stream",
     "text": [
      "100%|██████████| 1412/1412 [00:00<00:00, 8161.88it/s]\n"
     ]
    }
   ],
   "source": [
    "from nltk.tokenize import word_tokenize\n",
    "# nltk.download('punkt')\n",
    "\n",
    "df.text = [word_tokenize(t) for t in tqdm(df.text)]"
   ],
   "metadata": {
    "collapsed": false
   }
  },
  {
   "cell_type": "markdown",
   "source": [
    "#### 3.2.2 Remove StopWords"
   ],
   "metadata": {
    "collapsed": false
   }
  },
  {
   "cell_type": "code",
   "execution_count": 5,
   "outputs": [
    {
     "name": "stderr",
     "output_type": "stream",
     "text": [
      "100%|██████████| 1412/1412 [00:00<00:00, 282353.15it/s]\n"
     ]
    }
   ],
   "source": [
    "from nltk.corpus import stopwords\n",
    "# nltk.download('stopwords')\n",
    "\n",
    "sw = set(stopwords.words('english'))\n",
    "\n",
    "def remove_stop(text, sw):\n",
    "    return [i for i in text if not i in sw]\n",
    "\n",
    "df.text = [remove_stop(t, sw) for t in tqdm(df.text)]"
   ],
   "metadata": {
    "collapsed": false
   }
  },
  {
   "cell_type": "markdown",
   "source": [
    "#### 3.2.3 Lemmatization"
   ],
   "metadata": {
    "collapsed": false
   }
  },
  {
   "cell_type": "code",
   "execution_count": 6,
   "outputs": [
    {
     "name": "stderr",
     "output_type": "stream",
     "text": [
      "100%|██████████| 1412/1412 [00:01<00:00, 1182.49it/s]\n"
     ]
    }
   ],
   "source": [
    "from nltk.stem import WordNetLemmatizer\n",
    "# nltk.download('wordnet')\n",
    "# nltk.download('omw-1.4')\n",
    "\n",
    "word_lem = WordNetLemmatizer()\n",
    "\n",
    "def lemmatize(text, lem):\n",
    "    return [lem.lemmatize(token) for token in text]\n",
    "\n",
    "df.text = [lemmatize(t, word_lem) for t in tqdm(df.text)]"
   ],
   "metadata": {
    "collapsed": false
   }
  },
  {
   "cell_type": "code",
   "execution_count": 7,
   "outputs": [
    {
     "name": "stderr",
     "output_type": "stream",
     "text": [
      "100%|██████████| 1412/1412 [00:00<00:00, 470925.35it/s]\n"
     ]
    },
    {
     "data": {
      "text/plain": "0       description say maybe cream cheese cream chees...\n1       terrible followed recipe exactly tasted fine a...\n2       im always amazed people rate recipe state chan...\n3       didnt like creamy rich didnt feel good sour cr...\n4                even using green chilies much hot u like\n                              ...                        \n1407    good omitted green chilies dont like lot heat ...\n1408    cut calorie fat way using nonfat sour cream su...\n1409    wonderful recipe used oz light cream cheese in...\n1410    good thing would leave salt use lower sodium b...\n1411    quick easy make family asks time dont add gree...\nName: text, Length: 1412, dtype: object"
     },
     "execution_count": 7,
     "metadata": {},
     "output_type": "execute_result"
    }
   ],
   "source": [
    "df.text = [' '.join(map(str, t)) for t in tqdm(df.text)]\n",
    "df.text"
   ],
   "metadata": {
    "collapsed": false
   }
  },
  {
   "cell_type": "code",
   "execution_count": 8,
   "outputs": [],
   "source": [
    "df.to_csv('../data/own_mod.csv')\n",
    "df.to_parquet('../data/own_mod.parquet')"
   ],
   "metadata": {
    "collapsed": false
   }
  }
 ],
 "metadata": {
  "kernelspec": {
   "display_name": "Python 3",
   "language": "python",
   "name": "python3"
  },
  "language_info": {
   "codemirror_mode": {
    "name": "ipython",
    "version": 2
   },
   "file_extension": ".py",
   "mimetype": "text/x-python",
   "name": "python",
   "nbconvert_exporter": "python",
   "pygments_lexer": "ipython2",
   "version": "2.7.6"
  }
 },
 "nbformat": 4,
 "nbformat_minor": 0
}

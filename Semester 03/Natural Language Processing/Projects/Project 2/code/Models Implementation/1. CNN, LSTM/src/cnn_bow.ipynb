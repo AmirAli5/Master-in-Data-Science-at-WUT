{
 "cells": [
  {
   "cell_type": "code",
   "execution_count": 1,
   "outputs": [
    {
     "data": {
      "text/plain": "'C:\\\\Users\\\\User\\\\Documents\\\\Studia\\\\NLP\\\\project2\\\\src'"
     },
     "execution_count": 1,
     "metadata": {},
     "output_type": "execute_result"
    }
   ],
   "source": [
    "import os\n",
    "os.getcwd()"
   ],
   "metadata": {
    "collapsed": false
   }
  },
  {
   "cell_type": "code",
   "execution_count": 2,
   "outputs": [],
   "source": [
    "import numpy as np\n",
    "import pandas as pd\n",
    "import matplotlib.pyplot as plt\n",
    "plt.style.use(\"fivethirtyeight\")"
   ],
   "metadata": {
    "collapsed": false
   }
  },
  {
   "cell_type": "code",
   "execution_count": 3,
   "outputs": [],
   "source": [
    "name = 'own_cnn_bow'\n",
    "data = '../data/own_mod.parquet'"
   ],
   "metadata": {
    "collapsed": false
   }
  },
  {
   "cell_type": "markdown",
   "source": [
    "## 1: Load data"
   ],
   "metadata": {
    "collapsed": false
   }
  },
  {
   "cell_type": "code",
   "execution_count": 4,
   "outputs": [
    {
     "data": {
      "text/plain": "                                                   text  score\n0     description say maybe cream cheese cream chees...      1\n1     terrible followed recipe exactly tasted fine a...      1\n2     im always amazed people rate recipe state chan...      1\n3     didnt like creamy rich didnt feel good sour cr...      1\n4              even using green chilies much hot u like      1\n...                                                 ...    ...\n1407  good omitted green chilies dont like lot heat ...      5\n1408  cut calorie fat way using nonfat sour cream su...      5\n1409  wonderful recipe used oz light cream cheese in...      5\n1410  good thing would leave salt use lower sodium b...      5\n1411  quick easy make family asks time dont add gree...      5\n\n[1412 rows x 2 columns]",
      "text/html": "<div>\n<style scoped>\n    .dataframe tbody tr th:only-of-type {\n        vertical-align: middle;\n    }\n\n    .dataframe tbody tr th {\n        vertical-align: top;\n    }\n\n    .dataframe thead th {\n        text-align: right;\n    }\n</style>\n<table border=\"1\" class=\"dataframe\">\n  <thead>\n    <tr style=\"text-align: right;\">\n      <th></th>\n      <th>text</th>\n      <th>score</th>\n    </tr>\n  </thead>\n  <tbody>\n    <tr>\n      <th>0</th>\n      <td>description say maybe cream cheese cream chees...</td>\n      <td>1</td>\n    </tr>\n    <tr>\n      <th>1</th>\n      <td>terrible followed recipe exactly tasted fine a...</td>\n      <td>1</td>\n    </tr>\n    <tr>\n      <th>2</th>\n      <td>im always amazed people rate recipe state chan...</td>\n      <td>1</td>\n    </tr>\n    <tr>\n      <th>3</th>\n      <td>didnt like creamy rich didnt feel good sour cr...</td>\n      <td>1</td>\n    </tr>\n    <tr>\n      <th>4</th>\n      <td>even using green chilies much hot u like</td>\n      <td>1</td>\n    </tr>\n    <tr>\n      <th>...</th>\n      <td>...</td>\n      <td>...</td>\n    </tr>\n    <tr>\n      <th>1407</th>\n      <td>good omitted green chilies dont like lot heat ...</td>\n      <td>5</td>\n    </tr>\n    <tr>\n      <th>1408</th>\n      <td>cut calorie fat way using nonfat sour cream su...</td>\n      <td>5</td>\n    </tr>\n    <tr>\n      <th>1409</th>\n      <td>wonderful recipe used oz light cream cheese in...</td>\n      <td>5</td>\n    </tr>\n    <tr>\n      <th>1410</th>\n      <td>good thing would leave salt use lower sodium b...</td>\n      <td>5</td>\n    </tr>\n    <tr>\n      <th>1411</th>\n      <td>quick easy make family asks time dont add gree...</td>\n      <td>5</td>\n    </tr>\n  </tbody>\n</table>\n<p>1412 rows × 2 columns</p>\n</div>"
     },
     "execution_count": 4,
     "metadata": {},
     "output_type": "execute_result"
    }
   ],
   "source": [
    "df = pd.read_parquet(data)\n",
    "df"
   ],
   "metadata": {
    "collapsed": false
   }
  },
  {
   "cell_type": "markdown",
   "source": [
    "### 2.3 Feature Extraction"
   ],
   "metadata": {
    "collapsed": false
   }
  },
  {
   "cell_type": "markdown",
   "source": [
    "#### 2.3.1 Bag of words"
   ],
   "metadata": {
    "collapsed": false
   }
  },
  {
   "cell_type": "code",
   "execution_count": 5,
   "outputs": [
    {
     "data": {
      "text/plain": "<1412x1024 sparse matrix of type '<class 'numpy.int64'>'\n\twith 22836 stored elements in Compressed Sparse Row format>"
     },
     "execution_count": 5,
     "metadata": {},
     "output_type": "execute_result"
    }
   ],
   "source": [
    "from sklearn.feature_extraction.text import CountVectorizer\n",
    "vectorizer = CountVectorizer(max_features= 32*32)\n",
    "\n",
    "X = vectorizer.fit_transform(df.text)\n",
    "X"
   ],
   "metadata": {
    "collapsed": false
   }
  },
  {
   "cell_type": "markdown",
   "source": [
    "## 2.4 Split Dataset"
   ],
   "metadata": {
    "collapsed": false
   }
  },
  {
   "cell_type": "code",
   "execution_count": 6,
   "outputs": [],
   "source": [
    "Y = np.array([[y>1, y>2, y>3, y>4] for y in df.score])"
   ],
   "metadata": {
    "collapsed": false
   }
  },
  {
   "cell_type": "code",
   "execution_count": 7,
   "outputs": [],
   "source": [
    "from sklearn.model_selection import train_test_split\n",
    "\n",
    "X_train, X_test, y_train, y_test = train_test_split(X, Y, test_size=0.2, random_state=0)\n",
    "\n",
    "del X\n",
    "del Y"
   ],
   "metadata": {
    "collapsed": false
   }
  },
  {
   "cell_type": "code",
   "execution_count": 8,
   "outputs": [
    {
     "name": "stdout",
     "output_type": "stream",
     "text": [
      "X_train (1129, 1024)\n",
      "y_train (1129, 4)\n"
     ]
    }
   ],
   "source": [
    "print(\"X_train\", X_train.shape)\n",
    "print(\"y_train\", y_train.shape)"
   ],
   "metadata": {
    "collapsed": false
   }
  },
  {
   "cell_type": "code",
   "execution_count": 9,
   "outputs": [
    {
     "name": "stdout",
     "output_type": "stream",
     "text": [
      "X_test (283, 1024)\n",
      "y_test (283, 4)\n"
     ]
    }
   ],
   "source": [
    "print(\"X_test\", X_test.shape)\n",
    "print(\"y_test\", y_test.shape)"
   ],
   "metadata": {
    "collapsed": false
   }
  },
  {
   "cell_type": "markdown",
   "source": [
    "## 3 Build model"
   ],
   "metadata": {
    "collapsed": false
   }
  },
  {
   "cell_type": "code",
   "execution_count": 10,
   "outputs": [],
   "source": [
    "import tensorflow as tf\n",
    "import tensorflow.keras as keras\n",
    "from tensorflow.keras import layers"
   ],
   "metadata": {
    "collapsed": false
   }
  },
  {
   "cell_type": "code",
   "execution_count": 11,
   "outputs": [],
   "source": [
    "model_input = layers.Input(X_train.shape[1], sparse=True)\n",
    "l = layers.Lambda(tf.sparse.to_dense)(model_input)\n",
    "l = layers.Reshape((32, 32, 1))(l)\n",
    "l = layers.Conv2D(32, (3, 3), activation='relu')(l)\n",
    "l = layers.MaxPooling2D((2, 2))(l)\n",
    "l = layers.Conv2D(64, (3, 3), activation='relu')(l)\n",
    "l = layers.MaxPooling2D((2, 2))(l)\n",
    "l = layers.Conv2D(64, (3, 3), activation='relu')(l)\n",
    "l = layers.Flatten()(l)\n",
    "l = layers.Dense(64, activation='relu')(l)\n",
    "model_output = layers.Dense(4, activation='sigmoid')(l)\n",
    "\n",
    "model = keras.Model(model_input, model_output)"
   ],
   "metadata": {
    "collapsed": false
   }
  },
  {
   "cell_type": "code",
   "execution_count": 12,
   "outputs": [
    {
     "name": "stdout",
     "output_type": "stream",
     "text": [
      "Model: \"model\"\n",
      "_________________________________________________________________\n",
      " Layer (type)                Output Shape              Param #   \n",
      "=================================================================\n",
      " input_1 (InputLayer)        [(None, 1024)]            0         \n",
      "                                                                 \n",
      " lambda (Lambda)             (None, None)              0         \n",
      "                                                                 \n",
      " reshape (Reshape)           (None, 32, 32, 1)         0         \n",
      "                                                                 \n",
      " conv2d (Conv2D)             (None, 30, 30, 32)        320       \n",
      "                                                                 \n",
      " max_pooling2d (MaxPooling2D  (None, 15, 15, 32)       0         \n",
      " )                                                               \n",
      "                                                                 \n",
      " conv2d_1 (Conv2D)           (None, 13, 13, 64)        18496     \n",
      "                                                                 \n",
      " max_pooling2d_1 (MaxPooling  (None, 6, 6, 64)         0         \n",
      " 2D)                                                             \n",
      "                                                                 \n",
      " conv2d_2 (Conv2D)           (None, 4, 4, 64)          36928     \n",
      "                                                                 \n",
      " flatten (Flatten)           (None, 1024)              0         \n",
      "                                                                 \n",
      " dense (Dense)               (None, 64)                65600     \n",
      "                                                                 \n",
      " dense_1 (Dense)             (None, 4)                 260       \n",
      "                                                                 \n",
      "=================================================================\n",
      "Total params: 121,604\n",
      "Trainable params: 121,604\n",
      "Non-trainable params: 0\n",
      "_________________________________________________________________\n"
     ]
    }
   ],
   "source": [
    "model.summary()"
   ],
   "metadata": {
    "collapsed": false
   }
  },
  {
   "cell_type": "code",
   "execution_count": 13,
   "outputs": [],
   "source": [
    "def score_accuracy(y_true, y_pred):\n",
    "    return tf.math.reduce_sum(y_true, axis=1) == tf.math.round(tf.math.reduce_sum(y_pred, axis=1))\n",
    "\n",
    "def score_distance(y_true, y_pred):\n",
    "    return tf.math.abs(tf.math.reduce_sum(y_true, axis=1) - tf.math.round(tf.math.reduce_sum(y_pred, axis=1)))"
   ],
   "metadata": {
    "collapsed": false
   }
  },
  {
   "cell_type": "code",
   "execution_count": 14,
   "outputs": [],
   "source": [
    "model.compile(optimizer = tf.keras.optimizers.Adam(), loss = 'binary_crossentropy', metrics=[score_accuracy, score_distance])"
   ],
   "metadata": {
    "collapsed": false
   }
  },
  {
   "cell_type": "code",
   "execution_count": 15,
   "outputs": [],
   "source": [
    "def convert_sparse_matrix_to_sparse_tensor(X):\n",
    "    coo = X.tocoo()\n",
    "    indices = np.mat([coo.row, coo.col]).transpose()\n",
    "    return tf.SparseTensor(indices, coo.data, coo.shape)\n",
    "\n",
    "X_train = convert_sparse_matrix_to_sparse_tensor(X_train)\n",
    "X_test = convert_sparse_matrix_to_sparse_tensor(X_test)"
   ],
   "metadata": {
    "collapsed": false
   }
  },
  {
   "cell_type": "code",
   "execution_count": 16,
   "outputs": [],
   "source": [
    "X_train = tf.sparse.reorder(X_train)\n",
    "X_test = tf.sparse.reorder(X_test)"
   ],
   "metadata": {
    "collapsed": false
   }
  },
  {
   "cell_type": "code",
   "execution_count": 17,
   "outputs": [
    {
     "name": "stdout",
     "output_type": "stream",
     "text": [
      "Epoch 1/50\n",
      "36/36 [==============================] - 9s 20ms/step - loss: 0.6001 - score_accuracy: 0.2108 - score_distance: 1.2019 - val_loss: 0.5738 - val_score_accuracy: 0.2191 - val_score_distance: 1.1837\n",
      "Epoch 2/50\n",
      "36/36 [==============================] - 0s 8ms/step - loss: 0.5527 - score_accuracy: 0.2135 - score_distance: 1.1709 - val_loss: 0.5371 - val_score_accuracy: 0.2509 - val_score_distance: 1.0919\n",
      "Epoch 3/50\n",
      "36/36 [==============================] - 0s 8ms/step - loss: 0.4963 - score_accuracy: 0.2569 - score_distance: 1.0115 - val_loss: 0.5251 - val_score_accuracy: 0.3004 - val_score_distance: 1.0283\n",
      "Epoch 4/50\n",
      "36/36 [==============================] - 0s 8ms/step - loss: 0.4708 - score_accuracy: 0.2755 - score_distance: 0.9557 - val_loss: 0.4994 - val_score_accuracy: 0.2756 - val_score_distance: 1.0106\n",
      "Epoch 5/50\n",
      "36/36 [==============================] - 0s 9ms/step - loss: 0.4260 - score_accuracy: 0.3313 - score_distance: 0.8592 - val_loss: 0.5348 - val_score_accuracy: 0.2473 - val_score_distance: 1.0389\n",
      "Epoch 6/50\n",
      "36/36 [==============================] - 0s 8ms/step - loss: 0.3928 - score_accuracy: 0.3578 - score_distance: 0.7954 - val_loss: 0.4980 - val_score_accuracy: 0.3463 - val_score_distance: 0.9223\n",
      "Epoch 7/50\n",
      "36/36 [==============================] - 0s 8ms/step - loss: 0.3671 - score_accuracy: 0.3773 - score_distance: 0.7511 - val_loss: 0.4792 - val_score_accuracy: 0.3286 - val_score_distance: 0.9187\n",
      "Epoch 8/50\n",
      "36/36 [==============================] - 0s 8ms/step - loss: 0.3339 - score_accuracy: 0.4269 - score_distance: 0.6829 - val_loss: 0.4836 - val_score_accuracy: 0.3463 - val_score_distance: 0.8869\n",
      "Epoch 9/50\n",
      "36/36 [==============================] - 0s 8ms/step - loss: 0.3043 - score_accuracy: 0.4898 - score_distance: 0.5961 - val_loss: 0.4848 - val_score_accuracy: 0.3392 - val_score_distance: 0.8940\n",
      "Epoch 10/50\n",
      "36/36 [==============================] - 0s 8ms/step - loss: 0.2800 - score_accuracy: 0.5190 - score_distance: 0.5580 - val_loss: 0.4905 - val_score_accuracy: 0.3710 - val_score_distance: 0.8516\n",
      "Epoch 11/50\n",
      "36/36 [==============================] - 0s 8ms/step - loss: 0.2554 - score_accuracy: 0.5678 - score_distance: 0.4907 - val_loss: 0.5365 - val_score_accuracy: 0.3710 - val_score_distance: 0.8728\n",
      "Epoch 12/50\n",
      "36/36 [==============================] - 0s 8ms/step - loss: 0.2237 - score_accuracy: 0.6165 - score_distance: 0.4367 - val_loss: 0.5470 - val_score_accuracy: 0.3816 - val_score_distance: 0.8869\n",
      "Epoch 13/50\n",
      "36/36 [==============================] - 0s 8ms/step - loss: 0.2048 - score_accuracy: 0.6554 - score_distance: 0.3924 - val_loss: 0.5919 - val_score_accuracy: 0.3710 - val_score_distance: 0.9081\n",
      "Epoch 14/50\n",
      "36/36 [==============================] - 0s 8ms/step - loss: 0.1755 - score_accuracy: 0.6962 - score_distance: 0.3366 - val_loss: 0.6093 - val_score_accuracy: 0.3816 - val_score_distance: 0.8551\n",
      "Epoch 15/50\n",
      "36/36 [==============================] - 0s 8ms/step - loss: 0.1504 - score_accuracy: 0.7467 - score_distance: 0.2772 - val_loss: 0.6419 - val_score_accuracy: 0.4134 - val_score_distance: 0.8516\n",
      "Epoch 16/50\n",
      "36/36 [==============================] - 0s 8ms/step - loss: 0.1196 - score_accuracy: 0.8051 - score_distance: 0.2152 - val_loss: 0.7423 - val_score_accuracy: 0.3746 - val_score_distance: 0.8834\n",
      "Epoch 17/50\n",
      "36/36 [==============================] - 0s 8ms/step - loss: 0.1045 - score_accuracy: 0.8317 - score_distance: 0.1851 - val_loss: 0.7593 - val_score_accuracy: 0.4240 - val_score_distance: 0.8869\n",
      "Epoch 18/50\n",
      "36/36 [==============================] - 0s 8ms/step - loss: 0.0886 - score_accuracy: 0.8627 - score_distance: 0.1470 - val_loss: 0.8574 - val_score_accuracy: 0.4170 - val_score_distance: 0.8657\n",
      "Epoch 19/50\n",
      "36/36 [==============================] - 0s 8ms/step - loss: 0.0817 - score_accuracy: 0.8751 - score_distance: 0.1355 - val_loss: 0.8833 - val_score_accuracy: 0.4205 - val_score_distance: 0.8587\n",
      "Epoch 20/50\n",
      "36/36 [==============================] - 0s 8ms/step - loss: 0.0674 - score_accuracy: 0.9017 - score_distance: 0.1072 - val_loss: 0.9602 - val_score_accuracy: 0.4311 - val_score_distance: 0.9011\n",
      "Epoch 21/50\n",
      "36/36 [==============================] - 0s 8ms/step - loss: 0.0532 - score_accuracy: 0.9150 - score_distance: 0.0912 - val_loss: 0.9774 - val_score_accuracy: 0.4028 - val_score_distance: 0.8799\n",
      "Epoch 22/50\n",
      "36/36 [==============================] - 0s 8ms/step - loss: 0.0405 - score_accuracy: 0.9486 - score_distance: 0.0576 - val_loss: 1.1216 - val_score_accuracy: 0.4099 - val_score_distance: 0.8975\n",
      "Epoch 23/50\n",
      "36/36 [==============================] - 0s 8ms/step - loss: 0.0364 - score_accuracy: 0.9628 - score_distance: 0.0425 - val_loss: 1.1201 - val_score_accuracy: 0.4276 - val_score_distance: 0.9117\n",
      "Epoch 24/50\n",
      "36/36 [==============================] - 0s 8ms/step - loss: 0.0275 - score_accuracy: 0.9725 - score_distance: 0.0337 - val_loss: 1.2085 - val_score_accuracy: 0.4028 - val_score_distance: 0.8975\n",
      "Epoch 25/50\n",
      "36/36 [==============================] - 0s 8ms/step - loss: 0.0257 - score_accuracy: 0.9690 - score_distance: 0.0372 - val_loss: 1.2486 - val_score_accuracy: 0.4276 - val_score_distance: 0.8763\n",
      "Epoch 26/50\n",
      "36/36 [==============================] - 0s 8ms/step - loss: 0.0208 - score_accuracy: 0.9832 - score_distance: 0.0221 - val_loss: 1.3572 - val_score_accuracy: 0.4488 - val_score_distance: 0.8905\n",
      "Epoch 27/50\n",
      "36/36 [==============================] - 0s 8ms/step - loss: 0.0196 - score_accuracy: 0.9814 - score_distance: 0.0248 - val_loss: 1.3562 - val_score_accuracy: 0.4240 - val_score_distance: 0.8657\n",
      "Epoch 28/50\n",
      "36/36 [==============================] - 0s 8ms/step - loss: 0.0160 - score_accuracy: 0.9841 - score_distance: 0.0195 - val_loss: 1.4521 - val_score_accuracy: 0.4346 - val_score_distance: 0.9011\n",
      "Epoch 29/50\n",
      "36/36 [==============================] - 0s 8ms/step - loss: 0.0143 - score_accuracy: 0.9885 - score_distance: 0.0186 - val_loss: 1.4672 - val_score_accuracy: 0.4276 - val_score_distance: 0.8799\n",
      "Epoch 30/50\n",
      "36/36 [==============================] - 0s 8ms/step - loss: 0.0114 - score_accuracy: 0.9867 - score_distance: 0.0159 - val_loss: 1.5404 - val_score_accuracy: 0.3887 - val_score_distance: 0.9081\n",
      "Epoch 31/50\n",
      "36/36 [==============================] - 0s 8ms/step - loss: 0.0109 - score_accuracy: 0.9867 - score_distance: 0.0177 - val_loss: 1.5880 - val_score_accuracy: 0.4276 - val_score_distance: 0.8940\n",
      "Epoch 32/50\n",
      "36/36 [==============================] - 0s 8ms/step - loss: 0.0134 - score_accuracy: 0.9885 - score_distance: 0.0151 - val_loss: 1.5936 - val_score_accuracy: 0.4240 - val_score_distance: 0.8940\n",
      "Epoch 33/50\n",
      "36/36 [==============================] - 0s 8ms/step - loss: 0.0308 - score_accuracy: 0.9539 - score_distance: 0.0514 - val_loss: 1.5052 - val_score_accuracy: 0.4311 - val_score_distance: 0.9470\n",
      "Epoch 34/50\n",
      "36/36 [==============================] - 0s 10ms/step - loss: 0.0447 - score_accuracy: 0.9389 - score_distance: 0.0673 - val_loss: 1.4590 - val_score_accuracy: 0.4382 - val_score_distance: 0.8869\n",
      "Epoch 35/50\n",
      "36/36 [==============================] - 0s 7ms/step - loss: 0.0425 - score_accuracy: 0.9345 - score_distance: 0.0700 - val_loss: 1.3800 - val_score_accuracy: 0.4346 - val_score_distance: 0.8975\n",
      "Epoch 36/50\n",
      "36/36 [==============================] - 0s 7ms/step - loss: 0.0515 - score_accuracy: 0.9274 - score_distance: 0.0806 - val_loss: 1.3804 - val_score_accuracy: 0.4134 - val_score_distance: 0.8763\n",
      "Epoch 37/50\n",
      "36/36 [==============================] - 0s 7ms/step - loss: 0.0250 - score_accuracy: 0.9690 - score_distance: 0.0345 - val_loss: 1.4622 - val_score_accuracy: 0.4311 - val_score_distance: 0.8905\n",
      "Epoch 38/50\n",
      "36/36 [==============================] - 0s 8ms/step - loss: 0.0142 - score_accuracy: 0.9849 - score_distance: 0.0195 - val_loss: 1.5455 - val_score_accuracy: 0.4170 - val_score_distance: 0.8763\n",
      "Epoch 39/50\n",
      "36/36 [==============================] - 0s 7ms/step - loss: 0.0125 - score_accuracy: 0.9894 - score_distance: 0.0151 - val_loss: 1.6513 - val_score_accuracy: 0.4311 - val_score_distance: 0.9046\n",
      "Epoch 40/50\n",
      "36/36 [==============================] - 0s 7ms/step - loss: 0.0109 - score_accuracy: 0.9903 - score_distance: 0.0133 - val_loss: 1.6631 - val_score_accuracy: 0.4452 - val_score_distance: 0.8587\n",
      "Epoch 41/50\n",
      "36/36 [==============================] - 0s 7ms/step - loss: 0.0098 - score_accuracy: 0.9903 - score_distance: 0.0124 - val_loss: 1.7222 - val_score_accuracy: 0.4452 - val_score_distance: 0.8799\n",
      "Epoch 42/50\n",
      "36/36 [==============================] - 0s 8ms/step - loss: 0.0095 - score_accuracy: 0.9911 - score_distance: 0.0124 - val_loss: 1.7389 - val_score_accuracy: 0.4382 - val_score_distance: 0.8728\n",
      "Epoch 43/50\n",
      "36/36 [==============================] - 0s 8ms/step - loss: 0.0082 - score_accuracy: 0.9920 - score_distance: 0.0106 - val_loss: 1.7660 - val_score_accuracy: 0.4452 - val_score_distance: 0.8728\n",
      "Epoch 44/50\n",
      "36/36 [==============================] - 0s 8ms/step - loss: 0.0082 - score_accuracy: 0.9911 - score_distance: 0.0115 - val_loss: 1.8109 - val_score_accuracy: 0.4452 - val_score_distance: 0.8587\n",
      "Epoch 45/50\n",
      "36/36 [==============================] - 0s 8ms/step - loss: 0.0084 - score_accuracy: 0.9920 - score_distance: 0.0115 - val_loss: 1.8377 - val_score_accuracy: 0.4205 - val_score_distance: 0.9011\n",
      "Epoch 46/50\n",
      "36/36 [==============================] - 0s 8ms/step - loss: 0.0089 - score_accuracy: 0.9920 - score_distance: 0.0115 - val_loss: 1.8610 - val_score_accuracy: 0.4205 - val_score_distance: 0.8975\n",
      "Epoch 47/50\n",
      "36/36 [==============================] - 0s 8ms/step - loss: 0.0084 - score_accuracy: 0.9920 - score_distance: 0.0115 - val_loss: 1.8621 - val_score_accuracy: 0.4134 - val_score_distance: 0.9081\n",
      "Epoch 48/50\n",
      "36/36 [==============================] - 0s 8ms/step - loss: 0.0098 - score_accuracy: 0.9903 - score_distance: 0.0124 - val_loss: 1.8871 - val_score_accuracy: 0.4276 - val_score_distance: 0.8834\n",
      "Epoch 49/50\n",
      "36/36 [==============================] - 0s 8ms/step - loss: 0.0084 - score_accuracy: 0.9911 - score_distance: 0.0115 - val_loss: 1.9053 - val_score_accuracy: 0.4558 - val_score_distance: 0.8622\n",
      "Epoch 50/50\n",
      "36/36 [==============================] - 0s 8ms/step - loss: 0.0076 - score_accuracy: 0.9903 - score_distance: 0.0124 - val_loss: 1.9573 - val_score_accuracy: 0.4276 - val_score_distance: 0.8834\n"
     ]
    }
   ],
   "source": [
    "hist = model.fit(\n",
    "    X_train,\n",
    "    y_train,\n",
    "    batch_size=32,\n",
    "    epochs=50,\n",
    "    validation_data = (X_test, y_test)\n",
    ")"
   ],
   "metadata": {
    "collapsed": false
   }
  },
  {
   "cell_type": "code",
   "execution_count": 23,
   "outputs": [
    {
     "name": "stderr",
     "output_type": "stream",
     "text": [
      "WARNING:absl:Function `_wrapped_model` contains input name(s) args_0 with unsupported characters which will be renamed to args_0_2 in the SavedModel.\n",
      "WARNING:absl:Found untraced functions such as _jit_compiled_convolution_op, _jit_compiled_convolution_op, _jit_compiled_convolution_op while saving (showing 3 of 3). These functions will not be directly callable after loading.\n"
     ]
    },
    {
     "name": "stdout",
     "output_type": "stream",
     "text": [
      "INFO:tensorflow:Assets written to: ../models/own_cnn_bow\\assets\n"
     ]
    },
    {
     "name": "stderr",
     "output_type": "stream",
     "text": [
      "INFO:tensorflow:Assets written to: ../models/own_cnn_bow\\assets\n"
     ]
    }
   ],
   "source": [
    "model.save(f'../models/{name}')"
   ],
   "metadata": {
    "collapsed": false
   }
  },
  {
   "cell_type": "code",
   "execution_count": 24,
   "outputs": [
    {
     "data": {
      "text/plain": "        loss  score_accuracy  score_distance  val_loss  val_score_accuracy  \\\n0   0.600137        0.210806        1.201949  0.573791            0.219081   \n1   0.552702        0.213463        1.170948  0.537076            0.250883   \n2   0.496291        0.256864        1.011515  0.525097            0.300353   \n3   0.470756        0.275465        0.955713  0.499423            0.275618   \n4   0.425990        0.331267        0.859167  0.534796            0.247350   \n5   0.392849        0.357839        0.795394  0.497995            0.346290   \n6   0.367099        0.377325        0.751107  0.479204            0.328622   \n7   0.333939        0.426926        0.682905  0.483622            0.346290   \n8   0.304303        0.489814        0.596103  0.484836            0.339223   \n9   0.280020        0.519043        0.558016  0.490467            0.371025   \n10  0.255403        0.567759        0.490700  0.536476            0.371025   \n11  0.223705        0.616475        0.436670  0.547007            0.381625   \n12  0.204832        0.655447        0.392383  0.591869            0.371025   \n13  0.175527        0.696191        0.336581  0.609259            0.381625   \n14  0.150406        0.746678        0.277236  0.641905            0.413428   \n15  0.119624        0.805137        0.215235  0.742279            0.374558   \n16  0.104459        0.831710        0.185120  0.759300            0.424028   \n17  0.088566        0.862710        0.147033  0.857383            0.416961   \n18  0.081693        0.875111        0.135518  0.883323            0.420495   \n19  0.067364        0.901683        0.107174  0.960230            0.431095   \n20  0.053210        0.914969        0.091231  0.977450            0.402827   \n21  0.040513        0.948627        0.057573  1.121645            0.409894   \n22  0.036429        0.962799        0.042516  1.120130            0.427562   \n23  0.027513        0.972542        0.033658  1.208490            0.402827   \n24  0.025719        0.968999        0.037201  1.248616            0.427562   \n25  0.020753        0.983171        0.022143  1.357231            0.448763   \n26  0.019565        0.981399        0.024801  1.356151            0.424028   \n27  0.015964        0.984057        0.019486  1.452053            0.434629   \n28  0.014295        0.988485        0.018601  1.467169            0.427562   \n29  0.011435        0.986714        0.015943  1.540443            0.388693   \n30  0.010891        0.986714        0.017715  1.588038            0.427562   \n31  0.013436        0.988485        0.015058  1.593560            0.424028   \n32  0.030819        0.953942        0.051373  1.505199            0.431095   \n33  0.044668        0.938884        0.067316  1.459011            0.438163   \n34  0.042476        0.934455        0.069973  1.379976            0.434629   \n35  0.051504        0.927369        0.080602  1.380398            0.413428   \n36  0.024998        0.968999        0.034544  1.462166            0.431095   \n37  0.014188        0.984942        0.019486  1.545532            0.416961   \n38  0.012472        0.989371        0.015058  1.651297            0.431095   \n39  0.010901        0.990257        0.013286  1.663057            0.445230   \n40  0.009792        0.990257        0.012400  1.722210            0.445230   \n41  0.009456        0.991143        0.012400  1.738912            0.438163   \n42  0.008211        0.992028        0.010629  1.766007            0.445230   \n43  0.008218        0.991143        0.011515  1.810906            0.445230   \n44  0.008434        0.992028        0.011515  1.837737            0.420495   \n45  0.008859        0.992028        0.011515  1.861000            0.420495   \n46  0.008448        0.992028        0.011515  1.862148            0.413428   \n47  0.009784        0.990257        0.012400  1.887074            0.427562   \n48  0.008394        0.991143        0.011515  1.905251            0.455830   \n49  0.007611        0.990257        0.012400  1.957260            0.427562   \n\n    val_score_distance  \n0             1.183746  \n1             1.091873  \n2             1.028269  \n3             1.010601  \n4             1.038869  \n5             0.922261  \n6             0.918728  \n7             0.886926  \n8             0.893993  \n9             0.851590  \n10            0.872792  \n11            0.886926  \n12            0.908127  \n13            0.855124  \n14            0.851590  \n15            0.883392  \n16            0.886926  \n17            0.865724  \n18            0.858657  \n19            0.901060  \n20            0.879859  \n21            0.897527  \n22            0.911661  \n23            0.897527  \n24            0.876325  \n25            0.890459  \n26            0.865724  \n27            0.901060  \n28            0.879859  \n29            0.908127  \n30            0.893993  \n31            0.893993  \n32            0.946996  \n33            0.886926  \n34            0.897527  \n35            0.876325  \n36            0.890459  \n37            0.876325  \n38            0.904594  \n39            0.858657  \n40            0.879859  \n41            0.872792  \n42            0.872792  \n43            0.858657  \n44            0.901060  \n45            0.897527  \n46            0.908127  \n47            0.883392  \n48            0.862191  \n49            0.883392  ",
      "text/html": "<div>\n<style scoped>\n    .dataframe tbody tr th:only-of-type {\n        vertical-align: middle;\n    }\n\n    .dataframe tbody tr th {\n        vertical-align: top;\n    }\n\n    .dataframe thead th {\n        text-align: right;\n    }\n</style>\n<table border=\"1\" class=\"dataframe\">\n  <thead>\n    <tr style=\"text-align: right;\">\n      <th></th>\n      <th>loss</th>\n      <th>score_accuracy</th>\n      <th>score_distance</th>\n      <th>val_loss</th>\n      <th>val_score_accuracy</th>\n      <th>val_score_distance</th>\n    </tr>\n  </thead>\n  <tbody>\n    <tr>\n      <th>0</th>\n      <td>0.600137</td>\n      <td>0.210806</td>\n      <td>1.201949</td>\n      <td>0.573791</td>\n      <td>0.219081</td>\n      <td>1.183746</td>\n    </tr>\n    <tr>\n      <th>1</th>\n      <td>0.552702</td>\n      <td>0.213463</td>\n      <td>1.170948</td>\n      <td>0.537076</td>\n      <td>0.250883</td>\n      <td>1.091873</td>\n    </tr>\n    <tr>\n      <th>2</th>\n      <td>0.496291</td>\n      <td>0.256864</td>\n      <td>1.011515</td>\n      <td>0.525097</td>\n      <td>0.300353</td>\n      <td>1.028269</td>\n    </tr>\n    <tr>\n      <th>3</th>\n      <td>0.470756</td>\n      <td>0.275465</td>\n      <td>0.955713</td>\n      <td>0.499423</td>\n      <td>0.275618</td>\n      <td>1.010601</td>\n    </tr>\n    <tr>\n      <th>4</th>\n      <td>0.425990</td>\n      <td>0.331267</td>\n      <td>0.859167</td>\n      <td>0.534796</td>\n      <td>0.247350</td>\n      <td>1.038869</td>\n    </tr>\n    <tr>\n      <th>5</th>\n      <td>0.392849</td>\n      <td>0.357839</td>\n      <td>0.795394</td>\n      <td>0.497995</td>\n      <td>0.346290</td>\n      <td>0.922261</td>\n    </tr>\n    <tr>\n      <th>6</th>\n      <td>0.367099</td>\n      <td>0.377325</td>\n      <td>0.751107</td>\n      <td>0.479204</td>\n      <td>0.328622</td>\n      <td>0.918728</td>\n    </tr>\n    <tr>\n      <th>7</th>\n      <td>0.333939</td>\n      <td>0.426926</td>\n      <td>0.682905</td>\n      <td>0.483622</td>\n      <td>0.346290</td>\n      <td>0.886926</td>\n    </tr>\n    <tr>\n      <th>8</th>\n      <td>0.304303</td>\n      <td>0.489814</td>\n      <td>0.596103</td>\n      <td>0.484836</td>\n      <td>0.339223</td>\n      <td>0.893993</td>\n    </tr>\n    <tr>\n      <th>9</th>\n      <td>0.280020</td>\n      <td>0.519043</td>\n      <td>0.558016</td>\n      <td>0.490467</td>\n      <td>0.371025</td>\n      <td>0.851590</td>\n    </tr>\n    <tr>\n      <th>10</th>\n      <td>0.255403</td>\n      <td>0.567759</td>\n      <td>0.490700</td>\n      <td>0.536476</td>\n      <td>0.371025</td>\n      <td>0.872792</td>\n    </tr>\n    <tr>\n      <th>11</th>\n      <td>0.223705</td>\n      <td>0.616475</td>\n      <td>0.436670</td>\n      <td>0.547007</td>\n      <td>0.381625</td>\n      <td>0.886926</td>\n    </tr>\n    <tr>\n      <th>12</th>\n      <td>0.204832</td>\n      <td>0.655447</td>\n      <td>0.392383</td>\n      <td>0.591869</td>\n      <td>0.371025</td>\n      <td>0.908127</td>\n    </tr>\n    <tr>\n      <th>13</th>\n      <td>0.175527</td>\n      <td>0.696191</td>\n      <td>0.336581</td>\n      <td>0.609259</td>\n      <td>0.381625</td>\n      <td>0.855124</td>\n    </tr>\n    <tr>\n      <th>14</th>\n      <td>0.150406</td>\n      <td>0.746678</td>\n      <td>0.277236</td>\n      <td>0.641905</td>\n      <td>0.413428</td>\n      <td>0.851590</td>\n    </tr>\n    <tr>\n      <th>15</th>\n      <td>0.119624</td>\n      <td>0.805137</td>\n      <td>0.215235</td>\n      <td>0.742279</td>\n      <td>0.374558</td>\n      <td>0.883392</td>\n    </tr>\n    <tr>\n      <th>16</th>\n      <td>0.104459</td>\n      <td>0.831710</td>\n      <td>0.185120</td>\n      <td>0.759300</td>\n      <td>0.424028</td>\n      <td>0.886926</td>\n    </tr>\n    <tr>\n      <th>17</th>\n      <td>0.088566</td>\n      <td>0.862710</td>\n      <td>0.147033</td>\n      <td>0.857383</td>\n      <td>0.416961</td>\n      <td>0.865724</td>\n    </tr>\n    <tr>\n      <th>18</th>\n      <td>0.081693</td>\n      <td>0.875111</td>\n      <td>0.135518</td>\n      <td>0.883323</td>\n      <td>0.420495</td>\n      <td>0.858657</td>\n    </tr>\n    <tr>\n      <th>19</th>\n      <td>0.067364</td>\n      <td>0.901683</td>\n      <td>0.107174</td>\n      <td>0.960230</td>\n      <td>0.431095</td>\n      <td>0.901060</td>\n    </tr>\n    <tr>\n      <th>20</th>\n      <td>0.053210</td>\n      <td>0.914969</td>\n      <td>0.091231</td>\n      <td>0.977450</td>\n      <td>0.402827</td>\n      <td>0.879859</td>\n    </tr>\n    <tr>\n      <th>21</th>\n      <td>0.040513</td>\n      <td>0.948627</td>\n      <td>0.057573</td>\n      <td>1.121645</td>\n      <td>0.409894</td>\n      <td>0.897527</td>\n    </tr>\n    <tr>\n      <th>22</th>\n      <td>0.036429</td>\n      <td>0.962799</td>\n      <td>0.042516</td>\n      <td>1.120130</td>\n      <td>0.427562</td>\n      <td>0.911661</td>\n    </tr>\n    <tr>\n      <th>23</th>\n      <td>0.027513</td>\n      <td>0.972542</td>\n      <td>0.033658</td>\n      <td>1.208490</td>\n      <td>0.402827</td>\n      <td>0.897527</td>\n    </tr>\n    <tr>\n      <th>24</th>\n      <td>0.025719</td>\n      <td>0.968999</td>\n      <td>0.037201</td>\n      <td>1.248616</td>\n      <td>0.427562</td>\n      <td>0.876325</td>\n    </tr>\n    <tr>\n      <th>25</th>\n      <td>0.020753</td>\n      <td>0.983171</td>\n      <td>0.022143</td>\n      <td>1.357231</td>\n      <td>0.448763</td>\n      <td>0.890459</td>\n    </tr>\n    <tr>\n      <th>26</th>\n      <td>0.019565</td>\n      <td>0.981399</td>\n      <td>0.024801</td>\n      <td>1.356151</td>\n      <td>0.424028</td>\n      <td>0.865724</td>\n    </tr>\n    <tr>\n      <th>27</th>\n      <td>0.015964</td>\n      <td>0.984057</td>\n      <td>0.019486</td>\n      <td>1.452053</td>\n      <td>0.434629</td>\n      <td>0.901060</td>\n    </tr>\n    <tr>\n      <th>28</th>\n      <td>0.014295</td>\n      <td>0.988485</td>\n      <td>0.018601</td>\n      <td>1.467169</td>\n      <td>0.427562</td>\n      <td>0.879859</td>\n    </tr>\n    <tr>\n      <th>29</th>\n      <td>0.011435</td>\n      <td>0.986714</td>\n      <td>0.015943</td>\n      <td>1.540443</td>\n      <td>0.388693</td>\n      <td>0.908127</td>\n    </tr>\n    <tr>\n      <th>30</th>\n      <td>0.010891</td>\n      <td>0.986714</td>\n      <td>0.017715</td>\n      <td>1.588038</td>\n      <td>0.427562</td>\n      <td>0.893993</td>\n    </tr>\n    <tr>\n      <th>31</th>\n      <td>0.013436</td>\n      <td>0.988485</td>\n      <td>0.015058</td>\n      <td>1.593560</td>\n      <td>0.424028</td>\n      <td>0.893993</td>\n    </tr>\n    <tr>\n      <th>32</th>\n      <td>0.030819</td>\n      <td>0.953942</td>\n      <td>0.051373</td>\n      <td>1.505199</td>\n      <td>0.431095</td>\n      <td>0.946996</td>\n    </tr>\n    <tr>\n      <th>33</th>\n      <td>0.044668</td>\n      <td>0.938884</td>\n      <td>0.067316</td>\n      <td>1.459011</td>\n      <td>0.438163</td>\n      <td>0.886926</td>\n    </tr>\n    <tr>\n      <th>34</th>\n      <td>0.042476</td>\n      <td>0.934455</td>\n      <td>0.069973</td>\n      <td>1.379976</td>\n      <td>0.434629</td>\n      <td>0.897527</td>\n    </tr>\n    <tr>\n      <th>35</th>\n      <td>0.051504</td>\n      <td>0.927369</td>\n      <td>0.080602</td>\n      <td>1.380398</td>\n      <td>0.413428</td>\n      <td>0.876325</td>\n    </tr>\n    <tr>\n      <th>36</th>\n      <td>0.024998</td>\n      <td>0.968999</td>\n      <td>0.034544</td>\n      <td>1.462166</td>\n      <td>0.431095</td>\n      <td>0.890459</td>\n    </tr>\n    <tr>\n      <th>37</th>\n      <td>0.014188</td>\n      <td>0.984942</td>\n      <td>0.019486</td>\n      <td>1.545532</td>\n      <td>0.416961</td>\n      <td>0.876325</td>\n    </tr>\n    <tr>\n      <th>38</th>\n      <td>0.012472</td>\n      <td>0.989371</td>\n      <td>0.015058</td>\n      <td>1.651297</td>\n      <td>0.431095</td>\n      <td>0.904594</td>\n    </tr>\n    <tr>\n      <th>39</th>\n      <td>0.010901</td>\n      <td>0.990257</td>\n      <td>0.013286</td>\n      <td>1.663057</td>\n      <td>0.445230</td>\n      <td>0.858657</td>\n    </tr>\n    <tr>\n      <th>40</th>\n      <td>0.009792</td>\n      <td>0.990257</td>\n      <td>0.012400</td>\n      <td>1.722210</td>\n      <td>0.445230</td>\n      <td>0.879859</td>\n    </tr>\n    <tr>\n      <th>41</th>\n      <td>0.009456</td>\n      <td>0.991143</td>\n      <td>0.012400</td>\n      <td>1.738912</td>\n      <td>0.438163</td>\n      <td>0.872792</td>\n    </tr>\n    <tr>\n      <th>42</th>\n      <td>0.008211</td>\n      <td>0.992028</td>\n      <td>0.010629</td>\n      <td>1.766007</td>\n      <td>0.445230</td>\n      <td>0.872792</td>\n    </tr>\n    <tr>\n      <th>43</th>\n      <td>0.008218</td>\n      <td>0.991143</td>\n      <td>0.011515</td>\n      <td>1.810906</td>\n      <td>0.445230</td>\n      <td>0.858657</td>\n    </tr>\n    <tr>\n      <th>44</th>\n      <td>0.008434</td>\n      <td>0.992028</td>\n      <td>0.011515</td>\n      <td>1.837737</td>\n      <td>0.420495</td>\n      <td>0.901060</td>\n    </tr>\n    <tr>\n      <th>45</th>\n      <td>0.008859</td>\n      <td>0.992028</td>\n      <td>0.011515</td>\n      <td>1.861000</td>\n      <td>0.420495</td>\n      <td>0.897527</td>\n    </tr>\n    <tr>\n      <th>46</th>\n      <td>0.008448</td>\n      <td>0.992028</td>\n      <td>0.011515</td>\n      <td>1.862148</td>\n      <td>0.413428</td>\n      <td>0.908127</td>\n    </tr>\n    <tr>\n      <th>47</th>\n      <td>0.009784</td>\n      <td>0.990257</td>\n      <td>0.012400</td>\n      <td>1.887074</td>\n      <td>0.427562</td>\n      <td>0.883392</td>\n    </tr>\n    <tr>\n      <th>48</th>\n      <td>0.008394</td>\n      <td>0.991143</td>\n      <td>0.011515</td>\n      <td>1.905251</td>\n      <td>0.455830</td>\n      <td>0.862191</td>\n    </tr>\n    <tr>\n      <th>49</th>\n      <td>0.007611</td>\n      <td>0.990257</td>\n      <td>0.012400</td>\n      <td>1.957260</td>\n      <td>0.427562</td>\n      <td>0.883392</td>\n    </tr>\n  </tbody>\n</table>\n</div>"
     },
     "execution_count": 24,
     "metadata": {},
     "output_type": "execute_result"
    }
   ],
   "source": [
    "hist_df = pd.DataFrame(hist.history)\n",
    "hist_df"
   ],
   "metadata": {
    "collapsed": false
   }
  },
  {
   "cell_type": "code",
   "execution_count": 20,
   "outputs": [],
   "source": [
    "hist_df.to_csv(f'../logs/{name}.csv')"
   ],
   "metadata": {
    "collapsed": false
   }
  },
  {
   "cell_type": "code",
   "execution_count": 22,
   "outputs": [
    {
     "data": {
      "text/plain": "<Figure size 640x480 with 1 Axes>",
      "image/png": "[encoded data removed]"
     },
     "metadata": {},
     "output_type": "display_data"
    }
   ],
   "source": [
    "plt.title('CNN on BoW data')\n",
    "\n",
    "plt.plot(hist_df.score_accuracy, label='Training')\n",
    "plt.plot(hist_df.val_score_accuracy, label='Validation')\n",
    "\n",
    "plt.legend()\n",
    "plt.xlabel('epoch')\n",
    "plt.ylabel('accuracy')\n",
    "\n",
    "plt.savefig(f'../figs/{name}.png')\n",
    "plt.show()"
   ],
   "metadata": {
    "collapsed": false
   }
  },
  {
   "cell_type": "code",
   "execution_count": null,
   "outputs": [],
   "source": [],
   "metadata": {
    "collapsed": false
   }
  }
 ],
 "metadata": {
  "kernelspec": {
   "display_name": "Python 3",
   "language": "python",
   "name": "python3"
  },
  "language_info": {
   "codemirror_mode": {
    "name": "ipython",
    "version": 2
   },
   "file_extension": ".py",
   "mimetype": "text/x-python",
   "name": "python",
   "nbconvert_exporter": "python",
   "pygments_lexer": "ipython2",
   "version": "2.7.6"
  }
 },
 "nbformat": 4,
 "nbformat_minor": 0
}

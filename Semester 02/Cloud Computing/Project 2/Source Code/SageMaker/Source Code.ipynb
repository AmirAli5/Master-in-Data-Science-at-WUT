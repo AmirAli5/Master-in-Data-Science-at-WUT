{
 "cells": [
  {
   "cell_type": "markdown",
   "id": "f2aa9ac1",
   "metadata": {},
   "source": [
    "![CC Project 2](https://pbs.twimg.com/media/FTXYRxhWQAEwMrg?format=jpg&name=medium)"
   ]
  },
  {
   "cell_type": "markdown",
   "id": "bcd391e7",
   "metadata": {},
   "source": [
    "![ML](https://user-images.githubusercontent.com/7065401/52071924-c003ad80-2562-11e9-8297-1c6595f8a7ff.png)"
   ]
  },
  {
   "cell_type": "markdown",
   "id": "3c1fdc39",
   "metadata": {},
   "source": [
    "## Part 1: Import Data and Analyze\n",
    "<b> `Motorcycle Bike Dataset:` </b> The dataset is about motorcycles different features. We collect the data using a scrapper and the data information is in polish language. There are 40 numbers of features that contain information like motor model, year, engine type, color, brand, etc and 7481 number of observations. The Target attribute is Price so, based on attributes we predict the price of the Motor cycle.\n",
    "In the first part we Analyze the data first we import three libraries. A library is a tool that you can use to make a specific job. First of all, we import the numpy library used for multidimensional array then import the pandas library used to import the dataset and in last we import matplotlib library used for plotting the graph. Then we import dataset using Pandas Dataframe after that we analyze the data like number of features, features type, data size etc."
   ]
  },
  {
   "cell_type": "markdown",
   "id": "290dbfd7",
   "metadata": {},
   "source": [
    "![ML](https://user-images.githubusercontent.com/7065401/52071924-c003ad80-2562-11e9-8297-1c6595f8a7ff.png)"
   ]
  },
  {
   "cell_type": "markdown",
   "id": "3dd75d3b",
   "metadata": {},
   "source": [
    "### 1. Import Libraries"
   ]
  },
  {
   "cell_type": "code",
   "execution_count": 51,
   "id": "16791c83",
   "metadata": {},
   "outputs": [],
   "source": [
    "import os\n",
    "import sagemaker\n",
    "import boto3\n",
    "from sagemaker.amazon.amazon_estimator import get_image_uri\n",
    "from sagemaker.session import s3_input, Session\n",
    "\n",
    "import warnings\n",
    "warnings.filterwarnings(\"ignore\")\n",
    "\n",
    "import pandas as pd\n",
    "import numpy as np\n",
    "import matplotlib.pyplot as plt\n",
    "\n",
    "plt.style.use('fivethirtyeight')\n",
    "pd.set_option('display.max_columns', None)"
   ]
  },
  {
   "cell_type": "markdown",
   "id": "0a62d376",
   "metadata": {},
   "source": [
    "### 1.1 Create a Bucket and Set the Region in S3"
   ]
  },
  {
   "cell_type": "markdown",
   "id": "34bac45b",
   "metadata": {},
   "source": [
    "#### 1.1.1: Set the region of the instance"
   ]
  },
  {
   "cell_type": "code",
   "execution_count": 52,
   "id": "e1fa075d",
   "metadata": {},
   "outputs": [
    {
     "name": "stdout",
     "output_type": "stream",
     "text": [
      "us-east-1\n"
     ]
    }
   ],
   "source": [
    "my_region = boto3.session.Session().region_name \n",
    "print(my_region)"
   ]
  },
  {
   "cell_type": "markdown",
   "id": "94b8734f",
   "metadata": {},
   "source": [
    "#### 1.1.2: Create a S3 Bucket to store data for model"
   ]
  },
  {
   "cell_type": "code",
   "execution_count": 53,
   "id": "08413c9b",
   "metadata": {},
   "outputs": [
    {
     "name": "stdout",
     "output_type": "stream",
     "text": [
      "S3 bucket created successfully\n"
     ]
    }
   ],
   "source": [
    "bucket1 = 'bikepriceapplication'\n",
    "s3 = boto3.resource('s3')\n",
    "try:\n",
    "    if  my_region == 'us-east-1':\n",
    "        s3.create_bucket(Bucket=bucket1 )\n",
    "    print('S3 bucket created successfully')\n",
    "except Exception as e:\n",
    "    print('S3 error: ',e)"
   ]
  },
  {
   "cell_type": "markdown",
   "id": "94c03c07",
   "metadata": {},
   "source": [
    "### 1.2 Upload the Data and store into S3 Data Bucket"
   ]
  },
  {
   "cell_type": "markdown",
   "id": "6c0b97c1",
   "metadata": {},
   "source": [
    "#### 1.2.1: Set the path where the data will save"
   ]
  },
  {
   "cell_type": "code",
   "execution_count": 54,
   "id": "09e400c9",
   "metadata": {},
   "outputs": [
    {
     "name": "stdout",
     "output_type": "stream",
     "text": [
      "s3://bikepriceapplication/Dataset/output\n"
     ]
    }
   ],
   "source": [
    "prefix1 = 'Dataset'\n",
    "output_path1 ='s3://{}/{}/output'.format(bucket1, prefix1)\n",
    "print(output_path1)"
   ]
  },
  {
   "cell_type": "markdown",
   "id": "13c9d5ff",
   "metadata": {},
   "source": [
    "#### 1.2.2: Upload the Data and Store in S3 Bucket"
   ]
  },
  {
   "cell_type": "code",
   "execution_count": 109,
   "id": "0709d8b0",
   "metadata": {},
   "outputs": [
    {
     "data": {
      "text/html": [
       "<div>\n",
       "<style scoped>\n",
       "    .dataframe tbody tr th:only-of-type {\n",
       "        vertical-align: middle;\n",
       "    }\n",
       "\n",
       "    .dataframe tbody tr th {\n",
       "        vertical-align: top;\n",
       "    }\n",
       "\n",
       "    .dataframe thead th {\n",
       "        text-align: right;\n",
       "    }\n",
       "</style>\n",
       "<table border=\"1\" class=\"dataframe\">\n",
       "  <thead>\n",
       "    <tr style=\"text-align: right;\">\n",
       "      <th></th>\n",
       "      <th>Unnamed: 0</th>\n",
       "      <th>Oferta od</th>\n",
       "      <th>Kategoria</th>\n",
       "      <th>Marka pojazdu</th>\n",
       "      <th>Model pojazdu</th>\n",
       "      <th>Rok produkcji</th>\n",
       "      <th>Przebieg</th>\n",
       "      <th>Pojemność skokowa</th>\n",
       "      <th>Moc</th>\n",
       "      <th>Rodzaj napędu</th>\n",
       "      <th>Typ Silnika</th>\n",
       "      <th>Rodzaj paliwa</th>\n",
       "      <th>Skrzynia biegów</th>\n",
       "      <th>Typ nadwozia</th>\n",
       "      <th>Kolor</th>\n",
       "      <th>Możliwość finansowania</th>\n",
       "      <th>Faktura VAT</th>\n",
       "      <th>Leasing</th>\n",
       "      <th>Kraj pochodzenia</th>\n",
       "      <th>Bezwypadkowy</th>\n",
       "      <th>Stan</th>\n",
       "      <th>price</th>\n",
       "      <th>Numer rejestracyjny pojazdu</th>\n",
       "      <th>Zarejestrowany w Polsce</th>\n",
       "      <th>Rodzaj koloru</th>\n",
       "      <th>Pierwsza rejestracja</th>\n",
       "      <th>Serwisowany w ASO</th>\n",
       "      <th>Pierwszy właściciel</th>\n",
       "      <th>Gwarancja dealerska (w cenie)</th>\n",
       "      <th>Tuning</th>\n",
       "      <th>VAT marża</th>\n",
       "      <th>Okres gwarancji producenta</th>\n",
       "      <th>Liczba pozostałych rat</th>\n",
       "      <th>Miesięczna rata</th>\n",
       "      <th>Opłata początkowa</th>\n",
       "      <th>Wartość wykupu</th>\n",
       "      <th>lub do (przebieg km)</th>\n",
       "      <th>Uszkodzony</th>\n",
       "      <th>VIN</th>\n",
       "      <th>Zarejestrowany jako zabytek</th>\n",
       "    </tr>\n",
       "  </thead>\n",
       "  <tbody>\n",
       "    <tr>\n",
       "      <th>0</th>\n",
       "      <td>0</td>\n",
       "      <td>Firmy</td>\n",
       "      <td>Motocykle</td>\n",
       "      <td>Kymco</td>\n",
       "      <td>MXU</td>\n",
       "      <td>2021</td>\n",
       "      <td>1 km</td>\n",
       "      <td>695 cm3</td>\n",
       "      <td>40 KM</td>\n",
       "      <td>Wał kardana</td>\n",
       "      <td>Czterosuwowy</td>\n",
       "      <td>Benzyna</td>\n",
       "      <td>Automatyczna</td>\n",
       "      <td>Quad</td>\n",
       "      <td>Czarny</td>\n",
       "      <td>Tak</td>\n",
       "      <td>Tak</td>\n",
       "      <td>Tak</td>\n",
       "      <td>Inny</td>\n",
       "      <td>Tak</td>\n",
       "      <td>Nowe</td>\n",
       "      <td>45900</td>\n",
       "      <td>NaN</td>\n",
       "      <td>NaN</td>\n",
       "      <td>NaN</td>\n",
       "      <td>NaN</td>\n",
       "      <td>NaN</td>\n",
       "      <td>NaN</td>\n",
       "      <td>NaN</td>\n",
       "      <td>NaN</td>\n",
       "      <td>NaN</td>\n",
       "      <td>NaN</td>\n",
       "      <td>NaN</td>\n",
       "      <td>NaN</td>\n",
       "      <td>NaN</td>\n",
       "      <td>NaN</td>\n",
       "      <td>NaN</td>\n",
       "      <td>NaN</td>\n",
       "      <td>NaN</td>\n",
       "      <td>NaN</td>\n",
       "    </tr>\n",
       "    <tr>\n",
       "      <th>1</th>\n",
       "      <td>1</td>\n",
       "      <td>Firmy</td>\n",
       "      <td>Motocykle</td>\n",
       "      <td>Segway</td>\n",
       "      <td>Fugleman UT10</td>\n",
       "      <td>2021</td>\n",
       "      <td>1 km</td>\n",
       "      <td>1 000 cm3</td>\n",
       "      <td>105 KM</td>\n",
       "      <td>Wał kardana</td>\n",
       "      <td>Czterosuwowy</td>\n",
       "      <td>Benzyna</td>\n",
       "      <td>Bezstopniowa</td>\n",
       "      <td>Quad</td>\n",
       "      <td>Inny kolor</td>\n",
       "      <td>Tak</td>\n",
       "      <td>Tak</td>\n",
       "      <td>Tak</td>\n",
       "      <td>NaN</td>\n",
       "      <td>Tak</td>\n",
       "      <td>Nowe</td>\n",
       "      <td>76990</td>\n",
       "      <td>NaN</td>\n",
       "      <td>NaN</td>\n",
       "      <td>NaN</td>\n",
       "      <td>NaN</td>\n",
       "      <td>NaN</td>\n",
       "      <td>NaN</td>\n",
       "      <td>NaN</td>\n",
       "      <td>NaN</td>\n",
       "      <td>NaN</td>\n",
       "      <td>NaN</td>\n",
       "      <td>NaN</td>\n",
       "      <td>NaN</td>\n",
       "      <td>NaN</td>\n",
       "      <td>NaN</td>\n",
       "      <td>NaN</td>\n",
       "      <td>NaN</td>\n",
       "      <td>NaN</td>\n",
       "      <td>NaN</td>\n",
       "    </tr>\n",
       "    <tr>\n",
       "      <th>2</th>\n",
       "      <td>2</td>\n",
       "      <td>Osoby prywatnej</td>\n",
       "      <td>Motocykle</td>\n",
       "      <td>Yamaha</td>\n",
       "      <td>FZ</td>\n",
       "      <td>2010</td>\n",
       "      <td>33 668 km</td>\n",
       "      <td>998 cm3</td>\n",
       "      <td>150 KM</td>\n",
       "      <td>Łańcuch</td>\n",
       "      <td>Czterosuwowy</td>\n",
       "      <td>Benzyna</td>\n",
       "      <td>Manualna</td>\n",
       "      <td>Naked</td>\n",
       "      <td>Biały</td>\n",
       "      <td>NaN</td>\n",
       "      <td>NaN</td>\n",
       "      <td>NaN</td>\n",
       "      <td>Francja</td>\n",
       "      <td>NaN</td>\n",
       "      <td>Używane</td>\n",
       "      <td>20500</td>\n",
       "      <td>PK 6785</td>\n",
       "      <td>Tak</td>\n",
       "      <td>NaN</td>\n",
       "      <td>NaN</td>\n",
       "      <td>NaN</td>\n",
       "      <td>NaN</td>\n",
       "      <td>NaN</td>\n",
       "      <td>NaN</td>\n",
       "      <td>NaN</td>\n",
       "      <td>NaN</td>\n",
       "      <td>NaN</td>\n",
       "      <td>NaN</td>\n",
       "      <td>NaN</td>\n",
       "      <td>NaN</td>\n",
       "      <td>NaN</td>\n",
       "      <td>NaN</td>\n",
       "      <td>NaN</td>\n",
       "      <td>NaN</td>\n",
       "    </tr>\n",
       "    <tr>\n",
       "      <th>3</th>\n",
       "      <td>3</td>\n",
       "      <td>Osoby prywatnej</td>\n",
       "      <td>Motocykle</td>\n",
       "      <td>Ducati</td>\n",
       "      <td>Multistrada</td>\n",
       "      <td>2010</td>\n",
       "      <td>56 000 km</td>\n",
       "      <td>NaN</td>\n",
       "      <td>NaN</td>\n",
       "      <td>NaN</td>\n",
       "      <td>NaN</td>\n",
       "      <td>Benzyna</td>\n",
       "      <td>NaN</td>\n",
       "      <td>Turystyczny</td>\n",
       "      <td>Biały</td>\n",
       "      <td>NaN</td>\n",
       "      <td>NaN</td>\n",
       "      <td>NaN</td>\n",
       "      <td>NaN</td>\n",
       "      <td>NaN</td>\n",
       "      <td>Używane</td>\n",
       "      <td>32000</td>\n",
       "      <td>NaN</td>\n",
       "      <td>NaN</td>\n",
       "      <td>Metalik</td>\n",
       "      <td>NaN</td>\n",
       "      <td>NaN</td>\n",
       "      <td>NaN</td>\n",
       "      <td>NaN</td>\n",
       "      <td>NaN</td>\n",
       "      <td>NaN</td>\n",
       "      <td>NaN</td>\n",
       "      <td>NaN</td>\n",
       "      <td>NaN</td>\n",
       "      <td>NaN</td>\n",
       "      <td>NaN</td>\n",
       "      <td>NaN</td>\n",
       "      <td>NaN</td>\n",
       "      <td>NaN</td>\n",
       "      <td>NaN</td>\n",
       "    </tr>\n",
       "    <tr>\n",
       "      <th>4</th>\n",
       "      <td>4</td>\n",
       "      <td>Osoby prywatnej</td>\n",
       "      <td>Motocykle</td>\n",
       "      <td>Kawasaki</td>\n",
       "      <td>ZX</td>\n",
       "      <td>2007</td>\n",
       "      <td>16 000 km</td>\n",
       "      <td>250 cm3</td>\n",
       "      <td>NaN</td>\n",
       "      <td>NaN</td>\n",
       "      <td>NaN</td>\n",
       "      <td>Benzyna</td>\n",
       "      <td>NaN</td>\n",
       "      <td>Sportowy</td>\n",
       "      <td>Niebieski</td>\n",
       "      <td>NaN</td>\n",
       "      <td>NaN</td>\n",
       "      <td>NaN</td>\n",
       "      <td>NaN</td>\n",
       "      <td>Tak</td>\n",
       "      <td>Używane</td>\n",
       "      <td>4999</td>\n",
       "      <td>NaN</td>\n",
       "      <td>Tak</td>\n",
       "      <td>Metalik</td>\n",
       "      <td>NaN</td>\n",
       "      <td>NaN</td>\n",
       "      <td>NaN</td>\n",
       "      <td>NaN</td>\n",
       "      <td>NaN</td>\n",
       "      <td>NaN</td>\n",
       "      <td>NaN</td>\n",
       "      <td>NaN</td>\n",
       "      <td>NaN</td>\n",
       "      <td>NaN</td>\n",
       "      <td>NaN</td>\n",
       "      <td>NaN</td>\n",
       "      <td>NaN</td>\n",
       "      <td>NaN</td>\n",
       "      <td>NaN</td>\n",
       "    </tr>\n",
       "  </tbody>\n",
       "</table>\n",
       "</div>"
      ],
      "text/plain": [
       "   Unnamed: 0        Oferta od  Kategoria Marka pojazdu  Model pojazdu  \\\n",
       "0           0            Firmy  Motocykle         Kymco            MXU   \n",
       "1           1            Firmy  Motocykle        Segway  Fugleman UT10   \n",
       "2           2  Osoby prywatnej  Motocykle        Yamaha             FZ   \n",
       "3           3  Osoby prywatnej  Motocykle        Ducati    Multistrada   \n",
       "4           4  Osoby prywatnej  Motocykle      Kawasaki             ZX   \n",
       "\n",
       "   Rok produkcji   Przebieg Pojemność skokowa     Moc Rodzaj napędu  \\\n",
       "0           2021       1 km           695 cm3   40 KM   Wał kardana   \n",
       "1           2021       1 km         1 000 cm3  105 KM   Wał kardana   \n",
       "2           2010  33 668 km           998 cm3  150 KM       Łańcuch   \n",
       "3           2010  56 000 km               NaN     NaN           NaN   \n",
       "4           2007  16 000 km           250 cm3     NaN           NaN   \n",
       "\n",
       "    Typ Silnika Rodzaj paliwa Skrzynia biegów Typ nadwozia       Kolor  \\\n",
       "0  Czterosuwowy       Benzyna    Automatyczna         Quad      Czarny   \n",
       "1  Czterosuwowy       Benzyna    Bezstopniowa         Quad  Inny kolor   \n",
       "2  Czterosuwowy       Benzyna        Manualna        Naked       Biały   \n",
       "3           NaN       Benzyna             NaN  Turystyczny       Biały   \n",
       "4           NaN       Benzyna             NaN     Sportowy   Niebieski   \n",
       "\n",
       "  Możliwość finansowania Faktura VAT Leasing Kraj pochodzenia Bezwypadkowy  \\\n",
       "0                    Tak         Tak     Tak             Inny          Tak   \n",
       "1                    Tak         Tak     Tak              NaN          Tak   \n",
       "2                    NaN         NaN     NaN          Francja          NaN   \n",
       "3                    NaN         NaN     NaN              NaN          NaN   \n",
       "4                    NaN         NaN     NaN              NaN          Tak   \n",
       "\n",
       "      Stan  price Numer rejestracyjny pojazdu Zarejestrowany w Polsce  \\\n",
       "0     Nowe  45900                         NaN                     NaN   \n",
       "1     Nowe  76990                         NaN                     NaN   \n",
       "2  Używane  20500                     PK 6785                     Tak   \n",
       "3  Używane  32000                         NaN                     NaN   \n",
       "4  Używane   4999                         NaN                     Tak   \n",
       "\n",
       "  Rodzaj koloru Pierwsza rejestracja Serwisowany w ASO Pierwszy właściciel  \\\n",
       "0           NaN                  NaN               NaN                 NaN   \n",
       "1           NaN                  NaN               NaN                 NaN   \n",
       "2           NaN                  NaN               NaN                 NaN   \n",
       "3       Metalik                  NaN               NaN                 NaN   \n",
       "4       Metalik                  NaN               NaN                 NaN   \n",
       "\n",
       "  Gwarancja dealerska (w cenie) Tuning VAT marża Okres gwarancji producenta  \\\n",
       "0                           NaN    NaN       NaN                        NaN   \n",
       "1                           NaN    NaN       NaN                        NaN   \n",
       "2                           NaN    NaN       NaN                        NaN   \n",
       "3                           NaN    NaN       NaN                        NaN   \n",
       "4                           NaN    NaN       NaN                        NaN   \n",
       "\n",
       "   Liczba pozostałych rat Miesięczna rata Opłata początkowa Wartość wykupu  \\\n",
       "0                     NaN             NaN               NaN            NaN   \n",
       "1                     NaN             NaN               NaN            NaN   \n",
       "2                     NaN             NaN               NaN            NaN   \n",
       "3                     NaN             NaN               NaN            NaN   \n",
       "4                     NaN             NaN               NaN            NaN   \n",
       "\n",
       "  lub do (przebieg km) Uszkodzony  VIN Zarejestrowany jako zabytek  \n",
       "0                  NaN        NaN  NaN                         NaN  \n",
       "1                  NaN        NaN  NaN                         NaN  \n",
       "2                  NaN        NaN  NaN                         NaN  \n",
       "3                  NaN        NaN  NaN                         NaN  \n",
       "4                  NaN        NaN  NaN                         NaN  "
      ]
     },
     "execution_count": 109,
     "metadata": {},
     "output_type": "execute_result"
    }
   ],
   "source": [
    "df = pd.read_csv('scrapped_23052022.csv')\n",
    "df.head()"
   ]
  },
  {
   "cell_type": "markdown",
   "id": "0c246864",
   "metadata": {},
   "source": [
    "#### 1.2.3:Store the data in data S3 Bucket for training the model"
   ]
  },
  {
   "cell_type": "code",
   "execution_count": 6,
   "id": "d63372b8",
   "metadata": {},
   "outputs": [],
   "source": [
    "boto3.Session().resource('s3').Bucket(bucket1).Object(os.path.join(prefix1, 'scrapped_23052022.csv')).upload_file('scrapped_23052022.csv')\n",
    "s3_data = sagemaker.TrainingInput(s3_data='s3://{}/{}/'.format(bucket1, prefix1), content_type='csv')"
   ]
  },
  {
   "cell_type": "code",
   "execution_count": 7,
   "id": "1c444dfb",
   "metadata": {},
   "outputs": [
    {
     "data": {
      "text/plain": [
       "<sagemaker.inputs.TrainingInput at 0x7f25c829ca90>"
      ]
     },
     "execution_count": 7,
     "metadata": {},
     "output_type": "execute_result"
    }
   ],
   "source": [
    "s3_data"
   ]
  },
  {
   "cell_type": "markdown",
   "id": "5e766b48",
   "metadata": {},
   "source": [
    "### 3. Analyze the Data"
   ]
  },
  {
   "cell_type": "markdown",
   "id": "6570bfce",
   "metadata": {},
   "source": [
    "#### 3.1 How many number of features and observation"
   ]
  },
  {
   "cell_type": "code",
   "execution_count": 8,
   "id": "01698235",
   "metadata": {},
   "outputs": [
    {
     "name": "stdout",
     "output_type": "stream",
     "text": [
      "Number of Observations: 7481\n",
      "Number of Features: 40\n"
     ]
    }
   ],
   "source": [
    "print(f'Number of Observations: {df.shape[0]}')\n",
    "print(f'Number of Features: {df.shape[1]}')"
   ]
  },
  {
   "cell_type": "markdown",
   "id": "99e42b86",
   "metadata": {},
   "source": [
    "#### 3.2 Features that we have in this data"
   ]
  },
  {
   "cell_type": "code",
   "execution_count": 9,
   "id": "0107f55a",
   "metadata": {},
   "outputs": [
    {
     "data": {
      "text/plain": [
       "Index(['Unnamed: 0', 'Oferta od', 'Kategoria', 'Marka pojazdu',\n",
       "       'Model pojazdu', 'Rok produkcji', 'Przebieg', 'Pojemność skokowa',\n",
       "       'Moc', 'Rodzaj napędu', 'Typ Silnika', 'Rodzaj paliwa',\n",
       "       'Skrzynia biegów', 'Typ nadwozia', 'Kolor', 'Możliwość finansowania',\n",
       "       'Faktura VAT', 'Leasing', 'Kraj pochodzenia', 'Bezwypadkowy', 'Stan',\n",
       "       'price', 'Numer rejestracyjny pojazdu', 'Zarejestrowany w Polsce',\n",
       "       'Rodzaj koloru', 'Pierwsza rejestracja', 'Serwisowany w ASO',\n",
       "       'Pierwszy właściciel', 'Gwarancja dealerska (w cenie)', 'Tuning',\n",
       "       'VAT marża', 'Okres gwarancji producenta', 'Liczba pozostałych rat',\n",
       "       'Miesięczna rata', 'Opłata początkowa', 'Wartość wykupu',\n",
       "       'lub do (przebieg km)', 'Uszkodzony', 'VIN',\n",
       "       'Zarejestrowany jako zabytek'],\n",
       "      dtype='object')"
      ]
     },
     "execution_count": 9,
     "metadata": {},
     "output_type": "execute_result"
    }
   ],
   "source": [
    "df.columns"
   ]
  },
  {
   "cell_type": "markdown",
   "id": "e63dce11",
   "metadata": {},
   "source": [
    "#### 3.3 Type of Features"
   ]
  },
  {
   "cell_type": "code",
   "execution_count": 10,
   "id": "546ba36c",
   "metadata": {},
   "outputs": [
    {
     "data": {
      "text/plain": [
       "Unnamed: 0                         int64\n",
       "Oferta od                         object\n",
       "Kategoria                         object\n",
       "Marka pojazdu                     object\n",
       "Model pojazdu                     object\n",
       "Rok produkcji                      int64\n",
       "Przebieg                          object\n",
       "Pojemność skokowa                 object\n",
       "Moc                               object\n",
       "Rodzaj napędu                     object\n",
       "Typ Silnika                       object\n",
       "Rodzaj paliwa                     object\n",
       "Skrzynia biegów                   object\n",
       "Typ nadwozia                      object\n",
       "Kolor                             object\n",
       "Możliwość finansowania            object\n",
       "Faktura VAT                       object\n",
       "Leasing                           object\n",
       "Kraj pochodzenia                  object\n",
       "Bezwypadkowy                      object\n",
       "Stan                              object\n",
       "price                              int64\n",
       "Numer rejestracyjny pojazdu       object\n",
       "Zarejestrowany w Polsce           object\n",
       "Rodzaj koloru                     object\n",
       "Pierwsza rejestracja              object\n",
       "Serwisowany w ASO                 object\n",
       "Pierwszy właściciel               object\n",
       "Gwarancja dealerska (w cenie)     object\n",
       "Tuning                            object\n",
       "VAT marża                         object\n",
       "Okres gwarancji producenta        object\n",
       "Liczba pozostałych rat           float64\n",
       "Miesięczna rata                   object\n",
       "Opłata początkowa                 object\n",
       "Wartość wykupu                    object\n",
       "lub do (przebieg km)              object\n",
       "Uszkodzony                        object\n",
       "VIN                               object\n",
       "Zarejestrowany jako zabytek       object\n",
       "dtype: object"
      ]
     },
     "execution_count": 10,
     "metadata": {},
     "output_type": "execute_result"
    }
   ],
   "source": [
    "df.dtypes"
   ]
  },
  {
   "cell_type": "markdown",
   "id": "544e0de4",
   "metadata": {},
   "source": [
    "#### 3.4 Data Info"
   ]
  },
  {
   "cell_type": "code",
   "execution_count": 11,
   "id": "8b31232b",
   "metadata": {},
   "outputs": [
    {
     "name": "stdout",
     "output_type": "stream",
     "text": [
      "<class 'pandas.core.frame.DataFrame'>\n",
      "RangeIndex: 7481 entries, 0 to 7480\n",
      "Data columns (total 40 columns):\n",
      " #   Column                         Non-Null Count  Dtype  \n",
      "---  ------                         --------------  -----  \n",
      " 0   Unnamed: 0                     7481 non-null   int64  \n",
      " 1   Oferta od                      7481 non-null   object \n",
      " 2   Kategoria                      7481 non-null   object \n",
      " 3   Marka pojazdu                  7481 non-null   object \n",
      " 4   Model pojazdu                  7481 non-null   object \n",
      " 5   Rok produkcji                  7481 non-null   int64  \n",
      " 6   Przebieg                       7420 non-null   object \n",
      " 7   Pojemność skokowa              6915 non-null   object \n",
      " 8   Moc                            5542 non-null   object \n",
      " 9   Rodzaj napędu                  6182 non-null   object \n",
      " 10  Typ Silnika                    6276 non-null   object \n",
      " 11  Rodzaj paliwa                  7481 non-null   object \n",
      " 12  Skrzynia biegów                6371 non-null   object \n",
      " 13  Typ nadwozia                   7481 non-null   object \n",
      " 14  Kolor                          7481 non-null   object \n",
      " 15  Możliwość finansowania         3363 non-null   object \n",
      " 16  Faktura VAT                    3442 non-null   object \n",
      " 17  Leasing                        1443 non-null   object \n",
      " 18  Kraj pochodzenia               3636 non-null   object \n",
      " 19  Bezwypadkowy                   5481 non-null   object \n",
      " 20  Stan                           7481 non-null   object \n",
      " 21  price                          7481 non-null   int64  \n",
      " 22  Numer rejestracyjny pojazdu    941 non-null    object \n",
      " 23  Zarejestrowany w Polsce        1950 non-null   object \n",
      " 24  Rodzaj koloru                  3989 non-null   object \n",
      " 25  Pierwsza rejestracja           1561 non-null   object \n",
      " 26  Serwisowany w ASO              1041 non-null   object \n",
      " 27  Pierwszy właściciel            1306 non-null   object \n",
      " 28  Gwarancja dealerska (w cenie)  1536 non-null   object \n",
      " 29  Tuning                         232 non-null    object \n",
      " 30  VAT marża                      1451 non-null   object \n",
      " 31  Okres gwarancji producenta     92 non-null     object \n",
      " 32  Liczba pozostałych rat         26 non-null     float64\n",
      " 33  Miesięczna rata                29 non-null     object \n",
      " 34  Opłata początkowa              26 non-null     object \n",
      " 35  Wartość wykupu                 26 non-null     object \n",
      " 36  lub do (przebieg km)           154 non-null    object \n",
      " 37  Uszkodzony                     176 non-null    object \n",
      " 38  VIN                            25 non-null     object \n",
      " 39  Zarejestrowany jako zabytek    5 non-null      object \n",
      "dtypes: float64(1), int64(3), object(36)\n",
      "memory usage: 2.3+ MB\n"
     ]
    }
   ],
   "source": [
    "df.info()"
   ]
  },
  {
   "cell_type": "markdown",
   "id": "7b164fe1",
   "metadata": {},
   "source": [
    "#### 3.4 Data Size"
   ]
  },
  {
   "cell_type": "code",
   "execution_count": 12,
   "id": "8a47faa2",
   "metadata": {},
   "outputs": [
    {
     "data": {
      "text/plain": [
       "299240"
      ]
     },
     "execution_count": 12,
     "metadata": {},
     "output_type": "execute_result"
    }
   ],
   "source": [
    "df.size"
   ]
  },
  {
   "cell_type": "markdown",
   "id": "bd46deb5",
   "metadata": {},
   "source": [
    "#### 3.5 Predictor and Target Attribute"
   ]
  },
  {
   "cell_type": "code",
   "execution_count": 110,
   "id": "535e3125",
   "metadata": {},
   "outputs": [
    {
     "data": {
      "text/html": [
       "<div>\n",
       "<style scoped>\n",
       "    .dataframe tbody tr th:only-of-type {\n",
       "        vertical-align: middle;\n",
       "    }\n",
       "\n",
       "    .dataframe tbody tr th {\n",
       "        vertical-align: top;\n",
       "    }\n",
       "\n",
       "    .dataframe thead th {\n",
       "        text-align: right;\n",
       "    }\n",
       "</style>\n",
       "<table border=\"1\" class=\"dataframe\">\n",
       "  <thead>\n",
       "    <tr style=\"text-align: right;\">\n",
       "      <th></th>\n",
       "      <th>Unnamed: 0</th>\n",
       "      <th>Oferta od</th>\n",
       "      <th>Kategoria</th>\n",
       "      <th>Marka pojazdu</th>\n",
       "      <th>Model pojazdu</th>\n",
       "      <th>Rok produkcji</th>\n",
       "      <th>Przebieg</th>\n",
       "      <th>Pojemność skokowa</th>\n",
       "      <th>Moc</th>\n",
       "      <th>Rodzaj napędu</th>\n",
       "      <th>Typ Silnika</th>\n",
       "      <th>Rodzaj paliwa</th>\n",
       "      <th>Skrzynia biegów</th>\n",
       "      <th>Typ nadwozia</th>\n",
       "      <th>Kolor</th>\n",
       "      <th>Możliwość finansowania</th>\n",
       "      <th>Faktura VAT</th>\n",
       "      <th>Leasing</th>\n",
       "      <th>Kraj pochodzenia</th>\n",
       "      <th>Bezwypadkowy</th>\n",
       "      <th>Stan</th>\n",
       "      <th>Numer rejestracyjny pojazdu</th>\n",
       "      <th>Zarejestrowany w Polsce</th>\n",
       "      <th>Rodzaj koloru</th>\n",
       "      <th>Pierwsza rejestracja</th>\n",
       "      <th>Serwisowany w ASO</th>\n",
       "      <th>Pierwszy właściciel</th>\n",
       "      <th>Gwarancja dealerska (w cenie)</th>\n",
       "      <th>Tuning</th>\n",
       "      <th>VAT marża</th>\n",
       "      <th>Okres gwarancji producenta</th>\n",
       "      <th>Liczba pozostałych rat</th>\n",
       "      <th>Miesięczna rata</th>\n",
       "      <th>Opłata początkowa</th>\n",
       "      <th>Wartość wykupu</th>\n",
       "      <th>lub do (przebieg km)</th>\n",
       "      <th>Uszkodzony</th>\n",
       "      <th>VIN</th>\n",
       "      <th>Zarejestrowany jako zabytek</th>\n",
       "    </tr>\n",
       "  </thead>\n",
       "  <tbody>\n",
       "    <tr>\n",
       "      <th>0</th>\n",
       "      <td>0</td>\n",
       "      <td>Firmy</td>\n",
       "      <td>Motocykle</td>\n",
       "      <td>Kymco</td>\n",
       "      <td>MXU</td>\n",
       "      <td>2021</td>\n",
       "      <td>1 km</td>\n",
       "      <td>695 cm3</td>\n",
       "      <td>40 KM</td>\n",
       "      <td>Wał kardana</td>\n",
       "      <td>Czterosuwowy</td>\n",
       "      <td>Benzyna</td>\n",
       "      <td>Automatyczna</td>\n",
       "      <td>Quad</td>\n",
       "      <td>Czarny</td>\n",
       "      <td>Tak</td>\n",
       "      <td>Tak</td>\n",
       "      <td>Tak</td>\n",
       "      <td>Inny</td>\n",
       "      <td>Tak</td>\n",
       "      <td>Nowe</td>\n",
       "      <td>NaN</td>\n",
       "      <td>NaN</td>\n",
       "      <td>NaN</td>\n",
       "      <td>NaN</td>\n",
       "      <td>NaN</td>\n",
       "      <td>NaN</td>\n",
       "      <td>NaN</td>\n",
       "      <td>NaN</td>\n",
       "      <td>NaN</td>\n",
       "      <td>NaN</td>\n",
       "      <td>NaN</td>\n",
       "      <td>NaN</td>\n",
       "      <td>NaN</td>\n",
       "      <td>NaN</td>\n",
       "      <td>NaN</td>\n",
       "      <td>NaN</td>\n",
       "      <td>NaN</td>\n",
       "      <td>NaN</td>\n",
       "    </tr>\n",
       "    <tr>\n",
       "      <th>1</th>\n",
       "      <td>1</td>\n",
       "      <td>Firmy</td>\n",
       "      <td>Motocykle</td>\n",
       "      <td>Segway</td>\n",
       "      <td>Fugleman UT10</td>\n",
       "      <td>2021</td>\n",
       "      <td>1 km</td>\n",
       "      <td>1 000 cm3</td>\n",
       "      <td>105 KM</td>\n",
       "      <td>Wał kardana</td>\n",
       "      <td>Czterosuwowy</td>\n",
       "      <td>Benzyna</td>\n",
       "      <td>Bezstopniowa</td>\n",
       "      <td>Quad</td>\n",
       "      <td>Inny kolor</td>\n",
       "      <td>Tak</td>\n",
       "      <td>Tak</td>\n",
       "      <td>Tak</td>\n",
       "      <td>NaN</td>\n",
       "      <td>Tak</td>\n",
       "      <td>Nowe</td>\n",
       "      <td>NaN</td>\n",
       "      <td>NaN</td>\n",
       "      <td>NaN</td>\n",
       "      <td>NaN</td>\n",
       "      <td>NaN</td>\n",
       "      <td>NaN</td>\n",
       "      <td>NaN</td>\n",
       "      <td>NaN</td>\n",
       "      <td>NaN</td>\n",
       "      <td>NaN</td>\n",
       "      <td>NaN</td>\n",
       "      <td>NaN</td>\n",
       "      <td>NaN</td>\n",
       "      <td>NaN</td>\n",
       "      <td>NaN</td>\n",
       "      <td>NaN</td>\n",
       "      <td>NaN</td>\n",
       "      <td>NaN</td>\n",
       "    </tr>\n",
       "    <tr>\n",
       "      <th>2</th>\n",
       "      <td>2</td>\n",
       "      <td>Osoby prywatnej</td>\n",
       "      <td>Motocykle</td>\n",
       "      <td>Yamaha</td>\n",
       "      <td>FZ</td>\n",
       "      <td>2010</td>\n",
       "      <td>33 668 km</td>\n",
       "      <td>998 cm3</td>\n",
       "      <td>150 KM</td>\n",
       "      <td>Łańcuch</td>\n",
       "      <td>Czterosuwowy</td>\n",
       "      <td>Benzyna</td>\n",
       "      <td>Manualna</td>\n",
       "      <td>Naked</td>\n",
       "      <td>Biały</td>\n",
       "      <td>NaN</td>\n",
       "      <td>NaN</td>\n",
       "      <td>NaN</td>\n",
       "      <td>Francja</td>\n",
       "      <td>NaN</td>\n",
       "      <td>Używane</td>\n",
       "      <td>PK 6785</td>\n",
       "      <td>Tak</td>\n",
       "      <td>NaN</td>\n",
       "      <td>NaN</td>\n",
       "      <td>NaN</td>\n",
       "      <td>NaN</td>\n",
       "      <td>NaN</td>\n",
       "      <td>NaN</td>\n",
       "      <td>NaN</td>\n",
       "      <td>NaN</td>\n",
       "      <td>NaN</td>\n",
       "      <td>NaN</td>\n",
       "      <td>NaN</td>\n",
       "      <td>NaN</td>\n",
       "      <td>NaN</td>\n",
       "      <td>NaN</td>\n",
       "      <td>NaN</td>\n",
       "      <td>NaN</td>\n",
       "    </tr>\n",
       "    <tr>\n",
       "      <th>3</th>\n",
       "      <td>3</td>\n",
       "      <td>Osoby prywatnej</td>\n",
       "      <td>Motocykle</td>\n",
       "      <td>Ducati</td>\n",
       "      <td>Multistrada</td>\n",
       "      <td>2010</td>\n",
       "      <td>56 000 km</td>\n",
       "      <td>NaN</td>\n",
       "      <td>NaN</td>\n",
       "      <td>NaN</td>\n",
       "      <td>NaN</td>\n",
       "      <td>Benzyna</td>\n",
       "      <td>NaN</td>\n",
       "      <td>Turystyczny</td>\n",
       "      <td>Biały</td>\n",
       "      <td>NaN</td>\n",
       "      <td>NaN</td>\n",
       "      <td>NaN</td>\n",
       "      <td>NaN</td>\n",
       "      <td>NaN</td>\n",
       "      <td>Używane</td>\n",
       "      <td>NaN</td>\n",
       "      <td>NaN</td>\n",
       "      <td>Metalik</td>\n",
       "      <td>NaN</td>\n",
       "      <td>NaN</td>\n",
       "      <td>NaN</td>\n",
       "      <td>NaN</td>\n",
       "      <td>NaN</td>\n",
       "      <td>NaN</td>\n",
       "      <td>NaN</td>\n",
       "      <td>NaN</td>\n",
       "      <td>NaN</td>\n",
       "      <td>NaN</td>\n",
       "      <td>NaN</td>\n",
       "      <td>NaN</td>\n",
       "      <td>NaN</td>\n",
       "      <td>NaN</td>\n",
       "      <td>NaN</td>\n",
       "    </tr>\n",
       "    <tr>\n",
       "      <th>4</th>\n",
       "      <td>4</td>\n",
       "      <td>Osoby prywatnej</td>\n",
       "      <td>Motocykle</td>\n",
       "      <td>Kawasaki</td>\n",
       "      <td>ZX</td>\n",
       "      <td>2007</td>\n",
       "      <td>16 000 km</td>\n",
       "      <td>250 cm3</td>\n",
       "      <td>NaN</td>\n",
       "      <td>NaN</td>\n",
       "      <td>NaN</td>\n",
       "      <td>Benzyna</td>\n",
       "      <td>NaN</td>\n",
       "      <td>Sportowy</td>\n",
       "      <td>Niebieski</td>\n",
       "      <td>NaN</td>\n",
       "      <td>NaN</td>\n",
       "      <td>NaN</td>\n",
       "      <td>NaN</td>\n",
       "      <td>Tak</td>\n",
       "      <td>Używane</td>\n",
       "      <td>NaN</td>\n",
       "      <td>Tak</td>\n",
       "      <td>Metalik</td>\n",
       "      <td>NaN</td>\n",
       "      <td>NaN</td>\n",
       "      <td>NaN</td>\n",
       "      <td>NaN</td>\n",
       "      <td>NaN</td>\n",
       "      <td>NaN</td>\n",
       "      <td>NaN</td>\n",
       "      <td>NaN</td>\n",
       "      <td>NaN</td>\n",
       "      <td>NaN</td>\n",
       "      <td>NaN</td>\n",
       "      <td>NaN</td>\n",
       "      <td>NaN</td>\n",
       "      <td>NaN</td>\n",
       "      <td>NaN</td>\n",
       "    </tr>\n",
       "  </tbody>\n",
       "</table>\n",
       "</div>"
      ],
      "text/plain": [
       "   Unnamed: 0        Oferta od  Kategoria Marka pojazdu  Model pojazdu  \\\n",
       "0           0            Firmy  Motocykle         Kymco            MXU   \n",
       "1           1            Firmy  Motocykle        Segway  Fugleman UT10   \n",
       "2           2  Osoby prywatnej  Motocykle        Yamaha             FZ   \n",
       "3           3  Osoby prywatnej  Motocykle        Ducati    Multistrada   \n",
       "4           4  Osoby prywatnej  Motocykle      Kawasaki             ZX   \n",
       "\n",
       "   Rok produkcji   Przebieg Pojemność skokowa     Moc Rodzaj napędu  \\\n",
       "0           2021       1 km           695 cm3   40 KM   Wał kardana   \n",
       "1           2021       1 km         1 000 cm3  105 KM   Wał kardana   \n",
       "2           2010  33 668 km           998 cm3  150 KM       Łańcuch   \n",
       "3           2010  56 000 km               NaN     NaN           NaN   \n",
       "4           2007  16 000 km           250 cm3     NaN           NaN   \n",
       "\n",
       "    Typ Silnika Rodzaj paliwa Skrzynia biegów Typ nadwozia       Kolor  \\\n",
       "0  Czterosuwowy       Benzyna    Automatyczna         Quad      Czarny   \n",
       "1  Czterosuwowy       Benzyna    Bezstopniowa         Quad  Inny kolor   \n",
       "2  Czterosuwowy       Benzyna        Manualna        Naked       Biały   \n",
       "3           NaN       Benzyna             NaN  Turystyczny       Biały   \n",
       "4           NaN       Benzyna             NaN     Sportowy   Niebieski   \n",
       "\n",
       "  Możliwość finansowania Faktura VAT Leasing Kraj pochodzenia Bezwypadkowy  \\\n",
       "0                    Tak         Tak     Tak             Inny          Tak   \n",
       "1                    Tak         Tak     Tak              NaN          Tak   \n",
       "2                    NaN         NaN     NaN          Francja          NaN   \n",
       "3                    NaN         NaN     NaN              NaN          NaN   \n",
       "4                    NaN         NaN     NaN              NaN          Tak   \n",
       "\n",
       "      Stan Numer rejestracyjny pojazdu Zarejestrowany w Polsce Rodzaj koloru  \\\n",
       "0     Nowe                         NaN                     NaN           NaN   \n",
       "1     Nowe                         NaN                     NaN           NaN   \n",
       "2  Używane                     PK 6785                     Tak           NaN   \n",
       "3  Używane                         NaN                     NaN       Metalik   \n",
       "4  Używane                         NaN                     Tak       Metalik   \n",
       "\n",
       "  Pierwsza rejestracja Serwisowany w ASO Pierwszy właściciel  \\\n",
       "0                  NaN               NaN                 NaN   \n",
       "1                  NaN               NaN                 NaN   \n",
       "2                  NaN               NaN                 NaN   \n",
       "3                  NaN               NaN                 NaN   \n",
       "4                  NaN               NaN                 NaN   \n",
       "\n",
       "  Gwarancja dealerska (w cenie) Tuning VAT marża Okres gwarancji producenta  \\\n",
       "0                           NaN    NaN       NaN                        NaN   \n",
       "1                           NaN    NaN       NaN                        NaN   \n",
       "2                           NaN    NaN       NaN                        NaN   \n",
       "3                           NaN    NaN       NaN                        NaN   \n",
       "4                           NaN    NaN       NaN                        NaN   \n",
       "\n",
       "   Liczba pozostałych rat Miesięczna rata Opłata początkowa Wartość wykupu  \\\n",
       "0                     NaN             NaN               NaN            NaN   \n",
       "1                     NaN             NaN               NaN            NaN   \n",
       "2                     NaN             NaN               NaN            NaN   \n",
       "3                     NaN             NaN               NaN            NaN   \n",
       "4                     NaN             NaN               NaN            NaN   \n",
       "\n",
       "  lub do (przebieg km) Uszkodzony  VIN Zarejestrowany jako zabytek  \n",
       "0                  NaN        NaN  NaN                         NaN  \n",
       "1                  NaN        NaN  NaN                         NaN  \n",
       "2                  NaN        NaN  NaN                         NaN  \n",
       "3                  NaN        NaN  NaN                         NaN  \n",
       "4                  NaN        NaN  NaN                         NaN  "
      ]
     },
     "execution_count": 110,
     "metadata": {},
     "output_type": "execute_result"
    }
   ],
   "source": [
    "# Predictor Attributes\n",
    "col = 'price'\n",
    "X = df.loc[:, df.columns != col]\n",
    "X.head()"
   ]
  },
  {
   "cell_type": "code",
   "execution_count": 111,
   "id": "a3ba8db1",
   "metadata": {},
   "outputs": [
    {
     "data": {
      "text/plain": [
       "0       45900\n",
       "1       76990\n",
       "2       20500\n",
       "3       32000\n",
       "4        4999\n",
       "        ...  \n",
       "7476    27900\n",
       "7477    57900\n",
       "7478    11990\n",
       "7479    15900\n",
       "7480    25500\n",
       "Name: price, Length: 7481, dtype: int64"
      ]
     },
     "execution_count": 111,
     "metadata": {},
     "output_type": "execute_result"
    }
   ],
   "source": [
    "# Target Attributes\n",
    "Y = df.iloc[:, 21]\n",
    "Y"
   ]
  },
  {
   "cell_type": "markdown",
   "id": "bf5ad4d0",
   "metadata": {},
   "source": [
    "![ML](https://user-images.githubusercontent.com/7065401/52071924-c003ad80-2562-11e9-8297-1c6595f8a7ff.png)"
   ]
  },
  {
   "cell_type": "markdown",
   "id": "15b536e8",
   "metadata": {},
   "source": [
    "## Part 2: Data Preprocessing\n",
    "Data Preprocessing is a very important part of Building the Model. In this part, first, we select the features that are important for the application. In our case, we select the top 15 features from 40 and ignore the rest of the features. After that, we handled some misclassification of the object type. Then, we check the missing value in that 15 features and we find some missing values to handle we use the mode method for object value, and for the numerical value, we use the mean strategy. After that, we implement onehoteconder method to convert our obj value into numerical value because the machine learning model doesn't accept string value directly therefore we converted. And in the last part of Data Preprocessing, we split our data into training and test. And the ratio of train and test is 80% data for training and 20% for testing."
   ]
  },
  {
   "cell_type": "markdown",
   "id": "7aa537f5",
   "metadata": {},
   "source": [
    "![ML](https://user-images.githubusercontent.com/7065401/52071924-c003ad80-2562-11e9-8297-1c6595f8a7ff.png)"
   ]
  },
  {
   "cell_type": "markdown",
   "id": "6c942656",
   "metadata": {},
   "source": [
    "### 2.1 Select Top Features"
   ]
  },
  {
   "cell_type": "code",
   "execution_count": 113,
   "id": "f603a589",
   "metadata": {},
   "outputs": [
    {
     "data": {
      "text/html": [
       "<div>\n",
       "<style scoped>\n",
       "    .dataframe tbody tr th:only-of-type {\n",
       "        vertical-align: middle;\n",
       "    }\n",
       "\n",
       "    .dataframe tbody tr th {\n",
       "        vertical-align: top;\n",
       "    }\n",
       "\n",
       "    .dataframe thead th {\n",
       "        text-align: right;\n",
       "    }\n",
       "</style>\n",
       "<table border=\"1\" class=\"dataframe\">\n",
       "  <thead>\n",
       "    <tr style=\"text-align: right;\">\n",
       "      <th></th>\n",
       "      <th>Rok produkcji</th>\n",
       "      <th>Przebieg</th>\n",
       "      <th>Pojemność skokowa</th>\n",
       "      <th>Moc</th>\n",
       "    </tr>\n",
       "  </thead>\n",
       "  <tbody>\n",
       "    <tr>\n",
       "      <th>0</th>\n",
       "      <td>2021</td>\n",
       "      <td>1 km</td>\n",
       "      <td>695 cm3</td>\n",
       "      <td>40 KM</td>\n",
       "    </tr>\n",
       "    <tr>\n",
       "      <th>1</th>\n",
       "      <td>2021</td>\n",
       "      <td>1 km</td>\n",
       "      <td>1 000 cm3</td>\n",
       "      <td>105 KM</td>\n",
       "    </tr>\n",
       "    <tr>\n",
       "      <th>2</th>\n",
       "      <td>2010</td>\n",
       "      <td>33 668 km</td>\n",
       "      <td>998 cm3</td>\n",
       "      <td>150 KM</td>\n",
       "    </tr>\n",
       "    <tr>\n",
       "      <th>3</th>\n",
       "      <td>2010</td>\n",
       "      <td>56 000 km</td>\n",
       "      <td>NaN</td>\n",
       "      <td>NaN</td>\n",
       "    </tr>\n",
       "    <tr>\n",
       "      <th>4</th>\n",
       "      <td>2007</td>\n",
       "      <td>16 000 km</td>\n",
       "      <td>250 cm3</td>\n",
       "      <td>NaN</td>\n",
       "    </tr>\n",
       "  </tbody>\n",
       "</table>\n",
       "</div>"
      ],
      "text/plain": [
       "   Rok produkcji   Przebieg Pojemność skokowa     Moc\n",
       "0           2021       1 km           695 cm3   40 KM\n",
       "1           2021       1 km         1 000 cm3  105 KM\n",
       "2           2010  33 668 km           998 cm3  150 KM\n",
       "3           2010  56 000 km               NaN     NaN\n",
       "4           2007  16 000 km           250 cm3     NaN"
      ]
     },
     "execution_count": 113,
     "metadata": {},
     "output_type": "execute_result"
    }
   ],
   "source": [
    "X = df.iloc[:, 5:9]\n",
    "X.head()"
   ]
  },
  {
   "cell_type": "markdown",
   "id": "1f5d93f9",
   "metadata": {},
   "source": [
    "### 2.2 Handled the Missing Values"
   ]
  },
  {
   "cell_type": "markdown",
   "id": "4054ea0d",
   "metadata": {},
   "source": [
    "#### 2.2.1 Select categorical variables(obj) "
   ]
  },
  {
   "cell_type": "code",
   "execution_count": 114,
   "id": "e3f5dc5b",
   "metadata": {},
   "outputs": [
    {
     "data": {
      "text/html": [
       "<div>\n",
       "<style scoped>\n",
       "    .dataframe tbody tr th:only-of-type {\n",
       "        vertical-align: middle;\n",
       "    }\n",
       "\n",
       "    .dataframe tbody tr th {\n",
       "        vertical-align: top;\n",
       "    }\n",
       "\n",
       "    .dataframe thead th {\n",
       "        text-align: right;\n",
       "    }\n",
       "</style>\n",
       "<table border=\"1\" class=\"dataframe\">\n",
       "  <thead>\n",
       "    <tr style=\"text-align: right;\">\n",
       "      <th></th>\n",
       "      <th>Przebieg</th>\n",
       "      <th>Pojemność skokowa</th>\n",
       "      <th>Moc</th>\n",
       "    </tr>\n",
       "  </thead>\n",
       "  <tbody>\n",
       "    <tr>\n",
       "      <th>0</th>\n",
       "      <td>1 km</td>\n",
       "      <td>695 cm3</td>\n",
       "      <td>40 KM</td>\n",
       "    </tr>\n",
       "    <tr>\n",
       "      <th>1</th>\n",
       "      <td>1 km</td>\n",
       "      <td>1 000 cm3</td>\n",
       "      <td>105 KM</td>\n",
       "    </tr>\n",
       "    <tr>\n",
       "      <th>2</th>\n",
       "      <td>33 668 km</td>\n",
       "      <td>998 cm3</td>\n",
       "      <td>150 KM</td>\n",
       "    </tr>\n",
       "    <tr>\n",
       "      <th>3</th>\n",
       "      <td>56 000 km</td>\n",
       "      <td>NaN</td>\n",
       "      <td>NaN</td>\n",
       "    </tr>\n",
       "    <tr>\n",
       "      <th>4</th>\n",
       "      <td>16 000 km</td>\n",
       "      <td>250 cm3</td>\n",
       "      <td>NaN</td>\n",
       "    </tr>\n",
       "  </tbody>\n",
       "</table>\n",
       "</div>"
      ],
      "text/plain": [
       "    Przebieg Pojemność skokowa     Moc\n",
       "0       1 km           695 cm3   40 KM\n",
       "1       1 km         1 000 cm3  105 KM\n",
       "2  33 668 km           998 cm3  150 KM\n",
       "3  56 000 km               NaN     NaN\n",
       "4  16 000 km           250 cm3     NaN"
      ]
     },
     "execution_count": 114,
     "metadata": {},
     "output_type": "execute_result"
    }
   ],
   "source": [
    "cat_vars = X.select_dtypes(include='object')\n",
    "cat_vars.head()"
   ]
  },
  {
   "cell_type": "markdown",
   "id": "45ce1c46",
   "metadata": {},
   "source": [
    "#### 2.2.2 Select those who has missing variables(obj) "
   ]
  },
  {
   "cell_type": "code",
   "execution_count": 60,
   "id": "3d289517",
   "metadata": {},
   "outputs": [
    {
     "data": {
      "text/plain": [
       "Index(['Przebieg', 'Pojemność skokowa', 'Moc', 'Rodzaj napędu', 'Typ Silnika',\n",
       "       'Skrzynia biegów'],\n",
       "      dtype='object')"
      ]
     },
     "execution_count": 60,
     "metadata": {},
     "output_type": "execute_result"
    }
   ],
   "source": [
    "isnull_per=cat_vars.isnull().mean()*100\n",
    "miss_vars = isnull_per[isnull_per >0].keys()\n",
    "miss_vars"
   ]
  },
  {
   "cell_type": "markdown",
   "id": "0d29deea",
   "metadata": {},
   "source": [
    "#### 2.2.3 Apply mode method to fill missing values(obj) "
   ]
  },
  {
   "cell_type": "code",
   "execution_count": 115,
   "id": "8dec6bd9",
   "metadata": {},
   "outputs": [],
   "source": [
    "X['Przebieg'] = X['Przebieg'].fillna(X['Przebieg'].mode()[0])"
   ]
  },
  {
   "cell_type": "code",
   "execution_count": 116,
   "id": "0800a100",
   "metadata": {},
   "outputs": [],
   "source": [
    "X['Pojemność skokowa'] = X['Pojemność skokowa'].fillna(df['Pojemność skokowa'].mode()[0])"
   ]
  },
  {
   "cell_type": "code",
   "execution_count": 117,
   "id": "12dc99fb",
   "metadata": {},
   "outputs": [],
   "source": [
    "X['Moc'] = X['Moc'].fillna(X['Moc'].mode()[0])"
   ]
  },
  {
   "cell_type": "code",
   "execution_count": 64,
   "id": "9768bdfd",
   "metadata": {},
   "outputs": [],
   "source": [
    "X['Rodzaj napędu'] = X['Rodzaj napędu'].fillna(X['Rodzaj napędu'].mode()[0])"
   ]
  },
  {
   "cell_type": "code",
   "execution_count": 65,
   "id": "4aab68bc",
   "metadata": {},
   "outputs": [],
   "source": [
    "X['Typ Silnika'] = X['Typ Silnika'].fillna(X['Typ Silnika'].mode()[0])"
   ]
  },
  {
   "cell_type": "code",
   "execution_count": 66,
   "id": "5e174ba4",
   "metadata": {},
   "outputs": [],
   "source": [
    "X['Typ Silnika'] = X['Typ Silnika'].fillna(X['Typ Silnika'].mode()[0])"
   ]
  },
  {
   "cell_type": "code",
   "execution_count": 67,
   "id": "cbdc5419",
   "metadata": {},
   "outputs": [],
   "source": [
    "X['Skrzynia biegów'] = X['Skrzynia biegów'].fillna(X['Skrzynia biegów'].mode()[0])"
   ]
  },
  {
   "cell_type": "markdown",
   "id": "d0e79e6c",
   "metadata": {},
   "source": [
    "#### 2.2.4 Check the missing value after mode method "
   ]
  },
  {
   "cell_type": "code",
   "execution_count": 118,
   "id": "c056af6f",
   "metadata": {
    "scrolled": true
   },
   "outputs": [
    {
     "data": {
      "text/plain": [
       "Rok produkcji        0\n",
       "Przebieg             0\n",
       "Pojemność skokowa    0\n",
       "Moc                  0\n",
       "dtype: int64"
      ]
     },
     "execution_count": 118,
     "metadata": {},
     "output_type": "execute_result"
    }
   ],
   "source": [
    "X.isnull().sum()"
   ]
  },
  {
   "cell_type": "markdown",
   "id": "c25000ea",
   "metadata": {},
   "source": [
    "### 2.3 Handled Missclassfication Object Type "
   ]
  },
  {
   "cell_type": "markdown",
   "id": "398f725d",
   "metadata": {},
   "source": [
    "#### 2.3.1 Convert Str to Int which was misclassify"
   ]
  },
  {
   "cell_type": "code",
   "execution_count": 119,
   "id": "6fbcf8a6",
   "metadata": {},
   "outputs": [],
   "source": [
    "X['Przebieg'] = X['Przebieg'].str.extract(r'(\\d+)').astype(int)"
   ]
  },
  {
   "cell_type": "code",
   "execution_count": 120,
   "id": "0afc7c9c",
   "metadata": {},
   "outputs": [],
   "source": [
    "X['Pojemność skokowa'] = X['Pojemność skokowa'].str.extract(r'(\\d+)').astype(int)"
   ]
  },
  {
   "cell_type": "code",
   "execution_count": 121,
   "id": "22724c5e",
   "metadata": {},
   "outputs": [],
   "source": [
    "X['Moc'] = X['Moc'].str.extract(r'(\\d+)').astype(int)"
   ]
  },
  {
   "cell_type": "code",
   "execution_count": 122,
   "id": "79d6dd11",
   "metadata": {},
   "outputs": [
    {
     "data": {
      "text/html": [
       "<div>\n",
       "<style scoped>\n",
       "    .dataframe tbody tr th:only-of-type {\n",
       "        vertical-align: middle;\n",
       "    }\n",
       "\n",
       "    .dataframe tbody tr th {\n",
       "        vertical-align: top;\n",
       "    }\n",
       "\n",
       "    .dataframe thead th {\n",
       "        text-align: right;\n",
       "    }\n",
       "</style>\n",
       "<table border=\"1\" class=\"dataframe\">\n",
       "  <thead>\n",
       "    <tr style=\"text-align: right;\">\n",
       "      <th></th>\n",
       "      <th>Rok produkcji</th>\n",
       "      <th>Przebieg</th>\n",
       "      <th>Pojemność skokowa</th>\n",
       "      <th>Moc</th>\n",
       "    </tr>\n",
       "  </thead>\n",
       "  <tbody>\n",
       "    <tr>\n",
       "      <th>0</th>\n",
       "      <td>2021</td>\n",
       "      <td>1</td>\n",
       "      <td>695</td>\n",
       "      <td>40</td>\n",
       "    </tr>\n",
       "    <tr>\n",
       "      <th>1</th>\n",
       "      <td>2021</td>\n",
       "      <td>1</td>\n",
       "      <td>1</td>\n",
       "      <td>105</td>\n",
       "    </tr>\n",
       "    <tr>\n",
       "      <th>2</th>\n",
       "      <td>2010</td>\n",
       "      <td>33</td>\n",
       "      <td>998</td>\n",
       "      <td>150</td>\n",
       "    </tr>\n",
       "    <tr>\n",
       "      <th>3</th>\n",
       "      <td>2010</td>\n",
       "      <td>56</td>\n",
       "      <td>125</td>\n",
       "      <td>15</td>\n",
       "    </tr>\n",
       "    <tr>\n",
       "      <th>4</th>\n",
       "      <td>2007</td>\n",
       "      <td>16</td>\n",
       "      <td>250</td>\n",
       "      <td>15</td>\n",
       "    </tr>\n",
       "    <tr>\n",
       "      <th>...</th>\n",
       "      <td>...</td>\n",
       "      <td>...</td>\n",
       "      <td>...</td>\n",
       "      <td>...</td>\n",
       "    </tr>\n",
       "    <tr>\n",
       "      <th>7476</th>\n",
       "      <td>2021</td>\n",
       "      <td>1</td>\n",
       "      <td>500</td>\n",
       "      <td>47</td>\n",
       "    </tr>\n",
       "    <tr>\n",
       "      <th>7477</th>\n",
       "      <td>2015</td>\n",
       "      <td>1</td>\n",
       "      <td>1</td>\n",
       "      <td>131</td>\n",
       "    </tr>\n",
       "    <tr>\n",
       "      <th>7478</th>\n",
       "      <td>2022</td>\n",
       "      <td>1</td>\n",
       "      <td>125</td>\n",
       "      <td>15</td>\n",
       "    </tr>\n",
       "    <tr>\n",
       "      <th>7479</th>\n",
       "      <td>2020</td>\n",
       "      <td>19</td>\n",
       "      <td>650</td>\n",
       "      <td>80</td>\n",
       "    </tr>\n",
       "    <tr>\n",
       "      <th>7480</th>\n",
       "      <td>2020</td>\n",
       "      <td>6</td>\n",
       "      <td>754</td>\n",
       "      <td>77</td>\n",
       "    </tr>\n",
       "  </tbody>\n",
       "</table>\n",
       "<p>7481 rows × 4 columns</p>\n",
       "</div>"
      ],
      "text/plain": [
       "      Rok produkcji  Przebieg  Pojemność skokowa  Moc\n",
       "0              2021         1                695   40\n",
       "1              2021         1                  1  105\n",
       "2              2010        33                998  150\n",
       "3              2010        56                125   15\n",
       "4              2007        16                250   15\n",
       "...             ...       ...                ...  ...\n",
       "7476           2021         1                500   47\n",
       "7477           2015         1                  1  131\n",
       "7478           2022         1                125   15\n",
       "7479           2020        19                650   80\n",
       "7480           2020         6                754   77\n",
       "\n",
       "[7481 rows x 4 columns]"
      ]
     },
     "execution_count": 122,
     "metadata": {},
     "output_type": "execute_result"
    }
   ],
   "source": [
    "X"
   ]
  },
  {
   "cell_type": "markdown",
   "id": "f3f09b6c",
   "metadata": {},
   "source": [
    "#### 2.3.2 Check type of feature after handled "
   ]
  },
  {
   "cell_type": "code",
   "execution_count": 123,
   "id": "15853c5d",
   "metadata": {},
   "outputs": [
    {
     "name": "stdout",
     "output_type": "stream",
     "text": [
      "<class 'pandas.core.frame.DataFrame'>\n",
      "RangeIndex: 7481 entries, 0 to 7480\n",
      "Data columns (total 4 columns):\n",
      " #   Column             Non-Null Count  Dtype\n",
      "---  ------             --------------  -----\n",
      " 0   Rok produkcji      7481 non-null   int64\n",
      " 1   Przebieg           7481 non-null   int64\n",
      " 2   Pojemność skokowa  7481 non-null   int64\n",
      " 3   Moc                7481 non-null   int64\n",
      "dtypes: int64(4)\n",
      "memory usage: 233.9 KB\n"
     ]
    }
   ],
   "source": [
    "X.info()"
   ]
  },
  {
   "cell_type": "markdown",
   "id": "75487e82",
   "metadata": {},
   "source": [
    "### 2.4 OneHotEncoder "
   ]
  },
  {
   "cell_type": "markdown",
   "id": "99d602ad",
   "metadata": {},
   "source": [
    "#### 2.4.1 Import library from sklearn"
   ]
  },
  {
   "cell_type": "code",
   "execution_count": 71,
   "id": "c76af757",
   "metadata": {},
   "outputs": [],
   "source": [
    "from sklearn.preprocessing import OneHotEncoder"
   ]
  },
  {
   "cell_type": "markdown",
   "id": "c2c4e3e8",
   "metadata": {},
   "source": [
    "#### 2.4.2 Initialize the OneHotEncoder"
   ]
  },
  {
   "cell_type": "code",
   "execution_count": 75,
   "id": "2237a5aa",
   "metadata": {},
   "outputs": [],
   "source": [
    "one_hot_encoder = OneHotEncoder(sparse=False,)\n"
   ]
  },
  {
   "cell_type": "markdown",
   "id": "30f333ef",
   "metadata": {},
   "source": [
    "#### 2.4.3 Fit the OHE"
   ]
  },
  {
   "cell_type": "code",
   "execution_count": 76,
   "id": "10f545c4",
   "metadata": {},
   "outputs": [],
   "source": [
    "one_hot_encoder_var = one_hot_encoder.fit_transform(X)"
   ]
  },
  {
   "cell_type": "code",
   "execution_count": 82,
   "id": "ad90a3e4",
   "metadata": {},
   "outputs": [],
   "source": [
    "one_hot_encoder_ = one_hot_encoder.fit(X)"
   ]
  },
  {
   "cell_type": "code",
   "execution_count": 77,
   "id": "7b33a48b",
   "metadata": {},
   "outputs": [
    {
     "data": {
      "text/plain": [
       "array([[1., 0., 1., ..., 0., 0., 0.],\n",
       "       [1., 0., 1., ..., 0., 0., 0.],\n",
       "       [0., 1., 1., ..., 0., 0., 0.],\n",
       "       ...,\n",
       "       [1., 0., 1., ..., 0., 0., 0.],\n",
       "       [1., 0., 1., ..., 0., 0., 0.],\n",
       "       [1., 0., 1., ..., 0., 0., 0.]])"
      ]
     },
     "execution_count": 77,
     "metadata": {},
     "output_type": "execute_result"
    }
   ],
   "source": [
    "one_hot_encoder_var"
   ]
  },
  {
   "cell_type": "markdown",
   "id": "b006b377",
   "metadata": {},
   "source": [
    "### 2.5 Split the Dataset"
   ]
  },
  {
   "cell_type": "code",
   "execution_count": 124,
   "id": "29446f93",
   "metadata": {},
   "outputs": [],
   "source": [
    "from sklearn.model_selection import train_test_split"
   ]
  },
  {
   "cell_type": "markdown",
   "id": "200bbd1e",
   "metadata": {},
   "source": [
    "#### 2.5.1 Split the Dataset into Train and Test"
   ]
  },
  {
   "cell_type": "code",
   "execution_count": 36,
   "id": "c90770f7",
   "metadata": {},
   "outputs": [],
   "source": [
    "Y = df.iloc[:, 21]\n",
    "X_train, X_test, y_train, y_test = train_test_split(X, Y, test_size = 0.2, random_state = 42)"
   ]
  },
  {
   "cell_type": "markdown",
   "id": "8cabc54e",
   "metadata": {},
   "source": [
    "#### 2.5.2 Training Data"
   ]
  },
  {
   "cell_type": "code",
   "execution_count": 37,
   "id": "6f91dea9",
   "metadata": {},
   "outputs": [
    {
     "name": "stdout",
     "output_type": "stream",
     "text": [
      "X_train (5984, 1556)\n",
      "y_train (5984,)\n"
     ]
    }
   ],
   "source": [
    "print(\"X_train\", X_train.shape)\n",
    "print(\"y_train\", y_train.shape)"
   ]
  },
  {
   "cell_type": "markdown",
   "id": "222a98db",
   "metadata": {},
   "source": [
    "#### 2.5.3 Testing Data"
   ]
  },
  {
   "cell_type": "code",
   "execution_count": 38,
   "id": "a6183b87",
   "metadata": {},
   "outputs": [
    {
     "name": "stdout",
     "output_type": "stream",
     "text": [
      "X_test (1497, 1556)\n",
      "y_test (1497,)\n"
     ]
    }
   ],
   "source": [
    "print(\"X_test\", X_test.shape)\n",
    "print(\"y_test\", y_test.shape)"
   ]
  },
  {
   "cell_type": "markdown",
   "id": "7b57f0e3",
   "metadata": {},
   "source": [
    "![ML](https://user-images.githubusercontent.com/7065401/52071924-c003ad80-2562-11e9-8297-1c6595f8a7ff.png)\n",
    "\n",
    "## Part 3: Build the SVM Model\n",
    "In this part we build the SVM regression model which is one of the most important part of our application. And we build Suppport Vector Machine from scratch and deploy end to end to model.\n",
    "\n",
    "Support Vector Machines are supervised learning models with associated learning algorithms that analyze data used for classification and regression analysis. In Support Vector Regression, the straight line that is required to fit the data is referred to as hyperplane.\n",
    "\n",
    "The objective of a support vector machine algorithm is to find a hyperplane in an n-dimensional space that distinctly classifies the data points. The data points on either side of the hyperplane that are closest to the hyperplane are called Support Vectors. These influence the position and orientation of the hyperplane and thus help build the SVM.\n",
    "\n",
    "https://medium.com/machine-learning-researcher/support-vector-machine-a57e575b05bb"
   ]
  },
  {
   "cell_type": "markdown",
   "id": "72b25efd",
   "metadata": {},
   "source": [
    "![ML](https://user-images.githubusercontent.com/7065401/52071924-c003ad80-2562-11e9-8297-1c6595f8a7ff.png)"
   ]
  },
  {
   "cell_type": "markdown",
   "id": "4fec5ab2",
   "metadata": {},
   "source": [
    "### 3.1 Build the Support Vector Machine Model"
   ]
  },
  {
   "cell_type": "code",
   "execution_count": 42,
   "id": "299fcd10",
   "metadata": {},
   "outputs": [],
   "source": [
    "import tensorflow"
   ]
  },
  {
   "cell_type": "code",
   "execution_count": 39,
   "id": "d18b4a6b",
   "metadata": {},
   "outputs": [],
   "source": [
    "from sklearn.svm import SVR\n",
    "class _SVR(object):\n",
    "    def __init__(self, epsilon=0.5):\n",
    "        self.epsilon = epsilon\n",
    "        \n",
    "    def fit(self, X, y, epochs=100, learning_rate=0.1):\n",
    "        self.sess = tf.Session()\n",
    "        \n",
    "        feature_len = X.shape[-1] if len(X.shape) > 1 else 1\n",
    "        \n",
    "        if len(X.shape) == 1:\n",
    "            X = X.reshape(-1, 1)\n",
    "        if len(y.shape) == 1:\n",
    "            y = y.reshape(-1, 1)\n",
    "        \n",
    "        self.X = tf.placeholder(dtype=tf.float32, shape=(None, feature_len))\n",
    "        self.y = tf.placeholder(dtype=tf.float32, shape=(None, 1))\n",
    "        \n",
    "        self.W = tf.Variable(tf.random_normal(shape=(feature_len, 1)))\n",
    "        self.b = tf.Variable(tf.random_normal(shape=(1,)))\n",
    "        \n",
    "        self.y_pred = tf.matmul(self.X, self.W) + self.b\n",
    "        \n",
    "        #self.loss = tf.reduce_mean(tf.square(self.y - self.y_pred))\n",
    "        #self.loss = tf.reduce_mean(tf.cond(self.y_pred - self.y < self.epsilon, lambda: 0, lambda: 1))\n",
    "        \n",
    "        # Second part of following equation, loss is a function of how much the error exceeds a defined value, epsilon\n",
    "        # Error lower than epsilon = no penalty.\n",
    "        self.loss = tf.norm(self.W)/2 + tf.reduce_mean(tf.maximum(0., tf.abs(self.y_pred - self.y) - self.epsilon))\n",
    "       # self.loss = tf.reduce_mean(tf.maximum(0., tf.abs(self.y_pred - self.y) - self.epsilon))\n",
    "        \n",
    "        opt = tf.train.GradientDescentOptimizer(learning_rate=learning_rate)\n",
    "        opt_op = opt.minimize(self.loss)\n",
    "\n",
    "        self.sess.run(tf.global_variables_initializer())\n",
    "        \n",
    "        for i in range(epochs):\n",
    "            loss = self.sess.run(\n",
    "                self.loss, \n",
    "                {\n",
    "                    self.X: X,\n",
    "                    self.y: y\n",
    "                }\n",
    "            )\n",
    "            print(\"{}/{}: loss: {}\".format(i + 1, epochs, loss))\n",
    "            \n",
    "            self.sess.run(\n",
    "                opt_op, \n",
    "                {\n",
    "                    self.X: X,\n",
    "                    self.y: y\n",
    "                }\n",
    "            )\n",
    "            \n",
    "        return self\n",
    "    \n",
    "        def predict(self, X, y=None):\n",
    "            if len(X.shape) == 1:\n",
    "                X = X.reshape(-1, 1)\n",
    "            \n",
    "            y_pred = self.sess.run(\n",
    "                self.y_pred, \n",
    "                {\n",
    "                    self.X: X \n",
    "                }\n",
    "            )\n",
    "            return y_pred"
   ]
  },
  {
   "cell_type": "markdown",
   "id": "7bf09e8b",
   "metadata": {},
   "source": [
    "#### 3.1.1 Init the Model"
   ]
  },
  {
   "cell_type": "code",
   "execution_count": 40,
   "id": "e4e4d937",
   "metadata": {},
   "outputs": [],
   "source": [
    "model = SVR(kernel = 'rbf')"
   ]
  },
  {
   "cell_type": "markdown",
   "id": "9dbe993e",
   "metadata": {},
   "source": [
    "#### 3.1.2 Fit the Data to the Model"
   ]
  },
  {
   "cell_type": "code",
   "execution_count": 41,
   "id": "63a143a4",
   "metadata": {},
   "outputs": [
    {
     "data": {
      "text/plain": [
       "SVR()"
      ]
     },
     "execution_count": 41,
     "metadata": {},
     "output_type": "execute_result"
    }
   ],
   "source": [
    "model.fit(X_train, y_train)"
   ]
  },
  {
   "cell_type": "markdown",
   "id": "937cfb15",
   "metadata": {},
   "source": [
    "#### 3.1.3 Predict the Test Data"
   ]
  },
  {
   "cell_type": "code",
   "execution_count": 46,
   "id": "f240d278",
   "metadata": {},
   "outputs": [
    {
     "data": {
      "text/plain": [
       "array([19029.99098247, 18933.9182797 , 18917.95147325, ...,\n",
       "       18948.8094085 , 19035.79666296, 18895.75001974])"
      ]
     },
     "execution_count": 46,
     "metadata": {},
     "output_type": "execute_result"
    }
   ],
   "source": [
    "y_predict = model.predict(X_test)\n",
    "y_predict"
   ]
  },
  {
   "cell_type": "code",
   "execution_count": null,
   "id": "55bedeb9",
   "metadata": {},
   "outputs": [],
   "source": []
  },
  {
   "cell_type": "code",
   "execution_count": 48,
   "id": "1ac043e5",
   "metadata": {},
   "outputs": [],
   "source": [
    "input1 = ['Firmy', 'Motocykle', 'Kymco', 'MXU', 2021,  1, 695, 40, 'Wał kardana', 'Czterosuwowy', 'Benzyna', 'Automatyczna', 'Quad', 'Czarny']"
   ]
  },
  {
   "cell_type": "code",
   "execution_count": 49,
   "id": "54677d86",
   "metadata": {},
   "outputs": [
    {
     "data": {
      "text/plain": [
       "array([[1., 0., 1., ..., 0., 0., 0.]])"
      ]
     },
     "execution_count": 49,
     "metadata": {},
     "output_type": "execute_result"
    }
   ],
   "source": [
    "one_hot_encoder.transform([input1])"
   ]
  },
  {
   "cell_type": "markdown",
   "id": "769cdee5",
   "metadata": {},
   "source": [
    "![ML](https://user-images.githubusercontent.com/7065401/52071924-c003ad80-2562-11e9-8297-1c6595f8a7ff.png)\n",
    "\n",
    "## Part 4: Evaluate the Result\n",
    "In this part, we evaluate the Support Vector Machine Model. And for evaluation we will use three metrics. <br>\n",
    "`R Square`: R Square measures how much variability in dependent variable can be explained by the model. <br>\n",
    "`Mean Square Error`: MSE is calculated by the sum of square of prediction error which is real output minus predicted output and then divide by the number of data points. It gives you an absolute number on how much your predicted results deviate from the actual number. <br>\n",
    "`Mean Absolute Error`: Mean Absolute Error(MAE) is similar to Mean Square Error(MSE). However, instead of the sum of square of error in MSE, MAE is taking the sum of the absolute value of error.\n",
    "\n",
    "![ML](https://user-images.githubusercontent.com/7065401/52071924-c003ad80-2562-11e9-8297-1c6595f8a7ff.png)"
   ]
  },
  {
   "cell_type": "markdown",
   "id": "aa44cee2",
   "metadata": {},
   "source": [
    "### 4.1: Evaluate the Model Performance"
   ]
  },
  {
   "cell_type": "code",
   "execution_count": 47,
   "id": "16df8bde",
   "metadata": {},
   "outputs": [],
   "source": [
    "from sklearn.metrics import r2_score, mean_squared_error, mean_absolute_error"
   ]
  },
  {
   "cell_type": "markdown",
   "id": "97f5508e",
   "metadata": {},
   "source": [
    "#### 4.1.1: Calculate the Results"
   ]
  },
  {
   "cell_type": "code",
   "execution_count": 48,
   "id": "9f59c304",
   "metadata": {},
   "outputs": [
    {
     "name": "stdout",
     "output_type": "stream",
     "text": [
      "R Square: -392860.1998408903\n",
      "Mean Squared Error: 981360801.804831\n",
      "Mean Absolute Error: 19451.57029283147\n"
     ]
    }
   ],
   "source": [
    "# R Square\n",
    "R_Square = r2_score(y_predict, y_test)\n",
    "print('R Square:', R_Square) \n",
    "\n",
    "# Mean Square Error\n",
    "MSE = mean_squared_error(y_predict, y_test)\n",
    "print('Mean Squared Error:', MSE)\n",
    "\n",
    "# Mean Square Error\n",
    "MAE = mean_absolute_error(y_predict, y_test)\n",
    "print('Mean Absolute Error:', MAE)"
   ]
  },
  {
   "cell_type": "markdown",
   "id": "19e08ad8",
   "metadata": {},
   "source": [
    "![ML](https://user-images.githubusercontent.com/7065401/52071924-c003ad80-2562-11e9-8297-1c6595f8a7ff.png)\n",
    "\n",
    "## Part 5: Save the Model\n",
    "In this part, we save our model. To do so we use pickle library and later we use this model to build application.\n",
    "\n",
    "![ML](https://user-images.githubusercontent.com/7065401/52071924-c003ad80-2562-11e9-8297-1c6595f8a7ff.png)"
   ]
  },
  {
   "cell_type": "markdown",
   "id": "04406bcd",
   "metadata": {},
   "source": [
    "### 5.1 Save the SVM and One_Hot_Encoder Model"
   ]
  },
  {
   "cell_type": "markdown",
   "id": "e42efa78",
   "metadata": {},
   "source": [
    "#### 5.1.1: Import Pickle Library to Save the File"
   ]
  },
  {
   "cell_type": "code",
   "execution_count": 49,
   "id": "f9eaaf22",
   "metadata": {},
   "outputs": [],
   "source": [
    "import pickle"
   ]
  },
  {
   "cell_type": "markdown",
   "id": "e296ff74",
   "metadata": {},
   "source": [
    "#### 5.1.2: Save the Model and Store into s3 bucket"
   ]
  },
  {
   "cell_type": "code",
   "execution_count": 51,
   "id": "f0c6fc18",
   "metadata": {},
   "outputs": [],
   "source": [
    "# Save the Model\n",
    "Support_Vector_Machine = open(\"model.pkl\",\"wb\")          \n",
    "pickle.dump(model,Support_Vector_Machine)                                  \n",
    "Support_Vector_Machine.close() "
   ]
  },
  {
   "cell_type": "code",
   "execution_count": 59,
   "id": "e08c816c",
   "metadata": {},
   "outputs": [],
   "source": [
    "# Save the OHE\n",
    "one_hot_encoder_variable = open(\"OHE.pkl\",\"wb\")        \n",
    "pickle.dump(one_hot_encoder_var,one_hot_encoder_variable)                                  \n",
    "one_hot_encoder_variable.close()"
   ]
  },
  {
   "cell_type": "code",
   "execution_count": 53,
   "id": "aef34496",
   "metadata": {},
   "outputs": [
    {
     "name": "stdout",
     "output_type": "stream",
     "text": [
      "us-east-1\n"
     ]
    }
   ],
   "source": [
    "my_region = boto3.session.Session().region_name \n",
    "print(my_region)"
   ]
  },
  {
   "cell_type": "code",
   "execution_count": 54,
   "id": "4d345e48",
   "metadata": {},
   "outputs": [
    {
     "name": "stdout",
     "output_type": "stream",
     "text": [
      "S3 bucket created successfully\n"
     ]
    }
   ],
   "source": [
    "bucket2 = 'bikemodelsave'\n",
    "s3 = boto3.resource('s3')\n",
    "try:\n",
    "    if  my_region == 'us-east-1':\n",
    "        s3.create_bucket(Bucket=bucket2)\n",
    "    print('S3 bucket created successfully')\n",
    "except Exception as e:\n",
    "    print('S3 error: ',e)"
   ]
  },
  {
   "cell_type": "code",
   "execution_count": 55,
   "id": "05e01e6b",
   "metadata": {},
   "outputs": [
    {
     "name": "stdout",
     "output_type": "stream",
     "text": [
      "s3://bikemodelsave/Save Model/output\n"
     ]
    }
   ],
   "source": [
    "prefix2 = 'Save Model'\n",
    "output_path2 ='s3://{}/{}/output'.format(bucket2, prefix2)\n",
    "print(output_path2)"
   ]
  },
  {
   "cell_type": "code",
   "execution_count": 63,
   "id": "670ebb84",
   "metadata": {},
   "outputs": [
    {
     "data": {
      "text/plain": [
       "<sagemaker.inputs.TrainingInput at 0x7f8260b73550>"
      ]
     },
     "execution_count": 63,
     "metadata": {},
     "output_type": "execute_result"
    }
   ],
   "source": [
    "boto3.Session().resource('s3').Bucket(bucket2).Object(os.path.join(prefix2, 'OHE.pkl')).upload_file('OHE.pkl')\n",
    "s3_model = sagemaker.TrainingInput(s3_data='s3://{}/{}/'.format(bucket2, prefix2), content_type='csv')\n",
    "s3_model "
   ]
  },
  {
   "cell_type": "code",
   "execution_count": 64,
   "id": "013ba29e",
   "metadata": {},
   "outputs": [
    {
     "data": {
      "text/plain": [
       "<sagemaker.inputs.TrainingInput at 0x7f82604b9780>"
      ]
     },
     "execution_count": 64,
     "metadata": {},
     "output_type": "execute_result"
    }
   ],
   "source": [
    "boto3.Session().resource('s3').Bucket(bucket2).Object(os.path.join(prefix2, 'model.pkl')).upload_file('model.pkl')\n",
    "s3_model = sagemaker.TrainingInput(s3_data='s3://{}/{}/'.format(bucket2, prefix2), content_type='csv')\n",
    "s3_model"
   ]
  },
  {
   "cell_type": "markdown",
   "id": "c71e1e2b",
   "metadata": {},
   "source": [
    "![ML](https://user-images.githubusercontent.com/7065401/52071924-c003ad80-2562-11e9-8297-1c6595f8a7ff.png)"
   ]
  }
 ],
 "metadata": {
  "kernelspec": {
   "display_name": "conda_python3",
   "language": "python",
   "name": "conda_python3"
  },
  "language_info": {
   "codemirror_mode": {
    "name": "ipython",
    "version": 3
   },
   "file_extension": ".py",
   "mimetype": "text/x-python",
   "name": "python",
   "nbconvert_exporter": "python",
   "pygments_lexer": "ipython3",
   "version": "3.6.13"
  }
 },
 "nbformat": 4,
 "nbformat_minor": 5
}

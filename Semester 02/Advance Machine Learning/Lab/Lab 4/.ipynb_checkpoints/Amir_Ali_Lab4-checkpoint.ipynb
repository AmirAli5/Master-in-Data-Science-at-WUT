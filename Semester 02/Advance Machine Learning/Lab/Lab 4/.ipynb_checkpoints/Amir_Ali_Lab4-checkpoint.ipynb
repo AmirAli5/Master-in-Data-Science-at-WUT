{
 "cells": [
  {
   "cell_type": "markdown",
   "id": "8627c851",
   "metadata": {},
   "source": [
    "![Lab 4](https://pbs.twimg.com/media/FOYTvH5WQAoaajO?format=jpg&name=large)"
   ]
  },
  {
   "cell_type": "markdown",
   "id": "e8481f68",
   "metadata": {},
   "source": [
    "# Task 2"
   ]
  },
  {
   "cell_type": "markdown",
   "id": "b9879e55",
   "metadata": {},
   "source": [
    "![purple-divider](https://user-images.githubusercontent.com/7065401/52071927-c1cd7100-2562-11e9-908a-dde91ba14e59.png)"
   ]
  },
  {
   "cell_type": "code",
   "execution_count": 37,
   "id": "683a86b9",
   "metadata": {},
   "outputs": [],
   "source": [
    "import scipy as sc\n",
    "import numpy as np\n",
    "import pandas as pd\n",
    "import glmnet_py as glmnet\n",
    "import statsmodels.api as sm\n",
    "import matplotlib.pyplot as plt\n",
    "from sklearn.linear_model import LogisticRegressionCV\n",
    "\n",
    "warnings.filterwarnings(\"ignore\") # I hate warnings"
   ]
  },
  {
   "cell_type": "code",
   "execution_count": 42,
   "id": "d47c9c26",
   "metadata": {},
   "outputs": [],
   "source": [
    "def PSR(true_vars, selected_vars):\n",
    "    return np.sum(np.logical_and(true_vars, selected_vars)) / np.sum(true_vars)\n",
    "\n",
    "\n",
    "def FDR(true_vars, selected_vars):\n",
    "    return np.sum(np.maximum(np.array(selected_vars, np.int32) - np.array(true_vars, np.int32), 0)) / np.sum(selected_vars)\n",
    "\n",
    "\n",
    "def log_function(xBeta):\n",
    "    return 1 / (1 + np.exp(- xBeta))"
   ]
  },
  {
   "cell_type": "code",
   "execution_count": 46,
   "id": "83d5046b",
   "metadata": {},
   "outputs": [],
   "source": [
    "def relevance_of_logistic_regression(n, irrelevant_vars, distribution):\n",
    "    PSR_mean = 0\n",
    "    FDR_mean = 0\n",
    "    for i in range(L):\n",
    "        X = np.random.multivariate_normal(np.zeros([10+irrelevant_vars]), np.eye(10+irrelevant_vars), size=n)\n",
    "        # X = sm.add_constant(X)\n",
    "        betas = np.array([1] * 10 + [0] * irrelevant_vars).reshape(-1, 1)\n",
    "        true_vars = (betas != 0).reshape(-1)\n",
    "        p = distribution(X @ betas)\n",
    "        y = sc.stats.bernoulli.rvs(p).reshape(-1)\n",
    "        model_cv = LogisticRegressionCV(penalty=\"l1\", solver='liblinear').fit(X, y)\n",
    "        selected_vars = (model_cv.coef_ != 0).reshape(-1)\n",
    "        PSR_mean += PSR(true_vars, selected_vars)\n",
    "        FDR_mean += FDR(true_vars, selected_vars)\n",
    "    PSR_mean /= L\n",
    "    FDR_mean /= L\n",
    "    return PSR_mean, FDR_mean\n",
    "\n",
    "L = 100"
   ]
  },
  {
   "cell_type": "markdown",
   "id": "8e592ada",
   "metadata": {},
   "source": [
    "![green-divider](https://user-images.githubusercontent.com/7065401/52071924-c003ad80-2562-11e9-8297-1c6595f8a7ff.png)"
   ]
  },
  {
   "cell_type": "markdown",
   "id": "189f7a96",
   "metadata": {},
   "source": [
    "### A"
   ]
  },
  {
   "cell_type": "code",
   "execution_count": 48,
   "id": "da902404",
   "metadata": {},
   "outputs": [],
   "source": [
    "PSRs = []\n",
    "FDRs = []\n",
    "ns = [50, 100, 300, 500, 1000, 2000]\n",
    "for n in ns:\n",
    "    PSR_mean, FDR_mean = relevance_of_logistic_regression(n, 10, log_function)\n",
    "    PSRs.append(PSR_mean)\n",
    "    FDRs.append(FDR_mean)"
   ]
  },
  {
   "cell_type": "code",
   "execution_count": 49,
   "id": "cb58c028",
   "metadata": {},
   "outputs": [
    {
     "name": "stdout",
     "output_type": "stream",
     "text": [
      "PSRs 0.9831666666666666\n",
      "FDRs 0.3578123060218647\n"
     ]
    }
   ],
   "source": [
    "print(\"PSRs\", np.mean(PSRs))\n",
    "print(\"FDRs\", np.mean(FDRs))"
   ]
  },
  {
   "cell_type": "code",
   "execution_count": 50,
   "id": "93b21ef8",
   "metadata": {},
   "outputs": [
    {
     "data": {
      "image/png": "[encoded data removed]",
      "text/plain": [
       "<Figure size 432x288 with 1 Axes>"
      ]
     },
     "metadata": {
      "needs_background": "light"
     },
     "output_type": "display_data"
    }
   ],
   "source": [
    "plt.plot(ns, PSRs, label=\"PSR\")\n",
    "plt.plot(ns, FDRs, label=\"FDR\")\n",
    "plt.legend()\n",
    "plt.title(\"FDR and PSR based on number of observations\")\n",
    "plt.xlabel(\"n observations\")\n",
    "plt.show()"
   ]
  },
  {
   "cell_type": "markdown",
   "id": "952346c6",
   "metadata": {},
   "source": [
    "![green-divider](https://user-images.githubusercontent.com/7065401/52071924-c003ad80-2562-11e9-8297-1c6595f8a7ff.png)"
   ]
  },
  {
   "cell_type": "markdown",
   "id": "b79761bc",
   "metadata": {},
   "source": [
    "### B"
   ]
  },
  {
   "cell_type": "code",
   "execution_count": 51,
   "id": "49154009",
   "metadata": {},
   "outputs": [],
   "source": [
    "PSRs = []\n",
    "FDRs = []\n",
    "n = 300\n",
    "irrelevant_vars_list = [10, 50, 100, 200, 500]\n",
    "for irrelevant_vars in irrelevant_vars_list:\n",
    "    PSR_mean, FDR_mean = relevance_of_logistic_regression(n, irrelevant_vars, log_function)\n",
    "    PSRs.append(PSR_mean)\n",
    "    FDRs.append(FDR_mean)"
   ]
  },
  {
   "cell_type": "code",
   "execution_count": 56,
   "id": "e6179d4f",
   "metadata": {},
   "outputs": [
    {
     "name": "stdout",
     "output_type": "stream",
     "text": [
      "PSRs 0.9942\n",
      "FDRs 0.727074236055919\n"
     ]
    }
   ],
   "source": [
    "print(\"PSRs\", np.mean(PSRs))\n",
    "print(\"FDRs\", np.mean(FDRs))"
   ]
  },
  {
   "cell_type": "code",
   "execution_count": 61,
   "id": "276b26f1",
   "metadata": {},
   "outputs": [
    {
     "data": {
      "image/png": "[encoded data removed]",
      "text/plain": [
       "<Figure size 432x288 with 1 Axes>"
      ]
     },
     "metadata": {
      "needs_background": "light"
     },
     "output_type": "display_data"
    }
   ],
   "source": [
    "plt.plot(irrelevant_vars_list, PSRs, label=\"PSR\")\n",
    "plt.plot(irrelevant_vars_list, FDRs, label=\"FDR\")\n",
    "plt.legend()\n",
    "plt.title(\"FDR and PSR based on number of irrelevant vars\")\n",
    "plt.xlabel(\"irrelevant vars\")\n",
    "plt.show()"
   ]
  },
  {
   "cell_type": "markdown",
   "id": "f115730c",
   "metadata": {},
   "source": [
    "![green-divider](https://user-images.githubusercontent.com/7065401/52071924-c003ad80-2562-11e9-8297-1c6595f8a7ff.png)"
   ]
  },
  {
   "cell_type": "markdown",
   "id": "6b57eea2",
   "metadata": {},
   "source": [
    "### C"
   ]
  },
  {
   "cell_type": "code",
   "execution_count": 62,
   "id": "ccea0dfb",
   "metadata": {},
   "outputs": [],
   "source": [
    "PSRs = []\n",
    "FDRs = []\n",
    "irrelevant_vars = 10\n",
    "ns = [50, 100, 300, 500, 1000, 2000]\n",
    "distribution = sc.stats.norm.cdf\n",
    "for n in ns:\n",
    "    PSR_mean, FDR_mean = relevance_of_logistic_regression(n, irrelevant_vars, distribution)\n",
    "    PSRs.append(PSR_mean)\n",
    "    FDRs.append(FDR_mean)"
   ]
  },
  {
   "cell_type": "code",
   "execution_count": 66,
   "id": "0f02991b",
   "metadata": {},
   "outputs": [
    {
     "name": "stdout",
     "output_type": "stream",
     "text": [
      "PSRs 0.9896666666666668\n",
      "FDRs 0.3536720401846174\n"
     ]
    }
   ],
   "source": [
    "print(\"PSRs\", np.mean(PSRs))\n",
    "print(\"FDRs\", np.mean(FDRs))"
   ]
  },
  {
   "cell_type": "code",
   "execution_count": 71,
   "id": "40f34960",
   "metadata": {},
   "outputs": [
    {
     "data": {
      "image/png": "[encoded data removed]",
      "text/plain": [
       "<Figure size 432x288 with 1 Axes>"
      ]
     },
     "metadata": {
      "needs_background": "light"
     },
     "output_type": "display_data"
    }
   ],
   "source": [
    "plt.plot(ns, PSRs, label=\"PSR\")\n",
    "plt.plot(ns, FDRs, label=\"FDR\")\n",
    "plt.legend()\n",
    "plt.title(\"FDR and PSR n_obs, gauss distribution\")\n",
    "plt.xlabel(\"n observations\")\n",
    "plt.show()"
   ]
  },
  {
   "cell_type": "markdown",
   "id": "b1bdd7ab",
   "metadata": {},
   "source": [
    "![green-divider](https://user-images.githubusercontent.com/7065401/52071924-c003ad80-2562-11e9-8297-1c6595f8a7ff.png)"
   ]
  },
  {
   "cell_type": "markdown",
   "id": "dac04cb7",
   "metadata": {},
   "source": [
    "### D"
   ]
  },
  {
   "cell_type": "code",
   "execution_count": 72,
   "id": "20ecb7d1",
   "metadata": {},
   "outputs": [],
   "source": [
    "PSRs = []\n",
    "FDRs = []\n",
    "n = 300\n",
    "irrelevant_vars_list = [10, 50, 100, 200, 500]\n",
    "for irrelevant_vars in irrelevant_vars_list:\n",
    "    PSR_mean, FDR_mean = relevance_of_logistic_regression(n, irrelevant_vars, distribution)\n",
    "    PSRs.append(PSR_mean)\n",
    "    FDRs.append(FDR_mean)"
   ]
  },
  {
   "cell_type": "code",
   "execution_count": 75,
   "id": "cef1d808",
   "metadata": {},
   "outputs": [
    {
     "name": "stdout",
     "output_type": "stream",
     "text": [
      "PSRs 0.9996\n",
      "FDRs 0.7267187553455178\n"
     ]
    }
   ],
   "source": [
    "print(\"PSRs\", np.mean(PSRs))\n",
    "print(\"FDRs\", np.mean(FDRs))"
   ]
  },
  {
   "cell_type": "code",
   "execution_count": 76,
   "id": "83eca535",
   "metadata": {},
   "outputs": [
    {
     "data": {
      "image/png": "[encoded data removed]",
      "text/plain": [
       "<Figure size 432x288 with 1 Axes>"
      ]
     },
     "metadata": {
      "needs_background": "light"
     },
     "output_type": "display_data"
    }
   ],
   "source": [
    "plt.plot(irrelevant_vars_list, PSRs, label=\"PSR\")\n",
    "plt.plot(irrelevant_vars_list, FDRs, label=\"FDR\")\n",
    "plt.legend()\n",
    "plt.title(\"FDR and PSR, n irrelevant variables, gauss distribution\")\n",
    "plt.xlabel(\"irrelevant vars\")\n",
    "plt.show()"
   ]
  },
  {
   "cell_type": "markdown",
   "id": "3253ad87",
   "metadata": {},
   "source": [
    "![purple-divider](https://user-images.githubusercontent.com/7065401/52071927-c1cd7100-2562-11e9-908a-dde91ba14e59.png)"
   ]
  }
 ],
 "metadata": {
  "kernelspec": {
   "display_name": "Python 3 (ipykernel)",
   "language": "python",
   "name": "python3"
  },
  "language_info": {
   "codemirror_mode": {
    "name": "ipython",
    "version": 3
   },
   "file_extension": ".py",
   "mimetype": "text/x-python",
   "name": "python",
   "nbconvert_exporter": "python",
   "pygments_lexer": "ipython3",
   "version": "3.9.7"
  }
 },
 "nbformat": 4,
 "nbformat_minor": 5
}

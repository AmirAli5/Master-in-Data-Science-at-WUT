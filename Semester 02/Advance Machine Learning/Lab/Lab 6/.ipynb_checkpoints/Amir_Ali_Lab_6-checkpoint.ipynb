{
 "cells": [
  {
   "cell_type": "markdown",
   "id": "careful-huntington",
   "metadata": {},
   "source": [
    "# Lab 6\n",
    "by\n",
    "Amir Ali\n",
    "317554"
   ]
  },
  {
   "cell_type": "code",
   "execution_count": 54,
   "id": "consistent-haiti",
   "metadata": {},
   "outputs": [],
   "source": [
    "import numpy as np\n",
    "import pandas as pd\n",
    "import seaborn as sns\n",
    "import matplotlib.pyplot as plt\n",
    "\n",
    "from sklearn import tree\n",
    "from sklearn.tree import DecisionTreeRegressor\n",
    "from sklearn.tree import DecisionTreeClassifier\n",
    "from sklearn.model_selection import train_test_split"
   ]
  },
  {
   "cell_type": "code",
   "execution_count": 63,
   "id": "amateur-saturn",
   "metadata": {},
   "outputs": [
    {
     "data": {
      "text/html": [
       "<div>\n",
       "<style scoped>\n",
       "    .dataframe tbody tr th:only-of-type {\n",
       "        vertical-align: middle;\n",
       "    }\n",
       "\n",
       "    .dataframe tbody tr th {\n",
       "        vertical-align: top;\n",
       "    }\n",
       "\n",
       "    .dataframe thead th {\n",
       "        text-align: right;\n",
       "    }\n",
       "</style>\n",
       "<table border=\"1\" class=\"dataframe\">\n",
       "  <thead>\n",
       "    <tr style=\"text-align: right;\">\n",
       "      <th></th>\n",
       "      <th>Unnamed: 0</th>\n",
       "      <th>Age</th>\n",
       "      <th>Weight</th>\n",
       "      <th>Oxygen</th>\n",
       "      <th>RunTime</th>\n",
       "      <th>RestPulse</th>\n",
       "      <th>RunPulse</th>\n",
       "      <th>MaxPulse</th>\n",
       "    </tr>\n",
       "  </thead>\n",
       "  <tbody>\n",
       "    <tr>\n",
       "      <th>0</th>\n",
       "      <td>0</td>\n",
       "      <td>44</td>\n",
       "      <td>89.47</td>\n",
       "      <td>44.609</td>\n",
       "      <td>11.37</td>\n",
       "      <td>62</td>\n",
       "      <td>178</td>\n",
       "      <td>182</td>\n",
       "    </tr>\n",
       "    <tr>\n",
       "      <th>1</th>\n",
       "      <td>1</td>\n",
       "      <td>44</td>\n",
       "      <td>85.84</td>\n",
       "      <td>54.297</td>\n",
       "      <td>8.65</td>\n",
       "      <td>45</td>\n",
       "      <td>156</td>\n",
       "      <td>168</td>\n",
       "    </tr>\n",
       "    <tr>\n",
       "      <th>2</th>\n",
       "      <td>2</td>\n",
       "      <td>38</td>\n",
       "      <td>89.02</td>\n",
       "      <td>49.874</td>\n",
       "      <td>9.22</td>\n",
       "      <td>55</td>\n",
       "      <td>178</td>\n",
       "      <td>180</td>\n",
       "    </tr>\n",
       "  </tbody>\n",
       "</table>\n",
       "</div>"
      ],
      "text/plain": [
       "   Unnamed: 0  Age  Weight  Oxygen  RunTime  RestPulse  RunPulse  MaxPulse\n",
       "0           0   44   89.47  44.609    11.37         62       178       182\n",
       "1           1   44   85.84  54.297     8.65         45       156       168\n",
       "2           2   38   89.02  49.874     9.22         55       178       180"
      ]
     },
     "execution_count": 63,
     "metadata": {},
     "output_type": "execute_result"
    }
   ],
   "source": [
    "df = pd.read_csv('fitness.csv')\n",
    "df.head(3)"
   ]
  },
  {
   "cell_type": "markdown",
   "id": "sought-contamination",
   "metadata": {},
   "source": [
    "## a"
   ]
  },
  {
   "cell_type": "code",
   "execution_count": 115,
   "id": "settled-credit",
   "metadata": {},
   "outputs": [],
   "source": [
    "X = df.loc[:, ['Age', 'Weight', 'RunTime', 'RestPulse', 'MaxPulse']]\n",
    "Y = df.loc[:, ['Oxygen']]"
   ]
  },
  {
   "cell_type": "code",
   "execution_count": 116,
   "id": "brave-nurse",
   "metadata": {},
   "outputs": [],
   "source": [
    "X_train, X_test, y_train, y_test = train_test_split(X, Y, test_size = 0.2, random_state = 0)"
   ]
  },
  {
   "cell_type": "code",
   "execution_count": 118,
   "id": "minimal-being",
   "metadata": {},
   "outputs": [
    {
     "data": {
      "text/plain": [
       "Unnamed: 0    0\n",
       "Age           0\n",
       "Weight        0\n",
       "Oxygen        0\n",
       "RunTime       0\n",
       "RestPulse     0\n",
       "RunPulse      0\n",
       "MaxPulse      0\n",
       "dtype: int64"
      ]
     },
     "execution_count": 118,
     "metadata": {},
     "output_type": "execute_result"
    }
   ],
   "source": [
    "df.isnull().sum()"
   ]
  },
  {
   "cell_type": "code",
   "execution_count": 119,
   "id": "accessory-acceptance",
   "metadata": {},
   "outputs": [],
   "source": [
    "regressor = DecisionTreeRegressor()"
   ]
  },
  {
   "cell_type": "code",
   "execution_count": 120,
   "id": "dried-folder",
   "metadata": {},
   "outputs": [
    {
     "data": {
      "text/plain": [
       "DecisionTreeRegressor()"
      ]
     },
     "execution_count": 120,
     "metadata": {},
     "output_type": "execute_result"
    }
   ],
   "source": [
    "regressor.fit(X_train, y_train)"
   ]
  },
  {
   "cell_type": "code",
   "execution_count": 122,
   "id": "governmental-spain",
   "metadata": {},
   "outputs": [
    {
     "data": {
      "text/plain": [
       "array([47.467, 51.855, 48.673, 39.442, 45.441, 45.313, 46.774])"
      ]
     },
     "execution_count": 122,
     "metadata": {},
     "output_type": "execute_result"
    }
   ],
   "source": [
    "regressor.predict(X_test)"
   ]
  },
  {
   "cell_type": "code",
   "execution_count": 123,
   "id": "therapeutic-newark",
   "metadata": {},
   "outputs": [
    {
     "data": {
      "text/plain": [
       "[Text(141.24375, 207.55636363636364, 'X[2] <= 8.8\\nmse = 29.409\\nsamples = 24\\nvalue = 47.114'),\n",
       " Text(62.775000000000006, 187.7890909090909, 'X[0] <= 43.0\\nmse = 6.8\\nsamples = 3\\nvalue = 57.974'),\n",
       " Text(41.85, 168.0218181818182, 'X[4] <= 179.0\\nmse = 0.059\\nsamples = 2\\nvalue = 59.813'),\n",
       " Text(20.925, 148.25454545454545, 'mse = 0.0\\nsamples = 1\\nvalue = 59.571'),\n",
       " Text(62.775000000000006, 148.25454545454545, 'mse = -0.0\\nsamples = 1\\nvalue = 60.055'),\n",
       " Text(83.7, 168.0218181818182, 'mse = 0.0\\nsamples = 1\\nvalue = 54.297'),\n",
       " Text(219.7125, 187.7890909090909, 'X[2] <= 12.415\\nmse = 13.383\\nsamples = 21\\nvalue = 45.563'),\n",
       " Text(146.475, 168.0218181818182, 'X[2] <= 10.9\\nmse = 6.255\\nsamples = 18\\nvalue = 46.711'),\n",
       " Text(104.625, 148.25454545454545, 'X[0] <= 53.0\\nmse = 4.152\\nsamples = 10\\nvalue = 48.098'),\n",
       " Text(83.7, 128.48727272727274, 'X[3] <= 46.5\\nmse = 2.871\\nsamples = 9\\nvalue = 47.681'),\n",
       " Text(41.85, 108.72, 'X[0] <= 46.5\\nmse = 0.48\\nsamples = 2\\nvalue = 49.848'),\n",
       " Text(20.925, 88.95272727272729, 'mse = 0.0\\nsamples = 1\\nvalue = 50.541'),\n",
       " Text(62.775000000000006, 88.95272727272729, 'mse = 0.0\\nsamples = 1\\nvalue = 49.156'),\n",
       " Text(125.55000000000001, 108.72, 'X[2] <= 10.675\\nmse = 1.828\\nsamples = 7\\nvalue = 47.062'),\n",
       " Text(104.625, 88.95272727272729, 'X[4] <= 186.5\\nmse = 1.332\\nsamples = 6\\nvalue = 46.723'),\n",
       " Text(83.7, 69.18545454545455, 'X[1] <= 77.115\\nmse = 0.686\\nsamples = 5\\nvalue = 46.333'),\n",
       " Text(41.85, 49.418181818181836, 'X[3] <= 55.0\\nmse = 0.004\\nsamples = 2\\nvalue = 45.377'),\n",
       " Text(20.925, 29.650909090909096, 'mse = 0.0\\nsamples = 1\\nvalue = 45.441'),\n",
       " Text(62.775000000000006, 29.650909090909096, 'mse = -0.0\\nsamples = 1\\nvalue = 45.313'),\n",
       " Text(125.55000000000001, 49.418181818181836, 'X[3] <= 50.5\\nmse = 0.125\\nsamples = 3\\nvalue = 46.971'),\n",
       " Text(104.625, 29.650909090909096, 'X[4] <= 166.0\\nmse = 0.003\\nsamples = 2\\nvalue = 46.723'),\n",
       " Text(83.7, 9.883636363636384, 'mse = 0.0\\nsamples = 1\\nvalue = 46.774'),\n",
       " Text(125.55000000000001, 9.883636363636384, 'mse = 0.0\\nsamples = 1\\nvalue = 46.672'),\n",
       " Text(146.475, 29.650909090909096, 'mse = 0.0\\nsamples = 1\\nvalue = 47.467'),\n",
       " Text(125.55000000000001, 69.18545454545455, 'mse = -0.0\\nsamples = 1\\nvalue = 48.673'),\n",
       " Text(146.475, 88.95272727272729, 'mse = -0.0\\nsamples = 1\\nvalue = 49.091'),\n",
       " Text(125.55000000000001, 128.48727272727274, 'mse = -0.0\\nsamples = 1\\nvalue = 51.855'),\n",
       " Text(188.32500000000002, 148.25454545454545, 'X[2] <= 11.015\\nmse = 3.469\\nsamples = 8\\nvalue = 44.976'),\n",
       " Text(167.4, 128.48727272727274, 'mse = 0.0\\nsamples = 1\\nvalue = 40.836'),\n",
       " Text(209.25, 128.48727272727274, 'X[1] <= 63.845\\nmse = 1.166\\nsamples = 7\\nvalue = 45.568'),\n",
       " Text(188.32500000000002, 108.72, 'mse = 0.0\\nsamples = 1\\nvalue = 47.92'),\n",
       " Text(230.175, 108.72, 'X[0] <= 52.5\\nmse = 0.285\\nsamples = 6\\nvalue = 45.176'),\n",
       " Text(209.25, 88.95272727272729, 'X[2] <= 11.79\\nmse = 0.145\\nsamples = 5\\nvalue = 44.995'),\n",
       " Text(188.32500000000002, 69.18545454545455, 'X[4] <= 174.0\\nmse = 0.034\\nsamples = 4\\nvalue = 44.823'),\n",
       " Text(167.4, 49.418181818181836, 'mse = 0.0\\nsamples = 1\\nvalue = 45.118'),\n",
       " Text(209.25, 49.418181818181836, 'X[3] <= 60.0\\nmse = 0.007\\nsamples = 3\\nvalue = 44.725'),\n",
       " Text(188.32500000000002, 29.650909090909096, 'X[3] <= 54.5\\nmse = 0.001\\nsamples = 2\\nvalue = 44.782'),\n",
       " Text(167.4, 9.883636363636384, 'mse = 0.0\\nsamples = 1\\nvalue = 44.754'),\n",
       " Text(209.25, 9.883636363636384, 'mse = 0.0\\nsamples = 1\\nvalue = 44.811'),\n",
       " Text(230.175, 29.650909090909096, 'mse = -0.0\\nsamples = 1\\nvalue = 44.609'),\n",
       " Text(230.175, 69.18545454545455, 'mse = -0.0\\nsamples = 1\\nvalue = 45.681'),\n",
       " Text(251.10000000000002, 88.95272727272729, 'mse = 0.0\\nsamples = 1\\nvalue = 46.08'),\n",
       " Text(292.95, 168.0218181818182, 'X[2] <= 13.555\\nmse = 0.841\\nsamples = 3\\nvalue = 38.678'),\n",
       " Text(272.02500000000003, 148.25454545454545, 'X[1] <= 86.525\\nmse = 0.014\\nsamples = 2\\nvalue = 39.323'),\n",
       " Text(251.10000000000002, 128.48727272727274, 'mse = 0.0\\nsamples = 1\\nvalue = 39.442'),\n",
       " Text(292.95, 128.48727272727274, 'mse = -0.0\\nsamples = 1\\nvalue = 39.203'),\n",
       " Text(313.875, 148.25454545454545, 'mse = -0.0\\nsamples = 1\\nvalue = 37.388')]"
      ]
     },
     "execution_count": 123,
     "metadata": {},
     "output_type": "execute_result"
    },
    {
     "data": {
      "image/png": "[encoded data removed]",
      "text/plain": [
       "<Figure size 432x288 with 1 Axes>"
      ]
     },
     "metadata": {
      "needs_background": "light"
     },
     "output_type": "display_data"
    }
   ],
   "source": [
    "tree.plot_tree(regressor)"
   ]
  },
  {
   "cell_type": "code",
   "execution_count": 124,
   "id": "nonprofit-fortune",
   "metadata": {},
   "outputs": [
    {
     "name": "stdout",
     "output_type": "stream",
     "text": [
      "|--- feature_2 <= 8.80\n",
      "|   |--- feature_0 <= 43.00\n",
      "|   |   |--- feature_4 <= 179.00\n",
      "|   |   |   |--- value: [59.57]\n",
      "|   |   |--- feature_4 >  179.00\n",
      "|   |   |   |--- value: [60.05]\n",
      "|   |--- feature_0 >  43.00\n",
      "|   |   |--- value: [54.30]\n",
      "|--- feature_2 >  8.80\n",
      "|   |--- feature_2 <= 12.41\n",
      "|   |   |--- feature_2 <= 10.90\n",
      "|   |   |   |--- feature_0 <= 53.00\n",
      "|   |   |   |   |--- feature_3 <= 46.50\n",
      "|   |   |   |   |   |--- feature_0 <= 46.50\n",
      "|   |   |   |   |   |   |--- value: [50.54]\n",
      "|   |   |   |   |   |--- feature_0 >  46.50\n",
      "|   |   |   |   |   |   |--- value: [49.16]\n",
      "|   |   |   |   |--- feature_3 >  46.50\n",
      "|   |   |   |   |   |--- feature_2 <= 10.68\n",
      "|   |   |   |   |   |   |--- feature_4 <= 186.50\n",
      "|   |   |   |   |   |   |   |--- feature_1 <= 77.12\n",
      "|   |   |   |   |   |   |   |   |--- feature_3 <= 55.00\n",
      "|   |   |   |   |   |   |   |   |   |--- value: [45.44]\n",
      "|   |   |   |   |   |   |   |   |--- feature_3 >  55.00\n",
      "|   |   |   |   |   |   |   |   |   |--- value: [45.31]\n",
      "|   |   |   |   |   |   |   |--- feature_1 >  77.12\n",
      "|   |   |   |   |   |   |   |   |--- feature_3 <= 50.50\n",
      "|   |   |   |   |   |   |   |   |   |--- feature_4 <= 166.00\n",
      "|   |   |   |   |   |   |   |   |   |   |--- value: [46.77]\n",
      "|   |   |   |   |   |   |   |   |   |--- feature_4 >  166.00\n",
      "|   |   |   |   |   |   |   |   |   |   |--- value: [46.67]\n",
      "|   |   |   |   |   |   |   |   |--- feature_3 >  50.50\n",
      "|   |   |   |   |   |   |   |   |   |--- value: [47.47]\n",
      "|   |   |   |   |   |   |--- feature_4 >  186.50\n",
      "|   |   |   |   |   |   |   |--- value: [48.67]\n",
      "|   |   |   |   |   |--- feature_2 >  10.68\n",
      "|   |   |   |   |   |   |--- value: [49.09]\n",
      "|   |   |   |--- feature_0 >  53.00\n",
      "|   |   |   |   |--- value: [51.85]\n",
      "|   |   |--- feature_2 >  10.90\n",
      "|   |   |   |--- feature_2 <= 11.01\n",
      "|   |   |   |   |--- value: [40.84]\n",
      "|   |   |   |--- feature_2 >  11.01\n",
      "|   |   |   |   |--- feature_1 <= 63.84\n",
      "|   |   |   |   |   |--- value: [47.92]\n",
      "|   |   |   |   |--- feature_1 >  63.84\n",
      "|   |   |   |   |   |--- feature_0 <= 52.50\n",
      "|   |   |   |   |   |   |--- feature_2 <= 11.79\n",
      "|   |   |   |   |   |   |   |--- feature_4 <= 174.00\n",
      "|   |   |   |   |   |   |   |   |--- value: [45.12]\n",
      "|   |   |   |   |   |   |   |--- feature_4 >  174.00\n",
      "|   |   |   |   |   |   |   |   |--- feature_3 <= 60.00\n",
      "|   |   |   |   |   |   |   |   |   |--- feature_3 <= 54.50\n",
      "|   |   |   |   |   |   |   |   |   |   |--- value: [44.75]\n",
      "|   |   |   |   |   |   |   |   |   |--- feature_3 >  54.50\n",
      "|   |   |   |   |   |   |   |   |   |   |--- value: [44.81]\n",
      "|   |   |   |   |   |   |   |   |--- feature_3 >  60.00\n",
      "|   |   |   |   |   |   |   |   |   |--- value: [44.61]\n",
      "|   |   |   |   |   |   |--- feature_2 >  11.79\n",
      "|   |   |   |   |   |   |   |--- value: [45.68]\n",
      "|   |   |   |   |   |--- feature_0 >  52.50\n",
      "|   |   |   |   |   |   |--- value: [46.08]\n",
      "|   |--- feature_2 >  12.41\n",
      "|   |   |--- feature_2 <= 13.55\n",
      "|   |   |   |--- feature_1 <= 86.52\n",
      "|   |   |   |   |--- value: [39.44]\n",
      "|   |   |   |--- feature_1 >  86.52\n",
      "|   |   |   |   |--- value: [39.20]\n",
      "|   |   |--- feature_2 >  13.55\n",
      "|   |   |   |--- value: [37.39]\n",
      "\n"
     ]
    }
   ],
   "source": [
    "text_representation = tree.export_text(regressor)\n",
    "print(text_representation)"
   ]
  },
  {
   "cell_type": "markdown",
   "id": "binary-story",
   "metadata": {},
   "source": [
    "## b"
   ]
  },
  {
   "cell_type": "code",
   "execution_count": 127,
   "id": "korean-bullet",
   "metadata": {},
   "outputs": [
    {
     "data": {
      "text/plain": [
       "51.855"
      ]
     },
     "execution_count": 127,
     "metadata": {},
     "output_type": "execute_result"
    }
   ],
   "source": [
    "pred = regressor.predict(X_test)\n",
    "max(pred)"
   ]
  },
  {
   "cell_type": "markdown",
   "id": "intelligent-brook",
   "metadata": {},
   "source": [
    "## d"
   ]
  },
  {
   "cell_type": "code",
   "execution_count": 136,
   "id": "animated-peninsula",
   "metadata": {},
   "outputs": [],
   "source": [
    "path = regressor.cost_complexity_pruning_path(X_train, y_train)\n",
    "ccp_alphas, impurities = path.ccp_alphas, path.impurities"
   ]
  },
  {
   "cell_type": "code",
   "execution_count": 137,
   "id": "useful-party",
   "metadata": {},
   "outputs": [
    {
     "data": {
      "text/plain": [
       "Text(0.5, 1.0, 'Total Impurity vs effective alpha for training set')"
      ]
     },
     "execution_count": 137,
     "metadata": {},
     "output_type": "execute_result"
    },
    {
     "data": {
      "image/png": "[encoded data removed]",
      "text/plain": [
       "<Figure size 432x288 with 1 Axes>"
      ]
     },
     "metadata": {
      "needs_background": "light"
     },
     "output_type": "display_data"
    }
   ],
   "source": [
    "fig, ax = plt.subplots()\n",
    "ax.plot(ccp_alphas[:-1], impurities[:-1], marker=\"o\", drawstyle=\"steps-post\")\n",
    "ax.set_xlabel(\"effective alpha\")\n",
    "ax.set_ylabel(\"total impurity of leaves\")\n",
    "ax.set_title(\"Total Impurity vs effective alpha for training set\")"
   ]
  },
  {
   "cell_type": "markdown",
   "id": "criminal-disco",
   "metadata": {},
   "source": [
    "### e"
   ]
  },
  {
   "cell_type": "code",
   "execution_count": 143,
   "id": "stuck-stations",
   "metadata": {},
   "outputs": [],
   "source": [
    "X = df.loc[:, ['Age', 'RunTime']]\n",
    "Y = df.loc[:, ['Oxygen']]"
   ]
  },
  {
   "cell_type": "code",
   "execution_count": 144,
   "id": "funded-shanghai",
   "metadata": {},
   "outputs": [],
   "source": [
    "X_train, X_test, y_train, y_test = train_test_split(X, Y, test_size = 0.2, random_state = 0)"
   ]
  },
  {
   "cell_type": "code",
   "execution_count": 145,
   "id": "frequent-employment",
   "metadata": {},
   "outputs": [],
   "source": [
    "regressor1 = DecisionTreeRegressor()"
   ]
  },
  {
   "cell_type": "code",
   "execution_count": 146,
   "id": "arctic-sugar",
   "metadata": {},
   "outputs": [
    {
     "data": {
      "text/plain": [
       "DecisionTreeRegressor()"
      ]
     },
     "execution_count": 146,
     "metadata": {},
     "output_type": "execute_result"
    }
   ],
   "source": [
    "regressor1.fit(X_train, y_train)"
   ]
  },
  {
   "cell_type": "code",
   "execution_count": 147,
   "id": "grave-upset",
   "metadata": {},
   "outputs": [],
   "source": [
    "reg_pred = regressor1.predict(X_test)"
   ]
  },
  {
   "cell_type": "code",
   "execution_count": 148,
   "id": "surface-survey",
   "metadata": {},
   "outputs": [
    {
     "data": {
      "text/plain": [
       "array([45.313, 51.855, 47.467, 39.203, 49.156, 48.673, 46.774])"
      ]
     },
     "execution_count": 148,
     "metadata": {},
     "output_type": "execute_result"
    }
   ],
   "source": [
    "reg_pred"
   ]
  },
  {
   "cell_type": "code",
   "execution_count": 151,
   "id": "racial-throat",
   "metadata": {},
   "outputs": [
    {
     "data": {
      "text/plain": [
       "numpy.ndarray"
      ]
     },
     "execution_count": 151,
     "metadata": {},
     "output_type": "execute_result"
    }
   ],
   "source": [
    "type(reg_pred)"
   ]
  },
  {
   "cell_type": "code",
   "execution_count": 149,
   "id": "warming-command",
   "metadata": {},
   "outputs": [
    {
     "data": {
      "text/plain": [
       "[<matplotlib.lines.Line2D at 0x271dbcb21f0>]"
      ]
     },
     "execution_count": 149,
     "metadata": {},
     "output_type": "execute_result"
    },
    {
     "data": {
      "image/png": "[encoded data removed]",
      "text/plain": [
       "<Figure size 432x288 with 1 Axes>"
      ]
     },
     "metadata": {
      "needs_background": "light"
     },
     "output_type": "display_data"
    }
   ],
   "source": [
    "plt.plot(y_test, reg_pred)"
   ]
  }
 ],
 "metadata": {
  "kernelspec": {
   "display_name": "Python 3 (ipykernel)",
   "language": "python",
   "name": "python3"
  },
  "language_info": {
   "codemirror_mode": {
    "name": "ipython",
    "version": 3
   },
   "file_extension": ".py",
   "mimetype": "text/x-python",
   "name": "python",
   "nbconvert_exporter": "python",
   "pygments_lexer": "ipython3",
   "version": "3.9.7"
  }
 },
 "nbformat": 4,
 "nbformat_minor": 5
}

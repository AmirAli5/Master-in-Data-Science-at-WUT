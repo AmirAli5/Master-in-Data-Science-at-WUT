{
 "cells": [
  {
   "cell_type": "markdown",
   "id": "c3836626",
   "metadata": {},
   "source": [
    "\n",
    "# Advanced Machine Learning (Lab 08)"
   ]
  },
  {
   "cell_type": "markdown",
   "id": "d1f63f13",
   "metadata": {},
   "source": [
    "### Import Libraries"
   ]
  },
  {
   "cell_type": "code",
   "execution_count": 69,
   "id": "fa8d7331",
   "metadata": {},
   "outputs": [],
   "source": [
    "import numpy as np\n",
    "import pandas as pd\n",
    "from scipy.stats import norm\n",
    "import matplotlib.pyplot as plt\n",
    "from sklearn.neighbors import KernelDensity\n",
    "from sklearn.utils.fixes import parse_version\n",
    "\n",
    "import warnings\n",
    "warnings.filterwarnings(\"ignore\")"
   ]
  },
  {
   "cell_type": "markdown",
   "id": "b6a7753e",
   "metadata": {},
   "source": [
    "## Task 1"
   ]
  },
  {
   "cell_type": "code",
   "execution_count": 70,
   "id": "dfd34feb",
   "metadata": {},
   "outputs": [],
   "source": [
    "N = 200\n",
    "np.random.seed(1)\n",
    "X = np.concatenate(\n",
    "    (np.random.normal(5, 1, int(0.9 * N)), np.random.normal(10, 1, int(0.1 * N)))\n",
    ")[:, np.newaxis]\n",
    "\n",
    "X_plot = np.linspace(-5, 10, 1000)[:, np.newaxis]\n",
    "\n",
    "true_dens = 0.9 * norm(5, 1).pdf(X_plot[:, 0]) + 0.1 * norm(10, 1).pdf(X_plot[:, 0])"
   ]
  },
  {
   "cell_type": "code",
   "execution_count": 72,
   "id": "f9e3bf4b",
   "metadata": {},
   "outputs": [
    {
     "data": {
      "image/png": "[encoded data removed]",
      "text/plain": [
       "<Figure size 432x288 with 1 Axes>"
      ]
     },
     "metadata": {
      "needs_background": "light"
     },
     "output_type": "display_data"
    }
   ],
   "source": [
    "plt.hist(X)\n",
    "plt.show()"
   ]
  },
  {
   "cell_type": "code",
   "execution_count": 73,
   "id": "a45f6753",
   "metadata": {},
   "outputs": [
    {
     "data": {
      "image/png": "[encoded data removed]",
      "text/plain": [
       "<Figure size 432x288 with 1 Axes>"
      ]
     },
     "metadata": {
      "needs_background": "light"
     },
     "output_type": "display_data"
    }
   ],
   "source": [
    "fig, ax = plt.subplots()\n",
    "ax.fill(X_plot[:, 0], true_dens, fc=\"black\", alpha=0.2, label=\"input distribution\")\n",
    "colors = [\"green\", \"blue\", \"red\"]\n",
    "kernels = [\"gaussian\", \"tophat\", \"epanechnikov\"]\n",
    "lw = 2\n",
    "\n",
    "for color, kernel in zip(colors, kernels):\n",
    "    kde = KernelDensity(kernel=kernel, bandwidth=0.5).fit(X)\n",
    "    log_dens = kde.score_samples(X_plot)\n",
    "    ax.plot(\n",
    "        X_plot[:, 0],\n",
    "        np.exp(log_dens),\n",
    "        color=color,\n",
    "        lw=lw,\n",
    "        linestyle=\"-\",\n",
    "        label=\"kernel = '{0}'\".format(kernel),\n",
    "    )\n",
    "\n",
    "ax.text(6, 0.38, \"N={0} points\".format(N))\n",
    "\n",
    "ax.legend(loc=\"upper left\")\n",
    "ax.plot(X[:, 0], -0.005 - 0.01 * np.random.random(X.shape[0]), \"+k\")\n",
    "\n",
    "ax.set_xlim(-4, 9)\n",
    "ax.set_ylim(-0.02, 0.4)\n",
    "plt.show()"
   ]
  },
  {
   "cell_type": "markdown",
   "id": "5086bbbd",
   "metadata": {},
   "source": [
    "## Task 2"
   ]
  },
  {
   "cell_type": "code",
   "execution_count": 84,
   "id": "2613a57e",
   "metadata": {},
   "outputs": [
    {
     "data": {
      "text/html": [
       "<div>\n",
       "<style scoped>\n",
       "    .dataframe tbody tr th:only-of-type {\n",
       "        vertical-align: middle;\n",
       "    }\n",
       "\n",
       "    .dataframe tbody tr th {\n",
       "        vertical-align: top;\n",
       "    }\n",
       "\n",
       "    .dataframe thead th {\n",
       "        text-align: right;\n",
       "    }\n",
       "</style>\n",
       "<table border=\"1\" class=\"dataframe\">\n",
       "  <thead>\n",
       "    <tr style=\"text-align: right;\">\n",
       "      <th></th>\n",
       "      <th>popn</th>\n",
       "      <th>body</th>\n",
       "      <th>surface</th>\n",
       "    </tr>\n",
       "  </thead>\n",
       "  <tbody>\n",
       "    <tr>\n",
       "      <th>0</th>\n",
       "      <td>equake</td>\n",
       "      <td>5.60</td>\n",
       "      <td>4.25</td>\n",
       "    </tr>\n",
       "    <tr>\n",
       "      <th>1</th>\n",
       "      <td>equake</td>\n",
       "      <td>5.18</td>\n",
       "      <td>3.93</td>\n",
       "    </tr>\n",
       "    <tr>\n",
       "      <th>2</th>\n",
       "      <td>equake</td>\n",
       "      <td>6.31</td>\n",
       "      <td>6.30</td>\n",
       "    </tr>\n",
       "    <tr>\n",
       "      <th>3</th>\n",
       "      <td>equake</td>\n",
       "      <td>5.36</td>\n",
       "      <td>4.49</td>\n",
       "    </tr>\n",
       "    <tr>\n",
       "      <th>4</th>\n",
       "      <td>equake</td>\n",
       "      <td>5.96</td>\n",
       "      <td>6.39</td>\n",
       "    </tr>\n",
       "  </tbody>\n",
       "</table>\n",
       "</div>"
      ],
      "text/plain": [
       "     popn  body  surface\n",
       "0  equake  5.60     4.25\n",
       "1  equake  5.18     3.93\n",
       "2  equake  6.31     6.30\n",
       "3  equake  5.36     4.49\n",
       "4  equake  5.96     6.39"
      ]
     },
     "execution_count": 84,
     "metadata": {},
     "output_type": "execute_result"
    }
   ],
   "source": [
    "df = pd.read_csv('earthquake.txt', sep = ' ')\n",
    "df.head()"
   ]
  },
  {
   "cell_type": "code",
   "execution_count": 85,
   "id": "2e640b30",
   "metadata": {},
   "outputs": [
    {
     "data": {
      "text/plain": [
       "(29, 1)"
      ]
     },
     "execution_count": 85,
     "metadata": {},
     "output_type": "execute_result"
    }
   ],
   "source": [
    "body = df.iloc[:, 1:2]\n",
    "body.shape"
   ]
  },
  {
   "cell_type": "code",
   "execution_count": 86,
   "id": "aa704d42",
   "metadata": {},
   "outputs": [],
   "source": [
    "f1 = df[df['popn']=='equake']\n",
    "f2 = df[df['popn']=='explosn']"
   ]
  },
  {
   "cell_type": "code",
   "execution_count": 87,
   "id": "97a38799",
   "metadata": {},
   "outputs": [],
   "source": [
    "f1 = f1.iloc[:, 1:2]\n",
    "f2 = f2.iloc[:, 1:2]"
   ]
  },
  {
   "cell_type": "code",
   "execution_count": 91,
   "id": "25b1de13",
   "metadata": {},
   "outputs": [
    {
     "data": {
      "image/png": "[encoded data removed]",
      "text/plain": [
       "<Figure size 432x288 with 1 Axes>"
      ]
     },
     "metadata": {
      "needs_background": "light"
     },
     "output_type": "display_data"
    }
   ],
   "source": [
    "plt.plot(f1, np.zeros_like(f1), 'x')\n",
    "plt.plot(f2, np.zeros_like(f2), 'x')\n",
    "plt.show()"
   ]
  },
  {
   "cell_type": "code",
   "execution_count": 92,
   "id": "191b1b56",
   "metadata": {},
   "outputs": [],
   "source": [
    "kde1 = KernelDensity(kernel='gaussian', bandwidth=0.2).fit(f1)\n",
    "kde_score1 = kde.score_samples(f1)"
   ]
  },
  {
   "cell_type": "code",
   "execution_count": 93,
   "id": "d887a59e",
   "metadata": {},
   "outputs": [],
   "source": [
    "kde2 = KernelDensity(kernel='gaussian', bandwidth=0.2).fit(f1)\n",
    "kde_score2 = kde.score_samples(f2)"
   ]
  },
  {
   "cell_type": "code",
   "execution_count": 94,
   "id": "1c511315",
   "metadata": {},
   "outputs": [
    {
     "data": {
      "image/png": "[encoded data removed]",
      "text/plain": [
       "<Figure size 432x288 with 1 Axes>"
      ]
     },
     "metadata": {
      "needs_background": "light"
     },
     "output_type": "display_data"
    }
   ],
   "source": [
    "plt.plot(kde_score1, np.zeros_like(kde_score1), 'x')\n",
    "plt.plot(kde_score2, np.zeros_like(kde_score2), 'x')\n",
    "plt.show()"
   ]
  }
 ],
 "metadata": {
  "kernelspec": {
   "display_name": "Python 3 (ipykernel)",
   "language": "python",
   "name": "python3"
  },
  "language_info": {
   "codemirror_mode": {
    "name": "ipython",
    "version": 3
   },
   "file_extension": ".py",
   "mimetype": "text/x-python",
   "name": "python",
   "nbconvert_exporter": "python",
   "pygments_lexer": "ipython3",
   "version": "3.9.7"
  }
 },
 "nbformat": 4,
 "nbformat_minor": 5
}

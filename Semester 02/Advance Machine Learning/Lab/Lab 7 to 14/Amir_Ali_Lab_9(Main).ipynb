{
 "cells": [
  {
   "cell_type": "markdown",
   "id": "public-hurricane",
   "metadata": {},
   "source": [
    "## Advanced Machine Learning\n",
    "#### Lab # 9\n",
    "Amir Ali"
   ]
  },
  {
   "cell_type": "markdown",
   "id": "superior-logic",
   "metadata": {},
   "source": [
    "### Task"
   ]
  },
  {
   "cell_type": "markdown",
   "id": "overall-surprise",
   "metadata": {},
   "source": [
    "1. Select any dataset corresponding to binary classification problem wih quantitative variables. \n",
    "2. Compare the accuracy of Naive Bayes method\n",
    "    * with kernel density estimator\n",
    "    * with Gaussian approximation\n",
    "    * discretization of quantitative features\n",
    "    * and LDA."
   ]
  },
  {
   "cell_type": "code",
   "execution_count": 112,
   "id": "adolescent-index",
   "metadata": {},
   "outputs": [],
   "source": [
    "# import libraries\n",
    "import bisect\n",
    "import numpy as np\n",
    "import pandas as pd\n",
    "import matplotlib.pyplot as plt\n",
    "from sklearn.model_selection import train_test_split\n",
    "from sklearn.metrics import accuracy_score"
   ]
  },
  {
   "cell_type": "markdown",
   "id": "strange-showcase",
   "metadata": {},
   "source": [
    "###  Binary Classification Data wih Quantitative Variables."
   ]
  },
  {
   "cell_type": "code",
   "execution_count": 113,
   "id": "corrected-edmonton",
   "metadata": {},
   "outputs": [],
   "source": [
    "# load the data\n",
    "from sklearn.datasets import load_breast_cancer\n",
    "data = load_breast_cancer()"
   ]
  },
  {
   "cell_type": "code",
   "execution_count": 114,
   "id": "secret-stations",
   "metadata": {},
   "outputs": [],
   "source": [
    "# define predictor and target attribute\n",
    "X = data.data\n",
    "Y = data.target"
   ]
  },
  {
   "cell_type": "code",
   "execution_count": 115,
   "id": "killing-performer",
   "metadata": {},
   "outputs": [],
   "source": [
    "# split the data into train and test\n",
    "X_train, X_test, y_train, y_test = train_test_split(X, Y, test_size = 0.2, random_state = 42)"
   ]
  },
  {
   "cell_type": "code",
   "execution_count": 116,
   "id": "thermal-companion",
   "metadata": {},
   "outputs": [
    {
     "name": "stdout",
     "output_type": "stream",
     "text": [
      "(455, 30) (114, 30)\n",
      "(455,) (114,)\n"
     ]
    }
   ],
   "source": [
    "# Shape of train and test data\n",
    "print(X_train.shape, X_test.shape)\n",
    "print(y_train.shape, y_test.shape)"
   ]
  },
  {
   "cell_type": "markdown",
   "id": "characteristic-mumbai",
   "metadata": {},
   "source": [
    "### 1. Naive Bayes with Gaussian"
   ]
  },
  {
   "cell_type": "code",
   "execution_count": 117,
   "id": "compatible-parts",
   "metadata": {},
   "outputs": [],
   "source": [
    "from sklearn.naive_bayes import GaussianNB"
   ]
  },
  {
   "cell_type": "code",
   "execution_count": 118,
   "id": "atmospheric-timeline",
   "metadata": {},
   "outputs": [],
   "source": [
    "gnb = GaussianNB()"
   ]
  },
  {
   "cell_type": "code",
   "execution_count": 119,
   "id": "looking-ideal",
   "metadata": {},
   "outputs": [
    {
     "data": {
      "text/plain": [
       "GaussianNB()"
      ]
     },
     "execution_count": 119,
     "metadata": {},
     "output_type": "execute_result"
    }
   ],
   "source": [
    "gnb.fit(X_train, y_train)"
   ]
  },
  {
   "cell_type": "code",
   "execution_count": 120,
   "id": "dramatic-prince",
   "metadata": {},
   "outputs": [],
   "source": [
    "gnb_pred = gnb.predict(X_test)"
   ]
  },
  {
   "cell_type": "code",
   "execution_count": 145,
   "id": "powerful-period",
   "metadata": {},
   "outputs": [
    {
     "data": {
      "text/plain": [
       "0.9736842105263158"
      ]
     },
     "execution_count": 145,
     "metadata": {},
     "output_type": "execute_result"
    }
   ],
   "source": [
    "gnb_acc = accuracy_score(y_test, gnb_pred)\n",
    "gnb_acc"
   ]
  },
  {
   "cell_type": "markdown",
   "id": "institutional-margin",
   "metadata": {},
   "source": [
    "### 2. Naive Bayes with KDE [1]"
   ]
  },
  {
   "cell_type": "code",
   "execution_count": 156,
   "id": "lesser-brunei",
   "metadata": {},
   "outputs": [],
   "source": [
    "import NB_KDE    # reference"
   ]
  },
  {
   "cell_type": "code",
   "execution_count": 157,
   "id": "patient-employee",
   "metadata": {},
   "outputs": [],
   "source": [
    "knb = NB_KDE.Naive_Bayes_Kernel_Density_Estimation(bandwidth=1,kernel='radial')"
   ]
  },
  {
   "cell_type": "code",
   "execution_count": 158,
   "id": "whole-fossil",
   "metadata": {},
   "outputs": [],
   "source": [
    "knb.fit(X_train, y_train)"
   ]
  },
  {
   "cell_type": "code",
   "execution_count": 159,
   "id": "framed-origin",
   "metadata": {},
   "outputs": [],
   "source": [
    "knb_pred = knb.predict(X_test)"
   ]
  },
  {
   "cell_type": "code",
   "execution_count": 160,
   "id": "activated-treasurer",
   "metadata": {},
   "outputs": [
    {
     "data": {
      "text/plain": [
       "0.9298245614035088"
      ]
     },
     "execution_count": 160,
     "metadata": {},
     "output_type": "execute_result"
    }
   ],
   "source": [
    "knb_acc = accuracy_score(y_test, knb_pred)\n",
    "knb_acc"
   ]
  },
  {
   "cell_type": "markdown",
   "id": "upper-trial",
   "metadata": {},
   "source": [
    "### 3. Naive Bayes with discretization of quantitative features"
   ]
  },
  {
   "cell_type": "code",
   "execution_count": 151,
   "id": "static-reason",
   "metadata": {},
   "outputs": [],
   "source": [
    "import NB_Discretization"
   ]
  },
  {
   "cell_type": "code",
   "execution_count": 152,
   "id": "unsigned-rally",
   "metadata": {},
   "outputs": [],
   "source": [
    "dnb = NB_Discretization.Naive_Bayes_discretization()"
   ]
  },
  {
   "cell_type": "code",
   "execution_count": 153,
   "id": "alike-dragon",
   "metadata": {},
   "outputs": [
    {
     "data": {
      "text/plain": [
       "<NB_Discretization.Naive_Bayes_discretization at 0x21b690d8c10>"
      ]
     },
     "execution_count": 153,
     "metadata": {},
     "output_type": "execute_result"
    }
   ],
   "source": [
    "dnb.fit(y_train, X_train)"
   ]
  },
  {
   "cell_type": "code",
   "execution_count": 154,
   "id": "occupied-subdivision",
   "metadata": {},
   "outputs": [],
   "source": [
    "dnb_pred = dnb.predict(X_test)"
   ]
  },
  {
   "cell_type": "code",
   "execution_count": 161,
   "id": "optimum-enough",
   "metadata": {},
   "outputs": [
    {
     "data": {
      "text/plain": [
       "0.9385964912280702"
      ]
     },
     "execution_count": 161,
     "metadata": {},
     "output_type": "execute_result"
    }
   ],
   "source": [
    "dnb_acc = accuracy_score(y_test, dnb_pred)\n",
    "dnb_acc"
   ]
  },
  {
   "cell_type": "markdown",
   "id": "enormous-local",
   "metadata": {},
   "source": [
    "### 4. Linear Discriminant Analysis"
   ]
  },
  {
   "cell_type": "code",
   "execution_count": 162,
   "id": "abstract-insured",
   "metadata": {},
   "outputs": [],
   "source": [
    "from sklearn.discriminant_analysis import LinearDiscriminantAnalysis"
   ]
  },
  {
   "cell_type": "code",
   "execution_count": 163,
   "id": "sapphire-enlargement",
   "metadata": {},
   "outputs": [],
   "source": [
    "lda = LinearDiscriminantAnalysis()"
   ]
  },
  {
   "cell_type": "code",
   "execution_count": 164,
   "id": "logical-scratch",
   "metadata": {},
   "outputs": [
    {
     "data": {
      "text/plain": [
       "LinearDiscriminantAnalysis()"
      ]
     },
     "execution_count": 164,
     "metadata": {},
     "output_type": "execute_result"
    }
   ],
   "source": [
    "lda.fit(X_train, y_train)"
   ]
  },
  {
   "cell_type": "code",
   "execution_count": 165,
   "id": "usual-motel",
   "metadata": {},
   "outputs": [],
   "source": [
    "lda_predict = lda.predict(X_test)"
   ]
  },
  {
   "cell_type": "code",
   "execution_count": 166,
   "id": "economic-navigator",
   "metadata": {},
   "outputs": [
    {
     "data": {
      "text/plain": [
       "0.956140350877193"
      ]
     },
     "execution_count": 166,
     "metadata": {},
     "output_type": "execute_result"
    }
   ],
   "source": [
    "lda_acc = accuracy_score(y_test, lda_predict)\n",
    "lda_acc"
   ]
  },
  {
   "cell_type": "markdown",
   "id": "addressed-labor",
   "metadata": {},
   "source": [
    "### 5. Comparison "
   ]
  },
  {
   "cell_type": "code",
   "execution_count": 168,
   "id": "crude-milan",
   "metadata": {},
   "outputs": [
    {
     "name": "stdout",
     "output_type": "stream",
     "text": [
      "[0.9736842105263158, 0.9298245614035088, 0.9385964912280702, 0.956140350877193]\n"
     ]
    },
    {
     "data": {
      "image/png": "[encoded data removed]",
      "text/plain": [
       "<Figure size 864x360 with 1 Axes>"
      ]
     },
     "metadata": {
      "needs_background": "light"
     },
     "output_type": "display_data"
    }
   ],
   "source": [
    "plt.figure(figsize = (12, 5))\n",
    "\n",
    "result = [gnb_acc, knb_acc, dnb_acc, lda_acc]\n",
    "label = [\"NB with Gaussian\", \"NB with KDE\", \"NB with discretization\", \"Linear Discriminant Analysis\"]\n",
    "colors=[ 'red', 'green', 'blue', 'orange']\n",
    "\n",
    "plt.bar(label, result, color = colors, edgecolor='black')\n",
    "print(result)"
   ]
  },
  {
   "cell_type": "markdown",
   "id": "deadly-james",
   "metadata": {},
   "source": [
    "#### reference"
   ]
  },
  {
   "cell_type": "markdown",
   "id": "cordless-appendix",
   "metadata": {},
   "source": [
    "[1] https://github.com/sampath9dasari/NaiveBayesClassifier-KDE/tree/master/lib"
   ]
  }
 ],
 "metadata": {
  "kernelspec": {
   "display_name": "Python 3 (ipykernel)",
   "language": "python",
   "name": "python3"
  },
  "language_info": {
   "codemirror_mode": {
    "name": "ipython",
    "version": 3
   },
   "file_extension": ".py",
   "mimetype": "text/x-python",
   "name": "python",
   "nbconvert_exporter": "python",
   "pygments_lexer": "ipython3",
   "version": "3.9.7"
  }
 },
 "nbformat": 4,
 "nbformat_minor": 5
}

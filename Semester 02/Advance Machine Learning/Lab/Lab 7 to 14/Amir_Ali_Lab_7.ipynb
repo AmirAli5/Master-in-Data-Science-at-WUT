{
 "cells": [
  {
   "cell_type": "markdown",
   "metadata": {},
   "source": [
    "# Lab 7: Evaluation\n",
    "### Amir Ali (317554)"
   ]
  },
  {
   "cell_type": "markdown",
   "metadata": {},
   "source": [
    "## Task 1"
   ]
  },
  {
   "cell_type": "markdown",
   "metadata": {},
   "source": [
    "#### Import required libraries"
   ]
  },
  {
   "cell_type": "code",
   "execution_count": 30,
   "metadata": {},
   "outputs": [],
   "source": [
    "import numpy as np\n",
    "from scipy import stats\n",
    "from sklearn.utils import resample\n",
    "from sklearn.tree import DecisionTreeClassifier \n",
    "from sklearn.model_selection import train_test_split\n",
    "from sklearn.model_selection import cross_val_score"
   ]
  },
  {
   "cell_type": "markdown",
   "metadata": {},
   "source": [
    "### Generate Data"
   ]
  },
  {
   "cell_type": "code",
   "execution_count": 31,
   "metadata": {},
   "outputs": [],
   "source": [
    "# original data\n",
    "from sklearn.datasets import load_breast_cancer\n",
    "data = load_breast_cancer()\n",
    "X = data.data\n",
    "y = data.target\n",
    "X_train, X_test, y_train, y_test = train_test_split(X, y)"
   ]
  },
  {
   "cell_type": "code",
   "execution_count": 32,
   "metadata": {},
   "outputs": [],
   "source": [
    "# artificial data\n",
    "def generate_dataset(b, k, n):\n",
    "    beta_size = 5 + k\n",
    "    X = np.random.multivariate_normal(np.zeros([beta_size]), np.eye(beta_size), size=n)\n",
    "    beta = np.concatenate((np.full(5, b),np.zeros(k))).reshape(-1,1)\n",
    "    p = 1/(1 + np.exp((-(X @ beta))))\n",
    "    Y = stats.bernoulli.rvs(p=p)\n",
    "    return X, Y\n",
    "\n",
    "X_art, Y_art = generate_dataset(1, 5, 100)"
   ]
  },
  {
   "cell_type": "markdown",
   "metadata": {},
   "source": [
    "### Classification Model"
   ]
  },
  {
   "cell_type": "code",
   "execution_count": 33,
   "metadata": {},
   "outputs": [],
   "source": [
    "from sklearn.tree import DecisionTreeClassifier"
   ]
  },
  {
   "cell_type": "markdown",
   "metadata": {},
   "source": [
    "#### 1. Refitting"
   ]
  },
  {
   "cell_type": "code",
   "execution_count": 34,
   "metadata": {},
   "outputs": [
    {
     "data": {
      "text/plain": [
       "1.0"
      ]
     },
     "execution_count": 34,
     "metadata": {},
     "output_type": "execute_result"
    }
   ],
   "source": [
    "# perform on original data\n",
    "clf1 = DecisionTreeClassifier().fit(X, y)\n",
    "clf1.score(X, y)"
   ]
  },
  {
   "cell_type": "code",
   "execution_count": 35,
   "metadata": {
    "scrolled": false
   },
   "outputs": [
    {
     "data": {
      "text/plain": [
       "1.0"
      ]
     },
     "execution_count": 35,
     "metadata": {},
     "output_type": "execute_result"
    }
   ],
   "source": [
    "# perform on artificial data\n",
    "clf2 = DecisionTreeClassifier().fit(X_art, Y_art)\n",
    "clf2.score(X_art, Y_art)"
   ]
  },
  {
   "cell_type": "markdown",
   "metadata": {},
   "source": [
    "#### 2. Cross Validation"
   ]
  },
  {
   "cell_type": "code",
   "execution_count": 36,
   "metadata": {},
   "outputs": [
    {
     "name": "stdout",
     "output_type": "stream",
     "text": [
      "0.9156342182890855\n",
      "0.9157581453634085\n"
     ]
    }
   ],
   "source": [
    "# perform on original data\n",
    "\n",
    "# k = 5\n",
    "print(np.mean(cross_val_score(DecisionTreeClassifier(), X, y, cv=5)))\n",
    "\n",
    "# k = 10\n",
    "print(np.mean(cross_val_score(DecisionTreeClassifier(), X, y, cv=10)))"
   ]
  },
  {
   "cell_type": "code",
   "execution_count": 37,
   "metadata": {},
   "outputs": [
    {
     "name": "stdout",
     "output_type": "stream",
     "text": [
      "0.5700000000000001\n",
      "0.61\n"
     ]
    }
   ],
   "source": [
    "# perform on artificial data\n",
    "\n",
    "# k = 5\n",
    "print(np.mean(cross_val_score(DecisionTreeClassifier(), X_art, Y_art, cv=5)))\n",
    "\n",
    "# k = 10\n",
    "print(np.mean(cross_val_score(DecisionTreeClassifier(), X_art, Y_art, cv=10)))"
   ]
  },
  {
   "cell_type": "markdown",
   "metadata": {},
   "source": [
    "#### 3. Bootstrap"
   ]
  },
  {
   "cell_type": "code",
   "execution_count": 38,
   "metadata": {},
   "outputs": [
    {
     "data": {
      "text/plain": [
       "0.92"
      ]
     },
     "execution_count": 38,
     "metadata": {},
     "output_type": "execute_result"
    }
   ],
   "source": [
    "# perform on original data\n",
    "data_c = np.column_stack((X,y))\n",
    "boot = resample(data_c, replace=True, random_state=1)\n",
    "oob = np.array([x for x in data_c.tolist() if x not in boot.tolist()])\n",
    "\n",
    "clf3 = DecisionTreeClassifier().fit(boot[:,0:30], boot[:,30])\n",
    "clf3.score(oob[:,0:30], oob[:,30])"
   ]
  },
  {
   "cell_type": "code",
   "execution_count": 39,
   "metadata": {},
   "outputs": [
    {
     "data": {
      "text/plain": [
       "0.53125"
      ]
     },
     "execution_count": 39,
     "metadata": {},
     "output_type": "execute_result"
    }
   ],
   "source": [
    "# perform on artificial data\n",
    "data_c = np.column_stack((X_art ,Y_art))\n",
    "boot = resample(data_c, replace=True, random_state=1)\n",
    "oob = np.array([x for x in data_c.tolist() if x not in boot.tolist()])\n",
    "\n",
    "clf4 = DecisionTreeClassifier().fit(boot[:,0:10], boot[:,10])\n",
    "clf4.score(oob[:,0:10], oob[:,10])"
   ]
  },
  {
   "cell_type": "markdown",
   "metadata": {},
   "source": [
    "#### 4. Boostrap 0.632"
   ]
  },
  {
   "cell_type": "code",
   "execution_count": 40,
   "metadata": {},
   "outputs": [
    {
     "name": "stdout",
     "output_type": "stream",
     "text": [
      "0.9431200000000001\n"
     ]
    }
   ],
   "source": [
    "# perform on original data\n",
    "data_c = np.column_stack((X,y))\n",
    "boot = resample(data_c, replace=True, random_state=1)\n",
    "oob = np.array([x for x in data_c.tolist() if x not in boot.tolist()])\n",
    "\n",
    "clf5 = DecisionTreeClassifier().fit(boot[:,0:30], boot[:,30])\n",
    "print(0.632*clf5.score(oob[:,0:30], oob[:,30]) + (1-0.632)*clf5.score(boot[:,0:30], boot[:,30]))"
   ]
  },
  {
   "cell_type": "code",
   "execution_count": 41,
   "metadata": {},
   "outputs": [
    {
     "name": "stdout",
     "output_type": "stream",
     "text": [
      "0.6247499999999999\n"
     ]
    }
   ],
   "source": [
    "# perform on artificial data\n",
    "data_c = np.column_stack((X_art,Y_art))\n",
    "boot = resample(data_c, replace=True,random_state=1)\n",
    "oob = np.array([x for x in data_c.tolist() if x not in boot.tolist()])\n",
    "clf6 = DecisionTreeClassifier().fit(boot[:,0:10], boot[:,10])\n",
    "print(0.632*clf6.score(oob[:,0:10], oob[:,10]) + (1-0.632)*clf6.score(boot[:,0:10], boot[:,10]))"
   ]
  },
  {
   "cell_type": "markdown",
   "metadata": {},
   "source": [
    "### For artificial dataset, try different values of n, k and b"
   ]
  },
  {
   "cell_type": "markdown",
   "metadata": {},
   "source": [
    "### b"
   ]
  },
  {
   "cell_type": "code",
   "execution_count": 42,
   "metadata": {},
   "outputs": [
    {
     "name": "stdout",
     "output_type": "stream",
     "text": [
      "b equal to 0.0\n",
      "0.4936\n",
      "b equal to 0.25\n",
      "0.528\n",
      "b equal to 0.5\n",
      "0.5892\n",
      "b equal to 0.75\n",
      "0.672\n",
      "b equal to 1.0\n",
      "0.6816\n",
      "b equal to 1.25\n",
      "0.732\n",
      "b equal to 1.5\n",
      "0.7468\n",
      "b equal to 1.75\n",
      "0.7744\n"
     ]
    }
   ],
   "source": [
    "for b in np.arange(0,2,0.25):\n",
    "    print(f\"b equal to {b}\")\n",
    "    X_art, y_art = generate_dataset(b, 5, 10000)\n",
    "    X_train, X_test, y_train, y_test = train_test_split(X_art, y_art)\n",
    "    clf7 = DecisionTreeClassifier().fit(X_train, y_train)\n",
    "    print(clf7.score(X_test, y_test))"
   ]
  },
  {
   "cell_type": "markdown",
   "metadata": {},
   "source": [
    "### k"
   ]
  },
  {
   "cell_type": "code",
   "execution_count": 44,
   "metadata": {},
   "outputs": [
    {
     "name": "stdout",
     "output_type": "stream",
     "text": [
      "k equal to 0\n",
      "0.7016\n",
      "k equal to 1000\n",
      "0.6528\n",
      "k equal to 2000\n",
      "0.642\n"
     ]
    }
   ],
   "source": [
    "for k in np.arange(0,3000,1000):\n",
    "    print(f\"k equal to {k}\")\n",
    "    X_art, y_art = generate_dataset(1, k, 10000)\n",
    "    X_train, X_test, y_train, y_test = train_test_split(X_art, y_art)\n",
    "    clf8 = DecisionTreeClassifier().fit(X_train, y_train)\n",
    "    print(clf8.score(X_test, y_test))"
   ]
  },
  {
   "cell_type": "markdown",
   "metadata": {},
   "source": [
    "### n"
   ]
  },
  {
   "cell_type": "code",
   "execution_count": 45,
   "metadata": {},
   "outputs": [
    {
     "name": "stdout",
     "output_type": "stream",
     "text": [
      "n equal to 500\n",
      "0.64\n",
      "n equal to 1500\n",
      "0.6986666666666667\n",
      "n equal to 2500\n",
      "0.6768\n",
      "n equal to 3500\n",
      "0.6925714285714286\n",
      "n equal to 4500\n",
      "0.6817777777777778\n"
     ]
    }
   ],
   "source": [
    "for n in np.arange(500,5000,1000):\n",
    "    print(f\"n equal to {n}\")\n",
    "    X_art, y_art = generate_dataset(1, 5, n)\n",
    "    X_train, X_test, y_train, y_test = train_test_split(X_art, y_art)\n",
    "    clf9 = DecisionTreeClassifier().fit(X_train, y_train)\n",
    "    print(clf9.score(X_test, y_test))"
   ]
  }
 ],
 "metadata": {
  "kernelspec": {
   "display_name": "Python 3 (ipykernel)",
   "language": "python",
   "name": "python3"
  },
  "language_info": {
   "codemirror_mode": {
    "name": "ipython",
    "version": 3
   },
   "file_extension": ".py",
   "mimetype": "text/x-python",
   "name": "python",
   "nbconvert_exporter": "python",
   "pygments_lexer": "ipython3",
   "version": "3.9.7"
  }
 },
 "nbformat": 4,
 "nbformat_minor": 4
}

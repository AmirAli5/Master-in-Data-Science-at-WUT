{
 "cells": [
  {
   "cell_type": "markdown",
   "id": "4d7001c5",
   "metadata": {},
   "source": [
    "![AML Final Lab Test](https://pbs.twimg.com/media/FVT29OCWQAMAxp5?format=jpg&name=medium)"
   ]
  },
  {
   "cell_type": "markdown",
   "id": "6935286c",
   "metadata": {},
   "source": [
    "<img style=\"width:70px; height:70px; float:left;\" src=\"https://thumbs.gfycat.com/DisgustingSpiffyIguana-size_restricted.gif\"><img style=\"width:70px; height:70px; float:right;\" src=\"https://thumbs.gfycat.com/DisgustingSpiffyIguana-size_restricted.gif\"><h2 style=\"background-color:black; color:white; text-align:center;\"><b><i>Import Libraries </i></b></h2>"
   ]
  },
  {
   "cell_type": "code",
   "execution_count": 1,
   "id": "9444f1ee",
   "metadata": {},
   "outputs": [],
   "source": [
    "import numpy as np\n",
    "import pandas as pd\n",
    "import matplotlib.pyplot as plt\n",
    "\n",
    "plt.style.use('fivethirtyeight')"
   ]
  },
  {
   "cell_type": "markdown",
   "id": "33a224a0",
   "metadata": {},
   "source": [
    "<img style=\"width:70px; height:70px; float:left;\" src=\"https://thumbs.gfycat.com/ResponsibleUnfinishedAlpinegoat-size_restricted.gif\"><img style=\"width:70px; height:70px; float:right;\" src=\"https://thumbs.gfycat.com/ResponsibleUnfinishedAlpinegoat-size_restricted.gif\"><h2 style=\"background-color:black; color:white; text-align:center;\"><b><i> Task 1 </i></b><h2>"
   ]
  },
  {
   "cell_type": "markdown",
   "id": "6e18ee79",
   "metadata": {},
   "source": [
    "###  1.1. Create a Artificial Training data ....."
   ]
  },
  {
   "cell_type": "code",
   "execution_count": 2,
   "id": "d0c90fbb",
   "metadata": {},
   "outputs": [],
   "source": [
    "v = [[1, 0.5], [0.5, 1]]\n",
    "\n",
    "def artificial_data_1(n, a):\n",
    "    x = None\n",
    "    if n == 1:\n",
    "        x = np.random.multivariate_normal([a, a], v, 1).T\n",
    "    if n == 0:\n",
    "        x = np.random.multivariate_normal([0, 0], v, 1).T\n",
    "\n",
    "    return x"
   ]
  },
  {
   "cell_type": "code",
   "execution_count": 3,
   "id": "22eac3af",
   "metadata": {
    "scrolled": true
   },
   "outputs": [
    {
     "data": {
      "text/plain": [
       "array([0, 1, 0, 1, 1, 1, 0, 0, 0, 1, 1, 0, 0, 0, 1, 1, 0, 0, 0, 1, 0, 0,\n",
       "       0, 0, 0, 1, 0, 1, 0, 0, 1, 0, 1, 0, 0, 0, 0, 0, 0, 0, 0, 1, 0, 1,\n",
       "       0, 1, 0, 0, 0, 0, 1, 0, 1, 1, 0, 1, 0, 0, 1, 0, 0, 0, 1, 0, 0, 1,\n",
       "       0, 0, 0, 1, 0, 1, 1, 1, 0, 0, 1, 0, 0, 0, 1, 0, 1, 0, 1, 1, 0, 1,\n",
       "       0, 0, 0, 0, 0, 0, 1, 0, 0, 0, 0, 0, 1, 0, 0, 0, 0, 1, 1, 0, 1, 0,\n",
       "       0, 0, 1, 0, 0, 0, 0, 0, 0, 0, 1, 1, 0, 1, 0, 0, 0, 0, 1, 1, 0, 0,\n",
       "       0, 0, 0, 0, 0, 0, 1, 0, 1, 0, 0, 0, 0, 1, 1, 1, 0, 0, 1, 1, 0, 0,\n",
       "       0, 0, 1, 0, 0, 0, 1, 0, 0, 1, 1, 0, 1, 1, 0, 0, 0, 1, 0, 0, 0, 0,\n",
       "       0, 1, 1, 1, 1, 1, 0, 0, 1, 1, 1, 0, 0, 0, 0, 0, 0, 0, 0, 0, 0, 0,\n",
       "       1, 0, 1, 0, 0, 1, 0, 0, 0, 0, 0, 0, 0, 0, 0, 1, 1, 0, 1, 0, 1, 0,\n",
       "       0, 0, 1, 0, 1, 0, 1, 0, 1, 1, 0, 0, 1, 0, 0, 0, 0, 1, 0, 1, 0, 0,\n",
       "       0, 1, 0, 0, 0, 1, 1, 0, 1, 0, 0, 1, 0, 1, 1, 0, 0, 1, 0, 0, 1, 1,\n",
       "       1, 0, 0, 0, 1, 1, 0, 1, 1, 1, 1, 0, 1, 1, 1, 0, 0, 0, 0, 0, 0, 0,\n",
       "       1, 0, 1, 0, 0, 1, 0, 0, 1, 0, 0, 0, 0, 0, 0, 1, 0, 0, 0, 0, 0, 0,\n",
       "       0, 0, 0, 1, 0, 0, 0, 0, 0, 0, 1, 1, 0, 0, 0, 0, 0, 0, 0, 0, 0, 0,\n",
       "       0, 1, 0, 1, 0, 1, 0, 1, 1, 1, 0, 0, 0, 1, 1, 1, 0, 0, 0, 1, 0, 0,\n",
       "       0, 1, 0, 0, 0, 1, 0, 0, 0, 0, 1, 0, 0, 0, 1, 0, 0, 1, 1, 0, 0, 0,\n",
       "       0, 0, 1, 0, 0, 0, 0, 0, 1, 0, 0, 0, 0, 0, 0, 1, 1, 0, 0, 1, 0, 1,\n",
       "       1, 0, 0, 1, 0, 1, 0, 0, 0, 0, 0, 0, 0, 0, 0, 0, 1, 0, 0, 1, 1, 0,\n",
       "       0, 0, 0, 0, 0, 0, 1, 0, 0, 0, 0, 0, 0, 0, 1, 1, 0, 0, 0, 0, 1, 0,\n",
       "       0, 0, 0, 0, 0, 1, 0, 0, 0, 0, 0, 1, 0, 0, 0, 1, 0, 0, 0, 0, 0, 0,\n",
       "       0, 0, 0, 0, 1, 0, 0, 1, 0, 1, 1, 0, 0, 0, 0, 1, 0, 0, 0, 0, 1, 1,\n",
       "       1, 0, 0, 0, 0, 0, 1, 0, 1, 0, 0, 1, 0, 0, 0, 0, 0, 0, 1, 1, 0, 0,\n",
       "       1, 0, 0, 0, 0, 0, 0, 0, 1, 0, 1, 1, 1, 0, 0, 0, 1, 0, 0, 0, 0, 0,\n",
       "       0, 0, 0, 1, 0, 0, 0, 0, 0, 0, 0, 1, 0, 1, 0, 0, 0, 0, 0, 0, 0, 0,\n",
       "       1, 0, 0, 0, 0, 0, 0, 1, 1, 0, 0, 1, 0, 0, 0, 1, 1, 1, 0, 1, 1, 1,\n",
       "       0, 0, 0, 0, 1, 0, 0, 0, 0, 0, 0, 0, 0, 0, 0, 1, 0, 1, 0, 0, 1, 0,\n",
       "       1, 0, 1, 0, 0, 0, 0, 0, 1, 0, 0, 1, 1, 0, 0, 1, 0, 0, 1, 0, 0, 0,\n",
       "       1, 1, 1, 0, 1, 1, 0, 0, 0, 0, 0, 0, 0, 0, 1, 0, 0, 1, 0, 0, 0, 1,\n",
       "       0, 0, 1, 0, 0, 0, 0, 0, 1, 0, 1, 0, 0, 0, 0, 0, 0, 0, 1, 1, 0, 0,\n",
       "       0, 0, 0, 0, 0, 0, 0, 0, 0, 0, 1, 0, 0, 0, 0, 0, 1, 0, 0, 0, 1, 1,\n",
       "       0, 0, 0, 0, 0, 0, 0, 0, 0, 0, 0, 1, 1, 0, 0, 0, 0, 0, 0, 0, 0, 0,\n",
       "       0, 0, 1, 0, 0, 0, 1, 0, 0, 0, 0, 1, 0, 1, 0, 1, 1, 0, 1, 1, 1, 1,\n",
       "       1, 1, 0, 0, 0, 1, 0, 0, 0, 0, 0, 1, 0, 1, 0, 0, 0, 0, 0, 1, 0, 0,\n",
       "       0, 0, 0, 0, 0, 0, 0, 0, 0, 1, 0, 1, 0, 0, 0, 0, 1, 0, 1, 0, 0, 1,\n",
       "       0, 0, 0, 0, 0, 1, 0, 1, 0, 0, 1, 1, 1, 1, 1, 1, 0, 0, 0, 0, 0, 0,\n",
       "       1, 1, 1, 0, 0, 0, 0, 1, 0, 0, 1, 1, 0, 0, 1, 1, 0, 0, 0, 0, 0, 1,\n",
       "       0, 0, 0, 0, 1, 1, 1, 0, 0, 0, 0, 1, 0, 0, 0, 0, 0, 1, 0, 1, 1, 1,\n",
       "       0, 0, 0, 0, 0, 0, 0, 0, 0, 0, 0, 0, 0, 1, 0, 0, 0, 0, 1, 0, 1, 0,\n",
       "       0, 0, 0, 0, 1, 0, 0, 1, 1, 1, 0, 1, 0, 1, 1, 0, 0, 0, 0, 1, 0, 0,\n",
       "       0, 1, 0, 0, 0, 0, 0, 1, 1, 0, 1, 0, 0, 0, 0, 0, 0, 0, 1, 0, 0, 0,\n",
       "       0, 0, 0, 1, 0, 0, 0, 1, 0, 0, 0, 1, 0, 0, 0, 0, 1, 0, 0, 0, 1, 0,\n",
       "       1, 0, 0, 0, 1, 0, 0, 0, 0, 0, 0, 0, 1, 0, 0, 0, 1, 0, 0, 1, 0, 0,\n",
       "       0, 1, 0, 0, 1, 0, 1, 0, 0, 1, 0, 1, 1, 0, 0, 0, 0, 1, 0, 0, 0, 1,\n",
       "       1, 0, 1, 0, 0, 0, 0, 0, 0, 0, 0, 0, 0, 1, 0, 0, 0, 0, 0, 0, 0, 0,\n",
       "       1, 1, 1, 0, 0, 0, 0, 0, 0, 0])"
      ]
     },
     "execution_count": 3,
     "metadata": {},
     "output_type": "execute_result"
    }
   ],
   "source": [
    "y = np.random.binomial(1, 0.3, 1000)\n",
    "y"
   ]
  },
  {
   "cell_type": "code",
   "execution_count": 4,
   "id": "0b24a66a",
   "metadata": {},
   "outputs": [
    {
     "data": {
      "text/plain": [
       "array([[-1.39727119, -2.07483005],\n",
       "       [ 0.8856497 ,  0.88779415],\n",
       "       [ 0.94591158,  0.91964387],\n",
       "       ...,\n",
       "       [-0.95361418, -1.24170265],\n",
       "       [ 0.60301181,  0.29031836],\n",
       "       [ 0.40809428,  0.2068955 ]])"
      ]
     },
     "execution_count": 4,
     "metadata": {},
     "output_type": "execute_result"
    }
   ],
   "source": [
    "x = [artificial_data_1(i, a=1) for i in y]\n",
    "x = np.array(x).reshape(-1, 2)\n",
    "x"
   ]
  },
  {
   "cell_type": "markdown",
   "id": "25121d3b",
   "metadata": {},
   "source": [
    "![Section end](https://user-images.githubusercontent.com/7065401/52071924-c003ad80-2562-11e9-8297-1c6595f8a7ff.png)"
   ]
  },
  {
   "cell_type": "markdown",
   "id": "f826d640",
   "metadata": {},
   "source": [
    "### 1.2. Compute the posterior probabilities for observations ......"
   ]
  },
  {
   "cell_type": "code",
   "execution_count": 5,
   "id": "8aa666dc",
   "metadata": {},
   "outputs": [],
   "source": [
    "from sklearn.naive_bayes import GaussianNB"
   ]
  },
  {
   "cell_type": "code",
   "execution_count": 6,
   "id": "1562f46e",
   "metadata": {},
   "outputs": [
    {
     "data": {
      "text/plain": [
       "GaussianNB()"
      ]
     },
     "execution_count": 6,
     "metadata": {},
     "output_type": "execute_result"
    }
   ],
   "source": [
    "NB = GaussianNB()\n",
    "NB.fit(x, y)"
   ]
  },
  {
   "cell_type": "code",
   "execution_count": 7,
   "id": "33fd9419",
   "metadata": {},
   "outputs": [
    {
     "data": {
      "text/plain": [
       "array([[0.99505685, 0.00494315],\n",
       "       [0.54572229, 0.45427771],\n",
       "       [0.52298306, 0.47701694],\n",
       "       ...,\n",
       "       [0.98326524, 0.01673476],\n",
       "       [0.74157126, 0.25842874],\n",
       "       [0.79062229, 0.20937771]])"
      ]
     },
     "execution_count": 7,
     "metadata": {},
     "output_type": "execute_result"
    }
   ],
   "source": [
    "y_pred = NB.predict_proba(x)\n",
    "y_pred "
   ]
  },
  {
   "cell_type": "markdown",
   "id": "0437a05a",
   "metadata": {},
   "source": [
    "![Section end](https://user-images.githubusercontent.com/7065401/52071924-c003ad80-2562-11e9-8297-1c6595f8a7ff.png)"
   ]
  },
  {
   "cell_type": "markdown",
   "id": "200711eb",
   "metadata": {},
   "source": [
    "### 1.3.  Repeat the above steps for a = 0.5, 1, 2, 3 and for each a create ROC curve....."
   ]
  },
  {
   "cell_type": "code",
   "execution_count": 8,
   "id": "d5d068cd",
   "metadata": {},
   "outputs": [
    {
     "data": {
      "image/png": "[encoded data removed]",
      "text/plain": [
       "<Figure size 864x648 with 1 Axes>"
      ]
     },
     "metadata": {},
     "output_type": "display_data"
    }
   ],
   "source": [
    "ex = [0.5, 1, 1.5, 2, 2.5, 3]\n",
    "\n",
    "for a in ex:\n",
    "    plt.rcParams[\"figure.figsize\"] = (12, 9)\n",
    "    x = [artificial_data_1(i, a=1) for i in y]\n",
    "    x = np.array(x).reshape(-1, 2)\n",
    "    y_pred = NB.predict_proba(x)[::,1]\n",
    "    \n",
    "    from sklearn import metrics\n",
    "    FPR, TPR, _ = metrics.roc_curve(y,  y_pred)\n",
    "\n",
    "    plt.plot(FPR,TPR, label=str(a))\n",
    "    \n",
    "    plt.xlabel('False Positive Rate(FPR)')\n",
    "    plt.ylabel('True Positive Rate(TPR)')\n",
    "    plt.legend()"
   ]
  },
  {
   "cell_type": "markdown",
   "id": "d53b87f9",
   "metadata": {},
   "source": [
    "<img style=\"width:70px; height:70px; float:left;\" src=\"https://thumbs.gfycat.com/ResponsibleUnfinishedAlpinegoat-size_restricted.gif\"><img style=\"width:70px; height:70px; float:right;\" src=\"https://thumbs.gfycat.com/ResponsibleUnfinishedAlpinegoat-size_restricted.gif\"><h2 style=\"background-color:black; color:white; text-align:center;\"><b><i> Task 2 </i></b><h2>"
   ]
  },
  {
   "cell_type": "markdown",
   "id": "2479faef",
   "metadata": {},
   "source": [
    "### 2.1. Create an artificial dataset with 1000 samples as follows ......"
   ]
  },
  {
   "cell_type": "code",
   "execution_count": 9,
   "id": "c14bac41",
   "metadata": {},
   "outputs": [
    {
     "data": {
      "text/plain": [
       "array([[0.98811363, 2.21866696, 1.28482982, ..., 0.34004874, 1.98077059,\n",
       "        2.42460298],\n",
       "       [2.97864693, 1.67014775, 0.03327353, ..., 1.50331365, 1.52472285,\n",
       "        1.54017646],\n",
       "       [0.57755899, 3.13769539, 0.28419808, ..., 0.8416388 , 1.28008445,\n",
       "        1.23863035],\n",
       "       ...,\n",
       "       [2.75943149, 1.81372766, 0.38845257, ..., 1.67151725, 2.48118112,\n",
       "        0.86108411],\n",
       "       [2.62928999, 0.45352012, 2.44818563, ..., 3.11895407, 1.17378497,\n",
       "        2.32707802],\n",
       "       [2.4030433 , 0.08642426, 0.88009184, ..., 2.5206345 , 1.71546915,\n",
       "        0.76422923]])"
      ]
     },
     "execution_count": 9,
     "metadata": {},
     "output_type": "execute_result"
    }
   ],
   "source": [
    "x = [np.random.uniform(low=0.0, high=np.pi, size=10) for i in range(1000)]\n",
    "x = np.array(x).reshape(-1, 10)\n",
    "x"
   ]
  },
  {
   "cell_type": "code",
   "execution_count": 10,
   "id": "16cba6e5",
   "metadata": {
    "scrolled": true
   },
   "outputs": [
    {
     "data": {
      "text/plain": [
       "array([1, 0, 0, 0, 1, 0, 1, 0, 1, 0, 0, 1, 0, 1, 0, 0, 0, 0, 0, 1, 0, 0,\n",
       "       0, 0, 0, 0, 1, 0, 0, 1, 0, 0, 0, 1, 0, 1, 0, 1, 0, 1, 1, 1, 1, 0,\n",
       "       0, 1, 1, 1, 1, 0, 1, 1, 1, 0, 1, 1, 0, 0, 0, 1, 0, 0, 1, 1, 0, 1,\n",
       "       1, 1, 0, 1, 1, 1, 0, 1, 0, 0, 1, 0, 1, 0, 1, 0, 0, 1, 1, 1, 1, 0,\n",
       "       1, 0, 1, 0, 1, 1, 0, 1, 1, 0, 1, 1, 0, 0, 1, 0, 1, 1, 0, 0, 1, 0,\n",
       "       1, 1, 1, 1, 0, 0, 0, 1, 1, 1, 0, 0, 0, 1, 1, 1, 0, 1, 0, 1, 0, 0,\n",
       "       0, 1, 1, 1, 0, 0, 1, 0, 0, 1, 1, 1, 0, 0, 0, 0, 1, 1, 0, 0, 0, 1,\n",
       "       1, 0, 0, 1, 0, 1, 0, 1, 1, 1, 1, 1, 0, 1, 0, 1, 1, 0, 1, 1, 0, 1,\n",
       "       1, 0, 0, 0, 1, 1, 0, 1, 1, 0, 0, 0, 1, 1, 0, 0, 1, 1, 0, 0, 1, 1,\n",
       "       1, 1, 1, 1, 1, 1, 1, 1, 0, 1, 1, 0, 1, 0, 0, 0, 1, 0, 0, 1, 1, 0,\n",
       "       1, 0, 0, 0, 1, 1, 0, 1, 1, 0, 1, 1, 1, 1, 1, 1, 1, 1, 1, 1, 0, 0,\n",
       "       0, 1, 0, 0, 0, 0, 1, 0, 0, 1, 1, 1, 1, 0, 1, 1, 1, 1, 0, 1, 1, 1,\n",
       "       1, 0, 1, 1, 0, 1, 0, 1, 0, 1, 0, 1, 0, 0, 1, 1, 0, 1, 1, 0, 0, 1,\n",
       "       0, 1, 0, 1, 1, 0, 1, 0, 1, 1, 0, 1, 0, 0, 0, 1, 1, 0, 0, 1, 0, 0,\n",
       "       0, 1, 1, 1, 0, 0, 1, 1, 1, 1, 0, 1, 1, 1, 1, 0, 0, 0, 1, 0, 0, 1,\n",
       "       1, 1, 1, 0, 1, 1, 1, 0, 1, 1, 1, 0, 1, 0, 0, 1, 1, 1, 1, 0, 0, 1,\n",
       "       0, 1, 0, 0, 0, 0, 1, 0, 0, 1, 1, 1, 1, 1, 0, 1, 0, 1, 1, 1, 0, 0,\n",
       "       1, 1, 0, 0, 1, 0, 0, 1, 0, 0, 0, 0, 0, 0, 0, 0, 0, 0, 1, 0, 1, 0,\n",
       "       1, 1, 0, 1, 1, 0, 0, 1, 1, 1, 0, 0, 1, 0, 0, 0, 1, 1, 1, 1, 0, 0,\n",
       "       1, 1, 0, 1, 1, 1, 0, 1, 0, 1, 1, 0, 1, 0, 0, 0, 0, 1, 0, 0, 1, 1,\n",
       "       0, 1, 0, 0, 1, 0, 1, 1, 0, 1, 1, 0, 0, 1, 0, 0, 0, 1, 0, 0, 1, 1,\n",
       "       0, 0, 1, 1, 1, 0, 1, 1, 1, 1, 0, 0, 1, 1, 0, 0, 1, 0, 1, 0, 1, 0,\n",
       "       0, 1, 1, 0, 0, 1, 0, 1, 1, 0, 0, 1, 0, 0, 1, 0, 1, 1, 1, 1, 0, 0,\n",
       "       1, 0, 0, 1, 0, 1, 0, 1, 1, 1, 1, 1, 1, 1, 0, 0, 1, 1, 1, 1, 0, 0,\n",
       "       0, 0, 0, 1, 1, 0, 1, 1, 0, 1, 1, 0, 1, 1, 0, 0, 0, 0, 1, 0, 0, 1,\n",
       "       1, 0, 1, 1, 1, 0, 1, 1, 1, 0, 1, 1, 0, 0, 0, 0, 0, 1, 0, 1, 0, 1,\n",
       "       1, 1, 1, 0, 1, 0, 1, 1, 0, 0, 0, 1, 1, 1, 0, 1, 0, 0, 1, 0, 1, 1,\n",
       "       0, 1, 0, 1, 1, 0, 0, 1, 0, 1, 1, 0, 1, 0, 0, 1, 1, 0, 1, 1, 0, 1,\n",
       "       0, 1, 0, 1, 1, 0, 1, 0, 0, 0, 0, 0, 0, 1, 0, 1, 1, 1, 1, 0, 1, 0,\n",
       "       1, 1, 1, 0, 0, 1, 1, 0, 1, 0, 1, 1, 1, 1, 1, 0, 1, 0, 1, 1, 0, 1,\n",
       "       1, 1, 1, 0, 0, 1, 1, 1, 1, 0, 1, 0, 1, 0, 1, 1, 1, 0, 0, 0, 0, 1,\n",
       "       1, 0, 0, 0, 1, 1, 1, 0, 1, 0, 1, 1, 1, 1, 1, 1, 1, 1, 0, 0, 1, 1,\n",
       "       1, 0, 1, 1, 0, 1, 0, 1, 1, 0, 0, 1, 0, 1, 1, 1, 1, 0, 0, 1, 1, 1,\n",
       "       0, 1, 1, 0, 1, 0, 0, 1, 0, 0, 1, 1, 0, 0, 1, 0, 0, 1, 1, 1, 1, 1,\n",
       "       1, 0, 1, 1, 0, 1, 0, 0, 1, 1, 1, 1, 0, 1, 0, 1, 0, 0, 0, 0, 1, 1,\n",
       "       0, 0, 1, 0, 0, 0, 0, 0, 1, 1, 1, 0, 0, 0, 1, 1, 0, 1, 0, 1, 1, 1,\n",
       "       1, 1, 1, 1, 0, 0, 1, 0, 0, 1, 0, 0, 1, 1, 1, 0, 1, 1, 0, 1, 0, 0,\n",
       "       0, 1, 0, 1, 1, 1, 1, 0, 0, 0, 1, 1, 1, 0, 1, 1, 1, 0, 0, 1, 1, 0,\n",
       "       1, 0, 1, 0, 0, 0, 1, 1, 1, 1, 0, 1, 0, 1, 1, 1, 1, 0, 0, 1, 1, 1,\n",
       "       1, 1, 0, 0, 0, 0, 0, 1, 1, 1, 0, 0, 0, 0, 1, 0, 0, 1, 0, 1, 0, 1,\n",
       "       1, 0, 1, 1, 0, 0, 0, 1, 1, 0, 1, 0, 1, 0, 0, 0, 0, 0, 1, 0, 1, 1,\n",
       "       1, 0, 1, 0, 1, 1, 1, 0, 1, 1, 0, 0, 1, 0, 1, 1, 1, 0, 0, 1, 1, 0,\n",
       "       1, 1, 1, 1, 1, 0, 1, 1, 1, 1, 1, 1, 0, 1, 1, 0, 1, 1, 1, 1, 1, 1,\n",
       "       0, 1, 1, 1, 0, 0, 1, 0, 0, 1, 1, 1, 1, 0, 1, 1, 0, 1, 1, 1, 0, 0,\n",
       "       0, 1, 0, 1, 0, 1, 0, 1, 1, 1, 0, 0, 1, 0, 1, 1, 1, 1, 1, 1, 0, 1,\n",
       "       1, 0, 1, 1, 0, 0, 1, 0, 0, 0])"
      ]
     },
     "execution_count": 10,
     "metadata": {},
     "output_type": "execute_result"
    }
   ],
   "source": [
    "y = np.where(np.sum(np.sin(x[:, 0:4]), axis=1) > 2.5, 1, 0)\n",
    "y"
   ]
  },
  {
   "cell_type": "markdown",
   "id": "dc46457e",
   "metadata": {},
   "source": [
    "![Section end](https://user-images.githubusercontent.com/7065401/52071924-c003ad80-2562-11e9-8297-1c6595f8a7ff.png)"
   ]
  },
  {
   "cell_type": "markdown",
   "id": "b41c234c",
   "metadata": {},
   "source": [
    "### 2.2. Visualize (X1, X2, X3, X4) with PCA using first two principal components ......."
   ]
  },
  {
   "cell_type": "code",
   "execution_count": 11,
   "id": "07375b88",
   "metadata": {},
   "outputs": [],
   "source": [
    "# import\n",
    "from sklearn.decomposition import PCA"
   ]
  },
  {
   "cell_type": "code",
   "execution_count": 12,
   "id": "8db7520d",
   "metadata": {},
   "outputs": [],
   "source": [
    "# fit\n",
    "pca_ = PCA(n_components=2).fit(x[:, 0:4])\n",
    "pca = PCA(n_components=2).fit_transform(x[:, 0:4])"
   ]
  },
  {
   "cell_type": "code",
   "execution_count": 13,
   "id": "6f64c165",
   "metadata": {},
   "outputs": [
    {
     "data": {
      "text/plain": [
       "<matplotlib.collections.PathCollection at 0x1bbe9855ca0>"
      ]
     },
     "execution_count": 13,
     "metadata": {},
     "output_type": "execute_result"
    },
    {
     "data": {
      "image/png": "[encoded data removed]",
      "text/plain": [
       "<Figure size 864x648 with 1 Axes>"
      ]
     },
     "metadata": {},
     "output_type": "display_data"
    }
   ],
   "source": [
    "# Visualize\n",
    "plt.figure(figsize = (12, 9))\n",
    "plt.scatter(pca[y == 1][:, 0], pca[y == 1][:, 1])\n",
    "plt.scatter(pca[y == 0][:, 0], pca[y == 0][:, 1])"
   ]
  },
  {
   "cell_type": "markdown",
   "id": "4e2c839f",
   "metadata": {},
   "source": [
    "![Section end](https://user-images.githubusercontent.com/7065401/52071924-c003ad80-2562-11e9-8297-1c6595f8a7ff.png)"
   ]
  },
  {
   "cell_type": "markdown",
   "id": "5365ae13",
   "metadata": {},
   "source": [
    "### 2.3. Compare using 10-fold crossvalidation following models"
   ]
  },
  {
   "cell_type": "code",
   "execution_count": 14,
   "id": "cdbf1f64",
   "metadata": {},
   "outputs": [],
   "source": [
    "from sklearn.model_selection import cross_val_score"
   ]
  },
  {
   "cell_type": "markdown",
   "id": "70e6b3b0",
   "metadata": {},
   "source": [
    "#### 2.3.1 Random Forest"
   ]
  },
  {
   "cell_type": "code",
   "execution_count": 15,
   "id": "d9a037bc",
   "metadata": {},
   "outputs": [],
   "source": [
    "from sklearn.ensemble import RandomForestClassifier"
   ]
  },
  {
   "cell_type": "code",
   "execution_count": 16,
   "id": "d663bbb7",
   "metadata": {},
   "outputs": [],
   "source": [
    "rf = RandomForestClassifier()\n",
    "rf_scores = cross_val_score(rf, x, y, cv=10)    # 10 fold cross validation"
   ]
  },
  {
   "cell_type": "code",
   "execution_count": 17,
   "id": "07e81746",
   "metadata": {},
   "outputs": [
    {
     "name": "stdout",
     "output_type": "stream",
     "text": [
      "[0.82 0.91 0.88 0.87 0.9  0.83 0.82 0.86 0.85 0.85]\n"
     ]
    }
   ],
   "source": [
    "print(rf_scores)"
   ]
  },
  {
   "cell_type": "code",
   "execution_count": 18,
   "id": "2d6d7322",
   "metadata": {},
   "outputs": [
    {
     "data": {
      "text/plain": [
       "0.859"
      ]
     },
     "execution_count": 18,
     "metadata": {},
     "output_type": "execute_result"
    }
   ],
   "source": [
    "# AVG\n",
    "np.mean(rf_scores)"
   ]
  },
  {
   "cell_type": "code",
   "execution_count": 19,
   "id": "0d59971a",
   "metadata": {},
   "outputs": [
    {
     "data": {
      "text/plain": [
       "0.02981610303175117"
      ]
     },
     "execution_count": 19,
     "metadata": {},
     "output_type": "execute_result"
    }
   ],
   "source": [
    "# STD\n",
    "np.std(rf_scores)"
   ]
  },
  {
   "cell_type": "markdown",
   "id": "5462b208",
   "metadata": {},
   "source": [
    "#### 2.3.2 Logistic Ridge Regression"
   ]
  },
  {
   "cell_type": "code",
   "execution_count": 20,
   "id": "b01fc70f",
   "metadata": {},
   "outputs": [],
   "source": [
    "from sklearn.linear_model import RidgeClassifier"
   ]
  },
  {
   "cell_type": "code",
   "execution_count": 21,
   "id": "37c75735",
   "metadata": {},
   "outputs": [],
   "source": [
    "lrr = RidgeClassifier()\n",
    "lrr_scores = cross_val_score(lrr, x, y, cv=10)    # 10 fold cross validation"
   ]
  },
  {
   "cell_type": "code",
   "execution_count": 22,
   "id": "5f7c8346",
   "metadata": {},
   "outputs": [
    {
     "name": "stdout",
     "output_type": "stream",
     "text": [
      "[0.49 0.54 0.54 0.51 0.62 0.55 0.52 0.53 0.54 0.55]\n"
     ]
    }
   ],
   "source": [
    "print(lrr_scores)"
   ]
  },
  {
   "cell_type": "code",
   "execution_count": 23,
   "id": "1bf834bf",
   "metadata": {},
   "outputs": [
    {
     "data": {
      "text/plain": [
       "0.5389999999999999"
      ]
     },
     "execution_count": 23,
     "metadata": {},
     "output_type": "execute_result"
    }
   ],
   "source": [
    "# AVG\n",
    "np.mean(lrr_scores)"
   ]
  },
  {
   "cell_type": "code",
   "execution_count": 24,
   "id": "b4ee2dd1",
   "metadata": {},
   "outputs": [
    {
     "data": {
      "text/plain": [
       "0.032388269481403296"
      ]
     },
     "execution_count": 24,
     "metadata": {},
     "output_type": "execute_result"
    }
   ],
   "source": [
    "# STD\n",
    "np.std(lrr_scores)"
   ]
  },
  {
   "cell_type": "markdown",
   "id": "1570c2b4",
   "metadata": {},
   "source": [
    "#### 2.3.3 AdaBoost"
   ]
  },
  {
   "cell_type": "code",
   "execution_count": 25,
   "id": "6da472ed",
   "metadata": {},
   "outputs": [],
   "source": [
    "from sklearn.ensemble import AdaBoostClassifier"
   ]
  },
  {
   "cell_type": "code",
   "execution_count": 26,
   "id": "1c725e02",
   "metadata": {},
   "outputs": [
    {
     "name": "stdout",
     "output_type": "stream",
     "text": [
      "[0.9  0.97 0.93 0.92 0.95 0.93 0.89 0.95 0.94 0.96]\n"
     ]
    }
   ],
   "source": [
    "ad = AdaBoostClassifier()\n",
    "ad_scores = cross_val_score(ad, x, y, cv=10)    # 10 fold cross validation\n",
    "print(ad_scores)"
   ]
  },
  {
   "cell_type": "code",
   "execution_count": 27,
   "id": "31eb491d",
   "metadata": {},
   "outputs": [
    {
     "data": {
      "text/plain": [
       "0.9339999999999999"
      ]
     },
     "execution_count": 27,
     "metadata": {},
     "output_type": "execute_result"
    }
   ],
   "source": [
    "# AVG\n",
    "np.mean(ad_scores)"
   ]
  },
  {
   "cell_type": "code",
   "execution_count": 28,
   "id": "f443cd7c",
   "metadata": {},
   "outputs": [
    {
     "data": {
      "text/plain": [
       "0.02416609194718912"
      ]
     },
     "execution_count": 28,
     "metadata": {},
     "output_type": "execute_result"
    }
   ],
   "source": [
    "# STD\n",
    "np.std(ad_scores)"
   ]
  },
  {
   "cell_type": "markdown",
   "id": "406c3428",
   "metadata": {},
   "source": [
    "#### 2.3.4 Visualize Model Result"
   ]
  },
  {
   "cell_type": "code",
   "execution_count": 29,
   "id": "9c3c9d9c",
   "metadata": {},
   "outputs": [],
   "source": [
    "label = ['Random Forrest',' Logistic Ridge Regression','AdaBoost']\n",
    "mean = [np.mean(rf_scores),np.mean(lrr_scores), np.mean(ad_scores)]\n",
    "std = [np.std(rf_scores), np.std(lrr_scores), np.std(ad_scores)]"
   ]
  },
  {
   "cell_type": "code",
   "execution_count": 30,
   "id": "885747fd",
   "metadata": {},
   "outputs": [
    {
     "data": {
      "text/plain": [
       "<matplotlib.legend.Legend at 0x1bbe9a7ca60>"
      ]
     },
     "execution_count": 30,
     "metadata": {},
     "output_type": "execute_result"
    },
    {
     "data": {
      "image/png": "[encoded data removed]",
      "text/plain": [
       "<Figure size 864x648 with 1 Axes>"
      ]
     },
     "metadata": {},
     "output_type": "display_data"
    }
   ],
   "source": [
    "xpos = np.arange(len(label))\n",
    "\n",
    "plt.figure(figsize = (12, 9))\n",
    "plt.bar(xpos-0.2, mean, width= 0.4, edgecolor='black', label=\"Mean\")\n",
    "plt.bar(xpos+0.2, std, width=0.4, edgecolor='black', label=\"STD\")\n",
    "plt.xticks(xpos,label)\n",
    "plt.legend()"
   ]
  },
  {
   "cell_type": "markdown",
   "id": "4bfa4a05",
   "metadata": {},
   "source": [
    "![Section end](https://user-images.githubusercontent.com/7065401/52071924-c003ad80-2562-11e9-8297-1c6595f8a7ff.png)"
   ]
  },
  {
   "cell_type": "markdown",
   "id": "5e3efe97",
   "metadata": {},
   "source": [
    "### 2.4. Rank features with respect to their importance using Random Forest"
   ]
  },
  {
   "cell_type": "code",
   "execution_count": 31,
   "id": "970e07b6",
   "metadata": {},
   "outputs": [
    {
     "data": {
      "text/plain": [
       "RandomForestClassifier()"
      ]
     },
     "execution_count": 31,
     "metadata": {},
     "output_type": "execute_result"
    }
   ],
   "source": [
    "rf = RandomForestClassifier() \n",
    "rf.fit(x, y)"
   ]
  },
  {
   "cell_type": "code",
   "execution_count": 32,
   "id": "7a3ca9e4",
   "metadata": {},
   "outputs": [
    {
     "data": {
      "text/plain": [
       "array([0.13785602, 0.1745356 , 0.19769916, 0.20487104, 0.04664757,\n",
       "       0.04273293, 0.04936886, 0.0517618 , 0.04585942, 0.0486676 ])"
      ]
     },
     "execution_count": 32,
     "metadata": {},
     "output_type": "execute_result"
    }
   ],
   "source": [
    "rf.feature_importances_"
   ]
  },
  {
   "cell_type": "code",
   "execution_count": 33,
   "id": "85ee605d",
   "metadata": {},
   "outputs": [
    {
     "data": {
      "text/plain": [
       "array([0.20487104, 0.19769916, 0.1745356 , 0.13785602, 0.0517618 ,\n",
       "       0.04936886, 0.0486676 , 0.04664757, 0.04585942, 0.04273293])"
      ]
     },
     "execution_count": 33,
     "metadata": {},
     "output_type": "execute_result"
    }
   ],
   "source": [
    "srf = np.sort(rf.feature_importances_)[::-1]\n",
    "srf"
   ]
  },
  {
   "cell_type": "code",
   "execution_count": 34,
   "id": "84283a75",
   "metadata": {},
   "outputs": [
    {
     "data": {
      "text/plain": [
       "Text(0.5, 1.0, 'Rank features with respect to their importance using Random Forrest')"
      ]
     },
     "execution_count": 34,
     "metadata": {},
     "output_type": "execute_result"
    },
    {
     "data": {
      "image/png": "[encoded data removed]",
      "text/plain": [
       "<Figure size 864x648 with 1 Axes>"
      ]
     },
     "metadata": {},
     "output_type": "display_data"
    }
   ],
   "source": [
    "plt.bar([i for i in range(10)], srf)\n",
    "plt.title(\"Rank features with respect to their importance using Random Forrest\")"
   ]
  },
  {
   "cell_type": "markdown",
   "id": "68a8b1b4",
   "metadata": {},
   "source": [
    "<img style=\"width:70px; height:70px; float:left;\" src=\"https://cliply.co/wp-content/uploads/2019/05/371905140_MEET_ROBOT_400px.gif\"><img style=\"width:70px; height:70px; float:right;\" src=\"https://cliply.co/wp-content/uploads/2019/05/371905140_MEET_ROBOT_400px.gif\"><h2 style=\"background-color:black; color:white; text-align:center;\"><b><i> END </i></b></h2>"
   ]
  }
 ],
 "metadata": {
  "kernelspec": {
   "display_name": "Python 3 (ipykernel)",
   "language": "python",
   "name": "python3"
  },
  "language_info": {
   "codemirror_mode": {
    "name": "ipython",
    "version": 3
   },
   "file_extension": ".py",
   "mimetype": "text/x-python",
   "name": "python",
   "nbconvert_exporter": "python",
   "pygments_lexer": "ipython3",
   "version": "3.9.7"
  }
 },
 "nbformat": 4,
 "nbformat_minor": 5
}

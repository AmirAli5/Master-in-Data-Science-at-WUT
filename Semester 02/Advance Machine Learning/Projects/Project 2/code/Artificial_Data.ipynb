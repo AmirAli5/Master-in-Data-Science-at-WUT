{
 "cells": [
  {
   "cell_type": "markdown",
   "id": "6d806f44",
   "metadata": {
    "id": "6d806f44"
   },
   "source": [
    "![AML project 2](https://pbs.twimg.com/media/FSyiYYDWIAAjOE1?format=jpg&name=medium)"
   ]
  },
  {
   "cell_type": "code",
   "execution_count": 250,
   "id": "304b3627",
   "metadata": {
    "id": "304b3627"
   },
   "outputs": [],
   "source": [
    "# import libraries|\n",
    "import pandas as pd\n",
    "import os\n",
    "import warnings\n",
    "from sklearn.ensemble import RandomForestClassifier\n",
    "from sklearn.svm import SVC\n",
    "from sklearn.discriminant_analysis import QuadraticDiscriminantAnalysis, LinearDiscriminantAnalysis\n",
    "from tqdm import tqdm\n",
    "import numpy as np\n",
    "from sklearn.decomposition import KernelPCA\n",
    "from sklearn.linear_model import LogisticRegression\n",
    "from xgboost import XGBClassifier\n",
    "\n",
    "warnings.filterwarnings(\"ignore\")"
   ]
  },
  {
   "cell_type": "markdown",
   "id": "7b90597b",
   "metadata": {
    "id": "7b90597b"
   },
   "source": [
    "# Artificial Data"
   ]
  },
  {
   "cell_type": "code",
   "execution_count": 203,
   "id": "2b15fae2",
   "metadata": {
    "colab": {
     "base_uri": "https://localhost:8080/",
     "height": 362
    },
    "id": "2b15fae2",
    "outputId": "90e22e15-8d74-4487-a514-c22c35e5f6f4"
   },
   "outputs": [],
   "source": [
    "# import artificial data\n",
    "X_train = pd.read_csv('artificial_train.data', header = None, sep = ' ')\n",
    "y_train = pd.read_csv('artificial_train.labels', header = None, sep = ' ').to_numpy().reshape(-1)\n",
    "X_validation = pd.read_csv('artificial_valid.data', header = None, sep = ' ')"
   ]
  },
  {
   "cell_type": "code",
   "execution_count": 204,
   "id": "2b8babcf",
   "metadata": {
    "colab": {
     "base_uri": "https://localhost:8080/",
     "height": 165
    },
    "id": "2b8babcf",
    "outputId": "23eb3b2e-0988-4dde-a95f-3f0f4244d7a0"
   },
   "outputs": [
    {
     "data": {
      "text/html": [
       "<div>\n",
       "<style scoped>\n",
       "    .dataframe tbody tr th:only-of-type {\n",
       "        vertical-align: middle;\n",
       "    }\n",
       "\n",
       "    .dataframe tbody tr th {\n",
       "        vertical-align: top;\n",
       "    }\n",
       "\n",
       "    .dataframe thead th {\n",
       "        text-align: right;\n",
       "    }\n",
       "</style>\n",
       "<table border=\"1\" class=\"dataframe\">\n",
       "  <thead>\n",
       "    <tr style=\"text-align: right;\">\n",
       "      <th></th>\n",
       "      <th>0</th>\n",
       "      <th>1</th>\n",
       "      <th>2</th>\n",
       "      <th>3</th>\n",
       "      <th>4</th>\n",
       "      <th>5</th>\n",
       "      <th>6</th>\n",
       "      <th>7</th>\n",
       "      <th>8</th>\n",
       "      <th>9</th>\n",
       "      <th>...</th>\n",
       "      <th>491</th>\n",
       "      <th>492</th>\n",
       "      <th>493</th>\n",
       "      <th>494</th>\n",
       "      <th>495</th>\n",
       "      <th>496</th>\n",
       "      <th>497</th>\n",
       "      <th>498</th>\n",
       "      <th>499</th>\n",
       "      <th>500</th>\n",
       "    </tr>\n",
       "  </thead>\n",
       "  <tbody>\n",
       "    <tr>\n",
       "      <th>0</th>\n",
       "      <td>485</td>\n",
       "      <td>477</td>\n",
       "      <td>537</td>\n",
       "      <td>479</td>\n",
       "      <td>452</td>\n",
       "      <td>471</td>\n",
       "      <td>491</td>\n",
       "      <td>476</td>\n",
       "      <td>475</td>\n",
       "      <td>473</td>\n",
       "      <td>...</td>\n",
       "      <td>481</td>\n",
       "      <td>477</td>\n",
       "      <td>485</td>\n",
       "      <td>511</td>\n",
       "      <td>485</td>\n",
       "      <td>481</td>\n",
       "      <td>479</td>\n",
       "      <td>475</td>\n",
       "      <td>496</td>\n",
       "      <td>NaN</td>\n",
       "    </tr>\n",
       "    <tr>\n",
       "      <th>1</th>\n",
       "      <td>483</td>\n",
       "      <td>458</td>\n",
       "      <td>460</td>\n",
       "      <td>487</td>\n",
       "      <td>587</td>\n",
       "      <td>475</td>\n",
       "      <td>526</td>\n",
       "      <td>479</td>\n",
       "      <td>485</td>\n",
       "      <td>469</td>\n",
       "      <td>...</td>\n",
       "      <td>478</td>\n",
       "      <td>487</td>\n",
       "      <td>338</td>\n",
       "      <td>513</td>\n",
       "      <td>486</td>\n",
       "      <td>483</td>\n",
       "      <td>492</td>\n",
       "      <td>510</td>\n",
       "      <td>517</td>\n",
       "      <td>NaN</td>\n",
       "    </tr>\n",
       "    <tr>\n",
       "      <th>2</th>\n",
       "      <td>487</td>\n",
       "      <td>542</td>\n",
       "      <td>499</td>\n",
       "      <td>468</td>\n",
       "      <td>448</td>\n",
       "      <td>471</td>\n",
       "      <td>442</td>\n",
       "      <td>478</td>\n",
       "      <td>480</td>\n",
       "      <td>477</td>\n",
       "      <td>...</td>\n",
       "      <td>481</td>\n",
       "      <td>492</td>\n",
       "      <td>650</td>\n",
       "      <td>506</td>\n",
       "      <td>501</td>\n",
       "      <td>480</td>\n",
       "      <td>489</td>\n",
       "      <td>499</td>\n",
       "      <td>498</td>\n",
       "      <td>NaN</td>\n",
       "    </tr>\n",
       "    <tr>\n",
       "      <th>3</th>\n",
       "      <td>480</td>\n",
       "      <td>491</td>\n",
       "      <td>510</td>\n",
       "      <td>485</td>\n",
       "      <td>495</td>\n",
       "      <td>472</td>\n",
       "      <td>417</td>\n",
       "      <td>474</td>\n",
       "      <td>502</td>\n",
       "      <td>476</td>\n",
       "      <td>...</td>\n",
       "      <td>480</td>\n",
       "      <td>474</td>\n",
       "      <td>572</td>\n",
       "      <td>454</td>\n",
       "      <td>469</td>\n",
       "      <td>475</td>\n",
       "      <td>482</td>\n",
       "      <td>494</td>\n",
       "      <td>461</td>\n",
       "      <td>NaN</td>\n",
       "    </tr>\n",
       "    <tr>\n",
       "      <th>4</th>\n",
       "      <td>484</td>\n",
       "      <td>502</td>\n",
       "      <td>528</td>\n",
       "      <td>489</td>\n",
       "      <td>466</td>\n",
       "      <td>481</td>\n",
       "      <td>402</td>\n",
       "      <td>478</td>\n",
       "      <td>487</td>\n",
       "      <td>468</td>\n",
       "      <td>...</td>\n",
       "      <td>479</td>\n",
       "      <td>452</td>\n",
       "      <td>435</td>\n",
       "      <td>486</td>\n",
       "      <td>508</td>\n",
       "      <td>481</td>\n",
       "      <td>504</td>\n",
       "      <td>495</td>\n",
       "      <td>511</td>\n",
       "      <td>NaN</td>\n",
       "    </tr>\n",
       "  </tbody>\n",
       "</table>\n",
       "<p>5 rows × 501 columns</p>\n",
       "</div>"
      ],
      "text/plain": [
       "   0    1    2    3    4    5    6    7    8    9    ...  491  492  493  494  \\\n",
       "0  485  477  537  479  452  471  491  476  475  473  ...  481  477  485  511   \n",
       "1  483  458  460  487  587  475  526  479  485  469  ...  478  487  338  513   \n",
       "2  487  542  499  468  448  471  442  478  480  477  ...  481  492  650  506   \n",
       "3  480  491  510  485  495  472  417  474  502  476  ...  480  474  572  454   \n",
       "4  484  502  528  489  466  481  402  478  487  468  ...  479  452  435  486   \n",
       "\n",
       "   495  496  497  498  499  500  \n",
       "0  485  481  479  475  496  NaN  \n",
       "1  486  483  492  510  517  NaN  \n",
       "2  501  480  489  499  498  NaN  \n",
       "3  469  475  482  494  461  NaN  \n",
       "4  508  481  504  495  511  NaN  \n",
       "\n",
       "[5 rows x 501 columns]"
      ]
     },
     "execution_count": 204,
     "metadata": {},
     "output_type": "execute_result"
    }
   ],
   "source": [
    "X_train.head()"
   ]
  },
  {
   "cell_type": "code",
   "execution_count": 205,
   "id": "7a8074cc",
   "metadata": {
    "id": "7a8074cc"
   },
   "outputs": [
    {
     "data": {
      "text/html": [
       "<div>\n",
       "<style scoped>\n",
       "    .dataframe tbody tr th:only-of-type {\n",
       "        vertical-align: middle;\n",
       "    }\n",
       "\n",
       "    .dataframe tbody tr th {\n",
       "        vertical-align: top;\n",
       "    }\n",
       "\n",
       "    .dataframe thead th {\n",
       "        text-align: right;\n",
       "    }\n",
       "</style>\n",
       "<table border=\"1\" class=\"dataframe\">\n",
       "  <thead>\n",
       "    <tr style=\"text-align: right;\">\n",
       "      <th></th>\n",
       "      <th>0</th>\n",
       "      <th>1</th>\n",
       "      <th>2</th>\n",
       "      <th>3</th>\n",
       "      <th>4</th>\n",
       "      <th>5</th>\n",
       "      <th>6</th>\n",
       "      <th>7</th>\n",
       "      <th>8</th>\n",
       "      <th>9</th>\n",
       "      <th>...</th>\n",
       "      <th>491</th>\n",
       "      <th>492</th>\n",
       "      <th>493</th>\n",
       "      <th>494</th>\n",
       "      <th>495</th>\n",
       "      <th>496</th>\n",
       "      <th>497</th>\n",
       "      <th>498</th>\n",
       "      <th>499</th>\n",
       "      <th>500</th>\n",
       "    </tr>\n",
       "  </thead>\n",
       "  <tbody>\n",
       "    <tr>\n",
       "      <th>0</th>\n",
       "      <td>483</td>\n",
       "      <td>454</td>\n",
       "      <td>513</td>\n",
       "      <td>495</td>\n",
       "      <td>523</td>\n",
       "      <td>469</td>\n",
       "      <td>453</td>\n",
       "      <td>477</td>\n",
       "      <td>506</td>\n",
       "      <td>479</td>\n",
       "      <td>...</td>\n",
       "      <td>480</td>\n",
       "      <td>543</td>\n",
       "      <td>259</td>\n",
       "      <td>413</td>\n",
       "      <td>520</td>\n",
       "      <td>485</td>\n",
       "      <td>498</td>\n",
       "      <td>523</td>\n",
       "      <td>510</td>\n",
       "      <td>NaN</td>\n",
       "    </tr>\n",
       "    <tr>\n",
       "      <th>1</th>\n",
       "      <td>485</td>\n",
       "      <td>508</td>\n",
       "      <td>493</td>\n",
       "      <td>487</td>\n",
       "      <td>478</td>\n",
       "      <td>472</td>\n",
       "      <td>504</td>\n",
       "      <td>476</td>\n",
       "      <td>479</td>\n",
       "      <td>475</td>\n",
       "      <td>...</td>\n",
       "      <td>480</td>\n",
       "      <td>535</td>\n",
       "      <td>534</td>\n",
       "      <td>514</td>\n",
       "      <td>452</td>\n",
       "      <td>484</td>\n",
       "      <td>495</td>\n",
       "      <td>548</td>\n",
       "      <td>477</td>\n",
       "      <td>NaN</td>\n",
       "    </tr>\n",
       "    <tr>\n",
       "      <th>2</th>\n",
       "      <td>483</td>\n",
       "      <td>521</td>\n",
       "      <td>507</td>\n",
       "      <td>475</td>\n",
       "      <td>493</td>\n",
       "      <td>486</td>\n",
       "      <td>421</td>\n",
       "      <td>475</td>\n",
       "      <td>496</td>\n",
       "      <td>483</td>\n",
       "      <td>...</td>\n",
       "      <td>476</td>\n",
       "      <td>498</td>\n",
       "      <td>495</td>\n",
       "      <td>508</td>\n",
       "      <td>528</td>\n",
       "      <td>486</td>\n",
       "      <td>465</td>\n",
       "      <td>508</td>\n",
       "      <td>503</td>\n",
       "      <td>NaN</td>\n",
       "    </tr>\n",
       "    <tr>\n",
       "      <th>3</th>\n",
       "      <td>474</td>\n",
       "      <td>504</td>\n",
       "      <td>576</td>\n",
       "      <td>480</td>\n",
       "      <td>553</td>\n",
       "      <td>483</td>\n",
       "      <td>524</td>\n",
       "      <td>478</td>\n",
       "      <td>483</td>\n",
       "      <td>483</td>\n",
       "      <td>...</td>\n",
       "      <td>475</td>\n",
       "      <td>470</td>\n",
       "      <td>463</td>\n",
       "      <td>509</td>\n",
       "      <td>525</td>\n",
       "      <td>479</td>\n",
       "      <td>467</td>\n",
       "      <td>552</td>\n",
       "      <td>517</td>\n",
       "      <td>NaN</td>\n",
       "    </tr>\n",
       "    <tr>\n",
       "      <th>4</th>\n",
       "      <td>495</td>\n",
       "      <td>474</td>\n",
       "      <td>523</td>\n",
       "      <td>479</td>\n",
       "      <td>495</td>\n",
       "      <td>488</td>\n",
       "      <td>485</td>\n",
       "      <td>476</td>\n",
       "      <td>497</td>\n",
       "      <td>478</td>\n",
       "      <td>...</td>\n",
       "      <td>471</td>\n",
       "      <td>522</td>\n",
       "      <td>343</td>\n",
       "      <td>509</td>\n",
       "      <td>520</td>\n",
       "      <td>475</td>\n",
       "      <td>493</td>\n",
       "      <td>506</td>\n",
       "      <td>491</td>\n",
       "      <td>NaN</td>\n",
       "    </tr>\n",
       "  </tbody>\n",
       "</table>\n",
       "<p>5 rows × 501 columns</p>\n",
       "</div>"
      ],
      "text/plain": [
       "   0    1    2    3    4    5    6    7    8    9    ...  491  492  493  494  \\\n",
       "0  483  454  513  495  523  469  453  477  506  479  ...  480  543  259  413   \n",
       "1  485  508  493  487  478  472  504  476  479  475  ...  480  535  534  514   \n",
       "2  483  521  507  475  493  486  421  475  496  483  ...  476  498  495  508   \n",
       "3  474  504  576  480  553  483  524  478  483  483  ...  475  470  463  509   \n",
       "4  495  474  523  479  495  488  485  476  497  478  ...  471  522  343  509   \n",
       "\n",
       "   495  496  497  498  499  500  \n",
       "0  520  485  498  523  510  NaN  \n",
       "1  452  484  495  548  477  NaN  \n",
       "2  528  486  465  508  503  NaN  \n",
       "3  525  479  467  552  517  NaN  \n",
       "4  520  475  493  506  491  NaN  \n",
       "\n",
       "[5 rows x 501 columns]"
      ]
     },
     "execution_count": 205,
     "metadata": {},
     "output_type": "execute_result"
    }
   ],
   "source": [
    "X_validation.head()"
   ]
  },
  {
   "cell_type": "code",
   "execution_count": 206,
   "id": "6be6499f",
   "metadata": {
    "id": "6be6499f"
   },
   "outputs": [],
   "source": [
    "# Drop last col of train and test due to present Nan Value\n",
    "X_train = X_train.drop(columns=[500])\n",
    "X_validation = X_validation.drop(columns=[500])"
   ]
  },
  {
   "cell_type": "code",
   "execution_count": 207,
   "id": "c9bd02f7",
   "metadata": {
    "id": "c9bd02f7"
   },
   "outputs": [
    {
     "data": {
      "text/plain": [
       "(2000, 500)"
      ]
     },
     "execution_count": 207,
     "metadata": {},
     "output_type": "execute_result"
    }
   ],
   "source": [
    "X_train.shape"
   ]
  },
  {
   "cell_type": "markdown",
   "id": "2e629fef",
   "metadata": {
    "id": "2e629fef"
   },
   "source": [
    "# Feature Scaling"
   ]
  },
  {
   "cell_type": "code",
   "execution_count": 208,
   "id": "82cac64c",
   "metadata": {
    "id": "82cac64c"
   },
   "outputs": [],
   "source": [
    "# feature scaling\n",
    "from sklearn.preprocessing import StandardScaler, LabelEncoder"
   ]
  },
  {
   "cell_type": "code",
   "execution_count": 209,
   "id": "b1c0230b",
   "metadata": {
    "id": "b1c0230b"
   },
   "outputs": [],
   "source": [
    "sc = StandardScaler()"
   ]
  },
  {
   "cell_type": "code",
   "execution_count": 210,
   "id": "91da99d9",
   "metadata": {
    "id": "91da99d9"
   },
   "outputs": [],
   "source": [
    "X_train = sc.fit_transform(X_train)"
   ]
  },
  {
   "cell_type": "code",
   "execution_count": 211,
   "id": "66c9ff97",
   "metadata": {
    "id": "66c9ff97"
   },
   "outputs": [],
   "source": [
    "X_validation = sc.transform(X_validation)"
   ]
  },
  {
   "cell_type": "code",
   "execution_count": 191,
   "id": "066bf542",
   "metadata": {
    "id": "066bf542"
   },
   "outputs": [
    {
     "data": {
      "text/html": [
       "<div>\n",
       "<style scoped>\n",
       "    .dataframe tbody tr th:only-of-type {\n",
       "        vertical-align: middle;\n",
       "    }\n",
       "\n",
       "    .dataframe tbody tr th {\n",
       "        vertical-align: top;\n",
       "    }\n",
       "\n",
       "    .dataframe thead th {\n",
       "        text-align: right;\n",
       "    }\n",
       "</style>\n",
       "<table border=\"1\" class=\"dataframe\">\n",
       "  <thead>\n",
       "    <tr style=\"text-align: right;\">\n",
       "      <th></th>\n",
       "      <th>0</th>\n",
       "      <th>1</th>\n",
       "      <th>2</th>\n",
       "      <th>3</th>\n",
       "      <th>4</th>\n",
       "      <th>5</th>\n",
       "      <th>6</th>\n",
       "      <th>7</th>\n",
       "      <th>8</th>\n",
       "      <th>9</th>\n",
       "      <th>...</th>\n",
       "      <th>490</th>\n",
       "      <th>491</th>\n",
       "      <th>492</th>\n",
       "      <th>493</th>\n",
       "      <th>494</th>\n",
       "      <th>495</th>\n",
       "      <th>496</th>\n",
       "      <th>497</th>\n",
       "      <th>498</th>\n",
       "      <th>499</th>\n",
       "    </tr>\n",
       "  </thead>\n",
       "  <tbody>\n",
       "    <tr>\n",
       "      <th>0</th>\n",
       "      <td>0.198982</td>\n",
       "      <td>-0.975935</td>\n",
       "      <td>0.072873</td>\n",
       "      <td>1.282399</td>\n",
       "      <td>0.516868</td>\n",
       "      <td>-1.509952</td>\n",
       "      <td>-0.668285</td>\n",
       "      <td>0.314280</td>\n",
       "      <td>1.277022</td>\n",
       "      <td>0.029350</td>\n",
       "      <td>...</td>\n",
       "      <td>-1.314759</td>\n",
       "      <td>0.296330</td>\n",
       "      <td>2.363950</td>\n",
       "      <td>-1.861747</td>\n",
       "      <td>-2.312519</td>\n",
       "      <td>0.243178</td>\n",
       "      <td>1.153314</td>\n",
       "      <td>1.083690</td>\n",
       "      <td>0.403681</td>\n",
       "      <td>0.764326</td>\n",
       "    </tr>\n",
       "    <tr>\n",
       "      <th>1</th>\n",
       "      <td>0.510501</td>\n",
       "      <td>0.813404</td>\n",
       "      <td>-0.441405</td>\n",
       "      <td>0.399166</td>\n",
       "      <td>-0.570639</td>\n",
       "      <td>-1.068402</td>\n",
       "      <td>0.588932</td>\n",
       "      <td>-0.408203</td>\n",
       "      <td>-0.518182</td>\n",
       "      <td>-0.527046</td>\n",
       "      <td>...</td>\n",
       "      <td>0.169573</td>\n",
       "      <td>0.296330</td>\n",
       "      <td>2.030080</td>\n",
       "      <td>0.293366</td>\n",
       "      <td>0.588920</td>\n",
       "      <td>-1.572577</td>\n",
       "      <td>0.983222</td>\n",
       "      <td>0.862393</td>\n",
       "      <td>1.075454</td>\n",
       "      <td>-0.513811</td>\n",
       "    </tr>\n",
       "    <tr>\n",
       "      <th>2</th>\n",
       "      <td>0.198982</td>\n",
       "      <td>1.244170</td>\n",
       "      <td>-0.081410</td>\n",
       "      <td>-0.925684</td>\n",
       "      <td>-0.208137</td>\n",
       "      <td>0.992162</td>\n",
       "      <td>-1.457127</td>\n",
       "      <td>-1.130686</td>\n",
       "      <td>0.612131</td>\n",
       "      <td>0.585746</td>\n",
       "      <td>...</td>\n",
       "      <td>0.408981</td>\n",
       "      <td>-0.700994</td>\n",
       "      <td>0.485928</td>\n",
       "      <td>-0.012268</td>\n",
       "      <td>0.416558</td>\n",
       "      <td>0.456796</td>\n",
       "      <td>1.323407</td>\n",
       "      <td>-1.350574</td>\n",
       "      <td>0.000618</td>\n",
       "      <td>0.493206</td>\n",
       "    </tr>\n",
       "    <tr>\n",
       "      <th>3</th>\n",
       "      <td>-1.202851</td>\n",
       "      <td>0.680860</td>\n",
       "      <td>1.692850</td>\n",
       "      <td>-0.373663</td>\n",
       "      <td>1.241872</td>\n",
       "      <td>0.550612</td>\n",
       "      <td>1.081959</td>\n",
       "      <td>1.036763</td>\n",
       "      <td>-0.252226</td>\n",
       "      <td>0.585746</td>\n",
       "      <td>...</td>\n",
       "      <td>1.845432</td>\n",
       "      <td>-0.950325</td>\n",
       "      <td>-0.682619</td>\n",
       "      <td>-0.263045</td>\n",
       "      <td>0.445285</td>\n",
       "      <td>0.376689</td>\n",
       "      <td>0.132757</td>\n",
       "      <td>-1.203043</td>\n",
       "      <td>1.182937</td>\n",
       "      <td>1.035446</td>\n",
       "    </tr>\n",
       "    <tr>\n",
       "      <th>4</th>\n",
       "      <td>2.068094</td>\n",
       "      <td>-0.313217</td>\n",
       "      <td>0.330012</td>\n",
       "      <td>-0.484067</td>\n",
       "      <td>-0.159803</td>\n",
       "      <td>1.286528</td>\n",
       "      <td>0.120557</td>\n",
       "      <td>-0.408203</td>\n",
       "      <td>0.678620</td>\n",
       "      <td>-0.109749</td>\n",
       "      <td>...</td>\n",
       "      <td>1.318734</td>\n",
       "      <td>-1.947650</td>\n",
       "      <td>1.487540</td>\n",
       "      <td>-1.203458</td>\n",
       "      <td>0.445285</td>\n",
       "      <td>0.243178</td>\n",
       "      <td>-0.547614</td>\n",
       "      <td>0.714862</td>\n",
       "      <td>-0.053124</td>\n",
       "      <td>0.028429</td>\n",
       "    </tr>\n",
       "    <tr>\n",
       "      <th>...</th>\n",
       "      <td>...</td>\n",
       "      <td>...</td>\n",
       "      <td>...</td>\n",
       "      <td>...</td>\n",
       "      <td>...</td>\n",
       "      <td>...</td>\n",
       "      <td>...</td>\n",
       "      <td>...</td>\n",
       "      <td>...</td>\n",
       "      <td>...</td>\n",
       "      <td>...</td>\n",
       "      <td>...</td>\n",
       "      <td>...</td>\n",
       "      <td>...</td>\n",
       "      <td>...</td>\n",
       "      <td>...</td>\n",
       "      <td>...</td>\n",
       "      <td>...</td>\n",
       "      <td>...</td>\n",
       "      <td>...</td>\n",
       "      <td>...</td>\n",
       "    </tr>\n",
       "    <tr>\n",
       "      <th>595</th>\n",
       "      <td>1.756575</td>\n",
       "      <td>-0.843392</td>\n",
       "      <td>-0.184266</td>\n",
       "      <td>-0.594471</td>\n",
       "      <td>0.371867</td>\n",
       "      <td>-0.038120</td>\n",
       "      <td>-0.199910</td>\n",
       "      <td>1.036763</td>\n",
       "      <td>-2.845298</td>\n",
       "      <td>-0.248848</td>\n",
       "      <td>...</td>\n",
       "      <td>-0.644416</td>\n",
       "      <td>-0.950325</td>\n",
       "      <td>-0.056612</td>\n",
       "      <td>-0.419781</td>\n",
       "      <td>0.675102</td>\n",
       "      <td>-0.664700</td>\n",
       "      <td>-0.717707</td>\n",
       "      <td>0.419800</td>\n",
       "      <td>-0.053124</td>\n",
       "      <td>0.609401</td>\n",
       "    </tr>\n",
       "    <tr>\n",
       "      <th>596</th>\n",
       "      <td>-0.112536</td>\n",
       "      <td>0.018142</td>\n",
       "      <td>-0.749972</td>\n",
       "      <td>0.730379</td>\n",
       "      <td>-1.271476</td>\n",
       "      <td>0.256246</td>\n",
       "      <td>-0.323166</td>\n",
       "      <td>1.036763</td>\n",
       "      <td>-1.183073</td>\n",
       "      <td>0.585746</td>\n",
       "      <td>...</td>\n",
       "      <td>1.127207</td>\n",
       "      <td>1.542985</td>\n",
       "      <td>0.903266</td>\n",
       "      <td>0.802756</td>\n",
       "      <td>0.129286</td>\n",
       "      <td>0.430094</td>\n",
       "      <td>0.472943</td>\n",
       "      <td>0.493566</td>\n",
       "      <td>-1.423539</td>\n",
       "      <td>-1.520829</td>\n",
       "    </tr>\n",
       "    <tr>\n",
       "      <th>597</th>\n",
       "      <td>0.510501</td>\n",
       "      <td>0.051278</td>\n",
       "      <td>0.510010</td>\n",
       "      <td>-0.373663</td>\n",
       "      <td>-1.392310</td>\n",
       "      <td>1.139345</td>\n",
       "      <td>-0.446423</td>\n",
       "      <td>-1.130686</td>\n",
       "      <td>1.476489</td>\n",
       "      <td>2.115835</td>\n",
       "      <td>...</td>\n",
       "      <td>-1.937221</td>\n",
       "      <td>-1.199656</td>\n",
       "      <td>0.652863</td>\n",
       "      <td>-1.007539</td>\n",
       "      <td>-1.163434</td>\n",
       "      <td>-0.771509</td>\n",
       "      <td>-0.037335</td>\n",
       "      <td>-0.170325</td>\n",
       "      <td>-0.644283</td>\n",
       "      <td>1.035446</td>\n",
       "    </tr>\n",
       "    <tr>\n",
       "      <th>598</th>\n",
       "      <td>-0.735573</td>\n",
       "      <td>-0.478897</td>\n",
       "      <td>0.458582</td>\n",
       "      <td>0.178358</td>\n",
       "      <td>-0.449805</td>\n",
       "      <td>-1.509952</td>\n",
       "      <td>0.046603</td>\n",
       "      <td>0.314280</td>\n",
       "      <td>0.479153</td>\n",
       "      <td>-0.387947</td>\n",
       "      <td>...</td>\n",
       "      <td>-0.452889</td>\n",
       "      <td>-0.700994</td>\n",
       "      <td>-1.392095</td>\n",
       "      <td>1.108390</td>\n",
       "      <td>-0.646346</td>\n",
       "      <td>0.723819</td>\n",
       "      <td>-1.398078</td>\n",
       "      <td>0.493566</td>\n",
       "      <td>2.822062</td>\n",
       "      <td>0.067160</td>\n",
       "    </tr>\n",
       "    <tr>\n",
       "      <th>599</th>\n",
       "      <td>0.043223</td>\n",
       "      <td>-1.009071</td>\n",
       "      <td>0.124301</td>\n",
       "      <td>-0.263259</td>\n",
       "      <td>-0.038969</td>\n",
       "      <td>2.022444</td>\n",
       "      <td>0.564281</td>\n",
       "      <td>0.314280</td>\n",
       "      <td>0.944576</td>\n",
       "      <td>-0.527046</td>\n",
       "      <td>...</td>\n",
       "      <td>0.073810</td>\n",
       "      <td>-0.202332</td>\n",
       "      <td>0.026856</td>\n",
       "      <td>1.547250</td>\n",
       "      <td>-0.014349</td>\n",
       "      <td>-0.317570</td>\n",
       "      <td>-0.717707</td>\n",
       "      <td>0.788628</td>\n",
       "      <td>0.753003</td>\n",
       "      <td>1.384029</td>\n",
       "    </tr>\n",
       "  </tbody>\n",
       "</table>\n",
       "<p>600 rows × 500 columns</p>\n",
       "</div>"
      ],
      "text/plain": [
       "          0         1         2         3         4         5         6    \\\n",
       "0    0.198982 -0.975935  0.072873  1.282399  0.516868 -1.509952 -0.668285   \n",
       "1    0.510501  0.813404 -0.441405  0.399166 -0.570639 -1.068402  0.588932   \n",
       "2    0.198982  1.244170 -0.081410 -0.925684 -0.208137  0.992162 -1.457127   \n",
       "3   -1.202851  0.680860  1.692850 -0.373663  1.241872  0.550612  1.081959   \n",
       "4    2.068094 -0.313217  0.330012 -0.484067 -0.159803  1.286528  0.120557   \n",
       "..        ...       ...       ...       ...       ...       ...       ...   \n",
       "595  1.756575 -0.843392 -0.184266 -0.594471  0.371867 -0.038120 -0.199910   \n",
       "596 -0.112536  0.018142 -0.749972  0.730379 -1.271476  0.256246 -0.323166   \n",
       "597  0.510501  0.051278  0.510010 -0.373663 -1.392310  1.139345 -0.446423   \n",
       "598 -0.735573 -0.478897  0.458582  0.178358 -0.449805 -1.509952  0.046603   \n",
       "599  0.043223 -1.009071  0.124301 -0.263259 -0.038969  2.022444  0.564281   \n",
       "\n",
       "          7         8         9    ...       490       491       492  \\\n",
       "0    0.314280  1.277022  0.029350  ... -1.314759  0.296330  2.363950   \n",
       "1   -0.408203 -0.518182 -0.527046  ...  0.169573  0.296330  2.030080   \n",
       "2   -1.130686  0.612131  0.585746  ...  0.408981 -0.700994  0.485928   \n",
       "3    1.036763 -0.252226  0.585746  ...  1.845432 -0.950325 -0.682619   \n",
       "4   -0.408203  0.678620 -0.109749  ...  1.318734 -1.947650  1.487540   \n",
       "..        ...       ...       ...  ...       ...       ...       ...   \n",
       "595  1.036763 -2.845298 -0.248848  ... -0.644416 -0.950325 -0.056612   \n",
       "596  1.036763 -1.183073  0.585746  ...  1.127207  1.542985  0.903266   \n",
       "597 -1.130686  1.476489  2.115835  ... -1.937221 -1.199656  0.652863   \n",
       "598  0.314280  0.479153 -0.387947  ... -0.452889 -0.700994 -1.392095   \n",
       "599  0.314280  0.944576 -0.527046  ...  0.073810 -0.202332  0.026856   \n",
       "\n",
       "          493       494       495       496       497       498       499  \n",
       "0   -1.861747 -2.312519  0.243178  1.153314  1.083690  0.403681  0.764326  \n",
       "1    0.293366  0.588920 -1.572577  0.983222  0.862393  1.075454 -0.513811  \n",
       "2   -0.012268  0.416558  0.456796  1.323407 -1.350574  0.000618  0.493206  \n",
       "3   -0.263045  0.445285  0.376689  0.132757 -1.203043  1.182937  1.035446  \n",
       "4   -1.203458  0.445285  0.243178 -0.547614  0.714862 -0.053124  0.028429  \n",
       "..        ...       ...       ...       ...       ...       ...       ...  \n",
       "595 -0.419781  0.675102 -0.664700 -0.717707  0.419800 -0.053124  0.609401  \n",
       "596  0.802756  0.129286  0.430094  0.472943  0.493566 -1.423539 -1.520829  \n",
       "597 -1.007539 -1.163434 -0.771509 -0.037335 -0.170325 -0.644283  1.035446  \n",
       "598  1.108390 -0.646346  0.723819 -1.398078  0.493566  2.822062  0.067160  \n",
       "599  1.547250 -0.014349 -0.317570 -0.717707  0.788628  0.753003  1.384029  \n",
       "\n",
       "[600 rows x 500 columns]"
      ]
     },
     "execution_count": 191,
     "metadata": {},
     "output_type": "execute_result"
    }
   ],
   "source": [
    "pd.DataFrame(X_validation)"
   ]
  },
  {
   "cell_type": "markdown",
   "id": "007cd753",
   "metadata": {
    "id": "007cd753"
   },
   "source": [
    "# Feature Selection Techniques"
   ]
  },
  {
   "cell_type": "markdown",
   "id": "6f9d6df3",
   "metadata": {},
   "source": [
    "### Function to plot accuracies of selected classification algortihms"
   ]
  },
  {
   "cell_type": "code",
   "execution_count": 229,
   "id": "83b1093c",
   "metadata": {
    "pycharm": {
     "name": "#%%\n"
    }
   },
   "outputs": [],
   "source": [
    "def plot_dic(dic, title=''):\n",
    "    fig, ax = plt.subplots(figsize=(10, 7))\n",
    "\n",
    "    ax.plot(dic['no_fet'], dic['log_score'], color='green', label=\"Logistic regression\")\n",
    "    ax.plot(dic['no_fet'], dic['rfc_score'], color='blue', label=\"Random Forest\")\n",
    "    ax.plot(dic['no_fet'], dic['svc_score'], color='pink', label=\"SVC\")\n",
    "    ax.plot(dic['no_fet'], dic['lda_score'], color='red', label=\"LDA\"),\n",
    "    ax.plot(dic['no_fet'], dic['qda_score'], color='brown', label='QDA'),\n",
    "    ax.plot(dic['no_fet'], dic['xgb_score'], color='orange', label='XGB')\n",
    "    plt.title(title)\n",
    "    ax.legend()"
   ]
  },
  {
   "cell_type": "markdown",
   "id": "4O0qxhND5Rd-",
   "metadata": {
    "id": "4O0qxhND5Rd-"
   },
   "source": []
  },
  {
   "cell_type": "code",
   "execution_count": 212,
   "id": "rR8cBBs2K4n7",
   "metadata": {
    "id": "rR8cBBs2K4n7"
   },
   "outputs": [],
   "source": [
    "from sklearn.model_selection import train_test_split\n",
    "X_train_fin, X_test_fin, y_train_fin, y_test_fin = train_test_split(X_train_, y_train, test_size=0.25, random_state=42)"
   ]
  },
  {
   "cell_type": "markdown",
   "id": "88559bad",
   "metadata": {},
   "source": [
    "## 1. ANOVA F-value\n",
    "#### SelectKBest"
   ]
  },
  {
   "cell_type": "code",
   "execution_count": 27,
   "id": "4jaaCssT5QYg",
   "metadata": {
    "id": "4jaaCssT5QYg"
   },
   "outputs": [],
   "source": [
    "from sklearn.feature_selection import f_classif, SelectKBest"
   ]
  },
  {
   "cell_type": "code",
   "execution_count": 243,
   "id": "dn3oDf2J5gVN",
   "metadata": {
    "id": "dn3oDf2J5gVN"
   },
   "outputs": [
    {
     "name": "stderr",
     "output_type": "stream",
     "text": [
      "100%|██████████| 39/39 [00:52<00:00,  1.36s/it]\n"
     ]
    },
    {
     "name": "stdout",
     "output_type": "stream",
     "text": [
      "Number of features to obtain biggest accuracy is equal to 7 for 0.854 % accuracy\n"
     ]
    },
    {
     "data": {
      "image/png": "[encoded data removed]",
      "text/plain": [
       "<Figure size 720x504 with 1 Axes>"
      ]
     },
     "metadata": {
      "needs_background": "light"
     },
     "output_type": "display_data"
    }
   ],
   "source": [
    "dic = {'rfc_score': [],\n",
    "        'svc_score': [],\n",
    "        'lda_score': [],\n",
    "        'log_score': [],\n",
    "        'no_fet': [],\n",
    "        'qda_score': [],\n",
    "        'xgb_score': []\n",
    "        }\n",
    "\n",
    "for i in tqdm(range(1, X_train.shape[1] - 460, 1)):\n",
    "\n",
    "    log = LogisticRegression()\n",
    "    rfc = RandomForestClassifier()\n",
    "    svc = SVC()\n",
    "    qda = QuadraticDiscriminantAnalysis()\n",
    "    lda = LinearDiscriminantAnalysis()\n",
    "    xgb = XGBClassifier()\n",
    "\n",
    "    selection = SelectKBest(k=i)\n",
    "    selected = selection.fit_transform(X_train_fin.copy(), y_train_fin)\n",
    "    X_test_selected = selection.transform(X_test_fin)\n",
    "\n",
    "    le = LabelEncoder()\n",
    "    y_xgb = le.fit_transform(y_train_fin)\n",
    "    y_test_xgb = le.fit_transform(y_test_fin)\n",
    "\n",
    "    rfc.fit(selected, np.array(y_train_fin).ravel())\n",
    "    svc.fit(selected, np.array(y_train_fin).ravel())\n",
    "    lda.fit(selected, np.array(y_train_fin).ravel())\n",
    "    log.fit(selected, np.array(y_train_fin).ravel())\n",
    "    qda.fit(selected, np.array(y_train_fin).ravel())\n",
    "    xgb.fit(selected, np.array(y_xgb).ravel())\n",
    "\n",
    "    dic['rfc_score'].append(rfc.score(X_test_selected, y_test_fin))\n",
    "    dic['svc_score'].append(svc.score(X_test_selected, y_test_fin))\n",
    "    dic['lda_score'].append(lda.score(X_test_selected, y_test_fin))\n",
    "    dic['log_score'].append(log.score(X_test_selected, y_test_fin))\n",
    "    dic['qda_score'].append(qda.score(X_test_selected, y_test_fin))\n",
    "    dic['xgb_score'].append(xgb.score(X_test_selected, y_test_xgb))\n",
    "\n",
    "    dic['no_fet'].append(i)\n",
    "\n",
    "plot_dic(dic, title='Accuracies for ANOVA F value     [artificial data]')\n",
    "\n",
    "no_fet = dic['no_fet'][np.array(dic['rfc_score']).argmax()]\n",
    "print(f\"Number of features to obtain biggest accuracy is equal to {no_fet} for {np.array(dic['rfc_score']).max()} % accuracy\" )"
   ]
  },
  {
   "cell_type": "code",
   "execution_count": 141,
   "id": "4vP911QFHeRD",
   "metadata": {
    "id": "4vP911QFHeRD"
   },
   "outputs": [],
   "source": [
    "rfc = RandomForestClassifier()\n",
    "selection = SelectKBest(k=13)\n",
    "selected = selection.fit_transform(X_train, y_train)\n",
    "X_validation_selected = selection.transform(X_validation)\n",
    "\n",
    "rfc.fit(selected, np.array(y_train).ravel())\n",
    "\n",
    "proba = rfc.predict_proba(X_validation_selected)\n",
    "np.savetxt('AMIR_artificial_data.txt', proba[:,1], fmt='%f')"
   ]
  },
  {
   "cell_type": "code",
   "execution_count": 177,
   "id": "tvRh7461TVYm",
   "metadata": {
    "id": "tvRh7461TVYm"
   },
   "outputs": [],
   "source": [
    "features = selection.get_feature_names_out()\n",
    "new_features = []\n",
    "\n",
    "for i in features:\n",
    "    new_features.append(i[1:])\n",
    "\n",
    "new_features\n",
    "np.savetxt('AMIR_artificial_features.txt', new_features, fmt='%s')"
   ]
  },
  {
   "cell_type": "code",
   "execution_count": 249,
   "id": "8N-w4lx0X0s2",
   "metadata": {
    "id": "8N-w4lx0X0s2"
   },
   "outputs": [
    {
     "name": "stdout",
     "output_type": "stream",
     "text": [
      "Number of features to obtain biggest accuracy is equal to 7 for 0.854 % accuracy\n"
     ]
    }
   ],
   "source": [
    "no_fet = dic['no_fet'][np.array(dic['rfc_score']).argmax()]\n",
    "print(f\"Number of features to obtain biggest accuracy is equal to {no_fet} for {np.array(dic['rfc_score']).max()} % accuracy\" )"
   ]
  },
  {
   "cell_type": "markdown",
   "id": "b2f3005a",
   "metadata": {},
   "source": [
    "## FPR test\n",
    "##### SelectFpr"
   ]
  },
  {
   "cell_type": "code",
   "execution_count": 213,
   "id": "97851fe3",
   "metadata": {
    "pycharm": {
     "name": "#%%\n"
    }
   },
   "outputs": [],
   "source": [
    "from sklearn.feature_selection import SelectFpr"
   ]
  },
  {
   "cell_type": "code",
   "execution_count": 242,
   "id": "328d2ce8",
   "metadata": {
    "pycharm": {
     "name": "#%%\n"
    }
   },
   "outputs": [
    {
     "name": "stderr",
     "output_type": "stream",
     "text": [
      "  0%|          | 0/40 [00:00<?, ?it/s]"
     ]
    },
    {
     "name": "stdout",
     "output_type": "stream",
     "text": [
      "(5,)\n"
     ]
    },
    {
     "name": "stderr",
     "output_type": "stream",
     "text": [
      "  2%|▎         | 1/40 [00:01<00:45,  1.16s/it]"
     ]
    },
    {
     "name": "stdout",
     "output_type": "stream",
     "text": [
      "(7,)\n"
     ]
    },
    {
     "name": "stderr",
     "output_type": "stream",
     "text": [
      "  5%|▌         | 2/40 [00:02<00:44,  1.17s/it]"
     ]
    },
    {
     "name": "stdout",
     "output_type": "stream",
     "text": [
      "(7,)\n"
     ]
    },
    {
     "name": "stderr",
     "output_type": "stream",
     "text": [
      "  8%|▊         | 3/40 [00:03<00:42,  1.15s/it]"
     ]
    },
    {
     "name": "stdout",
     "output_type": "stream",
     "text": [
      "(7,)\n"
     ]
    },
    {
     "name": "stderr",
     "output_type": "stream",
     "text": [
      " 10%|█         | 4/40 [00:04<00:41,  1.16s/it]"
     ]
    },
    {
     "name": "stdout",
     "output_type": "stream",
     "text": [
      "(7,)\n"
     ]
    },
    {
     "name": "stderr",
     "output_type": "stream",
     "text": [
      " 12%|█▎        | 5/40 [00:05<00:40,  1.16s/it]"
     ]
    },
    {
     "name": "stdout",
     "output_type": "stream",
     "text": [
      "(7,)\n"
     ]
    },
    {
     "name": "stderr",
     "output_type": "stream",
     "text": [
      " 15%|█▌        | 6/40 [00:07<00:42,  1.24s/it]"
     ]
    },
    {
     "name": "stdout",
     "output_type": "stream",
     "text": [
      "(7,)\n"
     ]
    },
    {
     "name": "stderr",
     "output_type": "stream",
     "text": [
      " 18%|█▊        | 7/40 [00:08<00:40,  1.22s/it]"
     ]
    },
    {
     "name": "stdout",
     "output_type": "stream",
     "text": [
      "(7,)\n"
     ]
    },
    {
     "name": "stderr",
     "output_type": "stream",
     "text": [
      " 20%|██        | 8/40 [00:09<00:37,  1.17s/it]"
     ]
    },
    {
     "name": "stdout",
     "output_type": "stream",
     "text": [
      "(7,)\n"
     ]
    },
    {
     "name": "stderr",
     "output_type": "stream",
     "text": [
      " 22%|██▎       | 9/40 [00:11<00:40,  1.31s/it]"
     ]
    },
    {
     "name": "stdout",
     "output_type": "stream",
     "text": [
      "(7,)\n"
     ]
    },
    {
     "name": "stderr",
     "output_type": "stream",
     "text": [
      " 25%|██▌       | 10/40 [00:12<00:40,  1.34s/it]"
     ]
    },
    {
     "name": "stdout",
     "output_type": "stream",
     "text": [
      "(7,)\n"
     ]
    },
    {
     "name": "stderr",
     "output_type": "stream",
     "text": [
      " 28%|██▊       | 11/40 [00:13<00:38,  1.33s/it]"
     ]
    },
    {
     "name": "stdout",
     "output_type": "stream",
     "text": [
      "(7,)\n"
     ]
    },
    {
     "name": "stderr",
     "output_type": "stream",
     "text": [
      " 30%|███       | 12/40 [00:15<00:37,  1.34s/it]"
     ]
    },
    {
     "name": "stdout",
     "output_type": "stream",
     "text": [
      "(7,)\n"
     ]
    },
    {
     "name": "stderr",
     "output_type": "stream",
     "text": [
      " 32%|███▎      | 13/40 [00:16<00:35,  1.33s/it]"
     ]
    },
    {
     "name": "stdout",
     "output_type": "stream",
     "text": [
      "(7,)\n"
     ]
    },
    {
     "name": "stderr",
     "output_type": "stream",
     "text": [
      " 35%|███▌      | 14/40 [00:17<00:34,  1.32s/it]"
     ]
    },
    {
     "name": "stdout",
     "output_type": "stream",
     "text": [
      "(7,)\n"
     ]
    },
    {
     "name": "stderr",
     "output_type": "stream",
     "text": [
      " 38%|███▊      | 15/40 [00:19<00:33,  1.32s/it]"
     ]
    },
    {
     "name": "stdout",
     "output_type": "stream",
     "text": [
      "(8,)\n"
     ]
    },
    {
     "name": "stderr",
     "output_type": "stream",
     "text": [
      " 40%|████      | 16/40 [00:20<00:31,  1.32s/it]"
     ]
    },
    {
     "name": "stdout",
     "output_type": "stream",
     "text": [
      "(8,)\n"
     ]
    },
    {
     "name": "stderr",
     "output_type": "stream",
     "text": [
      " 42%|████▎     | 17/40 [00:21<00:30,  1.31s/it]"
     ]
    },
    {
     "name": "stdout",
     "output_type": "stream",
     "text": [
      "(8,)\n"
     ]
    },
    {
     "name": "stderr",
     "output_type": "stream",
     "text": [
      " 45%|████▌     | 18/40 [00:22<00:28,  1.30s/it]"
     ]
    },
    {
     "name": "stdout",
     "output_type": "stream",
     "text": [
      "(8,)\n"
     ]
    },
    {
     "name": "stderr",
     "output_type": "stream",
     "text": [
      " 48%|████▊     | 19/40 [00:24<00:28,  1.34s/it]"
     ]
    },
    {
     "name": "stdout",
     "output_type": "stream",
     "text": [
      "(8,)\n"
     ]
    },
    {
     "name": "stderr",
     "output_type": "stream",
     "text": [
      " 50%|█████     | 20/40 [00:25<00:26,  1.33s/it]"
     ]
    },
    {
     "name": "stdout",
     "output_type": "stream",
     "text": [
      "(8,)\n"
     ]
    },
    {
     "name": "stderr",
     "output_type": "stream",
     "text": [
      " 52%|█████▎    | 21/40 [00:26<00:24,  1.31s/it]"
     ]
    },
    {
     "name": "stdout",
     "output_type": "stream",
     "text": [
      "(8,)\n"
     ]
    },
    {
     "name": "stderr",
     "output_type": "stream",
     "text": [
      " 55%|█████▌    | 22/40 [00:29<00:31,  1.73s/it]"
     ]
    },
    {
     "name": "stdout",
     "output_type": "stream",
     "text": [
      "(8,)\n"
     ]
    },
    {
     "name": "stderr",
     "output_type": "stream",
     "text": [
      " 57%|█████▊    | 23/40 [00:31<00:27,  1.64s/it]"
     ]
    },
    {
     "name": "stdout",
     "output_type": "stream",
     "text": [
      "(8,)\n"
     ]
    },
    {
     "name": "stderr",
     "output_type": "stream",
     "text": [
      " 60%|██████    | 24/40 [00:32<00:23,  1.48s/it]"
     ]
    },
    {
     "name": "stdout",
     "output_type": "stream",
     "text": [
      "(8,)\n"
     ]
    },
    {
     "name": "stderr",
     "output_type": "stream",
     "text": [
      " 62%|██████▎   | 25/40 [00:33<00:23,  1.54s/it]"
     ]
    },
    {
     "name": "stdout",
     "output_type": "stream",
     "text": [
      "(8,)\n"
     ]
    },
    {
     "name": "stderr",
     "output_type": "stream",
     "text": [
      " 65%|██████▌   | 26/40 [00:35<00:23,  1.69s/it]"
     ]
    },
    {
     "name": "stdout",
     "output_type": "stream",
     "text": [
      "(8,)\n"
     ]
    },
    {
     "name": "stderr",
     "output_type": "stream",
     "text": [
      " 68%|██████▊   | 27/40 [00:37<00:20,  1.56s/it]"
     ]
    },
    {
     "name": "stdout",
     "output_type": "stream",
     "text": [
      "(8,)\n"
     ]
    },
    {
     "name": "stderr",
     "output_type": "stream",
     "text": [
      " 70%|███████   | 28/40 [00:38<00:16,  1.39s/it]"
     ]
    },
    {
     "name": "stdout",
     "output_type": "stream",
     "text": [
      "(8,)\n"
     ]
    },
    {
     "name": "stderr",
     "output_type": "stream",
     "text": [
      " 72%|███████▎  | 29/40 [00:39<00:13,  1.26s/it]"
     ]
    },
    {
     "name": "stdout",
     "output_type": "stream",
     "text": [
      "(8,)\n"
     ]
    },
    {
     "name": "stderr",
     "output_type": "stream",
     "text": [
      " 75%|███████▌  | 30/40 [00:40<00:12,  1.22s/it]"
     ]
    },
    {
     "name": "stdout",
     "output_type": "stream",
     "text": [
      "(8,)\n"
     ]
    },
    {
     "name": "stderr",
     "output_type": "stream",
     "text": [
      " 78%|███████▊  | 31/40 [00:41<00:10,  1.18s/it]"
     ]
    },
    {
     "name": "stdout",
     "output_type": "stream",
     "text": [
      "(8,)\n"
     ]
    },
    {
     "name": "stderr",
     "output_type": "stream",
     "text": [
      " 80%|████████  | 32/40 [00:42<00:09,  1.13s/it]"
     ]
    },
    {
     "name": "stdout",
     "output_type": "stream",
     "text": [
      "(8,)\n"
     ]
    },
    {
     "name": "stderr",
     "output_type": "stream",
     "text": [
      " 82%|████████▎ | 33/40 [00:43<00:07,  1.07s/it]"
     ]
    },
    {
     "name": "stdout",
     "output_type": "stream",
     "text": [
      "(8,)\n"
     ]
    },
    {
     "name": "stderr",
     "output_type": "stream",
     "text": [
      " 85%|████████▌ | 34/40 [00:44<00:06,  1.03s/it]"
     ]
    },
    {
     "name": "stdout",
     "output_type": "stream",
     "text": [
      "(8,)\n"
     ]
    },
    {
     "name": "stderr",
     "output_type": "stream",
     "text": [
      " 88%|████████▊ | 35/40 [00:45<00:05,  1.00s/it]"
     ]
    },
    {
     "name": "stdout",
     "output_type": "stream",
     "text": [
      "(8,)\n"
     ]
    },
    {
     "name": "stderr",
     "output_type": "stream",
     "text": [
      " 90%|█████████ | 36/40 [00:46<00:04,  1.02s/it]"
     ]
    },
    {
     "name": "stdout",
     "output_type": "stream",
     "text": [
      "(8,)\n"
     ]
    },
    {
     "name": "stderr",
     "output_type": "stream",
     "text": [
      " 92%|█████████▎| 37/40 [00:47<00:03,  1.02s/it]"
     ]
    },
    {
     "name": "stdout",
     "output_type": "stream",
     "text": [
      "(8,)\n"
     ]
    },
    {
     "name": "stderr",
     "output_type": "stream",
     "text": [
      " 95%|█████████▌| 38/40 [00:48<00:01,  1.03it/s]"
     ]
    },
    {
     "name": "stdout",
     "output_type": "stream",
     "text": [
      "(8,)\n"
     ]
    },
    {
     "name": "stderr",
     "output_type": "stream",
     "text": [
      " 98%|█████████▊| 39/40 [00:48<00:00,  1.05it/s]"
     ]
    },
    {
     "name": "stdout",
     "output_type": "stream",
     "text": [
      "(8,)\n"
     ]
    },
    {
     "name": "stderr",
     "output_type": "stream",
     "text": [
      "100%|██████████| 40/40 [00:49<00:00,  1.25s/it]\n"
     ]
    },
    {
     "data": {
      "image/png": "[encoded data removed]",
      "text/plain": [
       "<Figure size 720x504 with 1 Axes>"
      ]
     },
     "metadata": {
      "needs_background": "light"
     },
     "output_type": "display_data"
    }
   ],
   "source": [
    "dic_fpr = {'rfc_score': [],\n",
    "       'svc_score': [],\n",
    "       'lda_score': [],\n",
    "       'log_score': [],\n",
    "       'no_fet': [],\n",
    "       'qda_score': [],\n",
    "       'xgb_score': []\n",
    "       }\n",
    "\n",
    "for i in tqdm(range(1, 200, 5)):\n",
    "\n",
    "    log = LogisticRegression()\n",
    "    rfc = RandomForestClassifier()\n",
    "    svc = SVC()\n",
    "    qda = QuadraticDiscriminantAnalysis()\n",
    "    lda = LinearDiscriminantAnalysis()\n",
    "    xgb = XGBClassifier()\n",
    "\n",
    "    selection = SelectFpr(alpha=i/100000)\n",
    "    selected = selection.fit_transform(X_train_fin, y_train_fin)\n",
    "    selected_cols = selection.get_feature_names_out()\n",
    "    X_test_selected = selection.transform(X_test_fin)\n",
    "\n",
    "    print(selected_cols.shape)\n",
    "    le = LabelEncoder()\n",
    "    y_xgb = le.fit_transform(y_train_fin)\n",
    "    y_test_xgb = le.fit_transform(y_test_fin)\n",
    "\n",
    "    rfc.fit(selected, np.array(y_train_fin).ravel())\n",
    "    svc.fit(selected, np.array(y_train_fin).ravel())\n",
    "    lda.fit(selected, np.array(y_train_fin).ravel())\n",
    "    log.fit(selected, np.array(y_train_fin).ravel())\n",
    "    qda.fit(selected, np.array(y_train_fin).ravel())\n",
    "    xgb.fit(selected, np.array(y_xgb).ravel())\n",
    "\n",
    "    dic_fpr['rfc_score'].append(rfc.score(X_test_selected, y_test_fin))\n",
    "    dic_fpr['svc_score'].append(svc.score(X_test_selected, y_test_fin))\n",
    "    dic_fpr['lda_score'].append(lda.score(X_test_selected, y_test_fin))\n",
    "    dic_fpr['log_score'].append(log.score(X_test_selected, y_test_fin))\n",
    "    dic_fpr['qda_score'].append(qda.score(X_test_selected, y_test_fin))\n",
    "    dic_fpr['xgb_score'].append(xgb.score(X_test_selected, y_test_xgb))\n",
    "\n",
    "    dic_fpr['no_fet'].append(i)\n",
    "\n",
    "plot_dic(dic_fpr, title='Accuracies for FPR test feature selection;      [artificial_data]')"
   ]
  },
  {
   "cell_type": "code",
   "execution_count": 217,
   "id": "115e8a28",
   "metadata": {
    "pycharm": {
     "name": "#%%\n"
    }
   },
   "outputs": [
    {
     "data": {
      "text/html": [
       "<style>#sk-container-id-4 {color: black;background-color: white;}#sk-container-id-4 pre{padding: 0;}#sk-container-id-4 div.sk-toggleable {background-color: white;}#sk-container-id-4 label.sk-toggleable__label {cursor: pointer;display: block;width: 100%;margin-bottom: 0;padding: 0.3em;box-sizing: border-box;text-align: center;}#sk-container-id-4 label.sk-toggleable__label-arrow:before {content: \"▸\";float: left;margin-right: 0.25em;color: #696969;}#sk-container-id-4 label.sk-toggleable__label-arrow:hover:before {color: black;}#sk-container-id-4 div.sk-estimator:hover label.sk-toggleable__label-arrow:before {color: black;}#sk-container-id-4 div.sk-toggleable__content {max-height: 0;max-width: 0;overflow: hidden;text-align: left;background-color: #f0f8ff;}#sk-container-id-4 div.sk-toggleable__content pre {margin: 0.2em;color: black;border-radius: 0.25em;background-color: #f0f8ff;}#sk-container-id-4 input.sk-toggleable__control:checked~div.sk-toggleable__content {max-height: 200px;max-width: 100%;overflow: auto;}#sk-container-id-4 input.sk-toggleable__control:checked~label.sk-toggleable__label-arrow:before {content: \"▾\";}#sk-container-id-4 div.sk-estimator input.sk-toggleable__control:checked~label.sk-toggleable__label {background-color: #d4ebff;}#sk-container-id-4 div.sk-label input.sk-toggleable__control:checked~label.sk-toggleable__label {background-color: #d4ebff;}#sk-container-id-4 input.sk-hidden--visually {border: 0;clip: rect(1px 1px 1px 1px);clip: rect(1px, 1px, 1px, 1px);height: 1px;margin: -1px;overflow: hidden;padding: 0;position: absolute;width: 1px;}#sk-container-id-4 div.sk-estimator {font-family: monospace;background-color: #f0f8ff;border: 1px dotted black;border-radius: 0.25em;box-sizing: border-box;margin-bottom: 0.5em;}#sk-container-id-4 div.sk-estimator:hover {background-color: #d4ebff;}#sk-container-id-4 div.sk-parallel-item::after {content: \"\";width: 100%;border-bottom: 1px solid gray;flex-grow: 1;}#sk-container-id-4 div.sk-label:hover label.sk-toggleable__label {background-color: #d4ebff;}#sk-container-id-4 div.sk-serial::before {content: \"\";position: absolute;border-left: 1px solid gray;box-sizing: border-box;top: 0;bottom: 0;left: 50%;z-index: 0;}#sk-container-id-4 div.sk-serial {display: flex;flex-direction: column;align-items: center;background-color: white;padding-right: 0.2em;padding-left: 0.2em;position: relative;}#sk-container-id-4 div.sk-item {position: relative;z-index: 1;}#sk-container-id-4 div.sk-parallel {display: flex;align-items: stretch;justify-content: center;background-color: white;position: relative;}#sk-container-id-4 div.sk-item::before, #sk-container-id-4 div.sk-parallel-item::before {content: \"\";position: absolute;border-left: 1px solid gray;box-sizing: border-box;top: 0;bottom: 0;left: 50%;z-index: -1;}#sk-container-id-4 div.sk-parallel-item {display: flex;flex-direction: column;z-index: 1;position: relative;background-color: white;}#sk-container-id-4 div.sk-parallel-item:first-child::after {align-self: flex-end;width: 50%;}#sk-container-id-4 div.sk-parallel-item:last-child::after {align-self: flex-start;width: 50%;}#sk-container-id-4 div.sk-parallel-item:only-child::after {width: 0;}#sk-container-id-4 div.sk-dashed-wrapped {border: 1px dashed gray;margin: 0 0.4em 0.5em 0.4em;box-sizing: border-box;padding-bottom: 0.4em;background-color: white;}#sk-container-id-4 div.sk-label label {font-family: monospace;font-weight: bold;display: inline-block;line-height: 1.2em;}#sk-container-id-4 div.sk-label-container {text-align: center;}#sk-container-id-4 div.sk-container {/* jupyter's `normalize.less` sets `[hidden] { display: none; }` but bootstrap.min.css set `[hidden] { display: none !important; }` so we also need the `!important` here to be able to override the default hidden behavior on the sphinx rendered scikit-learn.org. See: https://github.com/scikit-learn/scikit-learn/issues/21755 */display: inline-block !important;position: relative;}#sk-container-id-4 div.sk-text-repr-fallback {display: none;}</style><div id=\"sk-container-id-4\" class=\"sk-top-container\"><div class=\"sk-text-repr-fallback\"><pre>RandomForestClassifier()</pre><b>In a Jupyter environment, please rerun this cell to show the HTML representation or trust the notebook. <br />On GitHub, the HTML representation is unable to render, please try loading this page with nbviewer.org.</b></div><div class=\"sk-container\" hidden><div class=\"sk-item\"><div class=\"sk-estimator sk-toggleable\"><input class=\"sk-toggleable__control sk-hidden--visually\" id=\"sk-estimator-id-6\" type=\"checkbox\" checked><label for=\"sk-estimator-id-6\" class=\"sk-toggleable__label sk-toggleable__label-arrow\">RandomForestClassifier</label><div class=\"sk-toggleable__content\"><pre>RandomForestClassifier()</pre></div></div></div></div></div>"
      ],
      "text/plain": [
       "RandomForestClassifier()"
      ]
     },
     "execution_count": 217,
     "metadata": {},
     "output_type": "execute_result"
    }
   ],
   "source": [
    "rfc = RandomForestClassifier()\n",
    "\n",
    "selection = SelectFpr(alpha=11/100000)\n",
    "selected = selection.fit_transform(X_train_fin, y_train_fin)\n",
    "selected_cols = selection.get_feature_names_out()\n",
    "X_validation_selected = selection.transform(X_validation_)\n",
    "\n",
    "rfc.fit(selected, np.array(y_train_fin).ravel())"
   ]
  },
  {
   "cell_type": "code",
   "execution_count": 220,
   "id": "0c9546ab",
   "metadata": {
    "pycharm": {
     "name": "#%%\n"
    }
   },
   "outputs": [],
   "source": [
    "features = selection.get_feature_names_out()\n",
    "new_features = []\n",
    "\n",
    "for i in features:\n",
    "    new_features.append(i[1:])\n",
    "\n",
    "np.savetxt('AMIR_artificial_features.txt', new_features, fmt='%s', header='\"AMIR\"')\n",
    "\n",
    "proba = rfc.predict_proba(X_validation_selected)\n",
    "np.savetxt('AMIR_artificial_data.txt', proba[:,1], fmt='%f', header='\"AMIR\"')"
   ]
  },
  {
   "cell_type": "code",
   "execution_count": 67,
   "id": "1c1082ab",
   "metadata": {
    "pycharm": {
     "name": "#%%\n"
    }
   },
   "outputs": [
    {
     "data": {
      "image/png": "[encoded data removed]",
      "text/plain": [
       "<Figure size 1080x720 with 1 Axes>"
      ]
     },
     "metadata": {
      "needs_background": "light"
     },
     "output_type": "display_data"
    }
   ],
   "source": [
    "plot_dic(dic_fpr)\n",
    "dic_fpr['no_fet'].append(i)\n",
    "plot_dic(dic_fpr)"
   ]
  },
  {
   "cell_type": "markdown",
   "id": "2bd1eccb",
   "metadata": {},
   "source": [
    "## Family-wise error rate\n",
    "#### SelectFwe"
   ]
  },
  {
   "cell_type": "code",
   "execution_count": 178,
   "id": "144e8d8f",
   "metadata": {
    "pycharm": {
     "name": "#%%\n"
    }
   },
   "outputs": [],
   "source": [
    "from sklearn.feature_selection import SelectFwe"
   ]
  },
  {
   "cell_type": "code",
   "execution_count": 245,
   "id": "18274b23",
   "metadata": {
    "pycharm": {
     "name": "#%%\n"
    }
   },
   "outputs": [
    {
     "name": "stderr",
     "output_type": "stream",
     "text": [
      "  0%|          | 0/8 [00:00<?, ?it/s]"
     ]
    },
    {
     "name": "stdout",
     "output_type": "stream",
     "text": [
      "(1500, 5)\n"
     ]
    },
    {
     "name": "stderr",
     "output_type": "stream",
     "text": [
      " 12%|█▎        | 1/8 [00:02<00:14,  2.04s/it]"
     ]
    },
    {
     "name": "stdout",
     "output_type": "stream",
     "text": [
      "(1500, 7)\n"
     ]
    },
    {
     "name": "stderr",
     "output_type": "stream",
     "text": [
      " 25%|██▌       | 2/8 [00:03<00:11,  1.86s/it]"
     ]
    },
    {
     "name": "stdout",
     "output_type": "stream",
     "text": [
      "(1500, 7)\n"
     ]
    },
    {
     "name": "stderr",
     "output_type": "stream",
     "text": [
      " 38%|███▊      | 3/8 [00:05<00:09,  1.81s/it]"
     ]
    },
    {
     "name": "stdout",
     "output_type": "stream",
     "text": [
      "(1500, 7)\n"
     ]
    },
    {
     "name": "stderr",
     "output_type": "stream",
     "text": [
      " 50%|█████     | 4/8 [00:07<00:06,  1.75s/it]"
     ]
    },
    {
     "name": "stdout",
     "output_type": "stream",
     "text": [
      "(1500, 7)\n"
     ]
    },
    {
     "name": "stderr",
     "output_type": "stream",
     "text": [
      " 62%|██████▎   | 5/8 [00:08<00:05,  1.74s/it]"
     ]
    },
    {
     "name": "stdout",
     "output_type": "stream",
     "text": [
      "(1500, 7)\n"
     ]
    },
    {
     "name": "stderr",
     "output_type": "stream",
     "text": [
      " 75%|███████▌  | 6/8 [00:10<00:03,  1.71s/it]"
     ]
    },
    {
     "name": "stdout",
     "output_type": "stream",
     "text": [
      "(1500, 7)\n"
     ]
    },
    {
     "name": "stderr",
     "output_type": "stream",
     "text": [
      " 88%|████████▊ | 7/8 [00:12<00:01,  1.65s/it]"
     ]
    },
    {
     "name": "stdout",
     "output_type": "stream",
     "text": [
      "(1500, 7)\n"
     ]
    },
    {
     "name": "stderr",
     "output_type": "stream",
     "text": [
      "100%|██████████| 8/8 [00:13<00:00,  1.72s/it]\n"
     ]
    },
    {
     "data": {
      "image/png": "[encoded data removed]",
      "text/plain": [
       "<Figure size 720x504 with 1 Axes>"
      ]
     },
     "metadata": {
      "needs_background": "light"
     },
     "output_type": "display_data"
    }
   ],
   "source": [
    "dic_fwe = {'rfc_score': [],\n",
    "           'svc_score': [],\n",
    "           'lda_score': [],\n",
    "           'log_score': [],\n",
    "           'no_fet': [],\n",
    "           'qda_score': [],\n",
    "           'xgb_score': []\n",
    "           }\n",
    "\n",
    "for i in tqdm(range(5, 200, 25)):\n",
    "    log = LogisticRegression()\n",
    "    rfc = RandomForestClassifier()\n",
    "    svc = SVC()\n",
    "    qda = QuadraticDiscriminantAnalysis()\n",
    "    lda = LinearDiscriminantAnalysis()\n",
    "    xgb = XGBClassifier()\n",
    "\n",
    "    selection = SelectFwe(f_classif, alpha=i/1000)\n",
    "    selected_fwe = selection.fit_transform(X_train_fin, y_train_fin)\n",
    "    X_test_selected_fwe = selection.transform(X_test_fin)\n",
    "    print(selected_fwe.shape)\n",
    "\n",
    "    rfc.fit(selected_fwe, np.array(y_train_fin).ravel())\n",
    "    svc.fit(selected_fwe, np.array(y_train_fin).ravel())\n",
    "    lda.fit(selected_fwe, np.array(y_train_fin).ravel())\n",
    "    log.fit(selected_fwe, np.array(y_train_fin).ravel())\n",
    "    qda.fit(selected_fwe, np.array(y_train_fin).ravel())\n",
    "    xgb.fit(selected_fwe, np.array(y_xgb).ravel())\n",
    "\n",
    "    dic_fwe['rfc_score'].append(rfc.score(X_test_selected_fwe, y_test_fin))\n",
    "    dic_fwe['svc_score'].append(svc.score(X_test_selected_fwe, y_test_fin))\n",
    "    dic_fwe['lda_score'].append(lda.score(X_test_selected_fwe, y_test_fin))\n",
    "    dic_fwe['log_score'].append(log.score(X_test_selected_fwe, y_test_fin))\n",
    "    dic_fwe['qda_score'].append(qda.score(X_test_selected_fwe, y_test_fin))\n",
    "    dic_fwe['xgb_score'].append(xgb.score(X_test_selected_fwe, y_test_xgb))\n",
    "\n",
    "    dic_fwe['no_fet'].append(i)\n",
    "\n",
    "plot_dic(dic_fwe, title='Accuracies for FWE rate feature selection;      [artificial_data]')"
   ]
  },
  {
   "cell_type": "markdown",
   "id": "1b503945",
   "metadata": {},
   "source": [
    "## Selection from RandomForestClassifier\n",
    "#### SelectFromModel"
   ]
  },
  {
   "cell_type": "code",
   "execution_count": 65,
   "id": "cd921bea",
   "metadata": {
    "pycharm": {
     "name": "#%%\n"
    }
   },
   "outputs": [],
   "source": [
    "from sklearn.ensemble import RandomForestClassifier\n",
    "from sklearn.feature_selection import SelectFromModel"
   ]
  },
  {
   "cell_type": "code",
   "execution_count": null,
   "id": "e33ca910",
   "metadata": {
    "pycharm": {
     "is_executing": true,
     "name": "#%%\n"
    }
   },
   "outputs": [],
   "source": [
    "dic_fi = {'rfc_score': [],\n",
    "       'svc_score': [],\n",
    "       'lda_score': [],\n",
    "       'log_score': [],\n",
    "       'no_fet': [],\n",
    "       'qda_score': [],\n",
    "       'xgb_score': []\n",
    "       }\n",
    "\n",
    "for i in tqdm(range(1, 1000, 50)):\n",
    "\n",
    "    log = LogisticRegression()\n",
    "    rfc = RandomForestClassifier()\n",
    "    svc = SVC()\n",
    "    qda = QuadraticDiscriminantAnalysis()\n",
    "    lda = LinearDiscriminantAnalysis()\n",
    "    xgb = XGBClassifier()\n",
    "\n",
    "    sel = SelectFromModel(RandomForestClassifier(n_estimators = i))\n",
    "    sel.fit(X_train_fin, y_train_fin)\n",
    "\n",
    "    selected_feat = X_train_fin.columns[(sel.get_support())]\n",
    "    selected = X_train_fin.loc[:, selected_feat]\n",
    "    X_test_selected = X_test_fin.loc[:, selected_feat]\n",
    "\n",
    "    le = LabelEncoder()\n",
    "    y_xgb = le.fit_transform(y_train_fin)\n",
    "    y_test_xgb = le.fit_transform(y_test_fin)\n",
    "\n",
    "    rfc.fit(selected, np.array(y_train_fin).ravel())\n",
    "    svc.fit(selected, np.array(y_train_fin).ravel())\n",
    "    lda.fit(selected, np.array(y_train_fin).ravel())\n",
    "    log.fit(selected, np.array(y_train_fin).ravel())\n",
    "    qda.fit(selected, np.array(y_train_fin).ravel())\n",
    "    xgb.fit(selected, np.array(y_xgb).ravel())\n",
    "\n",
    "    dic_fi['rfc_score'].append(rfc.score(X_test_selected, y_test_fin))\n",
    "    dic_fi['svc_score'].append(svc.score(X_test_selected, y_test_fin))\n",
    "    dic_fi['lda_score'].append(lda.score(X_test_selected, y_test_fin))\n",
    "    dic_fi['log_score'].append(log.score(X_test_selected, y_test_fin))\n",
    "    dic_fi['qda_score'].append(qda.score(X_test_selected, y_test_fin))\n",
    "    dic_fi['xgb_score'].append(xgb.score(X_test_selected, y_test_xgb))\n",
    "\n",
    "    dic_fi['no_fet'].append(i)\n",
    "\n",
    "plot_dic(dic_fi)"
   ]
  },
  {
   "cell_type": "code",
   "execution_count": 246,
   "id": "5fc2949d",
   "metadata": {
    "pycharm": {
     "name": "#%%\n"
    }
   },
   "outputs": [
    {
     "data": {
      "image/png": "[encoded data removed]",
      "text/plain": [
       "<Figure size 720x504 with 1 Axes>"
      ]
     },
     "metadata": {
      "needs_background": "light"
     },
     "output_type": "display_data"
    }
   ],
   "source": [
    "plot_dic(dic_fi, 'Accuracies for RandomForestClassifier feature selection; [artificial_data]')"
   ]
  },
  {
   "cell_type": "markdown",
   "id": "-dXJuCj7iKt7",
   "metadata": {
    "id": "-dXJuCj7iKt7"
   },
   "source": [
    "## Kernel PCA"
   ]
  },
  {
   "cell_type": "code",
   "execution_count": 248,
   "id": "RDwLx24StgoS",
   "metadata": {
    "id": "RDwLx24StgoS",
    "pycharm": {
     "name": "#%%\n"
    }
   },
   "outputs": [
    {
     "name": "stderr",
     "output_type": "stream",
     "text": [
      "100%|██████████| 16/16 [01:29<00:00,  5.59s/it]\n"
     ]
    },
    {
     "data": {
      "image/png": "[encoded data removed]",
      "text/plain": [
       "<Figure size 720x504 with 1 Axes>"
      ]
     },
     "metadata": {
      "needs_background": "light"
     },
     "output_type": "display_data"
    }
   ],
   "source": [
    "dic_kpca = {'rfc_score': [],\n",
    "        'svc_score': [],\n",
    "        'lda_score': [],\n",
    "        'log_score': [],\n",
    "       'qda_score': [],\n",
    "       'xgb_score': [],\n",
    "        'no_fet': []\n",
    "        }\n",
    "\n",
    "for i in tqdm(range(1, 80, 5)):\n",
    "    kpca = KernelPCA(kernel=\"sigmoid\", n_components=i)\n",
    "\n",
    "    le = LabelEncoder()\n",
    "    y_xgb_kpca = le.fit_transform(y_train_fin)\n",
    "    y_test_xgb_kpca = le.fit_transform(y_test_fin)\n",
    "\n",
    "    log = LogisticRegression()\n",
    "    rfc = RandomForestClassifier()\n",
    "    svc = SVC()\n",
    "    qda = QuadraticDiscriminantAnalysis()\n",
    "    lda = LinearDiscriminantAnalysis()\n",
    "    xgb = XGBClassifier()\n",
    "\n",
    "    X_train_kpca = kpca.fit_transform(X_train_fin)\n",
    "\n",
    "    rfc.fit(X_train_kpca, np.array(y_train_fin).ravel())\n",
    "    svc.fit(X_train_kpca, np.array(y_train_fin).ravel())\n",
    "    lda.fit(X_train_kpca, np.array(y_train_fin).ravel())\n",
    "    log.fit(X_train_kpca, np.array(y_train_fin).ravel())\n",
    "    qda.fit(X_train_kpca, np.array(y_train_fin).ravel())\n",
    "    xgb.fit(X_train_kpca, np.array(y_xgb_kpca).ravel())\n",
    "\n",
    "    X_test_kpca = kpca.fit_transform(X_test_fin)\n",
    "\n",
    "    dic_kpca['rfc_score'].append(rfc.score(X_test_kpca, y_test_fin))\n",
    "    dic_kpca['svc_score'].append(svc.score(X_test_kpca, y_test_fin))\n",
    "    dic_kpca['lda_score'].append(lda.score(X_test_kpca, y_test_fin))\n",
    "    dic_kpca['log_score'].append(log.score(X_test_kpca, y_test_fin))\n",
    "    dic_kpca['qda_score'].append(qda.score(X_test_kpca, y_test_fin))\n",
    "    dic_kpca['xgb_score'].append(xgb.score(X_test_kpca, y_test_xgb_kpca))\n",
    "\n",
    "    dic_kpca['no_fet'].append(i)\n",
    "\n",
    "plot_dic(dic_kpca, 'Accuracies for Kernel PCA method=\"rbf\";[artificial_data]')"
   ]
  },
  {
   "cell_type": "markdown",
   "id": "0af20c7b",
   "metadata": {},
   "source": []
  }
 ],
 "metadata": {
  "colab": {
   "name": "Artificial-Data.ipynb",
   "provenance": []
  },
  "kernelspec": {
   "display_name": "Python 3 (ipykernel)",
   "language": "python",
   "name": "python3"
  },
  "language_info": {
   "codemirror_mode": {
    "name": "ipython",
    "version": 3
   },
   "file_extension": ".py",
   "mimetype": "text/x-python",
   "name": "python",
   "nbconvert_exporter": "python",
   "pygments_lexer": "ipython3",
   "version": "3.9.7"
  }
 },
 "nbformat": 4,
 "nbformat_minor": 5
}

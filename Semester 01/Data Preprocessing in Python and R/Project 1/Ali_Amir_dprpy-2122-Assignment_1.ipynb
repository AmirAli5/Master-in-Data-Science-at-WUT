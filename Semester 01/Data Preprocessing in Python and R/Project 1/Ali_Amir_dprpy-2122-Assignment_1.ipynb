{
 "cells": [
  {
   "cell_type": "markdown",
   "id": "039857a8",
   "metadata": {},
   "source": [
    "![Data Preprocessing in Python and R](https://pbs.twimg.com/media/FHP9pj5X0AER4m6?format=jpg&name=large)"
   ]
  },
  {
   "cell_type": "markdown",
   "id": "0a05d87a",
   "metadata": {},
   "source": [
    "![Machine Learning Project](https://user-images.githubusercontent.com/7065401/52071927-c1cd7100-2562-11e9-908a-dde91ba14e59.png)"
   ]
  },
  {
   "cell_type": "markdown",
   "id": "1680451e",
   "metadata": {},
   "source": [
    "### <font color = blue>Required  Libraries</font>\n",
    "First, we import libraries that we required in our project. And we are using libraries like `microbenchmark`, `ggplot2`, `dplyr`, `data.table`, and `sqldf`."
   ]
  },
  {
   "cell_type": "code",
   "execution_count": 2,
   "id": "389f5f3f",
   "metadata": {},
   "outputs": [],
   "source": [
    "# import Libraries\n",
    "library(\"sqldf\")\n",
    "library('dplyr')\n",
    "library(\"R.utils\")\n",
    "library(\"data.table\")\n",
    "library(\"ggplot2\")\n",
    "library(\"microbenchmark\")"
   ]
  },
  {
   "cell_type": "markdown",
   "id": "5f59878c",
   "metadata": {},
   "source": [
    "### <font color = blue>Given Dataset</font>\n",
    "We are working on following dataset taken from https://travel.stackexchange.com/ which consists of the\n",
    "following data frames:\n",
    "* Badges.csv.gz\n",
    "* Comments.csv.gz\n",
    "* PostLinks.csv.gz\n",
    "* Posts.csv.gz\n",
    "* Tags.csv.gz\n",
    "* Users.csv.gz\n",
    "* Votes.csv.gz"
   ]
  },
  {
   "cell_type": "code",
   "execution_count": 3,
   "id": "0dac5a06",
   "metadata": {},
   "outputs": [],
   "source": [
    "# Loading dataset\n",
    "options(stringsAsFactors=FALSE)\n",
    "Tages <- read.csv(\"Dataset/Tags.csv.gz\")\n",
    "Posts <- read.csv(\"Dataset/Posts.csv.gz\")\n",
    "Users <- read.csv(\"Dataset/Users.csv.gz\")\n",
    "Votes <- read.csv(\"Dataset/Votes.csv.gz\")\n",
    "Badges <- read.csv(\"Dataset/Badges.csv.gz\")\n",
    "Comments <- read.csv(\"Dataset/Comments.csv.gz\")\n",
    "PostLinks <- read.csv(\"Dataset/PostLinks.csv.gz\")"
   ]
  },
  {
   "cell_type": "code",
   "execution_count": 4,
   "id": "2f993f7c",
   "metadata": {},
   "outputs": [],
   "source": [
    "# Loading dataset for data.table library\n",
    "VotesD <- as.data.table(Votes)\n",
    "TagesD <- as.data.table(Tages)\n",
    "PostsD <- as.data.table(Posts)\n",
    "UsersD <- as.data.table(Users)\n",
    "BadgesD <- as.data.table(Badges)\n",
    "CommentsD <- as.data.table(Comments)\n",
    "PostLinksD <- as.data.table(PostLinks)"
   ]
  },
  {
   "cell_type": "markdown",
   "id": "089eead9",
   "metadata": {},
   "source": [
    "###  <font color = blue>Given Tasks</font>\n",
    "* <b>SQL Queries Implementations:</b>\n",
    "   1. sqldf::sqldf() \n",
    "   2. base functions\n",
    "   3. dplyr\n",
    "   4. data.table"
   ]
  },
  {
   "cell_type": "markdown",
   "id": "10690ce5",
   "metadata": {},
   "source": [
    "![Machine Learning Project](https://user-images.githubusercontent.com/7065401/52071927-c1cd7100-2562-11e9-908a-dde91ba14e59.png)"
   ]
  },
  {
   "cell_type": "markdown",
   "id": "d828fc7c",
   "metadata": {},
   "source": [
    ">> # <font color=red>Task 1</font>"
   ]
  },
  {
   "cell_type": "markdown",
   "id": "7ffa1fc1",
   "metadata": {},
   "source": [
    "![Task 1](https://pbs.twimg.com/media/FF1sGL3WUAE9xxg?format=png&name=small)"
   ]
  },
  {
   "cell_type": "markdown",
   "id": "b7c93258",
   "metadata": {},
   "source": [
    "### <font color=blue>1.1 SQLDF</font>\n",
    "Working with SQL DataFrame"
   ]
  },
  {
   "cell_type": "code",
   "execution_count": 18,
   "id": "ca840b29",
   "metadata": {},
   "outputs": [],
   "source": [
    "Task1_sqldf <- function(){\n",
    "    sqldf_sol1 = sqldf(\"SELECT \n",
    "                            Name, \n",
    "                            COUNT(*) AS Number, \n",
    "                            MIN(Class) AS BestClass \n",
    "                        FROM Badges \n",
    "                        GROUP BY Name \n",
    "                        ORDER BY Number DESC \n",
    "                        LIMIT 10\")\n",
    "    return(sqldf_sol1)\n",
    "}\n",
    "\n",
    "sqldf_sol1 <- Task1_sqldf()"
   ]
  },
  {
   "cell_type": "markdown",
   "id": "a52bc46c",
   "metadata": {
    "slideshow": {
     "slide_type": "-"
    }
   },
   "source": [
    "### <font color=blue>1.2 Base Solution</font>\n",
    "Working with R"
   ]
  },
  {
   "cell_type": "code",
   "execution_count": 19,
   "id": "f911d76b",
   "metadata": {},
   "outputs": [],
   "source": [
    "Task1_R <- function() {\n",
    "    \n",
    "  Badges1 <- data.frame( aggregate(list(Badges$Name), by = list(Badges$Name), FUN = length))\n",
    "    \n",
    "  colnames(Badges1) <- c(\"Group\",\"Number\")\n",
    "    \n",
    "  Badges2 <- data.frame( aggregate(list(Badges$Class), by = list(Badges$Name), FUN = min))\n",
    "    \n",
    "  colnames(Badges2) <- c(\"Group\",\"Class\")\n",
    "\n",
    "  Scratch_sol1 <- merge(Badges1, Badges2, by=\"Group\")\n",
    "    \n",
    "  Scratch_sol1 <- Scratch_sol1[head(order(Scratch_sol1$Number, decreasing = TRUE), n = 10),]\n",
    "        \n",
    "  colnames(Scratch_sol1) <- c(\"Name\", \"Number\", \"BestClass\")\n",
    "    \n",
    "  Scratch_sol1 <- head(Scratch_sol1, 10)\n",
    "        \n",
    "  return(Scratch_sol1)\n",
    "}\n",
    "\n",
    "Scratch_sol1 <- Task1_R()"
   ]
  },
  {
   "cell_type": "markdown",
   "id": "945bf7a8",
   "metadata": {},
   "source": [
    "### <font color=blue>1.3 Data.Table</font>\n",
    "Working with Data.Table "
   ]
  },
  {
   "cell_type": "code",
   "execution_count": 21,
   "id": "9324250a",
   "metadata": {},
   "outputs": [],
   "source": [
    "Task1_dt <- function() {\n",
    "    \n",
    "  dt_sol1 <- BadgesD[,list( Number = .N,  BestClass = max(Class)), by=Name]\n",
    "        \n",
    "  dt_sol1 <- setorderv(dt_sol1, cols=c(\"Number\", \"Name\"), order=-1L)\n",
    "         \n",
    "  dt_sol1 <- head(dt_sol1, 10)\n",
    "        \n",
    "}\n",
    "\n",
    "dt_sol1 <- Task1_dt()"
   ]
  },
  {
   "cell_type": "markdown",
   "id": "a8d7b5a4",
   "metadata": {},
   "source": [
    "### <font color=blue>1.4 Dplyr</font>\n",
    "Working with Dplyr"
   ]
  },
  {
   "cell_type": "code",
   "execution_count": 22,
   "id": "c5750f49",
   "metadata": {},
   "outputs": [],
   "source": [
    "Task1_dplyr <- function() {\n",
    "\n",
    "  dplyr_sol1 <- Badges %>%  select(Name, Class) %>%  group_by(Name) %>%  summarise(Number = n(), \n",
    "               BestClass = max(Class), .groups = \"drop\") %>% arrange(across(\"Number\", desc))\n",
    "    \n",
    "  ddplyr_sol1<- head(dplyr_sol1, 10)\n",
    "}\n",
    "\n",
    "dplyr_sol1 <- Task1_dplyr()"
   ]
  },
  {
   "cell_type": "markdown",
   "id": "32ff900f",
   "metadata": {},
   "source": [
    "![Machine Learning Project](https://user-images.githubusercontent.com/7065401/52071924-c003ad80-2562-11e9-8297-1c6595f8a7ff.png)"
   ]
  },
  {
   "cell_type": "markdown",
   "id": "c89de505",
   "metadata": {},
   "source": [
    ">### <font color=green>Requirements For Task 1</font>"
   ]
  },
  {
   "cell_type": "markdown",
   "id": "2bf30456",
   "metadata": {},
   "source": [
    "### <font color=blue>a) Sample Data</font>\n",
    "Sample Data from Task 1"
   ]
  },
  {
   "cell_type": "code",
   "execution_count": 23,
   "id": "a9dd0a78",
   "metadata": {},
   "outputs": [
    {
     "data": {
      "text/html": [
       "<table>\n",
       "<thead><tr><th scope=col>Name</th><th scope=col>Number</th><th scope=col>BestClass</th></tr></thead>\n",
       "<tbody>\n",
       "\t<tr><td>Autobiographer  </td><td>24564           </td><td>3               </td></tr>\n",
       "\t<tr><td>Student         </td><td>23930           </td><td>3               </td></tr>\n",
       "\t<tr><td>Supporter       </td><td>17826           </td><td>3               </td></tr>\n",
       "\t<tr><td>Popular Question</td><td>14840           </td><td>3               </td></tr>\n",
       "\t<tr><td>Nice Answer     </td><td>12406           </td><td>3               </td></tr>\n",
       "\t<tr><td>Yearling        </td><td>11281           </td><td>2               </td></tr>\n",
       "</tbody>\n",
       "</table>\n"
      ],
      "text/latex": [
       "\\begin{tabular}{r|lll}\n",
       " Name & Number & BestClass\\\\\n",
       "\\hline\n",
       "\t Autobiographer   & 24564            & 3               \\\\\n",
       "\t Student          & 23930            & 3               \\\\\n",
       "\t Supporter        & 17826            & 3               \\\\\n",
       "\t Popular Question & 14840            & 3               \\\\\n",
       "\t Nice Answer      & 12406            & 3               \\\\\n",
       "\t Yearling         & 11281            & 2               \\\\\n",
       "\\end{tabular}\n"
      ],
      "text/markdown": [
       "\n",
       "| Name | Number | BestClass |\n",
       "|---|---|---|\n",
       "| Autobiographer   | 24564            | 3                |\n",
       "| Student          | 23930            | 3                |\n",
       "| Supporter        | 17826            | 3                |\n",
       "| Popular Question | 14840            | 3                |\n",
       "| Nice Answer      | 12406            | 3                |\n",
       "| Yearling         | 11281            | 2                |\n",
       "\n"
      ],
      "text/plain": [
       "  Name             Number BestClass\n",
       "1 Autobiographer   24564  3        \n",
       "2 Student          23930  3        \n",
       "3 Supporter        17826  3        \n",
       "4 Popular Question 14840  3        \n",
       "5 Nice Answer      12406  3        \n",
       "6 Yearling         11281  2        "
      ]
     },
     "metadata": {},
     "output_type": "display_data"
    }
   ],
   "source": [
    "Sample_Data <- head(sqldf_sol1)\n",
    "\n",
    "Sample_Data"
   ]
  },
  {
   "cell_type": "markdown",
   "id": "074948bb",
   "metadata": {},
   "source": [
    "### <font color=blue>b) Summary</font>\n",
    "Summary of Task 1 Data"
   ]
  },
  {
   "cell_type": "code",
   "execution_count": 24,
   "id": "3512556b",
   "metadata": {},
   "outputs": [
    {
     "name": "stdout",
     "output_type": "stream",
     "text": [
      "'data.frame':\t10 obs. of  3 variables:\n",
      " $ Name     : chr  \"Autobiographer\" \"Student\" \"Supporter\" \"Popular Question\" ...\n",
      " $ Number   : int  24564 23930 17826 14840 12406 11281 9746 9115 8613 7224\n",
      " $ BestClass: int  3 3 3 3 3 2 3 3 2 3\n"
     ]
    },
    {
     "data": {
      "text/plain": [
       "NULL"
      ]
     },
     "metadata": {},
     "output_type": "display_data"
    }
   ],
   "source": [
    "Summary <- str(sqldf_sol1)\n",
    "\n",
    "Summary"
   ]
  },
  {
   "cell_type": "markdown",
   "id": "95db6f51",
   "metadata": {},
   "source": [
    "### <font color=blue>c) Comparison </font>\n",
    "Comparing all four methods that we implement for Task 1 and taking SQLDF as base."
   ]
  },
  {
   "cell_type": "code",
   "execution_count": 25,
   "id": "70c6fa38",
   "metadata": {},
   "outputs": [
    {
     "data": {
      "text/html": [
       "TRUE"
      ],
      "text/latex": [
       "TRUE"
      ],
      "text/markdown": [
       "TRUE"
      ],
      "text/plain": [
       "[1] TRUE"
      ]
     },
     "metadata": {},
     "output_type": "display_data"
    }
   ],
   "source": [
    "dplyr::all_equal(sqldf_sol1, Scratch_sol1)        # Base Solution"
   ]
  },
  {
   "cell_type": "code",
   "execution_count": 26,
   "id": "ed78cf6c",
   "metadata": {},
   "outputs": [
    {
     "data": {
      "text/html": [
       "TRUE"
      ],
      "text/latex": [
       "TRUE"
      ],
      "text/markdown": [
       "TRUE"
      ],
      "text/plain": [
       "[1] TRUE"
      ]
     },
     "metadata": {},
     "output_type": "display_data"
    }
   ],
   "source": [
    "dplyr::all_equal(sqldf_sol1, dt_sol1)            # DataTable Solution"
   ]
  },
  {
   "cell_type": "code",
   "execution_count": 27,
   "id": "8e242fbe",
   "metadata": {},
   "outputs": [
    {
     "data": {
      "text/html": [
       "TRUE"
      ],
      "text/latex": [
       "TRUE"
      ],
      "text/markdown": [
       "TRUE"
      ],
      "text/plain": [
       "[1] TRUE"
      ]
     },
     "metadata": {},
     "output_type": "display_data"
    }
   ],
   "source": [
    "dplyr::all_equal(sqldf_sol1, dplyr_sol1)         # Dplyr Solution"
   ]
  },
  {
   "cell_type": "markdown",
   "id": "68b47efd",
   "metadata": {},
   "source": [
    "### <font color=blue>d) Execution Time </font>\n",
    "Execution Time of Four Mehtods that we Implemented in Task Task 1"
   ]
  },
  {
   "cell_type": "code",
   "execution_count": 54,
   "id": "72adeb90",
   "metadata": {},
   "outputs": [
    {
     "name": "stdout",
     "output_type": "stream",
     "text": [
      "Unit: milliseconds\n",
      "       expr      min       lq      mean   median       uq      max neval\n",
      "      sqldf 434.9293 446.8087 531.17671 516.8863 612.8974 692.0881    10\n",
      "       base 282.4193 290.5703 364.43577 373.3746 409.8629 473.7640    10\n",
      " data.table  13.5650  14.9048  16.28118  15.2713  16.1628  26.2675    10\n",
      "      dplyr  26.1661  27.2182  56.24080  30.5543  36.0461 278.1298    10\n"
     ]
    }
   ],
   "source": [
    "Execution_Time1 <- microbenchmark(\n",
    "  sqldf=Task1_sqldf(),\n",
    "  base=Task1_R(),\n",
    "  data.table=Task1_dt(),\n",
    "  dplyr=Task1_dplyr(),\n",
    "  times = 10L)\n",
    "\n",
    "print(Execution_Time1)"
   ]
  },
  {
   "cell_type": "markdown",
   "id": "1bc1f4fd",
   "metadata": {},
   "source": [
    "### <font color=blue>e) Plot for Microbenchmark  </font>\n",
    "In this task we will plot execution time using autplot"
   ]
  },
  {
   "cell_type": "code",
   "execution_count": 55,
   "id": "b44d26d5",
   "metadata": {},
   "outputs": [
    {
     "name": "stderr",
     "output_type": "stream",
     "text": [
      "Coordinate system already present. Adding new coordinate system, which will replace the existing one.\n"
     ]
    },
    {
     "data": {
      "image/png": "[encoded data removed]",
      "text/plain": [
       "plot without title"
      ]
     },
     "metadata": {},
     "output_type": "display_data"
    }
   ],
   "source": [
    "autoplot(Execution_Time1)"
   ]
  },
  {
   "cell_type": "markdown",
   "id": "46646a22",
   "metadata": {},
   "source": [
    "![Machine Learning Project](https://user-images.githubusercontent.com/7065401/52071927-c1cd7100-2562-11e9-908a-dde91ba14e59.png)"
   ]
  },
  {
   "cell_type": "markdown",
   "id": "557d3f4b",
   "metadata": {},
   "source": [
    ">> # <font color=red>Task 2 </font>"
   ]
  },
  {
   "cell_type": "markdown",
   "id": "28fd2526",
   "metadata": {},
   "source": [
    "![Task 2](https://pbs.twimg.com/media/FF1sGL3XsAIUmJD?format=png&name=900x900)"
   ]
  },
  {
   "cell_type": "markdown",
   "id": "cc51418b",
   "metadata": {},
   "source": [
    "### <font color=blue>2.1 SQLDF</font>\n",
    "Working with SQL DataFrame"
   ]
  },
  {
   "cell_type": "code",
   "execution_count": 56,
   "id": "16e392e4",
   "metadata": {},
   "outputs": [],
   "source": [
    "Task2_sqldf <- function(){\n",
    "    sqldf_sol2 = sqldf(\"SELECT Location, COUNT(*) AS Count\n",
    "                        FROM (\n",
    "                            SELECT Posts.OwnerUserId, Users.Id, Users.Location\n",
    "                            FROM Users\n",
    "                            JOIN Posts ON Users.Id = Posts.OwnerUserId\n",
    "                        )\n",
    "                        WHERE Location NOT IN ('')\n",
    "                        GROUP BY Location\n",
    "\n",
    "                        ORDER BY Count DESC\n",
    "                        LIMIT 10\")\n",
    "    return(sqldf_sol2)\n",
    "}\n",
    "\n",
    "sqldf_sol2<-Task2_sqldf()"
   ]
  },
  {
   "cell_type": "markdown",
   "id": "ad069586",
   "metadata": {},
   "source": [
    "### <font color=blue>2.2 Base Solution</font>\n",
    "Working with R"
   ]
  },
  {
   "cell_type": "code",
   "execution_count": 57,
   "id": "fbb0336f",
   "metadata": {},
   "outputs": [],
   "source": [
    "Task2_R <- function() {\n",
    "    \n",
    "  posts_users <- merge(x = Users, y = Posts, by.x = \"Id\", by.y = \"OwnerUserId\")\n",
    "    \n",
    "  posts_users <- posts_users[posts_users$Location != \"\",]\n",
    "    \n",
    "  posts_users <- aggregate(x = posts_users, by=list(posts_users$Location), FUN = length)\n",
    "  as.data.frame(posts_users)\n",
    "    \n",
    "  Scratch_sol2 <- posts_users[, c(\"Group.1\", \"Location\")]\n",
    "    \n",
    "  colnames(Scratch_sol2) <- c(\"Location\", \"Count\")\n",
    "    \n",
    "  Scratch_sol2 <- Scratch_sol2[order(Scratch_sol2$Count, decreasing=TRUE),]\n",
    "  \n",
    "  Scratch_sol2 <- head(Scratch_sol2, 10)\n",
    "    \n",
    "  return(Scratch_sol2)\n",
    "}\n",
    "\n",
    "Scratch_sol2 <- Task2_R()"
   ]
  },
  {
   "cell_type": "markdown",
   "id": "ddbe42bf",
   "metadata": {},
   "source": [
    "### <font color=blue>2.3 Data.Table</font>\n",
    "Working with Data.Table"
   ]
  },
  {
   "cell_type": "code",
   "execution_count": 59,
   "id": "43eef39f",
   "metadata": {},
   "outputs": [],
   "source": [
    "Task2_dt <- function() {\n",
    "      \n",
    "  setkey(PostsD, OwnerUserId)\n",
    "  setkey(UsersD, Id)\n",
    "    \n",
    "  dt_sol2 <- UsersD[PostsD, nomatch=0]\n",
    "        \n",
    "  dt_sol2 <- dt_sol2[, list(\"Count\" = .N), by = .(Location)]\n",
    "    \n",
    "  dt_sol2 <- dt_sol2[Location != \"\"]\n",
    "    \n",
    "  dt_sol2 <- dt_sol2[order(-Count)]\n",
    "    \n",
    "  dt_sol2 <- head(dt_sol2, 10)\n",
    "    \n",
    "  return(dt_sol2)\n",
    "}\n",
    "\n",
    "dt_sol2 <- Task2_dt()"
   ]
  },
  {
   "cell_type": "markdown",
   "id": "09d204c7",
   "metadata": {},
   "source": [
    "### <font color=blue>2.4 Dplyr</font>\n",
    "Working with Dplyr"
   ]
  },
  {
   "cell_type": "code",
   "execution_count": 60,
   "id": "f664ec11",
   "metadata": {},
   "outputs": [],
   "source": [
    "Task2_dplyr <- function() { \n",
    "\n",
    "  dplyr_sol2 <- inner_join(Posts, Users, by = c(\"OwnerUserId\"=\"Id\")) %>% select(OwnerUserId, Id, Location) %>%\n",
    "                group_by(Location) %>% filter(Location != \"\") %>% summarise(Count = n(), .groups = \"drop\") %>%\n",
    "                arrange(across(\"Count\", desc))\n",
    "    \n",
    "  dplyr_sol2 <- head(dplyr_sol2, 10)\n",
    "    \n",
    "  return(dplyr_sol2)\n",
    "}\n",
    "\n",
    "dplyr_sol2 <- Task2_dplyr()"
   ]
  },
  {
   "cell_type": "markdown",
   "id": "c9b9bddd",
   "metadata": {},
   "source": [
    "![Machine Learning Project](https://user-images.githubusercontent.com/7065401/52071924-c003ad80-2562-11e9-8297-1c6595f8a7ff.png)"
   ]
  },
  {
   "cell_type": "markdown",
   "id": "34207ae4",
   "metadata": {},
   "source": [
    ">### <font color=green>Requirements For Task 2</font>"
   ]
  },
  {
   "cell_type": "markdown",
   "id": "18e6eb83",
   "metadata": {},
   "source": [
    "### <font color=blue>a) Sample Data</font>\n",
    "Sample Data from Task 2"
   ]
  },
  {
   "cell_type": "code",
   "execution_count": 61,
   "id": "77ee1d3b",
   "metadata": {},
   "outputs": [
    {
     "data": {
      "text/html": [
       "<table>\n",
       "<thead><tr><th scope=col>Location</th><th scope=col>Count</th></tr></thead>\n",
       "<tbody>\n",
       "\t<tr><td>Christchurch, New Zealand    </td><td>2765                         </td></tr>\n",
       "\t<tr><td>New York, NY                 </td><td>1788                         </td></tr>\n",
       "\t<tr><td>London, United Kingdom       </td><td>1708                         </td></tr>\n",
       "\t<tr><td>UK                           </td><td>1590                         </td></tr>\n",
       "\t<tr><td>Sunshine Coast QLD, Australia</td><td>1550                         </td></tr>\n",
       "\t<tr><td>Australia                    </td><td>1183                         </td></tr>\n",
       "</tbody>\n",
       "</table>\n"
      ],
      "text/latex": [
       "\\begin{tabular}{r|ll}\n",
       " Location & Count\\\\\n",
       "\\hline\n",
       "\t Christchurch, New Zealand     & 2765                         \\\\\n",
       "\t New York, NY                  & 1788                         \\\\\n",
       "\t London, United Kingdom        & 1708                         \\\\\n",
       "\t UK                            & 1590                         \\\\\n",
       "\t Sunshine Coast QLD, Australia & 1550                         \\\\\n",
       "\t Australia                     & 1183                         \\\\\n",
       "\\end{tabular}\n"
      ],
      "text/markdown": [
       "\n",
       "| Location | Count |\n",
       "|---|---|\n",
       "| Christchurch, New Zealand     | 2765                          |\n",
       "| New York, NY                  | 1788                          |\n",
       "| London, United Kingdom        | 1708                          |\n",
       "| UK                            | 1590                          |\n",
       "| Sunshine Coast QLD, Australia | 1550                          |\n",
       "| Australia                     | 1183                          |\n",
       "\n"
      ],
      "text/plain": [
       "  Location                      Count\n",
       "1 Christchurch, New Zealand     2765 \n",
       "2 New York, NY                  1788 \n",
       "3 London, United Kingdom        1708 \n",
       "4 UK                            1590 \n",
       "5 Sunshine Coast QLD, Australia 1550 \n",
       "6 Australia                     1183 "
      ]
     },
     "metadata": {},
     "output_type": "display_data"
    }
   ],
   "source": [
    "Sample_Data <- head(sqldf_sol2)\n",
    "\n",
    "Sample_Data"
   ]
  },
  {
   "cell_type": "markdown",
   "id": "0ee6b4a6",
   "metadata": {},
   "source": [
    "### <font color=blue>b) Summary</font>\n",
    "Summary of Task 2 Data"
   ]
  },
  {
   "cell_type": "code",
   "execution_count": 62,
   "id": "5224b59e",
   "metadata": {},
   "outputs": [
    {
     "name": "stdout",
     "output_type": "stream",
     "text": [
      "'data.frame':\t10 obs. of  2 variables:\n",
      " $ Location: chr  \"Christchurch, New Zealand\" \"New York, NY\" \"London, United Kingdom\" \"UK\" ...\n",
      " $ Count   : int  2765 1788 1708 1590 1550 1183 967 935 924 921\n",
      "NULL\n"
     ]
    }
   ],
   "source": [
    "Summary <- str(sqldf_sol2)\n",
    "\n",
    "print(Summary)"
   ]
  },
  {
   "cell_type": "markdown",
   "id": "d6399972",
   "metadata": {},
   "source": [
    "### <font color=blue>c) Comparison </font>\n",
    "Comparing all four methods that we implement in Task 2 and taking SQLDF as base."
   ]
  },
  {
   "cell_type": "code",
   "execution_count": 63,
   "id": "f6129b78",
   "metadata": {},
   "outputs": [
    {
     "data": {
      "text/html": [
       "TRUE"
      ],
      "text/latex": [
       "TRUE"
      ],
      "text/markdown": [
       "TRUE"
      ],
      "text/plain": [
       "[1] TRUE"
      ]
     },
     "metadata": {},
     "output_type": "display_data"
    }
   ],
   "source": [
    "dplyr::all_equal(sqldf_sol2, Scratch_sol2)        # Base Solution"
   ]
  },
  {
   "cell_type": "code",
   "execution_count": 64,
   "id": "a8fb40b7",
   "metadata": {},
   "outputs": [
    {
     "data": {
      "text/html": [
       "TRUE"
      ],
      "text/latex": [
       "TRUE"
      ],
      "text/markdown": [
       "TRUE"
      ],
      "text/plain": [
       "[1] TRUE"
      ]
     },
     "metadata": {},
     "output_type": "display_data"
    }
   ],
   "source": [
    "dplyr::all_equal(sqldf_sol2, dt_sol2)            # DataTable Solution"
   ]
  },
  {
   "cell_type": "code",
   "execution_count": 65,
   "id": "35dfcb7e",
   "metadata": {},
   "outputs": [
    {
     "data": {
      "text/html": [
       "TRUE"
      ],
      "text/latex": [
       "TRUE"
      ],
      "text/markdown": [
       "TRUE"
      ],
      "text/plain": [
       "[1] TRUE"
      ]
     },
     "metadata": {},
     "output_type": "display_data"
    }
   ],
   "source": [
    "dplyr::all_equal(sqldf_sol2, dplyr_sol2)         # Dplyr Solution"
   ]
  },
  {
   "cell_type": "markdown",
   "id": "4c87422e",
   "metadata": {},
   "source": [
    "### <font color=blue>d) Execution Time</font>\n",
    "Execution Time of Four Mehtods that we Implemented in Task 2"
   ]
  },
  {
   "cell_type": "code",
   "execution_count": 68,
   "id": "6f3ab35b",
   "metadata": {},
   "outputs": [
    {
     "name": "stdout",
     "output_type": "stream",
     "text": [
      "Unit: milliseconds\n",
      "       expr       min        lq       mean     median        uq       max neval\n",
      "      sqldf 3238.9428 3336.3828 3635.99292 3479.00305 4026.4990 4287.8985    10\n",
      "       base 1459.5215 1622.7073 1799.41655 1691.34375 1975.0371 2490.7991    10\n",
      " data.table   77.1915   77.8397   93.70883   79.52335  101.9711  178.9383    10\n",
      "      dplyr  169.5229  195.1658  249.27186  277.80915  301.4269  317.1546    10\n"
     ]
    }
   ],
   "source": [
    "Execution_Time2 <- microbenchmark(\n",
    "  sqldf=Task2_sqldf(),\n",
    "  base=Task2_R(),\n",
    "  data.table=Task2_dt(),\n",
    "  dplyr=Task2_dplyr(),\n",
    "  times = 10L)\n",
    "\n",
    "print(Execution_Time2)"
   ]
  },
  {
   "cell_type": "markdown",
   "id": "01e0e86b",
   "metadata": {},
   "source": [
    "### <font color=blue>e) Plot for Microbenchmark  </font>\n",
    "In this task we will plot execution time using autplot"
   ]
  },
  {
   "cell_type": "code",
   "execution_count": 69,
   "id": "100f04ce",
   "metadata": {},
   "outputs": [
    {
     "name": "stderr",
     "output_type": "stream",
     "text": [
      "Coordinate system already present. Adding new coordinate system, which will replace the existing one.\n"
     ]
    },
    {
     "data": {
      "image/png": "[encoded data removed]",
      "text/plain": [
       "plot without title"
      ]
     },
     "metadata": {},
     "output_type": "display_data"
    }
   ],
   "source": [
    "autoplot(Execution_Time2)"
   ]
  },
  {
   "cell_type": "markdown",
   "id": "295a0d23",
   "metadata": {},
   "source": [
    "![Machine Learning Project](https://user-images.githubusercontent.com/7065401/52071927-c1cd7100-2562-11e9-908a-dde91ba14e59.png)"
   ]
  },
  {
   "cell_type": "markdown",
   "id": "6c45a7e1",
   "metadata": {},
   "source": [
    ">> # <font color=red>Task 3 </font>"
   ]
  },
  {
   "cell_type": "markdown",
   "id": "402145fd",
   "metadata": {},
   "source": [
    "![Task 3](https://pbs.twimg.com/media/FF1sGNkXIAQfgPq?format=jpg&name=medium)"
   ]
  },
  {
   "cell_type": "markdown",
   "id": "3033bb4e",
   "metadata": {},
   "source": [
    "### <font color=blue>3.1 SQLDF</font>\n",
    "Working with SQL DataFrame"
   ]
  },
  {
   "cell_type": "code",
   "execution_count": 73,
   "id": "7f4e04e1",
   "metadata": {},
   "outputs": [],
   "source": [
    "Task3_sqldf <- function(){\n",
    "    sqldf_sol3 = sqldf(\"SELECT\n",
    "                            Users.AccountId,\n",
    "                            Users.DisplayName,\n",
    "                            Users.Location,\n",
    "                            AVG(PostAuth.AnswersCount) as AverageAnswersCount\n",
    "                        FROM\n",
    "                        (\n",
    "                            SELECT\n",
    "                                AnsCount.AnswersCount,\n",
    "                                Posts.Id,\n",
    "                                Posts.OwnerUserId\n",
    "                            FROM (\n",
    "                                    SELECT Posts.ParentId, COUNT(*) AS AnswersCount\n",
    "                                    FROM Posts\n",
    "                                    WHERE Posts.PostTypeId = 2\n",
    "                                    GROUP BY Posts.ParentId\n",
    "                                ) AS AnsCount\n",
    "                            JOIN Posts ON Posts.Id = AnsCount.ParentId\n",
    "                        ) AS PostAuth\n",
    "                        JOIN Users ON Users.AccountId=PostAuth.OwnerUserId\n",
    "                        GROUP BY OwnerUserId\n",
    "                        ORDER BY AverageAnswersCount DESC\n",
    "                        LIMIT 10\")\n",
    "    return(sqldf_sol3)\n",
    "}\n",
    "\n",
    "sqldf_sol3 <- Task3_sqldf()"
   ]
  },
  {
   "cell_type": "markdown",
   "id": "6cb8136e",
   "metadata": {},
   "source": [
    "### <font color=blue>3.2 Base Solution</font>\n",
    "Working with R"
   ]
  },
  {
   "cell_type": "code",
   "execution_count": 76,
   "id": "7c454691",
   "metadata": {},
   "outputs": [],
   "source": [
    "Task3_R <- function () { \n",
    "    \n",
    "  AnsCount <- Posts[c(\"ParentId\", \"PostTypeId\")]\n",
    "    \n",
    "  AnsCount <- AnsCount[AnsCount$PostTypeId == 2,]\n",
    "    \n",
    "  AnsCount <- AnsCount[\"ParentId\"]\n",
    "    \n",
    "  AnsCount <- aggregate(AnsCount, by = list(AnsCount$ParentId), FUN = length)\n",
    "    \n",
    "  colnames(AnsCount) <- c(\"ParentId\", \"AnswersCount\")\n",
    "\n",
    "  Post <- Posts[c(\"Id\", \"OwnerUserId\")]\n",
    "    \n",
    "  PostAuth <- merge(Post, AnsCount, by.x = \"Id\", by.y = \"ParentId\")\n",
    "\n",
    "  user <- Users[c(\"AccountId\")]\n",
    "\n",
    "  Scratch_sol3 <- merge(user , PostAuth, by.x = \"AccountId\", by.y = \"OwnerUserId\",)\n",
    "\n",
    "  rm.na.mean <- function(x) mean(x, rm.na = True)\n",
    "    \n",
    "  Scratch_sol3 <- aggregate(Scratch_sol3, by = list(Scratch_sol3$AccountId), FUN = rm.na.mean)\n",
    "    \n",
    "  drops <- c(\"AccountId\", \"Id\")\n",
    "    \n",
    "  Scratch_sol3 <- Scratch_sol3[, !(names(Scratch_sol3) %in% drops)]\n",
    "\n",
    "  colnames(Scratch_sol3) <- c(\"AccountId\", \"AverageAnswersCount\")\n",
    "\n",
    "  user  <- unique(Users[c(\"AccountId\", \"DisplayName\", \"Location\")])\n",
    "    \n",
    "  Scratch_sol3 <- merge(Scratch_sol3, user)\n",
    "  \n",
    "  Scratch_sol3 <- Scratch_sol3[order(-Scratch_sol3$AverageAnswersCount),]\n",
    "\n",
    "  Scratch_sol3 <- head(Scratch_sol3, 10)\n",
    "    \n",
    "return(Scratch_sol3)\n",
    "}\n",
    "\n",
    "Scratch_sol3 <- Task3_R()"
   ]
  },
  {
   "cell_type": "markdown",
   "id": "1d86c053",
   "metadata": {},
   "source": [
    "### <font color=blue>3.3 Data.Table</font>\n",
    "Working with Data.Table"
   ]
  },
  {
   "cell_type": "code",
   "execution_count": 79,
   "id": "30629626",
   "metadata": {},
   "outputs": [],
   "source": [
    "Task3_dt <- function() {\n",
    "    \n",
    "  AnsCountDT <- PostsD[PostTypeId == 2, list(\"AnswersCount\" = .N) , by = .(ParentId)]\n",
    "    \n",
    "  PostsDT <- PostsD[,list(\"Id\" = Id, \"OwnerUserId\" = OwnerUserId),]\n",
    "        \n",
    "  setkey(AnsCountDT, ParentId)\n",
    "  setkey(PostsDT, Id)\n",
    "    \n",
    "  PostAuthDT <- AnsCountDT[PostsDT, nomatch=0]\n",
    "        \n",
    "  UsersDT <- data.table(Users)\n",
    "    \n",
    "  setkey(PostAuthDT, OwnerUserId)\n",
    "    \n",
    "  setkey(UsersDT, AccountId)\n",
    "    \n",
    "  dt_sol3  <- UsersDT[PostAuthDT, nomatch=0]\n",
    "        \n",
    "  dt_sol3  <- dt_sol3 [,list(\"DisplayName\" = DisplayName, \"Location\" = Location, \n",
    "                   \"AverageAnswersCount\" = mean(AnswersCount)), by = \"AccountId\"]\n",
    "    \n",
    "  dt_sol3  <- setorderv(dt_sol3 , cols=c(\"AverageAnswersCount\",\"AccountId\"), order=-1L)[1:10,]\n",
    "    \n",
    "  dt_sol3  <- dt_sol3[order(-AverageAnswersCount)]\n",
    "    \n",
    "  dt_sol3  <- head(dt_sol3, 10)\n",
    "    \n",
    "return(dt_sol3)\n",
    "    \n",
    "        \n",
    "}\n",
    "\n",
    "dt_sol3 <- Task3_dt()"
   ]
  },
  {
   "cell_type": "markdown",
   "id": "26edf57d",
   "metadata": {},
   "source": [
    "### <font color=blue>3.4 Dplyr</font>\n",
    "Working with Dplyr"
   ]
  },
  {
   "cell_type": "code",
   "execution_count": 99,
   "id": "2212815a",
   "metadata": {},
   "outputs": [],
   "source": [
    "Task3_dplyr <- function() {\n",
    "\n",
    "  AnsCount <- Posts %>%  select(ParentId, PostTypeId) %>%   filter(PostTypeId == 2) %>%  group_by(ParentId) %>%\n",
    "                         summarise(AnswersCount = n(), ParentId = unique(ParentId))\n",
    "                \n",
    "  PostAuth <- inner_join(Posts, AnsCount, by=c(\"Id\"=\"ParentId\")) %>% select(AnswersCount, ParentId, OwnerUserId)\n",
    "                \n",
    "  dplyr_sol3 <- inner_join(Users, PostAuth, by = c(\"AccountId\"=\"OwnerUserId\")) %>% \n",
    "              select(AccountId, DisplayName, Location, AnswersCount) %>% group_by(AccountId) %>%\n",
    "               summarise(DisplayName, Location, \"AverageAnswersCount\" = mean(AnswersCount),.groups = \"drop_last\") %>%\n",
    "              arrange(across(c(\"AverageAnswersCount\",\"AccountId\"), desc)) %>% slice_head(n = 10)\n",
    "\n",
    "  return(dplyr_sol3)\n",
    "}\n",
    "\n",
    "dplyr_sol3 <- Task3_dplyr()"
   ]
  },
  {
   "cell_type": "markdown",
   "id": "7b42be29",
   "metadata": {},
   "source": [
    "![Machine Learning Project](https://user-images.githubusercontent.com/7065401/52071924-c003ad80-2562-11e9-8297-1c6595f8a7ff.png)"
   ]
  },
  {
   "cell_type": "markdown",
   "id": "88faa419",
   "metadata": {},
   "source": [
    ">### <font color=green>Requirements For Task 3</font>"
   ]
  },
  {
   "cell_type": "markdown",
   "id": "19fc71c0",
   "metadata": {},
   "source": [
    "### <font color=blue>a) Sample Data</font>\n",
    "Sample Data from Task 3"
   ]
  },
  {
   "cell_type": "code",
   "execution_count": 92,
   "id": "cca63fec",
   "metadata": {},
   "outputs": [
    {
     "data": {
      "text/html": [
       "<table>\n",
       "<thead><tr><th scope=col>AccountId</th><th scope=col>DisplayName</th><th scope=col>Location</th><th scope=col>AverageAnswersCount</th></tr></thead>\n",
       "<tbody>\n",
       "\t<tr><td>40811            </td><td>vocaro           </td><td>San Jose, CA     </td><td>11               </td></tr>\n",
       "\t<tr><td>  280            </td><td>csmba            </td><td>San Francisco, CA</td><td>11               </td></tr>\n",
       "\t<tr><td>44093            </td><td>Emma Arbogast    </td><td>Salem, OR        </td><td>10               </td></tr>\n",
       "\t<tr><td>  204            </td><td>Josh             </td><td>Australia        </td><td>10               </td></tr>\n",
       "\t<tr><td>11758            </td><td>rvarcher         </td><td>Oklahoma City, OK</td><td> 9               </td></tr>\n",
       "\t<tr><td>79346            </td><td>Thomas Matthews  </td><td>California       </td><td> 8               </td></tr>\n",
       "</tbody>\n",
       "</table>\n"
      ],
      "text/latex": [
       "\\begin{tabular}{r|llll}\n",
       " AccountId & DisplayName & Location & AverageAnswersCount\\\\\n",
       "\\hline\n",
       "\t 40811             & vocaro            & San Jose, CA      & 11               \\\\\n",
       "\t   280             & csmba             & San Francisco, CA & 11               \\\\\n",
       "\t 44093             & Emma Arbogast     & Salem, OR         & 10               \\\\\n",
       "\t   204             & Josh              & Australia         & 10               \\\\\n",
       "\t 11758             & rvarcher          & Oklahoma City, OK &  9               \\\\\n",
       "\t 79346             & Thomas Matthews   & California        &  8               \\\\\n",
       "\\end{tabular}\n"
      ],
      "text/markdown": [
       "\n",
       "| AccountId | DisplayName | Location | AverageAnswersCount |\n",
       "|---|---|---|---|\n",
       "| 40811             | vocaro            | San Jose, CA      | 11                |\n",
       "|   280             | csmba             | San Francisco, CA | 11                |\n",
       "| 44093             | Emma Arbogast     | Salem, OR         | 10                |\n",
       "|   204             | Josh              | Australia         | 10                |\n",
       "| 11758             | rvarcher          | Oklahoma City, OK |  9                |\n",
       "| 79346             | Thomas Matthews   | California        |  8                |\n",
       "\n"
      ],
      "text/plain": [
       "  AccountId DisplayName     Location          AverageAnswersCount\n",
       "1 40811     vocaro          San Jose, CA      11                 \n",
       "2   280     csmba           San Francisco, CA 11                 \n",
       "3 44093     Emma Arbogast   Salem, OR         10                 \n",
       "4   204     Josh            Australia         10                 \n",
       "5 11758     rvarcher        Oklahoma City, OK  9                 \n",
       "6 79346     Thomas Matthews California         8                 "
      ]
     },
     "metadata": {},
     "output_type": "display_data"
    }
   ],
   "source": [
    "Sample_Data <- head(sqldf_sol3)\n",
    "\n",
    "Sample_Data"
   ]
  },
  {
   "cell_type": "markdown",
   "id": "feffcf83",
   "metadata": {},
   "source": [
    "### <font color=blue>b) Summary</font>\n",
    "Summary of Task 3 Data"
   ]
  },
  {
   "cell_type": "code",
   "execution_count": 100,
   "id": "987f8826",
   "metadata": {},
   "outputs": [
    {
     "name": "stdout",
     "output_type": "stream",
     "text": [
      "'data.frame':\t10 obs. of  4 variables:\n",
      " $ AccountId          : int  40811 280 44093 204 11758 79346 54571 42364 20473 19588\n",
      " $ DisplayName        : chr  \"vocaro\" \"csmba\" \"Emma Arbogast\" \"Josh\" ...\n",
      " $ Location           : chr  \"San Jose, CA\" \"San Francisco, CA\" \"Salem, OR\" \"Australia\" ...\n",
      " $ AverageAnswersCount: num  11 11 10 10 9 8 8 8 8 8\n",
      "NULL\n"
     ]
    }
   ],
   "source": [
    "Summary <- str(sqldf_sol3)\n",
    "\n",
    "print(Summary)"
   ]
  },
  {
   "cell_type": "markdown",
   "id": "5d1bdb74",
   "metadata": {},
   "source": [
    "### <font color=blue>c) Comparison </font>\n",
    "Comparing all four method that we implement in Task 3 and taking SQLDF as base."
   ]
  },
  {
   "cell_type": "code",
   "execution_count": 101,
   "id": "18c035bc",
   "metadata": {},
   "outputs": [
    {
     "data": {
      "text/html": [
       "TRUE"
      ],
      "text/latex": [
       "TRUE"
      ],
      "text/markdown": [
       "TRUE"
      ],
      "text/plain": [
       "[1] TRUE"
      ]
     },
     "metadata": {},
     "output_type": "display_data"
    }
   ],
   "source": [
    "dplyr::all_equal(sqldf_sol3, Scratch_sol3)        # Base Solution"
   ]
  },
  {
   "cell_type": "code",
   "execution_count": 102,
   "id": "570e1234",
   "metadata": {},
   "outputs": [
    {
     "data": {
      "text/html": [
       "TRUE"
      ],
      "text/latex": [
       "TRUE"
      ],
      "text/markdown": [
       "TRUE"
      ],
      "text/plain": [
       "[1] TRUE"
      ]
     },
     "metadata": {},
     "output_type": "display_data"
    }
   ],
   "source": [
    "dplyr::all_equal(sqldf_sol3, dt_sol3)            # DataTable Solution"
   ]
  },
  {
   "cell_type": "code",
   "execution_count": 103,
   "id": "533194c4",
   "metadata": {},
   "outputs": [
    {
     "data": {
      "text/html": [
       "TRUE"
      ],
      "text/latex": [
       "TRUE"
      ],
      "text/markdown": [
       "TRUE"
      ],
      "text/plain": [
       "[1] TRUE"
      ]
     },
     "metadata": {},
     "output_type": "display_data"
    }
   ],
   "source": [
    "dplyr::all_equal(sqldf_sol3, dplyr_sol3)         # Dplyr Solution"
   ]
  },
  {
   "cell_type": "markdown",
   "id": "9324174e",
   "metadata": {},
   "source": [
    "### <font color=blue>d) Execution Time</font>\n",
    "Execution Time of Four Mehtod that we Implemented in Task 3"
   ]
  },
  {
   "cell_type": "code",
   "execution_count": 108,
   "id": "ab1e4059",
   "metadata": {},
   "outputs": [
    {
     "name": "stdout",
     "output_type": "stream",
     "text": [
      "Unit: milliseconds\n",
      "       expr       min        lq       mean    median        uq       max neval\n",
      "      sqldf 3230.9896 3521.5016 3715.96776 3579.5226 3869.7029 4648.0653    10\n",
      "       base 1205.9517 1324.7816 1501.01896 1465.6244 1607.3859 1883.7612    10\n",
      " data.table   63.7844   65.9051   71.62652   67.0664   76.2671   92.2515    10\n",
      "      dplyr 1770.1438 1841.8816 2209.14044 2136.7649 2642.7045 2838.0249    10\n"
     ]
    }
   ],
   "source": [
    "Execution_Time3 <- microbenchmark(\n",
    "  sqldf=Task3_sqldf(),\n",
    "  base=Task3_R(),\n",
    "  data.table=Task3_dt(),\n",
    "  dplyr=Task3_dplyr(),\n",
    "  times = 10L)\n",
    "\n",
    "print(Execution_Time3)"
   ]
  },
  {
   "cell_type": "markdown",
   "id": "0a41dedb",
   "metadata": {},
   "source": [
    "### <font color=blue>e) Plot for Microbenchmark  </font>\n",
    "In this task we will plot execution time using autplot"
   ]
  },
  {
   "cell_type": "code",
   "execution_count": 109,
   "id": "776a07d6",
   "metadata": {},
   "outputs": [
    {
     "name": "stderr",
     "output_type": "stream",
     "text": [
      "Coordinate system already present. Adding new coordinate system, which will replace the existing one.\n"
     ]
    },
    {
     "data": {
      "image/png": "[encoded data removed]",
      "text/plain": [
       "plot without title"
      ]
     },
     "metadata": {},
     "output_type": "display_data"
    }
   ],
   "source": [
    "autoplot(Execution_Time3)"
   ]
  },
  {
   "cell_type": "markdown",
   "id": "9989778d",
   "metadata": {},
   "source": [
    "![Machine Learning Project](https://user-images.githubusercontent.com/7065401/52071927-c1cd7100-2562-11e9-908a-dde91ba14e59.png)"
   ]
  },
  {
   "cell_type": "markdown",
   "id": "2cd5bedf",
   "metadata": {},
   "source": [
    ">> # <font color=red>Task 4 </font>"
   ]
  },
  {
   "cell_type": "markdown",
   "id": "ff2bab64",
   "metadata": {},
   "source": [
    "![Task 4](https://pbs.twimg.com/media/FF1sGOdXwAA0t8y?format=jpg&name=medium)"
   ]
  },
  {
   "cell_type": "markdown",
   "id": "0756c7ed",
   "metadata": {},
   "source": [
    "### <font color=blue>4.1 SQLDF</font>\n",
    "Working with SQL DataFrame"
   ]
  },
  {
   "cell_type": "code",
   "execution_count": 7,
   "id": "84c7f85a",
   "metadata": {},
   "outputs": [],
   "source": [
    "Task4_sqldf <- function(){\n",
    "    sqldf_sol4 = sqldf(\"SELECT\n",
    "                            Posts.Title,\n",
    "                            UpVotesPerYear.Year,\n",
    "                            MAX(UpVotesPerYear.Count) AS Count\n",
    "                        FROM (\n",
    "                                SELECT\n",
    "                                    PostId,\n",
    "                                    COUNT(*) AS Count,\n",
    "                                    STRFTIME('%Y', Votes.CreationDate) AS Year\n",
    "                                FROM Votes\n",
    "                                WHERE VoteTypeId=2\n",
    "                                GROUP BY PostId, Year\n",
    "                            ) AS UpVotesPerYear\n",
    "                        JOIN Posts ON Posts.Id=UpVotesPerYear.PostId\n",
    "                        WHERE Posts.PostTypeId=1\n",
    "                        GROUP BY Year\n",
    "                        ORDER BY Year ASC\"\n",
    "                        )\n",
    "    return(sqldf_sol4)\n",
    "}\n",
    "\n",
    "sqldf_sol4 <- Task4_sqldf()"
   ]
  },
  {
   "cell_type": "markdown",
   "id": "23da610d",
   "metadata": {},
   "source": [
    "### <font color=blue>4.2 Base Solution</font>\n",
    "Working with R"
   ]
  },
  {
   "cell_type": "code",
   "execution_count": 8,
   "id": "95ad22f2",
   "metadata": {},
   "outputs": [],
   "source": [
    "Task4_R <- function() {\n",
    "\n",
    "  votes_ <- data.frame(PostId = Votes$PostId, CreationDate = Votes$CreationDate, VoteTypeId = Votes$VoteTypeId)\n",
    "  votes_ <- votes_[votes_$VoteTypeId == 2,]\n",
    "  votes_$CreationDate <- strftime(votes_$CreationDate, \"%Y\")\n",
    "        \n",
    "  votes_ <- aggregate(votes_, by = list(votes_$CreationDate, votes_$PostId), FUN = length)[,1:3]\n",
    "  colnames(votes_) <- c(\"Year\",\"PostId\", \"Count\")\n",
    "        \n",
    "  posts_ <- data.frame(Id = Posts$Id, Title = Posts$Title, PostTypeId = Posts$PostTypeId)\n",
    "  posts_ <- posts_[posts_$PostTypeId == 1,]\n",
    "\n",
    "  Scratch_sol4 <- merge(votes_, posts_, by.x=\"PostId\", by.y = \"Id\")[,c(2:4)]\n",
    "  Scratch_sol4 <- do.call(rbind, lapply( split(Scratch_sol4, Scratch_sol4[, \"Year\"]), \n",
    "                                        function(x) { x[which.max(x[, \"Count\"]),]} ))\n",
    "  return(Scratch_sol4)\n",
    "}\n",
    "\n",
    "Scratch_sol4 <- Task4_R()"
   ]
  },
  {
   "cell_type": "markdown",
   "id": "5e54a8d7",
   "metadata": {},
   "source": [
    "### <font color=blue>4.3 Data.Table</font>\n",
    "Working with Data.Table"
   ]
  },
  {
   "cell_type": "code",
   "execution_count": 9,
   "id": "c1835f09",
   "metadata": {},
   "outputs": [],
   "source": [
    "Task4_dt <- function() {\n",
    "    \n",
    "  VotesDT <- VotesD[VoteTypeId == 2]\n",
    "    \n",
    "  VotesDT <- VotesDT[,Year := strftime(CreationDate, \"%Y\")]\n",
    "    \n",
    "  VotesDT <- VotesDT[,.(PostId, Year, Count = .N), by=.(PostId, Year)]\n",
    "    \n",
    "  VotesDT <- setorderv(VotesDT, cols=c(\"PostId\", \"Year\"))\n",
    "    \n",
    "  PostsDT <- PostsD[PostTypeId == 1]\n",
    "    \n",
    "  setkey(VotesDT, PostId)\n",
    "  setkey(PostsDT, Id)\n",
    "    \n",
    "  dt_sol4 <- PostsDT[VotesDT, nomatch=0]\n",
    "  dt_sol4 <- dt_sol4[,.SD[which.max(Count)], by = Year]\n",
    "  dt_sol4 <- dt_sol4[,.(Year, Title, Count),]\n",
    "  dt_sol4 <- setorderv(dt_sol4, cols=c(\"Year\"))\n",
    "    \n",
    "  return(dt_sol4)\n",
    "}\n",
    "\n",
    "dt_sol4 <- Task4_dt()"
   ]
  },
  {
   "cell_type": "markdown",
   "id": "39c1dfc1",
   "metadata": {},
   "source": [
    "### <font color=blue>4.4 Dplyr</font>\n",
    "Working with Dplyr"
   ]
  },
  {
   "cell_type": "code",
   "execution_count": 10,
   "id": "d4b37e73",
   "metadata": {},
   "outputs": [],
   "source": [
    "Task4_dplyr <- function() {\n",
    "  vote <- Votes %>%  filter(VoteTypeId == 2) %>% select(PostId, CreationDate) %>% \n",
    "          mutate(Year = strftime(CreationDate, \"%Y\")) %>% group_by(PostId, Year) %>% \n",
    "          summarise(PostId = unique(PostId), Count = n(), Year = unique(Year), .groups = 'drop')\n",
    "                \n",
    "  dplyr_sol4 <- Posts %>%  filter(PostTypeId == 1) %>% inner_join(vote, by = c(\"Id\"=\"PostId\")) %>%\n",
    "            select(Title, Year, Count) %>% group_by(Year) %>% filter(Count == max(Count)) %>% arrange(across(\"Year\"))\n",
    "    \n",
    "  return(dplyr_sol4)\n",
    "}\n",
    "\n",
    "dplyr_sol4 <- Task4_dplyr()"
   ]
  },
  {
   "cell_type": "markdown",
   "id": "f2fa2991",
   "metadata": {},
   "source": [
    "![Machine Learning Project](https://user-images.githubusercontent.com/7065401/52071924-c003ad80-2562-11e9-8297-1c6595f8a7ff.png)"
   ]
  },
  {
   "cell_type": "markdown",
   "id": "b3bd8c23",
   "metadata": {},
   "source": [
    ">### <font color=green>Requirements For Task 4</font>"
   ]
  },
  {
   "cell_type": "markdown",
   "id": "933f4ff0",
   "metadata": {},
   "source": [
    "### <font color=blue>a) Sample Data</font>\n",
    "Sample Data from Task 4"
   ]
  },
  {
   "cell_type": "code",
   "execution_count": 11,
   "id": "cdfab24f",
   "metadata": {},
   "outputs": [
    {
     "data": {
      "text/html": [
       "<table>\n",
       "<thead><tr><th scope=col>Title</th><th scope=col>Year</th><th scope=col>Count</th></tr></thead>\n",
       "<tbody>\n",
       "\t<tr><td>OK we're all adults here, so really, how on earth should I use a squat toilet?       </td><td>2011                                                                                 </td><td> 70                                                                                  </td></tr>\n",
       "\t<tr><td>How to successfully haggle / bargain in markets                                      </td><td>2012                                                                                 </td><td> 37                                                                                  </td></tr>\n",
       "\t<tr><td>Why are airline passengers asked to lift up window shades during takeoff and landing?</td><td>2013                                                                                 </td><td>103                                                                                  </td></tr>\n",
       "\t<tr><td>How do you know if Americans genuinely/literally mean what they say?                 </td><td>2014                                                                                 </td><td>179                                                                                  </td></tr>\n",
       "\t<tr><td>Immigration officer that stopped me at the airport is texting me. What do I do?      </td><td>2015                                                                                 </td><td>117                                                                                  </td></tr>\n",
       "\t<tr><td>I don't know my nationality. How can I visit Denmark?                                </td><td>2016                                                                                 </td><td>134                                                                                  </td></tr>\n",
       "</tbody>\n",
       "</table>\n"
      ],
      "text/latex": [
       "\\begin{tabular}{r|lll}\n",
       " Title & Year & Count\\\\\n",
       "\\hline\n",
       "\t OK we're all adults here, so really, how on earth should I use a squat toilet?        & 2011                                                                                  &  70                                                                                  \\\\\n",
       "\t How to successfully haggle / bargain in markets                                       & 2012                                                                                  &  37                                                                                  \\\\\n",
       "\t Why are airline passengers asked to lift up window shades during takeoff and landing? & 2013                                                                                  & 103                                                                                  \\\\\n",
       "\t How do you know if Americans genuinely/literally mean what they say?                  & 2014                                                                                  & 179                                                                                  \\\\\n",
       "\t Immigration officer that stopped me at the airport is texting me. What do I do?       & 2015                                                                                  & 117                                                                                  \\\\\n",
       "\t I don't know my nationality. How can I visit Denmark?                                 & 2016                                                                                  & 134                                                                                  \\\\\n",
       "\\end{tabular}\n"
      ],
      "text/markdown": [
       "\n",
       "| Title | Year | Count |\n",
       "|---|---|---|\n",
       "| OK we're all adults here, so really, how on earth should I use a squat toilet?        | 2011                                                                                  |  70                                                                                   |\n",
       "| How to successfully haggle / bargain in markets                                       | 2012                                                                                  |  37                                                                                   |\n",
       "| Why are airline passengers asked to lift up window shades during takeoff and landing? | 2013                                                                                  | 103                                                                                   |\n",
       "| How do you know if Americans genuinely/literally mean what they say?                  | 2014                                                                                  | 179                                                                                   |\n",
       "| Immigration officer that stopped me at the airport is texting me. What do I do?       | 2015                                                                                  | 117                                                                                   |\n",
       "| I don't know my nationality. How can I visit Denmark?                                 | 2016                                                                                  | 134                                                                                   |\n",
       "\n"
      ],
      "text/plain": [
       "  Title                                                                                \n",
       "1 OK we're all adults here, so really, how on earth should I use a squat toilet?       \n",
       "2 How to successfully haggle / bargain in markets                                      \n",
       "3 Why are airline passengers asked to lift up window shades during takeoff and landing?\n",
       "4 How do you know if Americans genuinely/literally mean what they say?                 \n",
       "5 Immigration officer that stopped me at the airport is texting me. What do I do?      \n",
       "6 I don't know my nationality. How can I visit Denmark?                                \n",
       "  Year Count\n",
       "1 2011  70  \n",
       "2 2012  37  \n",
       "3 2013 103  \n",
       "4 2014 179  \n",
       "5 2015 117  \n",
       "6 2016 134  "
      ]
     },
     "metadata": {},
     "output_type": "display_data"
    }
   ],
   "source": [
    "Sample_Data <- head(sqldf_sol4)\n",
    "\n",
    "Sample_Data"
   ]
  },
  {
   "cell_type": "markdown",
   "id": "022c887e",
   "metadata": {},
   "source": [
    "### <font color=blue>b) Summary</font>\n",
    "Summary of Task 4 Data"
   ]
  },
  {
   "cell_type": "code",
   "execution_count": 12,
   "id": "bc6ee6b1",
   "metadata": {},
   "outputs": [
    {
     "name": "stdout",
     "output_type": "stream",
     "text": [
      "'data.frame':\t11 obs. of  3 variables:\n",
      " $ Title: chr  \"OK we're all adults here, so really, how on earth should I use a squat toilet?\" \"How to successfully haggle / bargain in markets\" \"Why are airline passengers asked to lift up window shades during takeoff and landing?\" \"How do you know if Americans genuinely/literally mean what they say?\" ...\n",
      " $ Year : chr  \"2011\" \"2012\" \"2013\" \"2014\" ...\n",
      " $ Count: int  70 37 103 179 117 134 177 119 263 110 ...\n",
      "NULL\n"
     ]
    }
   ],
   "source": [
    "Summary <- str(sqldf_sol4)\n",
    "\n",
    "print(Summary)"
   ]
  },
  {
   "cell_type": "markdown",
   "id": "c92404b8",
   "metadata": {},
   "source": [
    "### <font color=blue>c) Comparison </font>\n",
    "Comparing all four methods that we implement and taking SQLDF as base."
   ]
  },
  {
   "cell_type": "code",
   "execution_count": 13,
   "id": "af57d6f4",
   "metadata": {},
   "outputs": [
    {
     "data": {
      "text/html": [
       "TRUE"
      ],
      "text/latex": [
       "TRUE"
      ],
      "text/markdown": [
       "TRUE"
      ],
      "text/plain": [
       "[1] TRUE"
      ]
     },
     "metadata": {},
     "output_type": "display_data"
    }
   ],
   "source": [
    "dplyr::all_equal(sqldf_sol4, Scratch_sol4)         # Base Solution"
   ]
  },
  {
   "cell_type": "code",
   "execution_count": 14,
   "id": "560f21d4",
   "metadata": {},
   "outputs": [
    {
     "data": {
      "text/html": [
       "TRUE"
      ],
      "text/latex": [
       "TRUE"
      ],
      "text/markdown": [
       "TRUE"
      ],
      "text/plain": [
       "[1] TRUE"
      ]
     },
     "metadata": {},
     "output_type": "display_data"
    }
   ],
   "source": [
    "dplyr::all_equal(sqldf_sol4, dt_sol4)             # DataTable Solution"
   ]
  },
  {
   "cell_type": "code",
   "execution_count": 15,
   "id": "b7954168",
   "metadata": {},
   "outputs": [
    {
     "data": {
      "text/html": [
       "TRUE"
      ],
      "text/latex": [
       "TRUE"
      ],
      "text/markdown": [
       "TRUE"
      ],
      "text/plain": [
       "[1] TRUE"
      ]
     },
     "metadata": {},
     "output_type": "display_data"
    }
   ],
   "source": [
    "dplyr::all_equal(sqldf_sol4, dplyr_sol4)          # Dplyr Solution "
   ]
  },
  {
   "cell_type": "markdown",
   "id": "c784fa00",
   "metadata": {},
   "source": [
    "### <font color=blue>d) Execution Time</font>\n",
    "Execution Time of Four Mehtods that we Implemented in Task 4"
   ]
  },
  {
   "cell_type": "code",
   "execution_count": 16,
   "id": "557779b7",
   "metadata": {},
   "outputs": [
    {
     "name": "stdout",
     "output_type": "stream",
     "text": [
      "Unit: seconds\n",
      "       expr       min        lq      mean   median       uq       max neval\n",
      "      sqldf  5.660555  5.946915  6.748745  6.28036  7.18853  9.995631    10\n",
      "       base 42.440428 42.806739 44.918377 43.43585 45.47048 54.840864    10\n",
      " data.table 28.581998 29.498020 31.853540 30.98307 33.43741 38.816942    10\n",
      "      dplyr 39.964951 40.608917 44.342061 44.34239 47.16320 51.078826    10\n"
     ]
    }
   ],
   "source": [
    "Execution_Time4 <- microbenchmark(\n",
    "  sqldf=Task4_sqldf(),\n",
    "  base=Task4_R(),\n",
    "  data.table=Task4_dt(),\n",
    "  dplyr=Task4_dplyr(),\n",
    "  times = 10L)\n",
    "\n",
    "print(Execution_Time4)"
   ]
  },
  {
   "cell_type": "markdown",
   "id": "eacf58ed",
   "metadata": {},
   "source": [
    "### <font color=blue>e) Plot for Microbenchmark  </font>\n",
    "In this task we will plot execution time using autplot"
   ]
  },
  {
   "cell_type": "code",
   "execution_count": 17,
   "id": "4c5c022b",
   "metadata": {},
   "outputs": [
    {
     "name": "stderr",
     "output_type": "stream",
     "text": [
      "Coordinate system already present. Adding new coordinate system, which will replace the existing one.\n"
     ]
    },
    {
     "data": {
      "image/png": "[encoded data removed]",
      "text/plain": [
       "plot without title"
      ]
     },
     "metadata": {},
     "output_type": "display_data"
    }
   ],
   "source": [
    "autoplot(Execution_Time4)"
   ]
  },
  {
   "cell_type": "markdown",
   "id": "cea735e4",
   "metadata": {},
   "source": [
    "![Machine Learning Project](https://user-images.githubusercontent.com/7065401/52071927-c1cd7100-2562-11e9-908a-dde91ba14e59.png)"
   ]
  },
  {
   "cell_type": "markdown",
   "id": "800f2b94",
   "metadata": {},
   "source": [
    ">> # <font color=red> Task 5 </font>"
   ]
  },
  {
   "cell_type": "markdown",
   "id": "8426476d",
   "metadata": {},
   "source": [
    "![Task 5](https://pbs.twimg.com/media/FF1snDkXwAMFl3_?format=jpg&name=medium)"
   ]
  },
  {
   "cell_type": "markdown",
   "id": "c05d2fd2",
   "metadata": {},
   "source": [
    "### <font color=blue>5.1 SQLDF</font>\n",
    "Working with SQL Data Frame"
   ]
  },
  {
   "cell_type": "code",
   "execution_count": 18,
   "id": "df8c22ae",
   "metadata": {},
   "outputs": [],
   "source": [
    "Task5_sqldf <- function(){\n",
    "\n",
    "    sqldf_sol5 <- sqldf(\"SELECT\n",
    "                            Posts.Title,\n",
    "                            VotesByAge2.OldVotes\n",
    "                        FROM Posts\n",
    "                        JOIN (\n",
    "                            SELECT\n",
    "                            PostId,\n",
    "                            MAX(CASE WHEN VoteDate = 'new' THEN Total ELSE 0 END) NewVotes,\n",
    "                            MAX(CASE WHEN VoteDate = 'old' THEN Total ELSE 0 END) OldVotes,\n",
    "                            SUM(Total) AS Votes\n",
    "                        FROM (\n",
    "                            SELECT\n",
    "                                PostId,\n",
    "                            CASE STRFTIME('%Y', CreationDate)\n",
    "                                WHEN '2021' THEN 'new'\n",
    "                                WHEN '2020' THEN 'new'\n",
    "                                ELSE 'old'\n",
    "                                END VoteDate,\n",
    "                            COUNT(*) AS Total\n",
    "                        FROM Votes\n",
    "                    WHERE VoteTypeId IN (1, 2, 5)\n",
    "                    GROUP BY PostId, VoteDate\n",
    "                ) AS VotesByAge\n",
    "                GROUP BY VotesByAge.PostId\n",
    "                HAVING NewVotes=0\n",
    "                ) AS VotesByAge2 ON VotesByAge2.PostId=Posts.ID\n",
    "                WHERE Posts.PostTypeId=1\n",
    "                ORDER BY VotesByAge2.OldVotes DESC\n",
    "                LIMIT 10\")\n",
    "\n",
    "                return(sqldf_sol5 )\n",
    "                \n",
    "                }\n",
    "\n",
    "sqldf_sol5 <- Task5_sqldf()"
   ]
  },
  {
   "cell_type": "markdown",
   "id": "d7fce4f3",
   "metadata": {},
   "source": [
    "### <font color=blue>5.2 Base Solution</font>\n",
    "Working with R"
   ]
  },
  {
   "cell_type": "code",
   "execution_count": 19,
   "id": "5199a3c6",
   "metadata": {},
   "outputs": [],
   "source": [
    "Task5_R <- function (){\n",
    " \n",
    "  Votes_By_Age <- Votes[Votes$VoteTypeId %in% c(1, 2, 5), c(\"PostId\", \"CreationDate\")]\n",
    "\n",
    "  Votes_By_Age$VoteDate <- substr(Votes_By_Age$CreationDate, 1, 4)\n",
    "  Votes_By_Age$VoteDate <- ifelse(Votes_By_Age$VoteDate == '2021', 'new', \n",
    "                                  ifelse(Votes_By_Age$VoteDate == '2020', 'new', 'old'))\n",
    "  \n",
    "  drops <- c(\"CreationDate\")\n",
    "  Votes_By_Age <- Votes_By_Age[, !(names(Votes_By_Age) %in% drops)]\n",
    "\n",
    "  Votes_By_Age <- aggregate(Votes_By_Age, by = list(Votes_By_Age$PostId, Votes_By_Age$VoteDate), FUN = length)\n",
    "\n",
    "  drops <- c(\"VoteDate\")\n",
    "  Votes_By_Age <- Votes_By_Age[, !(names(Votes_By_Age) %in% drops)]\n",
    "    \n",
    "  colnames(Votes_By_Age) <- c(\"PostId\", \"VoteDate\", \"Total\")\n",
    "\n",
    "  Votes_By_Age$NewVotes <- ifelse(Votes_By_Age$VoteDate == 'new', Votes_By_Age$Total, 0)\n",
    "\n",
    "  Votes_By_Age$OldVotes <- ifelse(Votes_By_Age$VoteDate == 'old', Votes_By_Age$Total, 0)\n",
    "\n",
    "  drops <- c(\"VoteDate\")\n",
    "  Votes_By_Age <- Votes_By_Age[, !(names(Votes_By_Age) %in% drops)]\n",
    "\n",
    "  Votes_By_Age <- aggregate(. ~ PostId, data = Votes_By_Age, FUN = function(x) c(max = max(x), sum = sum(x)))\n",
    "                            \n",
    "  Votes_By_Age <- do.call(data.frame, Votes_By_Age)\n",
    "\n",
    "  Votes_By_Age <- Votes_By_Age[, c(\"PostId\", \"Total.sum\", \"NewVotes.max\", \"OldVotes.max\")]\n",
    "  colnames(Votes_By_Age) <- c(\"PostId\", \"Votes\", \"NewVotes\", \"OldVotes\")\n",
    "  Votes_By_Age <- Votes_By_Age[Votes_By_Age$NewVotes == 0,]\n",
    "\n",
    "  Posts <- Posts[Posts$PostTypeId == 1, c(\"Title\", \"Id\")]\n",
    "                            \n",
    "  Scratch_sol5 <- merge(Votes_By_Age, Posts, by.x = \"PostId\", by.y = \"Id\")\n",
    "  Scratch_sol5 <- Scratch_sol5[, c(\"Title\", \"OldVotes\")]\n",
    "  Scratch_sol5 <- Scratch_sol5[order(-Scratch_sol5$OldVotes),]\n",
    "  Scratch_sol5 <- head(Scratch_sol5, 10)\n",
    "  Scratch_sol5$OldVotes <- as.integer(Scratch_sol5$OldVotes)\n",
    "                            \n",
    "  return(Scratch_sol5)\n",
    "  }\n",
    "                            \n",
    "Scratch_sol5 <- Task5_R()"
   ]
  },
  {
   "cell_type": "markdown",
   "id": "96eadea6",
   "metadata": {},
   "source": [
    "### <font color=blue>5.3 Data.Table</font>\n",
    "Working with Data.Table"
   ]
  },
  {
   "cell_type": "code",
   "execution_count": 20,
   "id": "95293b53",
   "metadata": {},
   "outputs": [],
   "source": [
    "Task5_dt <- function(){\n",
    "\n",
    "  dt_sol5 <- VotesD[VoteTypeId %in% c(1, 2, 5),]\n",
    "\n",
    "  dt_sol5 <- dt_sol5[, Year := format(as.Date(strftime(CreationDate)), \"%Y\")]\n",
    "\n",
    "  dt_sol5 <- dt_sol5[, VoteDate := ifelse(Year %in% c(\"2021\", \"2020\"), \"new\", \"old\")]\n",
    "\n",
    "  dt_sol5 <- dt_sol5[, list(Total = .N), by= c(\"VoteDate\", \"PostId\")]\n",
    "\n",
    "  dt_sol5[,c(\"NewVotes\", \"OldVotes\")] <- dt_sol5[, list(NewVotes = ifelse(VoteDate == \"new\", Total, 0), \n",
    "                                                            OldVotes = ifelse(VoteDate == 'old', Total, 0))]\n",
    "\n",
    "  dt_sol5 <- dt_sol5[, list(Votes = sum(Total), OldVotes = max(OldVotes), NewVotes = max(NewVotes)), by=PostId]\n",
    "  \n",
    "  dt_sol5 <- dt_sol5[NewVotes == 0,]\n",
    "\n",
    "  setkey(dt_sol5, \"PostId\")\n",
    "    \n",
    "  setkey(PostsD, \"Id\")\n",
    "  \n",
    "  dt_sol5 <- dt_sol5[PostsD, nomatch = 0]\n",
    "\n",
    "  dt_sol5 <- dt_sol5[PostTypeId == 1, c(\"Title\", \"OldVotes\")]\n",
    "\n",
    "  dt_sol5 <- dt_sol5[order(OldVotes, decreasing = TRUE)]\n",
    "    \n",
    "  dt_sol5 <- head(dt_sol5, 10)\n",
    "  \n",
    "  return(dt_sol5)\n",
    "  }\n",
    "        \n",
    "dt_sol5 <- Task5_dt()"
   ]
  },
  {
   "cell_type": "markdown",
   "id": "15e4423a",
   "metadata": {},
   "source": [
    "### <font color=blue>5.4 Dplyr</font>\n",
    "Working with Dplyr "
   ]
  },
  {
   "cell_type": "code",
   "execution_count": 24,
   "id": "1880665b",
   "metadata": {},
   "outputs": [],
   "source": [
    "Task5_dplyr <- function(){\n",
    "\n",
    "  Votes$Year <- format(as.Date(strftime(Votes$CreationDate)), \"%Y\")\n",
    "  Votes <- Votes[(Votes$VoteTypeId %in% c(1, 2, 5)),]\n",
    "\n",
    "  Votes$VoteDate <- ifelse(Votes$Year %in% c(\"2021\", \"2020\"), \"new\", \"old\")\n",
    "\n",
    "  VotesByAge <- Votes %>% group_by(VoteDate, PostId, .groups = 'drop') %>% summarise(Total = n(), .groups = 'drop')\n",
    "\n",
    "  dplyr_sol5 <- VotesByAge %>% mutate(NewVotes = ifelse(VoteDate == \"new\", Total, 0),\n",
    "                              OldVotes = ifelse(VoteDate == \"old\", Total, 0))\n",
    "\n",
    "  dplyr_sol5 <- dplyr_sol5 %>% group_by(PostId) %>% summarise(Votes = sum(Total), OldVotes = max(OldVotes),\n",
    "                                                        NewVotes = max(NewVotes) ) %>% filter(NewVotes == 0)\n",
    "\n",
    "  dplyr_sol5 <- inner_join(dplyr_sol5, Posts, by=c(\"PostId\" = \"Id\")) %>% filter(PostTypeId == 1)\n",
    "\n",
    "\n",
    "  dplyr_sol5 <- dplyr_sol5 %>% select(c(\"Title\", \"OldVotes\")) %>% arrange(desc(OldVotes))\n",
    "    \n",
    "  dplyr_sol5 <- head(dplyr_sol5, 10)\n",
    "\n",
    "  return(dplyr_sol5)\n",
    "  }\n",
    "\n",
    "dplyr_sol5 <- Task5_dplyr()"
   ]
  },
  {
   "cell_type": "markdown",
   "id": "96448d0c",
   "metadata": {},
   "source": [
    "![Machine Learning Project](https://user-images.githubusercontent.com/7065401/52071924-c003ad80-2562-11e9-8297-1c6595f8a7ff.png)"
   ]
  },
  {
   "cell_type": "markdown",
   "id": "f8eff256",
   "metadata": {},
   "source": [
    ">### <font color=green> Requirements For Task 5 </font>"
   ]
  },
  {
   "cell_type": "markdown",
   "id": "7e9d693f",
   "metadata": {},
   "source": [
    "### <font color=blue>a) Sample Data</font>\n",
    "Sample Data from Task 5"
   ]
  },
  {
   "cell_type": "code",
   "execution_count": 25,
   "id": "26e2f9c1",
   "metadata": {
    "scrolled": true
   },
   "outputs": [
    {
     "data": {
      "text/html": [
       "<table>\n",
       "<thead><tr><th scope=col>Title</th><th scope=col>OldVotes</th></tr></thead>\n",
       "<tbody>\n",
       "\t<tr><td>How to avoid drinking vodka?                                                                   </td><td>200                                                                                            </td></tr>\n",
       "\t<tr><td>How can I do a \"broad\" search for flights?                                                     </td><td>175                                                                                            </td></tr>\n",
       "\t<tr><td>How to convince airport security that I am not dangerous when having metallic parts in my body?</td><td>119                                                                                            </td></tr>\n",
       "\t<tr><td>Can I accidentally miss the in-flight food?                                                    </td><td>114                                                                                            </td></tr>\n",
       "\t<tr><td>How can black travellers deal with unwanted harassment from locals in China?                   </td><td>108                                                                                            </td></tr>\n",
       "\t<tr><td>Why are there no seat belts on trains?                                                         </td><td>106                                                                                            </td></tr>\n",
       "</tbody>\n",
       "</table>\n"
      ],
      "text/latex": [
       "\\begin{tabular}{r|ll}\n",
       " Title & OldVotes\\\\\n",
       "\\hline\n",
       "\t How to avoid drinking vodka?                                                                    & 200                                                                                            \\\\\n",
       "\t How can I do a \"broad\" search for flights?                                                      & 175                                                                                            \\\\\n",
       "\t How to convince airport security that I am not dangerous when having metallic parts in my body? & 119                                                                                            \\\\\n",
       "\t Can I accidentally miss the in-flight food?                                                     & 114                                                                                            \\\\\n",
       "\t How can black travellers deal with unwanted harassment from locals in China?                    & 108                                                                                            \\\\\n",
       "\t Why are there no seat belts on trains?                                                          & 106                                                                                            \\\\\n",
       "\\end{tabular}\n"
      ],
      "text/markdown": [
       "\n",
       "| Title | OldVotes |\n",
       "|---|---|\n",
       "| How to avoid drinking vodka?                                                                    | 200                                                                                             |\n",
       "| How can I do a \"broad\" search for flights?                                                      | 175                                                                                             |\n",
       "| How to convince airport security that I am not dangerous when having metallic parts in my body? | 119                                                                                             |\n",
       "| Can I accidentally miss the in-flight food?                                                     | 114                                                                                             |\n",
       "| How can black travellers deal with unwanted harassment from locals in China?                    | 108                                                                                             |\n",
       "| Why are there no seat belts on trains?                                                          | 106                                                                                             |\n",
       "\n"
      ],
      "text/plain": [
       "  Title                                                                                          \n",
       "1 How to avoid drinking vodka?                                                                   \n",
       "2 How can I do a \"broad\" search for flights?                                                     \n",
       "3 How to convince airport security that I am not dangerous when having metallic parts in my body?\n",
       "4 Can I accidentally miss the in-flight food?                                                    \n",
       "5 How can black travellers deal with unwanted harassment from locals in China?                   \n",
       "6 Why are there no seat belts on trains?                                                         \n",
       "  OldVotes\n",
       "1 200     \n",
       "2 175     \n",
       "3 119     \n",
       "4 114     \n",
       "5 108     \n",
       "6 106     "
      ]
     },
     "metadata": {},
     "output_type": "display_data"
    }
   ],
   "source": [
    "Sample_Data <- head(sqldf_sol5)\n",
    "\n",
    "Sample_Data"
   ]
  },
  {
   "cell_type": "markdown",
   "id": "3edbe8a6",
   "metadata": {},
   "source": [
    "### <font color=blue>b) Summary</font>\n",
    "Summary of Task 5 Data"
   ]
  },
  {
   "cell_type": "code",
   "execution_count": 26,
   "id": "4f07df54",
   "metadata": {},
   "outputs": [
    {
     "name": "stdout",
     "output_type": "stream",
     "text": [
      "'data.frame':\t10 obs. of  2 variables:\n",
      " $ Title   : chr  \"How to avoid drinking vodka?\" \"How can I do a \\\"broad\\\" search for flights?\" \"How to convince airport security that I am not dangerous when having metallic parts in my body?\" \"Can I accidentally miss the in-flight food?\" ...\n",
      " $ OldVotes: int  200 175 119 114 108 106 104 102 99 97\n"
     ]
    },
    {
     "data": {
      "text/plain": [
       "NULL"
      ]
     },
     "metadata": {},
     "output_type": "display_data"
    }
   ],
   "source": [
    "Summary <- str(sqldf_sol5)\n",
    "\n",
    "Summary"
   ]
  },
  {
   "cell_type": "markdown",
   "id": "bd2e9dea",
   "metadata": {},
   "source": [
    "### <font color=blue>c) Comparison </font>\n",
    "Comparing all four method that we implement in Task 5 and taking SQLDF as base."
   ]
  },
  {
   "cell_type": "code",
   "execution_count": 27,
   "id": "07ca8a96",
   "metadata": {},
   "outputs": [
    {
     "data": {
      "text/html": [
       "TRUE"
      ],
      "text/latex": [
       "TRUE"
      ],
      "text/markdown": [
       "TRUE"
      ],
      "text/plain": [
       "[1] TRUE"
      ]
     },
     "metadata": {},
     "output_type": "display_data"
    }
   ],
   "source": [
    "dplyr::all_equal(sqldf_sol5, as.data.frame(Scratch_sol5))                 # Base Solution"
   ]
  },
  {
   "cell_type": "code",
   "execution_count": 28,
   "id": "7eb35753",
   "metadata": {},
   "outputs": [
    {
     "data": {
      "text/html": [
       "TRUE"
      ],
      "text/latex": [
       "TRUE"
      ],
      "text/markdown": [
       "TRUE"
      ],
      "text/plain": [
       "[1] TRUE"
      ]
     },
     "metadata": {},
     "output_type": "display_data"
    }
   ],
   "source": [
    "all.equal(sqldf_sol5, as.data.frame(dplyr_sol5))                          # Dplyr Solution "
   ]
  },
  {
   "cell_type": "code",
   "execution_count": 29,
   "id": "9b3ee794",
   "metadata": {},
   "outputs": [
    {
     "data": {
      "text/html": [
       "TRUE"
      ],
      "text/latex": [
       "TRUE"
      ],
      "text/markdown": [
       "TRUE"
      ],
      "text/plain": [
       "[1] TRUE"
      ]
     },
     "metadata": {},
     "output_type": "display_data"
    }
   ],
   "source": [
    "all.equal(sqldf_sol5, as.data.frame(dt_sol5))                             # DataTable Solution"
   ]
  },
  {
   "cell_type": "markdown",
   "id": "7844f941",
   "metadata": {},
   "source": [
    "### <font color=blue>d) Execution Time</font>\n",
    "Execution Time of Four Mehtod that we Implemented in Task 5"
   ]
  },
  {
   "cell_type": "code",
   "execution_count": 30,
   "id": "76287d35",
   "metadata": {},
   "outputs": [
    {
     "name": "stdout",
     "output_type": "stream",
     "text": [
      "Unit: seconds\n",
      "       expr       min        lq      mean    median        uq      max neval\n",
      "      sqldf  6.506179  6.605041  6.957871  6.656929  7.477093  7.74693    10\n",
      "       base 11.327331 11.592011 13.149539 12.872863 14.830266 15.38546    10\n",
      " data.table 49.417481 51.134175 51.971837 51.995945 52.851220 54.31883    10\n",
      "      dplyr 62.764171 65.270138 65.545653 65.602179 65.921281 67.77679    10\n"
     ]
    }
   ],
   "source": [
    "Execution_Time5 <- microbenchmark(\n",
    "  sqldf=Task5_sqldf(),\n",
    "  base=Task5_R(),\n",
    "  data.table=Task5_dt(),\n",
    "  dplyr=Task5_dplyr(),\n",
    "  times = 10L)\n",
    "\n",
    "print(Execution_Time5)"
   ]
  },
  {
   "cell_type": "markdown",
   "id": "32c7d7c5",
   "metadata": {},
   "source": [
    "### <font color=blue>e) Plot for Microbenchmark  </font>\n",
    "In this task we will plot execution time using autplot"
   ]
  },
  {
   "cell_type": "code",
   "execution_count": 31,
   "id": "06e70613",
   "metadata": {},
   "outputs": [
    {
     "name": "stderr",
     "output_type": "stream",
     "text": [
      "Coordinate system already present. Adding new coordinate system, which will replace the existing one.\n"
     ]
    },
    {
     "data": {
      "image/png": "[encoded data removed]",
      "text/plain": [
       "plot without title"
      ]
     },
     "metadata": {},
     "output_type": "display_data"
    }
   ],
   "source": [
    "autoplot(Execution_Time5)"
   ]
  },
  {
   "cell_type": "markdown",
   "id": "cfb2761a",
   "metadata": {},
   "source": [
    "![Machine Learning Project](https://user-images.githubusercontent.com/7065401/52071927-c1cd7100-2562-11e9-908a-dde91ba14e59.png)"
   ]
  },
  {
   "cell_type": "markdown",
   "id": "8afae58f",
   "metadata": {},
   "source": [
    "##  <font color=#08B7F8>Conclusion  </font>"
   ]
  },
  {
   "cell_type": "markdown",
   "id": "21cf510a",
   "metadata": {},
   "source": [
    "We discovered four alternative ways of data manipulation while working on this project, all of them are very different from one another. However, I believe that dplyr has an advantage over all of them due to the availability of more functions and simple language to manipulate. But if we compare the execution time of each method then Data.Table take lead from others."
   ]
  },
  {
   "cell_type": "markdown",
   "id": "e171ca98",
   "metadata": {},
   "source": [
    "<b>Remarks:</b> Thank you `Dr.Anna Cena` for such kind of Project on SQL queries Implementation. It was Logical and in some cases, it was complicated Especially in Task 4 and Task 5. I really enjoyed it to finish it. It gave me the chance to boost my Knowledge in R Langauge, Revise the Concept of SQL queries, working on different datasets and help me to get the knwoledge in Data.Table and Dplyr Packages as well:)"
   ]
  },
  {
   "cell_type": "markdown",
   "id": "af13aa1b",
   "metadata": {},
   "source": [
    "![Machine Learning Project](https://user-images.githubusercontent.com/7065401/52071924-c003ad80-2562-11e9-8297-1c6595f8a7ff.png)"
   ]
  }
 ],
 "metadata": {
  "kernelspec": {
   "display_name": "R",
   "language": "R",
   "name": "ir"
  },
  "language_info": {
   "codemirror_mode": "r",
   "file_extension": ".r",
   "mimetype": "text/x-r-source",
   "name": "R",
   "pygments_lexer": "r",
   "version": "3.6.1"
  }
 },
 "nbformat": 4,
 "nbformat_minor": 5
}

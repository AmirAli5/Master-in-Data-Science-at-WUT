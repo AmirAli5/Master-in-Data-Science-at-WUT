{
 "cells": [
  {
   "cell_type": "markdown",
   "id": "039857a8",
   "metadata": {},
   "source": [
    "![Data Preprocessing in Python and R](https://pbs.twimg.com/media/FKwLwsFX0AYyb0I?format=jpg&name=medium)"
   ]
  },
  {
   "cell_type": "markdown",
   "id": "0a05d87a",
   "metadata": {},
   "source": [
    "![Machine Learning Project](https://user-images.githubusercontent.com/7065401/52071927-c1cd7100-2562-11e9-908a-dde91ba14e59.png)"
   ]
  },
  {
   "cell_type": "markdown",
   "id": "1680451e",
   "metadata": {},
   "source": [
    "### <font color = blue>Required  Libraries</font>\n",
    "First, we import libraries that we required in our project. And we are using libraries like `numpy`, `pandas`,`sqlite3`."
   ]
  },
  {
   "cell_type": "code",
   "execution_count": 84,
   "id": "389f5f3f",
   "metadata": {},
   "outputs": [],
   "source": [
    "# import Libraries\n",
    "import sqlite3\n",
    "import tempfile\n",
    "import os, os.path\n",
    "import numpy as np\n",
    "import pandas as pd\n",
    "import xml.etree.ElementTree as ET\n",
    "from IPython.display import display"
   ]
  },
  {
   "cell_type": "markdown",
   "id": "5f59878c",
   "metadata": {},
   "source": [
    "### <font color = blue>Given Dataset</font>\n",
    "We are working on following dataset taken from https://travel.stackexchange.com/ which consists of the\n",
    "following data frames:\n",
    "* Badges.csv.gz\n",
    "* Comments.csv.gz\n",
    "* PostLinks.csv.gz\n",
    "* Posts.csv.gz\n",
    "* Tags.csv.gz\n",
    "* Users.csv.gz\n",
    "* Votes.csv.gz"
   ]
  },
  {
   "cell_type": "markdown",
   "id": "f24276d7",
   "metadata": {},
   "source": [
    "First we Reading csv files from gzip and converting to those in dataframes and each dataframe is stored in dictionary with respective key names. "
   ]
  },
  {
   "cell_type": "code",
   "execution_count": 85,
   "id": "4565e24e",
   "metadata": {},
   "outputs": [],
   "source": [
    "def getdataframes():\n",
    "    df_dic = {}\n",
    "    df_dic['Badges'] = pd.read_csv(\"Badges.csv.gz\", compression=\"gzip\")\n",
    "    df_dic['Comments'] = pd.read_csv(\"Comments.csv.gz\", compression=\"gzip\")\n",
    "    df_dic['PostLinks'] = pd.read_csv(\"PostLinks.csv.gz\", compression=\"gzip\")\n",
    "    df_dic['Posts'] = pd.read_csv(\"Posts.csv.gz\", compression=\"gzip\")\n",
    "    df_dic['Tags'] = pd.read_csv(\"Tags.csv.gz\", compression=\"gzip\")\n",
    "    df_dic['Users'] = pd.read_csv(\"Users.csv.gz\", compression=\"gzip\")\n",
    "    df_dic['Votes'] = pd.read_csv(\"Votes.csv.gz\", compression=\"gzip\")\n",
    "    return df_dic"
   ]
  },
  {
   "cell_type": "markdown",
   "id": "58335f42",
   "metadata": {},
   "source": [
    "Now we will make sql connection with sql lite database. "
   ]
  },
  {
   "cell_type": "code",
   "execution_count": 86,
   "id": "0dac5a06",
   "metadata": {},
   "outputs": [],
   "source": [
    "def getsqlconnection():\n",
    "    baza = os.path.join(tempfile.mkdtemp(), 'example.db')\n",
    "    if os.path.isfile(baza):  \n",
    "        os.remove(baza)  \n",
    "    conn = sqlite3.connect(baza)  \n",
    "    df_dic['Badges'].to_sql(\"Badges\", conn)  \n",
    "    df_dic['Comments'].to_sql(\"Comments\", conn)\n",
    "    df_dic['PostLinks'].to_sql(\"PostLinks\", conn)\n",
    "    df_dic['Posts'].to_sql(\"Posts\", conn)\n",
    "    df_dic['Tags'].to_sql(\"Tags\", conn)\n",
    "    df_dic['Users'].to_sql(\"Users\", conn)\n",
    "    df_dic['Votes'].to_sql(\"Votes\", conn)\n",
    "    return conn"
   ]
  },
  {
   "cell_type": "markdown",
   "id": "089eead9",
   "metadata": {},
   "source": [
    "###  <font color = blue>Given Tasks</font>\n",
    "* <b>SQL Queries Implementations:</b>\n",
    "   1. Pandas.read_sql_query \n",
    "   2. Calling methods and functions from pandas package"
   ]
  },
  {
   "cell_type": "markdown",
   "id": "10690ce5",
   "metadata": {},
   "source": [
    "![Machine Learning Project](https://user-images.githubusercontent.com/7065401/52071927-c1cd7100-2562-11e9-908a-dde91ba14e59.png)"
   ]
  },
  {
   "cell_type": "markdown",
   "id": "d828fc7c",
   "metadata": {},
   "source": [
    ">> # <font color=red>Task 1</font>"
   ]
  },
  {
   "cell_type": "markdown",
   "id": "7ffa1fc1",
   "metadata": {},
   "source": [
    "![Task 1](https://pbs.twimg.com/media/FF1sGL3WUAE9xxg?format=png&name=small)"
   ]
  },
  {
   "cell_type": "markdown",
   "id": "b7c93258",
   "metadata": {},
   "source": [
    "### <font color=blue>1.1 pandas.read_sql_query</font>"
   ]
  },
  {
   "cell_type": "code",
   "execution_count": 87,
   "id": "620dc3a8",
   "metadata": {},
   "outputs": [],
   "source": [
    "def Task1_sql(conn):\n",
    "    sql_sol1 = pd.read_sql_query(\"\"\"SELECT \n",
    "                                        Name, \n",
    "                                        COUNT(*) AS Number, \n",
    "                                        MIN(Class) AS BestClass \n",
    "                                    FROM Badges \n",
    "                                    GROUP BY Name \n",
    "                                    ORDER BY Number DESC \n",
    "                                    LIMIT 10 \"\"\", conn)\n",
    "    return sql_sol1"
   ]
  },
  {
   "cell_type": "markdown",
   "id": "a52bc46c",
   "metadata": {
    "slideshow": {
     "slide_type": "-"
    }
   },
   "source": [
    "### <font color=blue>1.2 pandas functions</font>"
   ]
  },
  {
   "cell_type": "code",
   "execution_count": 88,
   "id": "8c06bbb7",
   "metadata": {},
   "outputs": [],
   "source": [
    "df_dic = getdataframes()\n",
    "Badges = df_dic['Badges']"
   ]
  },
  {
   "cell_type": "code",
   "execution_count": 89,
   "id": "c95ec96a",
   "metadata": {},
   "outputs": [],
   "source": [
    "def Task1_pandas():\n",
    "    \n",
    "    badges_df = Badges.groupby(\"Name\")['Class'].agg([('Number', 'count'), ('BestClass', 'last')])\n",
    "    \n",
    "    badges_df = badges_df.sort_values(by=\"Number\", ascending=False)\n",
    "    \n",
    "    pandas_sol1 = badges_df.head(10).reset_index()\n",
    "    \n",
    "    return pandas_sol1\n",
    "\n",
    "pandas_sol1 = Task1_pandas()"
   ]
  },
  {
   "cell_type": "markdown",
   "id": "32ff900f",
   "metadata": {},
   "source": [
    "![Machine Learning Project](https://user-images.githubusercontent.com/7065401/52071924-c003ad80-2562-11e9-8297-1c6595f8a7ff.png)"
   ]
  },
  {
   "cell_type": "markdown",
   "id": "c89de505",
   "metadata": {},
   "source": [
    ">### <font color=green>Requirements For Task 1</font>"
   ]
  },
  {
   "cell_type": "markdown",
   "id": "2bf30456",
   "metadata": {},
   "source": [
    "### <font color=blue>a) Sample Data</font>\n",
    "Sample Data from Task 1"
   ]
  },
  {
   "cell_type": "code",
   "execution_count": 90,
   "id": "51ffecf0",
   "metadata": {},
   "outputs": [
    {
     "data": {
      "text/html": [
       "<div>\n",
       "<style scoped>\n",
       "    .dataframe tbody tr th:only-of-type {\n",
       "        vertical-align: middle;\n",
       "    }\n",
       "\n",
       "    .dataframe tbody tr th {\n",
       "        vertical-align: top;\n",
       "    }\n",
       "\n",
       "    .dataframe thead th {\n",
       "        text-align: right;\n",
       "    }\n",
       "</style>\n",
       "<table border=\"1\" class=\"dataframe\">\n",
       "  <thead>\n",
       "    <tr style=\"text-align: right;\">\n",
       "      <th></th>\n",
       "      <th>Name</th>\n",
       "      <th>Number</th>\n",
       "      <th>BestClass</th>\n",
       "    </tr>\n",
       "  </thead>\n",
       "  <tbody>\n",
       "    <tr>\n",
       "      <th>0</th>\n",
       "      <td>Autobiographer</td>\n",
       "      <td>24564</td>\n",
       "      <td>3</td>\n",
       "    </tr>\n",
       "    <tr>\n",
       "      <th>1</th>\n",
       "      <td>Student</td>\n",
       "      <td>23930</td>\n",
       "      <td>3</td>\n",
       "    </tr>\n",
       "    <tr>\n",
       "      <th>2</th>\n",
       "      <td>Supporter</td>\n",
       "      <td>17826</td>\n",
       "      <td>3</td>\n",
       "    </tr>\n",
       "    <tr>\n",
       "      <th>3</th>\n",
       "      <td>Popular Question</td>\n",
       "      <td>14840</td>\n",
       "      <td>3</td>\n",
       "    </tr>\n",
       "    <tr>\n",
       "      <th>4</th>\n",
       "      <td>Nice Answer</td>\n",
       "      <td>12406</td>\n",
       "      <td>3</td>\n",
       "    </tr>\n",
       "  </tbody>\n",
       "</table>\n",
       "</div>"
      ],
      "text/plain": [
       "               Name  Number  BestClass\n",
       "0    Autobiographer   24564          3\n",
       "1           Student   23930          3\n",
       "2         Supporter   17826          3\n",
       "3  Popular Question   14840          3\n",
       "4       Nice Answer   12406          3"
      ]
     },
     "metadata": {},
     "output_type": "display_data"
    }
   ],
   "source": [
    "if __name__ == \"__main__\":\n",
    "    df_dic = getdataframes()\n",
    "    conn = getsqlconnection()\n",
    "    sql_sol1 = Task1_sql(conn)\n",
    "    display(sql_sol1.head())\n",
    "    conn.close()"
   ]
  },
  {
   "cell_type": "markdown",
   "id": "074948bb",
   "metadata": {},
   "source": [
    "### <font color=blue>b) Summary</font>\n",
    "Summary of Task 1 Data"
   ]
  },
  {
   "cell_type": "code",
   "execution_count": 91,
   "id": "3512556b",
   "metadata": {},
   "outputs": [
    {
     "name": "stdout",
     "output_type": "stream",
     "text": [
      "<class 'pandas.core.frame.DataFrame'>\n",
      "RangeIndex: 10 entries, 0 to 9\n",
      "Data columns (total 3 columns):\n",
      " #   Column     Non-Null Count  Dtype \n",
      "---  ------     --------------  ----- \n",
      " 0   Name       10 non-null     object\n",
      " 1   Number     10 non-null     int64 \n",
      " 2   BestClass  10 non-null     int64 \n",
      "dtypes: int64(2), object(1)\n",
      "memory usage: 368.0+ bytes\n"
     ]
    },
    {
     "data": {
      "text/plain": [
       "None"
      ]
     },
     "metadata": {},
     "output_type": "display_data"
    }
   ],
   "source": [
    "if __name__ == \"__main__\":\n",
    "    df_dic = getdataframes()\n",
    "    conn = getsqlconnection()\n",
    "    sql_sol1 = Task1_sql(conn)\n",
    "    display(sql_sol1.info())\n",
    "    conn.close()"
   ]
  },
  {
   "cell_type": "markdown",
   "id": "95db6f51",
   "metadata": {},
   "source": [
    "### <font color=blue>c) Comparison </font>\n",
    "Comparing pandas.read_sql_query solution with pandas function solution"
   ]
  },
  {
   "cell_type": "code",
   "execution_count": 92,
   "id": "b39bd2cb",
   "metadata": {},
   "outputs": [
    {
     "data": {
      "text/plain": [
       "True"
      ]
     },
     "metadata": {},
     "output_type": "display_data"
    }
   ],
   "source": [
    "if __name__ == \"__main__\":\n",
    "    df_dic = getdataframes()\n",
    "    conn = getsqlconnection()\n",
    "    sql_sol1 = Task1_sql(conn)\n",
    "    display(pandas_sol1.equals(sql_sol1))\n",
    "    conn.close()"
   ]
  },
  {
   "cell_type": "markdown",
   "id": "46646a22",
   "metadata": {},
   "source": [
    "![Machine Learning Project](https://user-images.githubusercontent.com/7065401/52071927-c1cd7100-2562-11e9-908a-dde91ba14e59.png)"
   ]
  },
  {
   "cell_type": "markdown",
   "id": "557d3f4b",
   "metadata": {},
   "source": [
    ">> # <font color=red>Task 2 </font>"
   ]
  },
  {
   "cell_type": "markdown",
   "id": "28fd2526",
   "metadata": {},
   "source": [
    "![Task 2](https://pbs.twimg.com/media/FF1sGL3XsAIUmJD?format=png&name=900x900)"
   ]
  },
  {
   "cell_type": "markdown",
   "id": "cc51418b",
   "metadata": {},
   "source": [
    "### <font color=blue>2.1 <font color=blue>pandas.read_sql_query</font></font>"
   ]
  },
  {
   "cell_type": "code",
   "execution_count": 93,
   "id": "505443f5",
   "metadata": {},
   "outputs": [],
   "source": [
    "def Task2_sql(conn):\n",
    "    sql_sol2 = pd.read_sql_query(\"\"\"SELECT Location, COUNT(*) AS Count\n",
    "                                    FROM (\n",
    "                                        SELECT Posts.OwnerUserId, Users.Id, Users.Location\n",
    "                                        FROM Users\n",
    "                                        JOIN Posts ON Users.Id = Posts.OwnerUserId\n",
    "                                    )\n",
    "                                    WHERE Location NOT IN ('')\n",
    "                                    GROUP BY Location\n",
    "                                    ORDER BY Count DESC\n",
    "                                    LIMIT 10\"\"\", conn)\n",
    "    return sql_sol2"
   ]
  },
  {
   "cell_type": "markdown",
   "id": "ad069586",
   "metadata": {},
   "source": [
    "### <font color=blue>2.2 <font color=blue>pandas functions</font></font>"
   ]
  },
  {
   "cell_type": "code",
   "execution_count": 94,
   "id": "6c124219",
   "metadata": {},
   "outputs": [],
   "source": [
    "Posts = df_dic['Posts']\n",
    "Users = df_dic['Users']"
   ]
  },
  {
   "cell_type": "code",
   "execution_count": 95,
   "id": "bbfa9c8a",
   "metadata": {},
   "outputs": [],
   "source": [
    "def Task2_pandas():\n",
    "    \n",
    "    Posts_df = Posts.merge(Users, right_on=\"Id\", left_on=\"OwnerUserId\")\n",
    "    \n",
    "    Posts_df = Posts_df.groupby(\"Location\")[\"Id_x\"].agg([(\"Count\", 'count')]).reset_index()\n",
    "    \n",
    "    Posts_df = Posts_df.sort_values(by='Count', ascending=False)\n",
    "    \n",
    "    pandas_sol2 = Posts_df.head(10).reset_index(drop=True)\n",
    "    \n",
    "    return pandas_sol2\n",
    "\n",
    "pandas_sol2 = Task2_pandas()"
   ]
  },
  {
   "cell_type": "markdown",
   "id": "c9b9bddd",
   "metadata": {},
   "source": [
    "![Machine Learning Project](https://user-images.githubusercontent.com/7065401/52071924-c003ad80-2562-11e9-8297-1c6595f8a7ff.png)"
   ]
  },
  {
   "cell_type": "markdown",
   "id": "34207ae4",
   "metadata": {},
   "source": [
    ">### <font color=green>Requirements For Task 2</font>"
   ]
  },
  {
   "cell_type": "markdown",
   "id": "18e6eb83",
   "metadata": {},
   "source": [
    "### <font color=blue>a) Sample Data</font>\n",
    "Sample Data from Task 2"
   ]
  },
  {
   "cell_type": "code",
   "execution_count": 96,
   "id": "77ee1d3b",
   "metadata": {},
   "outputs": [
    {
     "data": {
      "text/html": [
       "<div>\n",
       "<style scoped>\n",
       "    .dataframe tbody tr th:only-of-type {\n",
       "        vertical-align: middle;\n",
       "    }\n",
       "\n",
       "    .dataframe tbody tr th {\n",
       "        vertical-align: top;\n",
       "    }\n",
       "\n",
       "    .dataframe thead th {\n",
       "        text-align: right;\n",
       "    }\n",
       "</style>\n",
       "<table border=\"1\" class=\"dataframe\">\n",
       "  <thead>\n",
       "    <tr style=\"text-align: right;\">\n",
       "      <th></th>\n",
       "      <th>Location</th>\n",
       "      <th>Count</th>\n",
       "    </tr>\n",
       "  </thead>\n",
       "  <tbody>\n",
       "    <tr>\n",
       "      <th>0</th>\n",
       "      <td>Christchurch, New Zealand</td>\n",
       "      <td>2765</td>\n",
       "    </tr>\n",
       "    <tr>\n",
       "      <th>1</th>\n",
       "      <td>New York, NY</td>\n",
       "      <td>1788</td>\n",
       "    </tr>\n",
       "    <tr>\n",
       "      <th>2</th>\n",
       "      <td>London, United Kingdom</td>\n",
       "      <td>1708</td>\n",
       "    </tr>\n",
       "    <tr>\n",
       "      <th>3</th>\n",
       "      <td>UK</td>\n",
       "      <td>1590</td>\n",
       "    </tr>\n",
       "    <tr>\n",
       "      <th>4</th>\n",
       "      <td>Sunshine Coast QLD, Australia</td>\n",
       "      <td>1550</td>\n",
       "    </tr>\n",
       "  </tbody>\n",
       "</table>\n",
       "</div>"
      ],
      "text/plain": [
       "                        Location  Count\n",
       "0      Christchurch, New Zealand   2765\n",
       "1                   New York, NY   1788\n",
       "2         London, United Kingdom   1708\n",
       "3                             UK   1590\n",
       "4  Sunshine Coast QLD, Australia   1550"
      ]
     },
     "metadata": {},
     "output_type": "display_data"
    }
   ],
   "source": [
    "if __name__ == \"__main__\":\n",
    "    df_dic = getdataframes()\n",
    "    conn = getsqlconnection()\n",
    "    sql_sol2 = Task2_sql(conn)\n",
    "    display(sql_sol2.head())\n",
    "    conn.close()"
   ]
  },
  {
   "cell_type": "markdown",
   "id": "0ee6b4a6",
   "metadata": {},
   "source": [
    "### <font color=blue>b) Summary</font>\n",
    "Summary of Task 2 Data"
   ]
  },
  {
   "cell_type": "code",
   "execution_count": 97,
   "id": "5224b59e",
   "metadata": {},
   "outputs": [
    {
     "name": "stdout",
     "output_type": "stream",
     "text": [
      "<class 'pandas.core.frame.DataFrame'>\n",
      "RangeIndex: 10 entries, 0 to 9\n",
      "Data columns (total 2 columns):\n",
      " #   Column    Non-Null Count  Dtype \n",
      "---  ------    --------------  ----- \n",
      " 0   Location  10 non-null     object\n",
      " 1   Count     10 non-null     int64 \n",
      "dtypes: int64(1), object(1)\n",
      "memory usage: 288.0+ bytes\n"
     ]
    },
    {
     "data": {
      "text/plain": [
       "None"
      ]
     },
     "metadata": {},
     "output_type": "display_data"
    }
   ],
   "source": [
    "if __name__ == \"__main__\":\n",
    "    df_dic = getdataframes()\n",
    "    conn = getsqlconnection()\n",
    "    sql_sol2 = Task2_sql(conn)\n",
    "    display(sql_sol2.info())\n",
    "    conn.close()"
   ]
  },
  {
   "cell_type": "markdown",
   "id": "d6399972",
   "metadata": {},
   "source": [
    "### <font color=blue>c) Comparison </font>\n",
    "Comparing pandas.read_sql_query solution with pandas function solution"
   ]
  },
  {
   "cell_type": "code",
   "execution_count": 98,
   "id": "f6129b78",
   "metadata": {},
   "outputs": [
    {
     "data": {
      "text/plain": [
       "True"
      ]
     },
     "metadata": {},
     "output_type": "display_data"
    }
   ],
   "source": [
    "if __name__ == \"__main__\":\n",
    "    df_dic = getdataframes()\n",
    "    conn = getsqlconnection()\n",
    "    sql_sol2 = Task2_sql(conn)\n",
    "    display(pandas_sol2.equals(sql_sol2))\n",
    "    conn.close()"
   ]
  },
  {
   "cell_type": "markdown",
   "id": "295a0d23",
   "metadata": {},
   "source": [
    "![Machine Learning Project](https://user-images.githubusercontent.com/7065401/52071927-c1cd7100-2562-11e9-908a-dde91ba14e59.png)"
   ]
  },
  {
   "cell_type": "markdown",
   "id": "6c45a7e1",
   "metadata": {},
   "source": [
    ">> # <font color=red>Task 3 </font>"
   ]
  },
  {
   "cell_type": "markdown",
   "id": "402145fd",
   "metadata": {},
   "source": [
    "![Task 3](https://pbs.twimg.com/media/FF1sGNkXIAQfgPq?format=jpg&name=medium)"
   ]
  },
  {
   "cell_type": "markdown",
   "id": "3033bb4e",
   "metadata": {},
   "source": [
    "### <font color=blue>3.1 <font color=blue>pandas.read_sql_query</font></font>"
   ]
  },
  {
   "cell_type": "code",
   "execution_count": 99,
   "id": "3f3051fe",
   "metadata": {},
   "outputs": [],
   "source": [
    "def Task3_sql(conn):\n",
    "    sql_sol3 = pd.read_sql_query(\"\"\"SELECT\n",
    "                                        Users.AccountId,\n",
    "                                        Users.DisplayName,\n",
    "                                        Users.Location,\n",
    "                                        AVG(PostAuth.AnswersCount) as AverageAnswersCount\n",
    "                                FROM\n",
    "                                    (\n",
    "                                        SELECT\n",
    "                                            AnsCount.AnswersCount,\n",
    "                                            Posts.Id,\n",
    "                                            Posts.OwnerUserId\n",
    "                                        FROM (\n",
    "                                                SELECT Posts.ParentId, COUNT(*) AS AnswersCount\n",
    "                                                FROM Posts\n",
    "                                                WHERE Posts.PostTypeId = 2\n",
    "                                                GROUP BY Posts.ParentId\n",
    "                                                ) AS AnsCount\n",
    "                                        JOIN Posts ON Posts.Id = AnsCount.ParentId\n",
    "                                ) AS PostAuth\n",
    "                                JOIN Users ON Users.AccountId=PostAuth.OwnerUserId\n",
    "                                GROUP BY OwnerUserId\n",
    "                                ORDER BY AverageAnswersCount DESC\n",
    "                                LIMIT 10\"\"\", conn)\n",
    "    return sql_sol3"
   ]
  },
  {
   "cell_type": "markdown",
   "id": "6cb8136e",
   "metadata": {},
   "source": [
    "### <font color=blue>3.2 <font color=blue>pandas functions</font></font>"
   ]
  },
  {
   "cell_type": "code",
   "execution_count": 100,
   "id": "7c454691",
   "metadata": {},
   "outputs": [],
   "source": [
    "def Task3_pandas():\n",
    "\n",
    "    AnsCount = Posts[Posts.PostTypeId == 2].groupby(\"ParentId\")[\"Id\"].agg([(\"AnswearsCount\", 'count')]).reset_index()\n",
    "    \n",
    "    PostAuth = AnsCount.merge(Posts, left_on=\"ParentId\", right_on=\"Id\")\n",
    "   \n",
    "    PostAuth = PostAuth.merge(Users, left_on=\"OwnerUserId\", right_on=\"AccountId\")\n",
    "  \n",
    "    PostAuth = PostAuth[[\"AccountId\", \"DisplayName\", \"Location\", \"AnswearsCount\", \n",
    "                        'OwnerUserId']].groupby(\"OwnerUserId\").agg({\"DisplayName\": \"first\", \"Location\": \"first\", \n",
    "                                                    \"AnswearsCount\": \"mean\", \"AccountId\": \"first\"}).reset_index()\n",
    "    \n",
    "    pandas_sol3 = PostAuth.rename(columns={\"AnswearsCount\": \"AverageAnswersCount\"}).sort_values(by=[\"AverageAnswersCount\", \n",
    "                                 'AccountId'], ascending=False).head(10).drop(\"OwnerUserId\", axis=1).reset_index(drop=True)\n",
    "    \n",
    "    pandas_sol3 = pandas_sol3.loc[:, [\"AccountId\",\"DisplayName\",\"Location\",\"AverageAnswersCount\"]]\n",
    "    \n",
    "    return pandas_sol3\n",
    "\n",
    "pandas_sol3 = Task3_pandas()"
   ]
  },
  {
   "cell_type": "markdown",
   "id": "7b42be29",
   "metadata": {},
   "source": [
    "![Machine Learning Project](https://user-images.githubusercontent.com/7065401/52071924-c003ad80-2562-11e9-8297-1c6595f8a7ff.png)"
   ]
  },
  {
   "cell_type": "markdown",
   "id": "88faa419",
   "metadata": {},
   "source": [
    ">### <font color=green>Requirements For Task 3</font>"
   ]
  },
  {
   "cell_type": "markdown",
   "id": "19fc71c0",
   "metadata": {},
   "source": [
    "### <font color=blue>a) Sample Data</font>\n",
    "Sample Data from Task 3"
   ]
  },
  {
   "cell_type": "code",
   "execution_count": 101,
   "id": "cca63fec",
   "metadata": {},
   "outputs": [
    {
     "data": {
      "text/html": [
       "<div>\n",
       "<style scoped>\n",
       "    .dataframe tbody tr th:only-of-type {\n",
       "        vertical-align: middle;\n",
       "    }\n",
       "\n",
       "    .dataframe tbody tr th {\n",
       "        vertical-align: top;\n",
       "    }\n",
       "\n",
       "    .dataframe thead th {\n",
       "        text-align: right;\n",
       "    }\n",
       "</style>\n",
       "<table border=\"1\" class=\"dataframe\">\n",
       "  <thead>\n",
       "    <tr style=\"text-align: right;\">\n",
       "      <th></th>\n",
       "      <th>AccountId</th>\n",
       "      <th>DisplayName</th>\n",
       "      <th>Location</th>\n",
       "      <th>AverageAnswersCount</th>\n",
       "    </tr>\n",
       "  </thead>\n",
       "  <tbody>\n",
       "    <tr>\n",
       "      <th>0</th>\n",
       "      <td>40811.0</td>\n",
       "      <td>vocaro</td>\n",
       "      <td>San Jose, CA</td>\n",
       "      <td>11.0</td>\n",
       "    </tr>\n",
       "    <tr>\n",
       "      <th>1</th>\n",
       "      <td>280.0</td>\n",
       "      <td>csmba</td>\n",
       "      <td>San Francisco, CA</td>\n",
       "      <td>11.0</td>\n",
       "    </tr>\n",
       "    <tr>\n",
       "      <th>2</th>\n",
       "      <td>44093.0</td>\n",
       "      <td>Emma Arbogast</td>\n",
       "      <td>Salem, OR</td>\n",
       "      <td>10.0</td>\n",
       "    </tr>\n",
       "    <tr>\n",
       "      <th>3</th>\n",
       "      <td>204.0</td>\n",
       "      <td>Josh</td>\n",
       "      <td>Australia</td>\n",
       "      <td>10.0</td>\n",
       "    </tr>\n",
       "    <tr>\n",
       "      <th>4</th>\n",
       "      <td>11758.0</td>\n",
       "      <td>rvarcher</td>\n",
       "      <td>Oklahoma City, OK</td>\n",
       "      <td>9.0</td>\n",
       "    </tr>\n",
       "  </tbody>\n",
       "</table>\n",
       "</div>"
      ],
      "text/plain": [
       "   AccountId    DisplayName           Location  AverageAnswersCount\n",
       "0    40811.0         vocaro       San Jose, CA                 11.0\n",
       "1      280.0          csmba  San Francisco, CA                 11.0\n",
       "2    44093.0  Emma Arbogast          Salem, OR                 10.0\n",
       "3      204.0           Josh          Australia                 10.0\n",
       "4    11758.0       rvarcher  Oklahoma City, OK                  9.0"
      ]
     },
     "metadata": {},
     "output_type": "display_data"
    }
   ],
   "source": [
    "if __name__ == \"__main__\":\n",
    "    df_dic = getdataframes()\n",
    "    conn = getsqlconnection()\n",
    "    sql_sol3 = Task3_sql(conn)\n",
    "    display(sql_sol3.head())\n",
    "    conn.close()"
   ]
  },
  {
   "cell_type": "markdown",
   "id": "feffcf83",
   "metadata": {},
   "source": [
    "### <font color=blue>b) Summary</font>\n",
    "Summary of Task 3 Data"
   ]
  },
  {
   "cell_type": "code",
   "execution_count": 102,
   "id": "987f8826",
   "metadata": {},
   "outputs": [
    {
     "name": "stdout",
     "output_type": "stream",
     "text": [
      "<class 'pandas.core.frame.DataFrame'>\n",
      "RangeIndex: 10 entries, 0 to 9\n",
      "Data columns (total 4 columns):\n",
      " #   Column               Non-Null Count  Dtype  \n",
      "---  ------               --------------  -----  \n",
      " 0   AccountId            10 non-null     float64\n",
      " 1   DisplayName          10 non-null     object \n",
      " 2   Location             8 non-null      object \n",
      " 3   AverageAnswersCount  10 non-null     float64\n",
      "dtypes: float64(2), object(2)\n",
      "memory usage: 448.0+ bytes\n"
     ]
    },
    {
     "data": {
      "text/plain": [
       "None"
      ]
     },
     "metadata": {},
     "output_type": "display_data"
    }
   ],
   "source": [
    "if __name__ == \"__main__\":\n",
    "    df_dic = getdataframes()\n",
    "    conn = getsqlconnection()\n",
    "    sql_sol3 = Task3_sql(conn)\n",
    "    display(sql_sol3.info())\n",
    "    conn.close()"
   ]
  },
  {
   "cell_type": "markdown",
   "id": "5d1bdb74",
   "metadata": {},
   "source": [
    "### <font color=blue>c) Comparison </font>\n",
    "Comparing pandas.read_sql_query solution with pandas function solution"
   ]
  },
  {
   "cell_type": "code",
   "execution_count": 103,
   "id": "18c035bc",
   "metadata": {},
   "outputs": [
    {
     "data": {
      "text/plain": [
       "True"
      ]
     },
     "metadata": {},
     "output_type": "display_data"
    }
   ],
   "source": [
    "if __name__ == \"__main__\":\n",
    "    df_dic = getdataframes()\n",
    "    conn = getsqlconnection()\n",
    "    sql_sol3 = Task3_sql(conn)\n",
    "    display(pandas_sol3.equals(sql_sol3))\n",
    "    conn.close()"
   ]
  },
  {
   "cell_type": "markdown",
   "id": "eed473ca",
   "metadata": {},
   "source": [
    "![Machine Learning Project](https://user-images.githubusercontent.com/7065401/52071927-c1cd7100-2562-11e9-908a-dde91ba14e59.png)"
   ]
  },
  {
   "cell_type": "markdown",
   "id": "d7bc80a0",
   "metadata": {},
   "source": [
    ">> # <font color=red>Task 4 </font>\n"
   ]
  },
  {
   "cell_type": "markdown",
   "id": "da27e71f",
   "metadata": {},
   "source": [
    "![Task 4](https://pbs.twimg.com/media/FF1sGOdXwAA0t8y?format=jpg&name=medium)"
   ]
  },
  {
   "cell_type": "markdown",
   "id": "d7c40b0d",
   "metadata": {},
   "source": [
    "### <font color=blue>4.1 <font color=blue>pandas.read_sql_query</font></font>"
   ]
  },
  {
   "cell_type": "code",
   "execution_count": 104,
   "id": "e32d1c09",
   "metadata": {},
   "outputs": [],
   "source": [
    "def Task4_sql(conn):\n",
    "    sql_sol4 = pd.read_sql_query(\"\"\"SELECT\n",
    "                                        Posts.Title,\n",
    "                                        UpVotesPerYear.Year,\n",
    "                                        MAX(UpVotesPerYear.Count) AS Count\n",
    "                                    FROM (\n",
    "                                         SELECT\n",
    "                                           PostId,\n",
    "                                           COUNT(*) AS Count,\n",
    "                                           STRFTIME('%Y', Votes.CreationDate) AS Year\n",
    "                                         FROM Votes\n",
    "                                         WHERE VoteTypeId=2\n",
    "                                        GROUP BY PostId, Year\n",
    "                                     ) AS UpVotesPerYear\n",
    "                                   JOIN Posts ON Posts.Id=UpVotesPerYear.PostId\n",
    "                                   WHERE Posts.PostTypeId=1\n",
    "                                   GROUP BY Year\n",
    "                                   ORDER BY Year ASC\"\"\", conn)\n",
    "    return sql_sol4"
   ]
  },
  {
   "cell_type": "markdown",
   "id": "2a816ee8",
   "metadata": {},
   "source": [
    "### <font color=blue>4.2 <font color=blue>pandas functions</font></font>"
   ]
  },
  {
   "cell_type": "code",
   "execution_count": 105,
   "id": "dbf273b4",
   "metadata": {},
   "outputs": [],
   "source": [
    "Votes = df_dic['Votes']"
   ]
  },
  {
   "cell_type": "code",
   "execution_count": 106,
   "id": "5f144bcd",
   "metadata": {},
   "outputs": [],
   "source": [
    "def Task4_pandas():\n",
    "    pandas_sol4 = Votes[['PostId', 'Id', 'CreationDate', 'VoteTypeId']]\\\n",
    "                                       .query('VoteTypeId == 2').assign(Year = lambda x:x['CreationDate']\\\n",
    "                                       .apply(lambda x:x[:4])).groupby(['PostId', 'Year'], as_index=False)\\\n",
    "                                       .agg({'Id' : 'count'}).rename(columns={'Id' : 'Count'})\\\n",
    "                                       .merge(Posts.query('PostTypeId == 1')[['Id', 'Title']], left_on= 'PostId', right_on='Id')\n",
    "    \n",
    "    ext = pandas_sol4.groupby('Year', as_index=False).agg({'Count' : 'max'})\n",
    "\n",
    "    pandas_sol4 = pandas_sol4.merge(ext, left_on =['Year', 'Count'], right_on=['Year', 'Count'])[['Title', \n",
    "                                         'Year', 'Count']].sort_values(by='Year').reset_index(drop=True)\n",
    "    \n",
    "    return pandas_sol4\n",
    "\n",
    "pandas_sol4 = Task4_pandas()"
   ]
  },
  {
   "cell_type": "markdown",
   "id": "f816efbc",
   "metadata": {},
   "source": [
    "![Machine Learning Project](https://user-images.githubusercontent.com/7065401/52071924-c003ad80-2562-11e9-8297-1c6595f8a7ff.png)"
   ]
  },
  {
   "cell_type": "markdown",
   "id": "bfda20ea",
   "metadata": {},
   "source": [
    ">### <font color=green>Requirements For Task 4</font>"
   ]
  },
  {
   "cell_type": "markdown",
   "id": "a061183c",
   "metadata": {},
   "source": [
    "### <font color=blue>a) Sample Data</font>\n",
    "Sample Data from Task 3"
   ]
  },
  {
   "cell_type": "code",
   "execution_count": 107,
   "id": "15ee296b",
   "metadata": {},
   "outputs": [
    {
     "data": {
      "text/html": [
       "<div>\n",
       "<style scoped>\n",
       "    .dataframe tbody tr th:only-of-type {\n",
       "        vertical-align: middle;\n",
       "    }\n",
       "\n",
       "    .dataframe tbody tr th {\n",
       "        vertical-align: top;\n",
       "    }\n",
       "\n",
       "    .dataframe thead th {\n",
       "        text-align: right;\n",
       "    }\n",
       "</style>\n",
       "<table border=\"1\" class=\"dataframe\">\n",
       "  <thead>\n",
       "    <tr style=\"text-align: right;\">\n",
       "      <th></th>\n",
       "      <th>Title</th>\n",
       "      <th>Year</th>\n",
       "      <th>Count</th>\n",
       "    </tr>\n",
       "  </thead>\n",
       "  <tbody>\n",
       "    <tr>\n",
       "      <th>0</th>\n",
       "      <td>OK we're all adults here, so really, how on ea...</td>\n",
       "      <td>2011</td>\n",
       "      <td>70</td>\n",
       "    </tr>\n",
       "    <tr>\n",
       "      <th>1</th>\n",
       "      <td>How to successfully haggle / bargain in markets</td>\n",
       "      <td>2012</td>\n",
       "      <td>37</td>\n",
       "    </tr>\n",
       "    <tr>\n",
       "      <th>2</th>\n",
       "      <td>Why are airline passengers asked to lift up wi...</td>\n",
       "      <td>2013</td>\n",
       "      <td>103</td>\n",
       "    </tr>\n",
       "    <tr>\n",
       "      <th>3</th>\n",
       "      <td>How do you know if Americans genuinely/literal...</td>\n",
       "      <td>2014</td>\n",
       "      <td>179</td>\n",
       "    </tr>\n",
       "    <tr>\n",
       "      <th>4</th>\n",
       "      <td>Immigration officer that stopped me at the air...</td>\n",
       "      <td>2015</td>\n",
       "      <td>117</td>\n",
       "    </tr>\n",
       "  </tbody>\n",
       "</table>\n",
       "</div>"
      ],
      "text/plain": [
       "                                               Title  Year  Count\n",
       "0  OK we're all adults here, so really, how on ea...  2011     70\n",
       "1    How to successfully haggle / bargain in markets  2012     37\n",
       "2  Why are airline passengers asked to lift up wi...  2013    103\n",
       "3  How do you know if Americans genuinely/literal...  2014    179\n",
       "4  Immigration officer that stopped me at the air...  2015    117"
      ]
     },
     "metadata": {},
     "output_type": "display_data"
    }
   ],
   "source": [
    "if __name__ == \"__main__\":\n",
    "    df_dic = getdataframes()\n",
    "    conn = getsqlconnection()\n",
    "    sql_sol4 = Task4_sql(conn)\n",
    "    display(sql_sol4.head())\n",
    "    conn.close()"
   ]
  },
  {
   "cell_type": "markdown",
   "id": "a99b3f7f",
   "metadata": {},
   "source": [
    "### <font color=blue>b) Summary</font>\n",
    "Summary of Task 3 Data"
   ]
  },
  {
   "cell_type": "code",
   "execution_count": 108,
   "id": "f19af06f",
   "metadata": {},
   "outputs": [
    {
     "name": "stdout",
     "output_type": "stream",
     "text": [
      "<class 'pandas.core.frame.DataFrame'>\n",
      "RangeIndex: 11 entries, 0 to 10\n",
      "Data columns (total 3 columns):\n",
      " #   Column  Non-Null Count  Dtype \n",
      "---  ------  --------------  ----- \n",
      " 0   Title   11 non-null     object\n",
      " 1   Year    11 non-null     object\n",
      " 2   Count   11 non-null     int64 \n",
      "dtypes: int64(1), object(2)\n",
      "memory usage: 392.0+ bytes\n"
     ]
    },
    {
     "data": {
      "text/plain": [
       "None"
      ]
     },
     "metadata": {},
     "output_type": "display_data"
    }
   ],
   "source": [
    "if __name__ == \"__main__\":\n",
    "    df_dic = getdataframes()\n",
    "    conn = getsqlconnection()\n",
    "    sql_sol4 = Task4_sql(conn)\n",
    "    display(sql_sol4.info())\n",
    "    conn.close()"
   ]
  },
  {
   "cell_type": "markdown",
   "id": "e45ccbd2",
   "metadata": {},
   "source": [
    "### <font color=blue>c) Comparison </font>\n",
    "Comparing pandas.read_sql_query solution with pandas function solution"
   ]
  },
  {
   "cell_type": "code",
   "execution_count": 109,
   "id": "d2bf7c4e",
   "metadata": {},
   "outputs": [
    {
     "data": {
      "text/plain": [
       "True"
      ]
     },
     "metadata": {},
     "output_type": "display_data"
    }
   ],
   "source": [
    "if __name__ == \"__main__\":\n",
    "    df_dic = getdataframes()\n",
    "    conn = getsqlconnection()\n",
    "    sql_sol4 = Task4_sql(conn)\n",
    "    display(pandas_sol4.equals(sql_sol4))\n",
    "    conn.close()"
   ]
  },
  {
   "cell_type": "markdown",
   "id": "9989778d",
   "metadata": {},
   "source": [
    "![Machine Learning Project](https://user-images.githubusercontent.com/7065401/52071927-c1cd7100-2562-11e9-908a-dde91ba14e59.png)"
   ]
  },
  {
   "cell_type": "markdown",
   "id": "8afae58f",
   "metadata": {},
   "source": [
    "##  <font color=#08B7F8>Conclusion  </font>"
   ]
  },
  {
   "cell_type": "markdown",
   "id": "21cf510a",
   "metadata": {},
   "source": [
    "We discovered two alternative ways of data manipulation while working on this project, two of them are very different from one another. And in my opinion, both are very good methods for data manipulation but SQL is easier to implement and understand."
   ]
  },
  {
   "cell_type": "markdown",
   "id": "af13aa1b",
   "metadata": {},
   "source": [
    "![Machine Learning Project](https://user-images.githubusercontent.com/7065401/52071924-c003ad80-2562-11e9-8297-1c6595f8a7ff.png)"
   ]
  }
 ],
 "metadata": {
  "kernelspec": {
   "display_name": "Python 3 (ipykernel)",
   "language": "python",
   "name": "python3"
  },
  "language_info": {
   "codemirror_mode": {
    "name": "ipython",
    "version": 3
   },
   "file_extension": ".py",
   "mimetype": "text/x-python",
   "name": "python",
   "nbconvert_exporter": "python",
   "pygments_lexer": "ipython3",
   "version": "3.9.7"
  }
 },
 "nbformat": 4,
 "nbformat_minor": 5
}
